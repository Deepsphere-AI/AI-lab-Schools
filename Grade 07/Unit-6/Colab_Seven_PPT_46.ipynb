{
  "nbformat": 4,
  "nbformat_minor": 0,
  "metadata": {
    "colab": {
      "name": "Untitled25.ipynb",
      "provenance": [],
      "authorship_tag": "ABX9TyPF1jAMLLJXBjFXI6rFFj0i",
      "include_colab_link": true
    },
    "kernelspec": {
      "name": "python3",
      "display_name": "Python 3"
    },
    "language_info": {
      "name": "python"
    }
  },
  "cells": [
    {
      "cell_type": "markdown",
      "metadata": {
        "id": "view-in-github",
        "colab_type": "text"
      },
      "source": [
        "<a href=\"https://colab.research.google.com/github/Deepsphere-AI/AI-lab-Schools/blob/main/Grade%2007/Unit-6/Colab_Seven_PPT_46.ipynb\" target=\"_parent\"><img src=\"https://colab.research.google.com/assets/colab-badge.svg\" alt=\"Open In Colab\"/></a>"
      ]
    },
    {
      "cell_type": "code",
      "execution_count": null,
      "metadata": {
        "id": "d6pBb2IcLb7P"
      },
      "outputs": [],
      "source": [
        "# \"\"\"\n",
        "# Ex 46.\n",
        "\n",
        "# Create a class called bank_account that has the variables balance and id_number. \n",
        "# The constructor will take in a number for the balance and the id_number will be a random 6-digit number.\n",
        "\n",
        "# Program description: The objective of this code is to create a class called bank_account that has the variables balance and id_number.\n",
        "# The constructor will take in a number for the balance and the id_number will be a random 6-digit number. \n",
        "# Note: Use the random in-built function to generate the 6-digit number.\n",
        "\n",
        "# \"\"\"\n",
        "\n",
        "import random\n",
        "\n",
        "class bank_account:\n",
        "  balance = 0\n",
        "  id_number = 0\n",
        "\n",
        "  def __init__(self, num):\n",
        "    self.balance = num\n",
        "    self.id_number = random.randrange(100000,999999)"
      ]
    }
  ]
}