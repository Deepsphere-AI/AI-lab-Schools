{
  "nbformat": 4,
  "nbformat_minor": 0,
  "metadata": {
    "colab": {
      "name": "Untitled26.ipynb",
      "provenance": [],
      "authorship_tag": "ABX9TyMN+NsDvkjgZpnlNDZ4j/gA",
      "include_colab_link": true
    },
    "kernelspec": {
      "name": "python3",
      "display_name": "Python 3"
    },
    "language_info": {
      "name": "python"
    }
  },
  "cells": [
    {
      "cell_type": "markdown",
      "metadata": {
        "id": "view-in-github",
        "colab_type": "text"
      },
      "source": [
        "<a href=\"https://colab.research.google.com/github/Deepsphere-AI/AI-lab-Schools/blob/main/Grade%2007/Unit-6/Colab_Seven_PPT_47.ipynb\" target=\"_parent\"><img src=\"https://colab.research.google.com/assets/colab-badge.svg\" alt=\"Open In Colab\"/></a>"
      ]
    },
    {
      "cell_type": "code",
      "execution_count": null,
      "metadata": {
        "id": "ivtf-knzL-ZV"
      },
      "outputs": [],
      "source": [
        "# \"\"\"\n",
        "# Ex 47.\n",
        "\n",
        "# Add to the bank_account class 2 functions, withdraw and despoit, which will take in a integer input and add/subtract the the balance the corresponding amount.\n",
        "\n",
        "# Program description: The objective of this code is the create 2 new functions to the bank_account class.\n",
        "# The first one is called withdraw which will take in an integer input and subtract it from the balance. \n",
        "# The second is called deposit and will again take in an integer input and add it to the existing balance.\n",
        "# Thus, they change the values of the balance attributes.\n",
        "# \"\"\"\n",
        "\n",
        "import random\n",
        "\n",
        "class bank_account:\n",
        "  balance = 0\n",
        "  id_number = 0\n",
        "\n",
        "  def __init__(self, num):\n",
        "    self.balance = num\n",
        "    self.id_number = random.randrange(100000,999999)\n",
        "\n",
        "  def withdraw(self, num):\n",
        "    self.balance = self.balance - num\n",
        "    return self.balance\n",
        "  \n",
        "  def deposit(self, num):\n",
        "    self.balance = self.balance + num\n",
        "    return self.balance"
      ]
    }
  ]
}