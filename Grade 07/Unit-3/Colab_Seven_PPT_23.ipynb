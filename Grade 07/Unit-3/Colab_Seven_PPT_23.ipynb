{
  "nbformat": 4,
  "nbformat_minor": 0,
  "metadata": {
    "colab": {
      "name": "Colab_Seven_PPT_23.ipynb",
      "provenance": [],
      "include_colab_link": true
    },
    "kernelspec": {
      "name": "python3",
      "display_name": "Python 3"
    },
    "language_info": {
      "name": "python"
    }
  },
  "cells": [
    {
      "cell_type": "markdown",
      "metadata": {
        "id": "view-in-github",
        "colab_type": "text"
      },
      "source": [
        "<a href=\"https://colab.research.google.com/github/Deepsphere-AI/AI-lab-Schools/blob/main/Grade%2007/Unit-3/Colab_Seven_PPT_23.ipynb\" target=\"_parent\"><img src=\"https://colab.research.google.com/assets/colab-badge.svg\" alt=\"Open In Colab\"/></a>"
      ]
    },
    {
      "cell_type": "code",
      "execution_count": 1,
      "metadata": {
        "id": "NOQmuO59PSO8",
        "outputId": "0415fa65-ca5e-43ab-82c3-696b0defacd8",
        "colab": {
          "base_uri": "https://localhost:8080/"
        }
      },
      "outputs": [
        {
          "output_type": "stream",
          "name": "stdout",
          "text": [
            "ApOrangeple\n"
          ]
        }
      ],
      "source": [
        "# \"\"\"\n",
        "# Ex 23.\n",
        "\n",
        "# Create a function that will pass in 2 strings and will output the second string inserted halfway in the first. Example: insert(\"Apple\", \"Orange\") = \"ApOrangeple\"\n",
        "\n",
        "# Program description: The objective of this program is to create a function that will pass in two strings and will output the second string inserted halfway in the first.\n",
        "# For example:-\n",
        "#                     *Apple and Orange = Aporangeple\n",
        "#                      * Pear and lemon = PeLemonar\n",
        "# Note : - The first word is splitted in two and the second word is added in between the splitted words\n",
        "\n",
        "# \"\"\"\n",
        "\n",
        "vAR_str1 = \"Apple\"\n",
        "vAR_str2 = \"Orange\"\n",
        "\n",
        "def insert(vAR_str1, vAR_str2):\n",
        "  return vAR_str1[:int(len(vAR_str1)/2)] + vAR_str2 + vAR_str1[int(len(vAR_str1)/2):]\n",
        "\n",
        "print(insert(vAR_str1,vAR_str2))"
      ]
    }
  ]
}