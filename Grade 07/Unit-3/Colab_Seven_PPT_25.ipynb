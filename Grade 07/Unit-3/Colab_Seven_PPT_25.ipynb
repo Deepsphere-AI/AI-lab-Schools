{
  "nbformat": 4,
  "nbformat_minor": 0,
  "metadata": {
    "colab": {
      "name": "Colab_Seven_PPT_25.ipynb",
      "provenance": [],
      "include_colab_link": true
    },
    "kernelspec": {
      "name": "python3",
      "display_name": "Python 3"
    },
    "language_info": {
      "name": "python"
    }
  },
  "cells": [
    {
      "cell_type": "markdown",
      "metadata": {
        "id": "view-in-github",
        "colab_type": "text"
      },
      "source": [
        "<a href=\"https://colab.research.google.com/github/Deepsphere-AI/AI-lab-Schools/blob/main/Grade%2007/Unit-3/Colab_Seven_PPT_25.ipynb\" target=\"_parent\"><img src=\"https://colab.research.google.com/assets/colab-badge.svg\" alt=\"Open In Colab\"/></a>"
      ]
    },
    {
      "cell_type": "code",
      "execution_count": 1,
      "metadata": {
        "id": "0tsgsmM6R2cr",
        "outputId": "db2c898e-b584-417f-b5c7-6969ab1d6d18",
        "colab": {
          "base_uri": "https://localhost:8080/"
        }
      },
      "outputs": [
        {
          "output_type": "stream",
          "name": "stdout",
          "text": [
            "2\n"
          ]
        }
      ],
      "source": [
        "# \"\"\"\n",
        "# Ex 25.\n",
        "\n",
        "# Create a function that will find the index of where the first time the character 'e' occurs in a string.\n",
        "\n",
        "# Hint: Use the function .index('e')\n",
        "\n",
        "# Program description: The objective of this program is to create a function that \n",
        "# will find the index of where the first time the character ‘e’ occurs in a string.\n",
        "# \"\"\"\n",
        "\n",
        "vAR_str = \"Where is there an e here?\"\n",
        "\n",
        "def indexOf(string):\n",
        "  return vAR_str.index('e')\n",
        "\n",
        "print(indexOf(vAR_str))"
      ]
    }
  ]
}