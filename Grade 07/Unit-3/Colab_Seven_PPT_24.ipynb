{
  "nbformat": 4,
  "nbformat_minor": 0,
  "metadata": {
    "colab": {
      "name": "Colab_Seven_PPT_24.ipynb",
      "provenance": [],
      "include_colab_link": true
    },
    "kernelspec": {
      "name": "python3",
      "display_name": "Python 3"
    },
    "language_info": {
      "name": "python"
    }
  },
  "cells": [
    {
      "cell_type": "markdown",
      "metadata": {
        "id": "view-in-github",
        "colab_type": "text"
      },
      "source": [
        "<a href=\"https://colab.research.google.com/github/Deepsphere-AI/AI-lab-Schools/blob/main/Grade%2007/Unit-3/Colab_Seven_PPT_24.ipynb\" target=\"_parent\"><img src=\"https://colab.research.google.com/assets/colab-badge.svg\" alt=\"Open In Colab\"/></a>"
      ]
    },
    {
      "cell_type": "code",
      "execution_count": 1,
      "metadata": {
        "id": "Hw7Y1lSmP1Le",
        "outputId": "b7dd6538-bc3b-43ed-8e7d-86d86d898e20",
        "colab": {
          "base_uri": "https://localhost:8080/"
        }
      },
      "outputs": [
        {
          "output_type": "stream",
          "name": "stdout",
          "text": [
            "['Convert', 'this', 'to', 'a', 'list']\n"
          ]
        }
      ],
      "source": [
        "# \"\"\"\n",
        "# Ex 24.\n",
        "\n",
        "# Create a function that will pass in a string that is a sentence, and output a list with each item in the list containg a word from the sentence. \n",
        "# Example: toList(\"Convert this to a list\") = [\"Convert\", \"this\", \"to\", \"a\", \"list\"]\n",
        "\n",
        "# Hint: Use .split(\" \")\n",
        "\n",
        "# Program description: The objective of this program is to convert a string that is a sentence to a list. In Ex.17 we have seen how to convert a list into a sentence.\n",
        "# This program is the exact opposite of that. Here we convert a sentence into a list.\n",
        "# For example: -\n",
        "#                   Hello, everyone how are you = [“Hello”, everyone”,“how”, “are”, “you”]\n",
        "#                   Convert this to a list = [“Convert”, “this”, “to”, “a”, “list”]\n",
        "\n",
        "# \"\"\"\n",
        "\n",
        "vAR_str = \"Convert this to a list\"\n",
        "\n",
        "def toList(vAR_string):\n",
        "  return vAR_string.split(\" \")\n",
        "\n",
        "print(toList(vAR_str))"
      ]
    }
  ]
}