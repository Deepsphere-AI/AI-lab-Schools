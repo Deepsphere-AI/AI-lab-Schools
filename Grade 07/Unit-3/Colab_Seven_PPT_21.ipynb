{
  "nbformat": 4,
  "nbformat_minor": 0,
  "metadata": {
    "colab": {
      "name": "Colab_Seven_PPT_21.ipynb",
      "provenance": [],
      "authorship_tag": "ABX9TyOV7iBiouiFzN7RQMkpoKAp",
      "include_colab_link": true
    },
    "kernelspec": {
      "name": "python3",
      "display_name": "Python 3"
    },
    "language_info": {
      "name": "python"
    }
  },
  "cells": [
    {
      "cell_type": "markdown",
      "metadata": {
        "id": "view-in-github",
        "colab_type": "text"
      },
      "source": [
        "<a href=\"https://colab.research.google.com/github/Deepsphere-AI/AI-lab-Schools/blob/main/Grade%2007/Unit-3/Colab_Seven_PPT_21.ipynb\" target=\"_parent\"><img src=\"https://colab.research.google.com/assets/colab-badge.svg\" alt=\"Open In Colab\"/></a>"
      ]
    },
    {
      "cell_type": "code",
      "execution_count": null,
      "metadata": {
        "id": "oSP8K6QcOJw0"
      },
      "outputs": [],
      "source": [
        "# \"\"\"\n",
        "# Ex 21.\n",
        "\n",
        "# Create a function that will take in a string and output the string but with each character doubled. For example: double(\"Apple\") = \"AAppppllee\"\n",
        "\n",
        "# Program description: The objective of this program is to create a function that will take output the string but with each character doubled.\n",
        "# For example:\n",
        "#                     *(“Apple”) = AAppppllee\n",
        "#                     *(“Pear”) = PPeeaarr\n",
        "# Note : The each letter is doubled\n",
        "\n",
        "# \"\"\"\n",
        "\n",
        "vAR_str1 = \"Apple\"\n",
        "\n",
        "def double(vAR_string):\n",
        "  vAR_output = \"\"\n",
        "  for vAR_x in range(len(vAR_string)):\n",
        "    vAR_output = vAR_output + vAR_string[vAR_x] + vAR_string[vAR_x]\n",
        "  return vAR_output\n",
        "\n",
        "print(double(vAR_str1))"
      ]
    }
  ]
}