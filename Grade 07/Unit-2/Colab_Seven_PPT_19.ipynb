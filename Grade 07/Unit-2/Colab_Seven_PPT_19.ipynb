{
  "nbformat": 4,
  "nbformat_minor": 0,
  "metadata": {
    "colab": {
      "name": "Colab_Seven_PPT_19.ipynb",
      "provenance": [],
      "authorship_tag": "ABX9TyM3XpuauB9PMg/59ellFdAd",
      "include_colab_link": true
    },
    "kernelspec": {
      "name": "python3",
      "display_name": "Python 3"
    },
    "language_info": {
      "name": "python"
    }
  },
  "cells": [
    {
      "cell_type": "markdown",
      "metadata": {
        "id": "view-in-github",
        "colab_type": "text"
      },
      "source": [
        "<a href=\"https://colab.research.google.com/github/Deepsphere-AI/AI-lab-Schools/blob/main/Grade%2007/Unit-2/Colab_Seven_PPT_19.ipynb\" target=\"_parent\"><img src=\"https://colab.research.google.com/assets/colab-badge.svg\" alt=\"Open In Colab\"/></a>"
      ]
    },
    {
      "cell_type": "code",
      "execution_count": 4,
      "metadata": {
        "colab": {
          "base_uri": "https://localhost:8080/"
        },
        "id": "JLjyYwBYJQQP",
        "outputId": "7ad3b89d-d037-4eef-d0ca-4da76b46356d"
      },
      "outputs": [
        {
          "output_type": "stream",
          "name": "stdout",
          "text": [
            "If boolean False,\n",
            "2.0\n",
            "If boolean True,\n",
            "18\n"
          ]
        }
      ],
      "source": [
        "# \"\"\"\n",
        "# Ex 19.\n",
        "\n",
        "# Create a function that will take in a Boolean and 2 integers. If the boolean is True, multiply them, if the Boolean is false, divide them.\n",
        "\n",
        "# Program description:  The objective of this program is to create a program that will take in a Boolean and two integers.\n",
        "# If the Boolean is True, multiply them, if the Boolean is false divide those integers.\n",
        "# If the Boolean is true and the integers are 6 and 3 this program will multiply them and give the output as 6 *3= 18.\n",
        "# If the Boolean is False and the integers are 6 and 3 this program will divide them and give the output as 6/3= 2.0.\n",
        "\n",
        "# \"\"\"\n",
        "\n",
        "def Boolean_and_2_ints(vAR_Bool, vAR_int1, vAR_int2):\n",
        "  if(vAR_Bool):\n",
        "    return vAR_int1*vAR_int2\n",
        "  else:\n",
        "    return vAR_int1/vAR_int2\n",
        "print (\"If boolean False,\")\n",
        "print(Boolean_and_2_ints(False,6,3))\n",
        "print (\"If boolean True,\")\n",
        "print(Boolean_and_2_ints(True,6,3))"
      ]
    }
  ]
}