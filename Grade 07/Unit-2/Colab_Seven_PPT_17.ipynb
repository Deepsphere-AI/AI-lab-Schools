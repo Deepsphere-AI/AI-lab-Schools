{
  "nbformat": 4,
  "nbformat_minor": 0,
  "metadata": {
    "colab": {
      "name": "Colab_Seven_PPT_17.ipynb",
      "provenance": [],
      "authorship_tag": "ABX9TyOad6vURiYhxEoXOi61ozbD",
      "include_colab_link": true
    },
    "kernelspec": {
      "name": "python3",
      "display_name": "Python 3"
    },
    "language_info": {
      "name": "python"
    }
  },
  "cells": [
    {
      "cell_type": "markdown",
      "metadata": {
        "id": "view-in-github",
        "colab_type": "text"
      },
      "source": [
        "<a href=\"https://colab.research.google.com/github/Deepsphere-AI/AI-lab-Schools/blob/main/Grade%2007/Unit-2/Colab_Seven_PPT_17.ipynb\" target=\"_parent\"><img src=\"https://colab.research.google.com/assets/colab-badge.svg\" alt=\"Open In Colab\"/></a>"
      ]
    },
    {
      "cell_type": "code",
      "execution_count": 1,
      "metadata": {
        "colab": {
          "base_uri": "https://localhost:8080/"
        },
        "id": "KMLDPuS2Fdkr",
        "outputId": "28681cb6-170e-491e-9c96-5b35d1346fbe"
      },
      "outputs": [
        {
          "output_type": "stream",
          "name": "stdout",
          "text": [
            "This is a test \n"
          ]
        }
      ],
      "source": [
        "# \"\"\"\n",
        "# Ex 17.\n",
        "\n",
        "# Create a function that will combine a list of strings and ouput a sentence of the strings in the list. Example: if list = [\"This\", \"is\", \"a\", \"test\"], \n",
        "# then the output would be \"This is a test\"\n",
        "\n",
        "# Program description: Program description: The objective of this program is to create a function that combines a list of strings in the list. \n",
        "# For example: List = [“This ”, “ is ”, “ a ”,” test ”,] = This is a test\n",
        "\n",
        "# Note: Each string in the list would be equal to each word in the sentence.\n",
        "\n",
        "# \"\"\"\n",
        "\n",
        "vAR_check = [\"This\", \"is\", \"a\", \"test\"]\n",
        "def vAR_sentence(vAR_check):\n",
        "  vAR_output = \"\"\n",
        "  for vAR_x in vAR_check:\n",
        "    vAR_output = vAR_output + vAR_x + \" \"\n",
        "  return vAR_output\n",
        "\n",
        "print(vAR_sentence(vAR_check))"
      ]
    }
  ]
}