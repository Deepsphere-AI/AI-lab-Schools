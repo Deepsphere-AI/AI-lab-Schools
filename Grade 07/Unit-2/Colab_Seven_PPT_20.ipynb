{
  "nbformat": 4,
  "nbformat_minor": 0,
  "metadata": {
    "colab": {
      "name": "Colab_Seven_PPT_20.ipynb",
      "provenance": [],
      "authorship_tag": "ABX9TyPGLVPw3qoiEMQ/rIJlsNXJ",
      "include_colab_link": true
    },
    "kernelspec": {
      "name": "python3",
      "display_name": "Python 3"
    },
    "language_info": {
      "name": "python"
    }
  },
  "cells": [
    {
      "cell_type": "markdown",
      "metadata": {
        "id": "view-in-github",
        "colab_type": "text"
      },
      "source": [
        "<a href=\"https://colab.research.google.com/github/Deepsphere-AI/AI-lab-Schools/blob/main/Grade%2007/Unit-2/Colab_Seven_PPT_20.ipynb\" target=\"_parent\"><img src=\"https://colab.research.google.com/assets/colab-badge.svg\" alt=\"Open In Colab\"/></a>"
      ]
    },
    {
      "cell_type": "code",
      "execution_count": null,
      "metadata": {
        "id": "4CQozdP8NuHO"
      },
      "outputs": [],
      "source": [
        "# \"\"\"\n",
        "# Ex 20.\n",
        "\n",
        "# Create a function that will take in 2 integer lists and output a list that multiplies the numbers in each list with each other.\n",
        "# Assume the lists are the same length.\n",
        "\n",
        "# Program description: The objective of this program is to create a function that will take in 2 integer lists \n",
        "# that are of same length and multiply the numbers in each list with each other. \n",
        "# For example: The first integer in the first list is 1 and the first integer in the second list is 2 then this \n",
        "# program will multiply both 1 and 2 and give the answer. The same is applicable for all the items in the list.\n",
        "\n",
        "# \"\"\"\n",
        "\n",
        "vAR_check1 = [1,2,3,4,5,6,7,8,9,10]\n",
        "vAR_check2 = [1,2,3,4,5,6,7,8,9,10]\n",
        "\n",
        "def multiply_lists(l1, l2):\n",
        "  vAR_output = []\n",
        "  for vAR_x in range(len(l1)):\n",
        "    vAR_output.append(l1[vAR_x]*l2[vAR_x])\n",
        "  return vAR_output\n",
        "\n",
        "print(multiply_lists(vAR_check1,vAR_check2))"
      ]
    }
  ]
}