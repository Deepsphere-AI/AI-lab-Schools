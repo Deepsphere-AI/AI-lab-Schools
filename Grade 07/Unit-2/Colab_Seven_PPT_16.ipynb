{
  "nbformat": 4,
  "nbformat_minor": 0,
  "metadata": {
    "colab": {
      "name": "Colab_Seven_PPT_16.ipynb",
      "provenance": [],
      "authorship_tag": "ABX9TyNPgE96mqu4UjgR72Mems2W",
      "include_colab_link": true
    },
    "kernelspec": {
      "name": "python3",
      "display_name": "Python 3"
    },
    "language_info": {
      "name": "python"
    }
  },
  "cells": [
    {
      "cell_type": "markdown",
      "metadata": {
        "id": "view-in-github",
        "colab_type": "text"
      },
      "source": [
        "<a href=\"https://colab.research.google.com/github/Deepsphere-AI/AI-lab-Schools/blob/main/Grade%2007/Unit-2/Colab_Seven_PPT_16.ipynb\" target=\"_parent\"><img src=\"https://colab.research.google.com/assets/colab-badge.svg\" alt=\"Open In Colab\"/></a>"
      ]
    },
    {
      "cell_type": "code",
      "execution_count": 1,
      "metadata": {
        "colab": {
          "base_uri": "https://localhost:8080/"
        },
        "id": "TBpqwhCeE98d",
        "outputId": "1d654e8d-6ff5-4caf-d105-07b68aa2f44a"
      },
      "outputs": [
        {
          "output_type": "stream",
          "name": "stdout",
          "text": [
            "True\n"
          ]
        }
      ],
      "source": [
        "# \"\"\"\n",
        "# Ex 16.\n",
        "\n",
        "# Create a function that will check whether the sum of a list that is passed in equal to 21\n",
        "# \"\"\"\n",
        "\n",
        "vAR_check = [1,2,-3,3,3,4,5,6,2,-2]\n",
        "def vAR_sum21(list):\n",
        "  vAR_total = 0\n",
        "  for vAR_x in vAR_check:\n",
        "    vAR_total+=vAR_x\n",
        "  if(vAR_total == 21):\n",
        "    return True\n",
        "  else:\n",
        "    return False\n",
        "\n",
        "print(vAR_sum21(vAR_check))"
      ]
    }
  ]
}