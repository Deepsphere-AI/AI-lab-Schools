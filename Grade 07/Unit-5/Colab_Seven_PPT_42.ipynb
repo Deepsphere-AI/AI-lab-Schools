{
  "nbformat": 4,
  "nbformat_minor": 0,
  "metadata": {
    "colab": {
      "name": "Untitled19.ipynb",
      "provenance": [],
      "authorship_tag": "ABX9TyOaIq6xj5BJOlYShqEzwRDj",
      "include_colab_link": true
    },
    "kernelspec": {
      "name": "python3",
      "display_name": "Python 3"
    },
    "language_info": {
      "name": "python"
    }
  },
  "cells": [
    {
      "cell_type": "markdown",
      "metadata": {
        "id": "view-in-github",
        "colab_type": "text"
      },
      "source": [
        "<a href=\"https://colab.research.google.com/github/Deepsphere-AI/AI-lab-Schools/blob/main/Grade%2007/Unit-5/Colab_Seven_PPT_42.ipynb\" target=\"_parent\"><img src=\"https://colab.research.google.com/assets/colab-badge.svg\" alt=\"Open In Colab\"/></a>"
      ]
    },
    {
      "cell_type": "code",
      "execution_count": null,
      "metadata": {
        "id": "n3AV5B-jFxkb"
      },
      "outputs": [],
      "source": [
        "# \"\"\"\n",
        "# Ex 42.\n",
        "\n",
        "# Create a class classroom. create the variables class_size, student_list,average_age, and id_range. Give them default values. \n",
        "# Create the constructor which takes in a number for the classroom size and uses that to create a list of students with the name \"Mark\",\n",
        "# a random 6- digit id number and either the age 14 or 15.\n",
        "\n",
        "\n",
        "# Program description: The objective of this code is to create a Class Classroom with the following characteristics:\n",
        "# -\tVariables: class_size, student_list,average_age, and id_range\n",
        "# -\tGive them default values. \n",
        "# -\tCreate a constructor which takes in a number for the classroom size and uses that to create a list of students with the name \"Mark\", a random 6- digit id number and either the age 14 or 15.\n",
        "\n",
        "# Note: Use a loop for the last charcateristics and the random in-built function\n",
        "\n",
        "\n",
        "# \"\"\"\n",
        "\n",
        "import random\n",
        "\n",
        "class Student:\n",
        "  name = \"\"\n",
        "  id_number = 0\n",
        "  age = 0\n",
        "\n",
        "  def __init__(self, name, id_number, age):\n",
        "    self.name = name\n",
        "    self.id_number = id_number\n",
        "    self.age = age\n",
        "  \n",
        "  def get_name(self):\n",
        "    return self.name\n",
        "  \n",
        "  def get_id(self):\n",
        "    return self.id_number\n",
        "\n",
        "  def get_age(self):\n",
        "    return self.age\n",
        "\n",
        "\n",
        "class Classroom:\n",
        "  class_size = 0\n",
        "  student_list = []\n",
        "  average_age = 0\n",
        "  id_range = 0\n",
        "\n",
        "  def __init__(self, size):\n",
        "    self.class_size = size\n",
        "    for x in range(size):\n",
        "      self.student_list.append(Student(\"Mark\",random.randrange(100000,999999),random.randrange(14,15)))"
      ]
    }
  ]
}