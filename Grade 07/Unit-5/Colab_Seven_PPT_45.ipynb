{
  "nbformat": 4,
  "nbformat_minor": 0,
  "metadata": {
    "colab": {
      "name": "Untitled24.ipynb",
      "provenance": [],
      "authorship_tag": "ABX9TyOwcUniEkrkva78K4DlSHUp",
      "include_colab_link": true
    },
    "kernelspec": {
      "name": "python3",
      "display_name": "Python 3"
    },
    "language_info": {
      "name": "python"
    }
  },
  "cells": [
    {
      "cell_type": "markdown",
      "metadata": {
        "id": "view-in-github",
        "colab_type": "text"
      },
      "source": [
        "<a href=\"https://colab.research.google.com/github/Deepsphere-AI/AI-lab-Schools/blob/main/Grade%2007/Unit-5/Colab_Seven_PPT_45.ipynb\" target=\"_parent\"><img src=\"https://colab.research.google.com/assets/colab-badge.svg\" alt=\"Open In Colab\"/></a>"
      ]
    },
    {
      "cell_type": "code",
      "execution_count": null,
      "metadata": {
        "id": "B495-XsCHicC"
      },
      "outputs": [],
      "source": [
        "# \"\"\"\n",
        "# Ex 45.\n",
        "\n",
        "# Using the Classroom class from the previous excercise, find how many students are 14, and how many are 15 years old.\n",
        "# Then add up all the ages of 15s, and 14s seperatly. Then find the difference to see how many years apart the total class is.\n",
        "\n",
        "# Program description: \n",
        "#                    The objective of this code is to create a function to find out how many students are 14, and how many are 15 years old. \n",
        "#                    Then it will add up all the ages of 15s, and 14s separately.\n",
        "#                    Then it will find the difference and return it to see how many years apart the total class is.\n",
        "                   \n",
        "# \"\"\"\n",
        "\n",
        "import random\n",
        "\n",
        "class Student:\n",
        "  name = \"\"\n",
        "  id_number = 0\n",
        "  age = 0\n",
        "\n",
        "  def __init__(self, name, id_number, age):\n",
        "    self.name = name\n",
        "    self.id_number = id_number\n",
        "    self.age = age\n",
        "  \n",
        "  def get_name(self):\n",
        "    return self.name\n",
        "  \n",
        "  def get_id(self):\n",
        "    return self.id_number\n",
        "\n",
        "  def get_age(self):\n",
        "    return self.age\n",
        "\n",
        "\n",
        "class Classroom:\n",
        "  class_size = 0\n",
        "  student_list = []\n",
        "  average_age = 0.0\n",
        "  id_range = 0\n",
        "\n",
        "  def __init__(self, size):\n",
        "    self.class_size = size\n",
        "    for x in range(size):\n",
        "      self.student_list.append(Student(\"Mark\",random.randrange(100000,999999),random.randrange(14,16)))\n",
        "  \n",
        "  def get_average_age(self):\n",
        "    total = 0\n",
        "    for x in self.student_list:\n",
        "      total = total + x.get_age()\n",
        "    self.average_age = total/self.class_size\n",
        "    return self.average_age\n",
        "\n",
        "  def calc_id_range(self):\n",
        "    min = 999999\n",
        "    max = 0\n",
        "    for x in self.student_list:\n",
        "      if(x.get_id() > max):\n",
        "        max = x.get_id()\n",
        "      elif(x.get_id() < min):\n",
        "        min = x.get_id()\n",
        "    self.id_range = max - min\n",
        "    return self.id_range\n",
        "  \n",
        "  def years_apart(self):\n",
        "    fourteen = 0\n",
        "    fifteen = 0\n",
        "    for x in self.student_list: \n",
        "      if(x.get_age() == 14):\n",
        "        fourteen +=14\n",
        "      else:\n",
        "        fifteen+=15\n",
        "    return fifteen - fourteen\n",
        "\n",
        "\n",
        "\n",
        "\n",
        "me = Classroom(20)\n",
        "print(me.years_apart())"
      ]
    }
  ]
}