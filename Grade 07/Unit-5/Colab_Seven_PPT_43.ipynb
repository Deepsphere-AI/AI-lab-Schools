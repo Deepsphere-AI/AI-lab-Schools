{
  "nbformat": 4,
  "nbformat_minor": 0,
  "metadata": {
    "colab": {
      "name": "Untitled21.ipynb",
      "provenance": [],
      "authorship_tag": "ABX9TyMOmi6+yZsSQwhYDHRiCjwp",
      "include_colab_link": true
    },
    "kernelspec": {
      "name": "python3",
      "display_name": "Python 3"
    },
    "language_info": {
      "name": "python"
    }
  },
  "cells": [
    {
      "cell_type": "markdown",
      "metadata": {
        "id": "view-in-github",
        "colab_type": "text"
      },
      "source": [
        "<a href=\"https://colab.research.google.com/github/Deepsphere-AI/AI-lab-Schools/blob/main/Grade%2007/Unit-5/Colab_Seven_PPT_43.ipynb\" target=\"_parent\"><img src=\"https://colab.research.google.com/assets/colab-badge.svg\" alt=\"Open In Colab\"/></a>"
      ]
    },
    {
      "cell_type": "code",
      "execution_count": null,
      "metadata": {
        "id": "FTdy_g8MGcEm"
      },
      "outputs": [],
      "source": [
        "# \"\"\"\n",
        "# Ex 43.\n",
        "\n",
        "# Using the Classroom class from the previous excercise, create a function, get_average, which will calculate the average age of the students, \n",
        "# set that equal to self.average_age, and return it as a float (floating point number).\n",
        "\n",
        "# Program description: The objective of this code is to use the Classroom Class (42) to create a function (get_average)\n",
        "# which will calculate the average age of the students and return it as a float. \n",
        "# Note: Use a loop to add the ages and call for the get_age function\n",
        "\n",
        "# \"\"\"\n",
        "\n",
        "import random\n",
        "\n",
        "class Student:\n",
        "  name = \"\"\n",
        "  id_number = 0\n",
        "  age = 0\n",
        "\n",
        "  def __init__(self, name, id_number, age):\n",
        "    self.name = name\n",
        "    self.id_number = id_number\n",
        "    self.age = age\n",
        "  \n",
        "  def get_name(self):\n",
        "    return self.name\n",
        "  \n",
        "  def get_id(self):\n",
        "    return self.id_number\n",
        "\n",
        "  def get_age(self):\n",
        "    return self.age\n",
        "\n",
        "\n",
        "class Classroom:\n",
        "  class_size = 0\n",
        "  student_list = []\n",
        "  average_age = 0.0\n",
        "  id_range = 0\n",
        "\n",
        "  def __init__(self, size):\n",
        "    self.class_size = size\n",
        "    for x in range(size):\n",
        "      self.student_list.append(Student(\"Mark\",random.randrange(100000,999999),random.randrange(14,16)))\n",
        "  \n",
        "  def get_average_age(self):\n",
        "    total = 0\n",
        "    for x in self.student_list:\n",
        "      total = total + x.get_age()\n",
        "    self.average_age = total/self.class_size\n",
        "    return self.average_age\n",
        "\n",
        "me = Classroom(20)\n",
        "print(me.get_average_age())"
      ]
    }
  ]
}