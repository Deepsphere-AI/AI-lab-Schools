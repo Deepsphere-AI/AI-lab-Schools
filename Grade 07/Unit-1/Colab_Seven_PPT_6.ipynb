{
  "nbformat": 4,
  "nbformat_minor": 0,
  "metadata": {
    "colab": {
      "name": "Colab_Seven_PPT_6.ipynb",
      "provenance": [],
      "authorship_tag": "ABX9TyOMLCx5wKCdKQpU5Dd/ZyRb",
      "include_colab_link": true
    },
    "kernelspec": {
      "name": "python3",
      "display_name": "Python 3"
    },
    "language_info": {
      "name": "python"
    }
  },
  "cells": [
    {
      "cell_type": "markdown",
      "metadata": {
        "id": "view-in-github",
        "colab_type": "text"
      },
      "source": [
        "<a href=\"https://colab.research.google.com/github/Deepsphere-AI/AI-lab-Schools/blob/main/Grade%2007/Unit-1/Colab_Seven_PPT_6.ipynb\" target=\"_parent\"><img src=\"https://colab.research.google.com/assets/colab-badge.svg\" alt=\"Open In Colab\"/></a>"
      ]
    },
    {
      "cell_type": "code",
      "execution_count": null,
      "metadata": {
        "id": "MNzk29ThSrsh"
      },
      "outputs": [],
      "source": [
        "\"\"\"\n",
        "Ex 6.\n",
        "\n",
        "Create a list called fruits that stores the values \"Bannana\", \"Apple\", and \"Peach\"\n",
        "\n",
        "Program description: in this program we will be creating a list which is a collection of items,so in this program we will be creating  \n",
        " list of “fruits \"and adding the list of fruits using square brackets and separated by comma with double quotation as it is a string.\n",
        "\"\"\"\n",
        "\n",
        "vAR_fruits = [\"Bannana\", \"Apple\", \"Peach\"]"
      ]
    }
  ]
}