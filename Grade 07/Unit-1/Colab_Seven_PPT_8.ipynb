{
  "nbformat": 4,
  "nbformat_minor": 0,
  "metadata": {
    "colab": {
      "name": "Colab_Seven_PPT_8.ipynb",
      "provenance": [],
      "include_colab_link": true
    },
    "kernelspec": {
      "name": "python3",
      "display_name": "Python 3"
    },
    "language_info": {
      "name": "python"
    }
  },
  "cells": [
    {
      "cell_type": "markdown",
      "metadata": {
        "id": "view-in-github",
        "colab_type": "text"
      },
      "source": [
        "<a href=\"https://colab.research.google.com/github/Deepsphere-AI/AI-lab-Schools/blob/main/Grade%2007/Unit-1/Colab_Seven_PPT_8.ipynb\" target=\"_parent\"><img src=\"https://colab.research.google.com/assets/colab-badge.svg\" alt=\"Open In Colab\"/></a>"
      ]
    },
    {
      "cell_type": "code",
      "execution_count": 1,
      "metadata": {
        "id": "DwJmX3x-83_0",
        "outputId": "775a7252-fb8c-4e65-9fce-41de3dbbcc74",
        "colab": {
          "base_uri": "https://localhost:8080/"
        }
      },
      "outputs": [
        {
          "output_type": "stream",
          "name": "stdout",
          "text": [
            "['Bannana', 'Apple', 'Peach', 'Pineapple', 'Coconut', 'Watermelon']\n"
          ]
        }
      ],
      "source": [
        "# \"\"\"\n",
        "# Ex 8.\n",
        "\n",
        "# Using the list created in ex. 6, given a new list, new_fruits = [\"Pineapple\", \"Coconut\", \"Watermelon\"], combine the two.\n",
        "\n",
        "# Program description: here we are going to combine list 1 with list 2we use append function in this case.\n",
        "# \"\"\"\n",
        "vAR_fruits = [\"Bannana\", \"Apple\", \"Peach\"]\n",
        "vAR_new_fruits = [\"Pineapple\", \"Coconut\", \"Watermelon\"]\n",
        "for vAR_x in vAR_new_fruits:\n",
        "  vAR_fruits.append(vAR_x)\n",
        "print(vAR_fruits)"
      ]
    }
  ]
}