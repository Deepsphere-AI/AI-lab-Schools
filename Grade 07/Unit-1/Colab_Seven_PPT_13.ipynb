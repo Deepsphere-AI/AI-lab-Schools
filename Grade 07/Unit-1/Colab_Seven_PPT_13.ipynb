{
  "nbformat": 4,
  "nbformat_minor": 0,
  "metadata": {
    "colab": {
      "name": "Colab_Seven_PPT_13.ipynb",
      "provenance": [],
      "authorship_tag": "ABX9TyOxpu8ViIxHVH8350FT1Iqv",
      "include_colab_link": true
    },
    "kernelspec": {
      "name": "python3",
      "display_name": "Python 3"
    },
    "language_info": {
      "name": "python"
    }
  },
  "cells": [
    {
      "cell_type": "markdown",
      "metadata": {
        "id": "view-in-github",
        "colab_type": "text"
      },
      "source": [
        "<a href=\"https://colab.research.google.com/github/Deepsphere-AI/AI-lab-Schools/blob/main/Grade%2007/Unit-1/Colab_Seven_PPT_13.ipynb\" target=\"_parent\"><img src=\"https://colab.research.google.com/assets/colab-badge.svg\" alt=\"Open In Colab\"/></a>"
      ]
    },
    {
      "cell_type": "code",
      "execution_count": null,
      "metadata": {
        "id": "DNU2Me-66JCn"
      },
      "outputs": [],
      "source": [
        "# \"\"\"\n",
        "# Ex 13.\n",
        "\n",
        "# Given a list of integer numbers, return the amount of numbers in that list that are even.\n",
        "\n",
        "# Program description: def is the keyword for defining a function. The function name is followed by parameters in (). \n",
        "# The colon signals the start of the function body, which is marked by indentation. \n",
        "# Inside the function body, the return statement determines the value to be returned. \n",
        "# Count =0 we will check if mod of 2, x in numbers list ==0 then we will increment count by 1.\n",
        "# \"\"\"\n",
        "\n",
        "vAR_numbers = [1,2,3,4,5,6,7,8] # can be any list, this is just an example\n",
        "def vAR_count_evens(vAR_numbers):\n",
        "  vAR_count = 0\n",
        "  for vAR_x in vAR_numbers:\n",
        "    if vAR_x % 2 == 0:\n",
        "      vAR_count+=1\n",
        "  return vAR_count"
      ]
    }
  ]
}