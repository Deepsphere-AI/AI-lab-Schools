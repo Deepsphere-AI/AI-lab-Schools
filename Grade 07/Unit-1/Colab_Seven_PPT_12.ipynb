{
  "nbformat": 4,
  "nbformat_minor": 0,
  "metadata": {
    "colab": {
      "name": "Colab_Seven_PPT_12.ipynb",
      "provenance": [],
      "authorship_tag": "ABX9TyN053yiqIoP2zVgA0IEckFR",
      "include_colab_link": true
    },
    "kernelspec": {
      "name": "python3",
      "display_name": "Python 3"
    },
    "language_info": {
      "name": "python"
    }
  },
  "cells": [
    {
      "cell_type": "markdown",
      "metadata": {
        "id": "view-in-github",
        "colab_type": "text"
      },
      "source": [
        "<a href=\"https://colab.research.google.com/github/Deepsphere-AI/AI-lab-Schools/blob/main/Grade%2007/Unit-1/Colab_Seven_PPT_12.ipynb\" target=\"_parent\"><img src=\"https://colab.research.google.com/assets/colab-badge.svg\" alt=\"Open In Colab\"/></a>"
      ]
    },
    {
      "cell_type": "code",
      "execution_count": null,
      "metadata": {
        "id": "M6cMtOph2NEx"
      },
      "outputs": [],
      "source": [
        "# \"\"\"\n",
        "# Ex 12.\n",
        "\n",
        "# Create a function that takes in a number and prints out the sum of all the numbers under it including the number itself. For example, sum_under(6) = 21\n",
        "\n",
        "# Program description: def is the keyword for defining a function. The function name is followed by parameters in ().\n",
        "# The colon signals the start of the function body, which is marked by indentation.\n",
        "# Inside the function body, the return statement determines the value to be returned. \n",
        "# Here variable out is initialized to 0 and num 1 variable is incremented by 1 so this keep printing the sum of numbers by running the loop. \n",
        "# \"\"\"\n",
        "def sum_under(vAR_num1):\n",
        "  vAR_out = 0\n",
        "  for vAR_x in range(vAR_num1+1):\n",
        "    vAR_out+=vAR_x\n",
        "  print(vAR_out)\n",
        "  \n",
        "sum_under(6)"
      ]
    }
  ]
}