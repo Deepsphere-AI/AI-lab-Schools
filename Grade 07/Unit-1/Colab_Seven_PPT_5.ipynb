{
  "nbformat": 4,
  "nbformat_minor": 0,
  "metadata": {
    "colab": {
      "name": "Colab_Seven_PPT_5.ipynb",
      "provenance": [],
      "authorship_tag": "ABX9TyMCHknLhcONA0iY7iAARdJP",
      "include_colab_link": true
    },
    "kernelspec": {
      "name": "python3",
      "display_name": "Python 3"
    },
    "language_info": {
      "name": "python"
    }
  },
  "cells": [
    {
      "cell_type": "markdown",
      "metadata": {
        "id": "view-in-github",
        "colab_type": "text"
      },
      "source": [
        "<a href=\"https://colab.research.google.com/github/Deepsphere-AI/AI-lab-Schools/blob/main/Grade%2007/Unit-1/Colab_Seven_PPT_5.ipynb\" target=\"_parent\"><img src=\"https://colab.research.google.com/assets/colab-badge.svg\" alt=\"Open In Colab\"/></a>"
      ]
    },
    {
      "cell_type": "code",
      "execution_count": null,
      "metadata": {
        "id": "7GsJDcyNSQ9L"
      },
      "outputs": [],
      "source": [
        "\"\"\"\n",
        "Ex 5.\n",
        "\n",
        "Similar to past question, but write a while loop to print out the counting numbers from 10-20\n",
        "\n",
        "Program description: In this program we are going to print the numbers in the range using while statements. \n",
        "Here we declare a variable ‘x’and initialize it as 10 and give it with a while condition that the value \n",
        "should be lesser than21 and we also increment which is increasing the value of x by 1, each time the loop runs. \n",
        "And we print so each time the loop runs it will increase its value by 1 and check with e condition and if the\n",
        "condition satisfies its proceeds or if not, the loops terminates.\n",
        "NOTE: THE VALUE CAN ALSO DECREMENT BY USING THE CONDITION X=X-1\n",
        "\n",
        "\"\"\"\n",
        "vAR_x = 10\n",
        "while vAR_x < 21:\n",
        "  print(vAR_x)\n",
        "  vAR_x+=1    \n",
        "  \n",
        "  #Or vAR_x = vAR_x+1 also works"
      ]
    }
  ]
}