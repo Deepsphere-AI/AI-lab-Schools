#"""
#Ex 1.
#Create 2 variables, time1 and time2
#Program description: The objective of this program is to assign a value to a variable, which is basically a memory location for storage of values of a datatype such as 
#(float, integer, string, character etc). 
#This program illustrates the declaration of variable” time 1” and “time 2 “that is creation of memory location and storage of numeric value 10 and 15 respectively.
#NOTE: WE CAN ASSIGN VALUE OF ANY DATA TYPE TO VARIABLE THAT IS FLOAT INTEGER STRING CHARACTER ETC.
#"""
vAR_time1 = 10
vAR_time2 = 15
