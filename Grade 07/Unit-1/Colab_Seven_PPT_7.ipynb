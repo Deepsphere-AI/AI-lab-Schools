{
  "nbformat": 4,
  "nbformat_minor": 0,
  "metadata": {
    "colab": {
      "name": "Colab_Seven_PPT_7.ipynb",
      "provenance": [],
      "authorship_tag": "ABX9TyP4sKXov/iwdAmePxce3oM5",
      "include_colab_link": true
    },
    "kernelspec": {
      "name": "python3",
      "display_name": "Python 3"
    },
    "language_info": {
      "name": "python"
    }
  },
  "cells": [
    {
      "cell_type": "markdown",
      "metadata": {
        "id": "view-in-github",
        "colab_type": "text"
      },
      "source": [
        "<a href=\"https://colab.research.google.com/github/Deepsphere-AI/AI-lab-Schools/blob/main/Grade%2007/Unit-1/Colab_Seven_PPT_7.ipynb\" target=\"_parent\"><img src=\"https://colab.research.google.com/assets/colab-badge.svg\" alt=\"Open In Colab\"/></a>"
      ]
    },
    {
      "cell_type": "code",
      "execution_count": null,
      "metadata": {
        "id": "m6VNsYIbTMxG"
      },
      "outputs": [],
      "source": [
        "\"\"\"\n",
        "Ex 7.\n",
        "\n",
        "Using the list created in ex. 6, print out the second slot of the list\n",
        "\n",
        "Program description: using the above list we need t print the second slot here we assume thst the first slot \n",
        "is [0] will second slot is [1] and so on so for eg ;38 slot will be [37].we will use syntax as print(list name[slot number])\n",
        "\"\"\"\n",
        "\n",
        "vAR_fruits = [\"Bannana\", \"Apple\", \"Peach\"]\n",
        "print(vAR_fruits[1])"
      ]
    }
  ]
}