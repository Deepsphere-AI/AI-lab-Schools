{
  "nbformat": 4,
  "nbformat_minor": 0,
  "metadata": {
    "colab": {
      "name": "Colab_Seven_PPT_9.ipynb",
      "provenance": [],
      "authorship_tag": "ABX9TyOM7U8fSrKu4P5TIo7RjCQK",
      "include_colab_link": true
    },
    "kernelspec": {
      "name": "python3",
      "display_name": "Python 3"
    },
    "language_info": {
      "name": "python"
    }
  },
  "cells": [
    {
      "cell_type": "markdown",
      "metadata": {
        "id": "view-in-github",
        "colab_type": "text"
      },
      "source": [
        "<a href=\"https://colab.research.google.com/github/Deepsphere-AI/AI-lab-Schools/blob/main/Grade%2007/Unit-1/Colab_Seven_PPT_9.ipynb\" target=\"_parent\"><img src=\"https://colab.research.google.com/assets/colab-badge.svg\" alt=\"Open In Colab\"/></a>"
      ]
    },
    {
      "cell_type": "code",
      "execution_count": null,
      "metadata": {
        "id": "HZoaL6HU9kc4"
      },
      "outputs": [],
      "source": [
        "# \"\"\"\n",
        "# Ex 9.\n",
        "\n",
        "# Using the list created in ex. 6, given the list, new_fruits = [\"Pineapple\", \"Watermelon\"], replace the corresponding value of fruits, \n",
        "# with the corresponding values of new_fruits\n",
        "\n",
        "# Program description: this program deals with changing the corresponding value of one list with that of other list that is \n",
        "# changing the corresponding value of variable “fruits” with “new_fruits”len()function is used to find the length of list.\n",
        "# \"\"\"\n",
        "\n",
        "vAR_fruits = [\"Bannana\", \"Apple\", \"Peach\"]\n",
        "vAR_new_fruits = [\"Pineapple\", \"Watermelon\"]\n",
        "for vAR_x in range(len(vAR_new_fruits)):\n",
        "  vAR_fruits[vAR_x] = vAR_new_fruits[vAR_x]\n",
        "print(vAR_fruits)"
      ]
    }
  ]
}