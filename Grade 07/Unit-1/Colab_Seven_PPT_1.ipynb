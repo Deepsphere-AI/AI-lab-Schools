{
  "nbformat": 4,
  "nbformat_minor": 0,
  "metadata": {
    "colab": {
      "name": "Colab_Seven_PPT_1.ipynb",
      "provenance": [],
      "collapsed_sections": [],
      "authorship_tag": "ABX9TyOI7KoHiG+q/6cXl81lU4dc",
      "include_colab_link": true
    },
    "kernelspec": {
      "name": "python3",
      "display_name": "Python 3"
    },
    "language_info": {
      "name": "python"
    }
  },
  "cells": [
    {
      "cell_type": "markdown",
      "metadata": {
        "id": "view-in-github",
        "colab_type": "text"
      },
      "source": [
        "<a href=\"https://colab.research.google.com/github/Deepsphere-AI/AI-lab-Schools/blob/main/Grade%2007/Unit-1/Colab_Seven_PPT_1.ipynb\" target=\"_parent\"><img src=\"https://colab.research.google.com/assets/colab-badge.svg\" alt=\"Open In Colab\"/></a>"
      ]
    },
    {
      "cell_type": "code",
      "execution_count": null,
      "metadata": {
        "id": "yYMDfEbSLdF7"
      },
      "outputs": [],
      "source": [
        "# \"\"\"\n",
        "# Ex 1.\n",
        "\n",
        "# Create 2 variables, time1 and time2\n",
        "\n",
        "# Program description: The objective of this program is to assign a value to a variable, which is basically a memory location for storage of values of a datatype such as \n",
        "# (float, integer, string, character etc). \n",
        "# This program illustrates the declaration of variable” time 1” and “time 2 “that is creation of memory location and storage of numeric value 10 and 15 respectively.\n",
        "\n",
        "# NOTE: WE CAN ASSIGN VALUE OF ANY DATA TYPE TO VARIABLE THAT IS FLOAT INTEGER STRING CHARACTER ETC.\n",
        "\n",
        "\n",
        "# \"\"\"\n",
        "vAR_time1 = 10\n",
        "vAR_time2 = 15\n"
      ]
    }
  ]
}