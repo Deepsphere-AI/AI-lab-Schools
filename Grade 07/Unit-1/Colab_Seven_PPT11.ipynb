{
  "nbformat": 4,
  "nbformat_minor": 0,
  "metadata": {
    "colab": {
      "name": "Colab_Seven_PPT11.ipynb",
      "provenance": [],
      "authorship_tag": "ABX9TyMBSeQH1LGnUU6UkAMNeUsQ",
      "include_colab_link": true
    },
    "kernelspec": {
      "name": "python3",
      "display_name": "Python 3"
    },
    "language_info": {
      "name": "python"
    }
  },
  "cells": [
    {
      "cell_type": "markdown",
      "metadata": {
        "id": "view-in-github",
        "colab_type": "text"
      },
      "source": [
        "<a href=\"https://colab.research.google.com/github/Deepsphere-AI/AI-lab-Schools/blob/main/Grade%2007/Unit-1/Colab_Seven_PPT11.ipynb\" target=\"_parent\"><img src=\"https://colab.research.google.com/assets/colab-badge.svg\" alt=\"Open In Colab\"/></a>"
      ]
    },
    {
      "cell_type": "code",
      "execution_count": null,
      "metadata": {
        "id": "kZkKAsAE-jkm"
      },
      "outputs": [],
      "source": [
        "# \"\"\"\n",
        "# Ex 11.\n",
        "\n",
        "# Create a System that will check whether or not a user's credentials match the correct username and password. Using user input,\n",
        "# if the User's username matches \"Billy\" and the Users password matches \"Clark123\", then print(\"Access Granted\"). Otherwise, print(\"Access Denied\").\n",
        "\n",
        "# Program description: to check if the input information matches output information for which we will be inputting information \n",
        "# from user regarding the username and password . For this the general syntax is input=print(“message”) and by using the conditional \n",
        "# statement if else we will check that the username obtained is equal to Billy and password = clark123 if it is then the statement under\n",
        "# the if statement is print, if not then the control of the loop moves to else statement the message of else statement is printed.\n",
        "# \"\"\"\n",
        "\n",
        "\n",
        "vAR_username = input(\"Enter username:\")\n",
        "vAR_password = input(\"Enter password:\")\n",
        "\n",
        "print() #This is just so there is a space\n",
        "if(vAR_username == \"Billy\" and vAR_password == \"Clark123\"):\n",
        "  print(\"Access Granted\")\n",
        "else:\n",
        "  print(\"Access Denied\")"
      ]
    }
  ]
}