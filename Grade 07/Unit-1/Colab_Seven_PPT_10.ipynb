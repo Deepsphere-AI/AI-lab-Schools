{
  "nbformat": 4,
  "nbformat_minor": 0,
  "metadata": {
    "colab": {
      "name": "Colab_Seven_PPT_10.ipynb",
      "provenance": [],
      "authorship_tag": "ABX9TyN0ZVUL+uhAM2uUzjgfRQ/s",
      "include_colab_link": true
    },
    "kernelspec": {
      "name": "python3",
      "display_name": "Python 3"
    },
    "language_info": {
      "name": "python"
    }
  },
  "cells": [
    {
      "cell_type": "markdown",
      "metadata": {
        "id": "view-in-github",
        "colab_type": "text"
      },
      "source": [
        "<a href=\"https://colab.research.google.com/github/Deepsphere-AI/AI-lab-Schools/blob/main/Grade%2007/Unit-1/Colab_Seven_PPT_10.ipynb\" target=\"_parent\"><img src=\"https://colab.research.google.com/assets/colab-badge.svg\" alt=\"Open In Colab\"/></a>"
      ]
    },
    {
      "cell_type": "code",
      "execution_count": null,
      "metadata": {
        "id": "yUe1SRuf-AgC"
      },
      "outputs": [],
      "source": [
        "# \"\"\"\n",
        "# Ex 10.\n",
        "\n",
        "# Grab 2 numbers through user input and print out the result when they are multiplied\n",
        "\n",
        "# Hint: Use int() to convert string to an int.\n",
        "\n",
        "# Program description: Program description in this program we have declared two variables num1 and num2 and we have initialized\n",
        "# these variables with integer data value and input function signifies accepting values from user of particular data type the \n",
        "# string inside double quotes will be printed in output by default. Print function is an output statement which performs operation\n",
        "# in absence of quotes but print the message inside the quotes.\n",
        "# NOTE: INPUT IS USED TO GET THE VALUES OF PARTICULAR DATA TYPE FROM THE USER WHILR PRINT STATEMENT IS USED TO PERFORM OPERATION \n",
        "# IN ABSENCE OF QUOTES AND PRINT THE MESSAGE IF INSIDE QUOTES.TO LEAVE SPACE USE PRINT ()\n",
        "\n",
        "# \"\"\"\n",
        "\n",
        "vAR_num1 = int(input(\"Enter a number:\"))\n",
        "vAR_num2 = int(input(\"Enter another number:\"))\n",
        "\n",
        "print() #This is just so there is a space\n",
        "print(vAR_num1 * vAR_num2)"
      ]
    }
  ]
}