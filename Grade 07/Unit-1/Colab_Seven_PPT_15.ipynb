{
  "nbformat": 4,
  "nbformat_minor": 0,
  "metadata": {
    "colab": {
      "name": "Colab_Seven_PPT_15.ipynb",
      "provenance": [],
      "authorship_tag": "ABX9TyOXXBnu5Y6135vMLyjZ2dCH",
      "include_colab_link": true
    },
    "kernelspec": {
      "name": "python3",
      "display_name": "Python 3"
    },
    "language_info": {
      "name": "python"
    }
  },
  "cells": [
    {
      "cell_type": "markdown",
      "metadata": {
        "id": "view-in-github",
        "colab_type": "text"
      },
      "source": [
        "<a href=\"https://colab.research.google.com/github/Deepsphere-AI/AI-lab-Schools/blob/main/Grade%2007/Unit-1/Colab_Seven_PPT_15.ipynb\" target=\"_parent\"><img src=\"https://colab.research.google.com/assets/colab-badge.svg\" alt=\"Open In Colab\"/></a>"
      ]
    },
    {
      "cell_type": "code",
      "execution_count": 5,
      "metadata": {
        "colab": {
          "base_uri": "https://localhost:8080/"
        },
        "id": "py6IrueH8C6a",
        "outputId": "7596b0eb-89ee-457b-e275-7610cc12e2d0"
      },
      "outputs": [
        {
          "output_type": "stream",
          "name": "stdout",
          "text": [
            "3152\n"
          ]
        }
      ],
      "source": [
        "# \"\"\"\n",
        "# Ex 15.\n",
        "\n",
        "# Given a list of integer numbers, find the range of the list (the maximum - minimum value)\n",
        "\n",
        "# Program description: defining a function range min and max of numbers is 0 if x is lesser than min then print minx\n",
        "# \"\"\"\n",
        "\n",
        "\n",
        "vAR_numbers = [12,145,14,122,142,2,3154,132,132,242,1245,235,123] # can be any list, this is just an example\n",
        "def range(vAR_numbers):\n",
        "  vAR_min = vAR_numbers[0]\n",
        "  vAR_max = vAR_numbers[0] \n",
        "  for vAR_x in vAR_numbers:\n",
        "    if(vAR_x < vAR_min):\n",
        "      vAR_min = vAR_x\n",
        "    if(vAR_x > vAR_max):\n",
        "      vAR_max = vAR_x\n",
        "  return vAR_max-vAR_min\n",
        "\n",
        "print(range(vAR_numbers))"
      ]
    }
  ]
}