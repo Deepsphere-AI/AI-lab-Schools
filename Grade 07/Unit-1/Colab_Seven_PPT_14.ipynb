{
  "nbformat": 4,
  "nbformat_minor": 0,
  "metadata": {
    "colab": {
      "name": "Colab_Seven_PPT_14.ipynb",
      "provenance": [],
      "include_colab_link": true
    },
    "kernelspec": {
      "name": "python3",
      "display_name": "Python 3"
    },
    "language_info": {
      "name": "python"
    }
  },
  "cells": [
    {
      "cell_type": "markdown",
      "metadata": {
        "id": "view-in-github",
        "colab_type": "text"
      },
      "source": [
        "<a href=\"https://colab.research.google.com/github/Deepsphere-AI/AI-lab-Schools/blob/main/Grade%2007/Unit-1/Colab_Seven_PPT_14.ipynb\" target=\"_parent\"><img src=\"https://colab.research.google.com/assets/colab-badge.svg\" alt=\"Open In Colab\"/></a>"
      ]
    },
    {
      "cell_type": "code",
      "execution_count": 1,
      "metadata": {
        "id": "QnPRk22r7N99",
        "outputId": "83d329ff-fe79-4626-89fa-238008cc0df1",
        "colab": {
          "base_uri": "https://localhost:8080/"
        }
      },
      "outputs": [
        {
          "output_type": "stream",
          "name": "stdout",
          "text": [
            "True\n"
          ]
        }
      ],
      "source": [
        "# \"\"\"\n",
        "# Ex 14.\n",
        "\n",
        "# Given a list of numbers, if anywhere in the list, there are 2 consecutive numbers (list[x] == list[x+1]), return true, else return false.\n",
        "\n",
        "# Program description: def is the keyword for defining a function.\n",
        "# The function name is followed by parameters in (). \n",
        "# The colon signals the start of the function body, which is marked by indentation. \n",
        "# Inside the function body, the return statement determines the value to be returned. \n",
        "# Numbers is a list defining a function\n",
        "# \"\"\"\n",
        "vAR_numbers = [12,145,14,122,142,2,3154,132,132,242,1245,235,123] # can be any list, this is just an example\n",
        "def vAR_consecutive(vAR_numbers):\n",
        "  for vAR_x in range(len(vAR_numbers)-1):\n",
        "    if(vAR_numbers[vAR_x] == vAR_numbers[vAR_x+1]):\n",
        "      return True\n",
        "  return False\n",
        "\n",
        "print(vAR_consecutive(vAR_numbers))"
      ]
    }
  ]
}