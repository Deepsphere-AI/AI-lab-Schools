{
  "nbformat": 4,
  "nbformat_minor": 0,
  "metadata": {
    "colab": {
      "name": "Colab_Seven_PPT_3.ipynb",
      "provenance": [],
      "authorship_tag": "ABX9TyM713DE2YwEKa+XuAq7QLuN",
      "include_colab_link": true
    },
    "kernelspec": {
      "name": "python3",
      "display_name": "Python 3"
    },
    "language_info": {
      "name": "python"
    }
  },
  "cells": [
    {
      "cell_type": "markdown",
      "metadata": {
        "id": "view-in-github",
        "colab_type": "text"
      },
      "source": [
        "<a href=\"https://colab.research.google.com/github/Deepsphere-AI/AI-lab-Schools/blob/main/Grade%2007/Unit-1/Colab_Seven_PPT_3.ipynb\" target=\"_parent\"><img src=\"https://colab.research.google.com/assets/colab-badge.svg\" alt=\"Open In Colab\"/></a>"
      ]
    },
    {
      "cell_type": "code",
      "execution_count": null,
      "metadata": {
        "id": "I1AdcsHgPDbu"
      },
      "outputs": [],
      "source": [
        "# \"\"\"\n",
        "# Ex 3.\n",
        "\n",
        "# Print whether a number is even or odd\n",
        "\n",
        "# Hint: Use %\n",
        "\n",
        "# Program description: In this program we will be declaring a variable” input_num ” and initializing integer data value of 141 \n",
        "# using the looping statement ifelse, we are going to check if this number is odd or even. if “input_num”mod 2 ==0 then print \n",
        "# even or print the statement in else statement.\n",
        "# NOTE: % IS USED FOR FINDING REMAINDERS\n",
        "\n",
        "# \"\"\"\n",
        "\n",
        "vAR_input_num = 141\n",
        "if(vAR_input_num%2 == 0):\n",
        "  print(\"even\")\n",
        "else:\n",
        "  print(\"odd\")"
      ]
    }
  ]
}