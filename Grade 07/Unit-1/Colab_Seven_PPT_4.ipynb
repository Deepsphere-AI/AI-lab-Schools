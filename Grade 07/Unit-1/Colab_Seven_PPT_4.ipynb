{
  "nbformat": 4,
  "nbformat_minor": 0,
  "metadata": {
    "colab": {
      "name": "Colab_Seven_PPT_4ipynb",
      "provenance": [],
      "authorship_tag": "ABX9TyOR6QHbJ7GSLdCeClCtmUd3",
      "include_colab_link": true
    },
    "kernelspec": {
      "name": "python3",
      "display_name": "Python 3"
    },
    "language_info": {
      "name": "python"
    }
  },
  "cells": [
    {
      "cell_type": "markdown",
      "metadata": {
        "id": "view-in-github",
        "colab_type": "text"
      },
      "source": [
        "<a href=\"https://colab.research.google.com/github/Deepsphere-AI/AI-lab-Schools/blob/main/Grade%2007/Unit-1/Colab_Seven_PPT_4.ipynb\" target=\"_parent\"><img src=\"https://colab.research.google.com/assets/colab-badge.svg\" alt=\"Open In Colab\"/></a>"
      ]
    },
    {
      "cell_type": "code",
      "execution_count": null,
      "metadata": {
        "id": "DjVEdSu7QNux"
      },
      "outputs": [],
      "source": [
        "\"\"\"\n",
        "Ex 4.\n",
        "\n",
        "Write a for loop to print out the counting numbers from 10 - 20\n",
        "\n",
        "Hint: for x in ___:\n",
        "\n",
        "Program description: in this program we need to print the numbers in range, so in such case we use for statement of that particular\n",
        "variable to print the number present In the range.\n",
        "\n",
        "So, for x in range (10,21) signifies range between 10-21 and print statement prints those numbers.\n",
        "NOTE: NOT NESSACARY TO USE ONLY FOR STATEMENTS YOU CAN ALSO USE OTHER CONITIONAL STATEMENTS SUCH AS DOWHILE AND WHILE STATEMENTS.\n",
        "\n",
        "\"\"\"\n",
        "\n",
        "for vAR_x in range(10,21):\n",
        "  print(vAR_x)\n"
      ]
    }
  ]
}