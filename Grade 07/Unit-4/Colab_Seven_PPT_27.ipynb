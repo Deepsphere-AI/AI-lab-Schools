{
  "nbformat": 4,
  "nbformat_minor": 0,
  "metadata": {
    "colab": {
      "name": "Colab_Seven_PPT_27.ipynb",
      "provenance": [],
      "authorship_tag": "ABX9TyOqSBONKVwS5Mr1HW2osM8F",
      "include_colab_link": true
    },
    "kernelspec": {
      "name": "python3",
      "display_name": "Python 3"
    },
    "language_info": {
      "name": "python"
    }
  },
  "cells": [
    {
      "cell_type": "markdown",
      "metadata": {
        "id": "view-in-github",
        "colab_type": "text"
      },
      "source": [
        "<a href=\"https://colab.research.google.com/github/Deepsphere-AI/AI-lab-Schools/blob/main/Grade%2007/Unit-4/Colab_Seven_PPT_27.ipynb\" target=\"_parent\"><img src=\"https://colab.research.google.com/assets/colab-badge.svg\" alt=\"Open In Colab\"/></a>"
      ]
    },
    {
      "cell_type": "code",
      "execution_count": null,
      "metadata": {
        "id": "fNaMK4OcS6TY"
      },
      "outputs": [],
      "source": [
        "# \"\"\"\n",
        "# Ex 27.\n",
        "\n",
        "# Add to the preivous class and create a function change_type that changes the type of the animal based on what is passed in.\n",
        "\n",
        "# Hint: remember to use self as one of the parameters passed into the function\n",
        "\n",
        "# Program description: The objective of this program is to add to the previous class and also create a function \n",
        "# “change_type” which changes the type of the animal based on what is passed in.\n",
        "# Note : “def” is used to create a function whereas “class” is used to create a class.\n",
        "\n",
        "# \"\"\"\n",
        "\n",
        "class animal:\n",
        "   animal_type = \"\"\n",
        "\n",
        "   def change_type(self,vAR_str_in):\n",
        "     self.animal_type = vAR_str_in"
      ]
    }
  ]
}