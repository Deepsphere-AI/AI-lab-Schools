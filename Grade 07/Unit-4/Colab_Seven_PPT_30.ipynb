{
  "nbformat": 4,
  "nbformat_minor": 0,
  "metadata": {
    "colab": {
      "name": "Untitled9.ipynb",
      "provenance": [],
      "authorship_tag": "ABX9TyOAm6xD5W0EATcukQ74xQL+",
      "include_colab_link": true
    },
    "kernelspec": {
      "name": "python3",
      "display_name": "Python 3"
    },
    "language_info": {
      "name": "python"
    }
  },
  "cells": [
    {
      "cell_type": "markdown",
      "metadata": {
        "id": "view-in-github",
        "colab_type": "text"
      },
      "source": [
        "<a href=\"https://colab.research.google.com/github/Deepsphere-AI/AI-lab-Schools/blob/main/Grade%2007/Unit-4/Colab_Seven_PPT_30.ipynb\" target=\"_parent\"><img src=\"https://colab.research.google.com/assets/colab-badge.svg\" alt=\"Open In Colab\"/></a>"
      ]
    },
    {
      "cell_type": "code",
      "execution_count": null,
      "metadata": {
        "id": "YQ3KgMMRBKwh"
      },
      "outputs": [],
      "source": [
        "# \"\"\"\n",
        "# Ex 30.\n",
        "\n",
        "# Add to the previous class a constructor that will initialize animal_type and age.\n",
        "\n",
        "# Hint: use def __init__(self,...)\n",
        "\n",
        "\n",
        "# Program description: The objective of this is to add to the previous class a constructor that will initialize animal_type and age.\n",
        "# Note: A constructor is a special kind of method that Python calls when it instantiates an object using the definitions found in \n",
        "# our class. Python relies on the constructor to perform tasks such as initializing (assigning values to) any instance variables that\n",
        "# the object will need when it starts.\n",
        "\n",
        "# \"\"\"\n",
        "class vAR_animal:\n",
        "   vAR_animal_type = \"\"\n",
        "   vAR_age = 0\n",
        "\n",
        "   def __init__ (self, vAR_animal, vAR_animal_age):\n",
        "     self.vAR_animal_type = vAR_animal\n",
        "     self.vAR_age = int(vAR_animal_age)\n",
        "\n",
        "   def vAR_change_type(self,vAR_str_in):\n",
        "     self.vAR_animal_type = vAR_str_in\n",
        "\n",
        "   def vAR_change_age(self,vAR_int_in):\n",
        "      self.age = int(vAR_int_in)\n",
        "   \n",
        "   def vAR_get_type(self):\n",
        "     print(self.vAR_animal_type)\n",
        "    \n",
        "vAR_lion = vAR_animal(\"lion\", 10)\n",
        "vAR_lion.vAR_get_type()"
      ]
    }
  ]
}