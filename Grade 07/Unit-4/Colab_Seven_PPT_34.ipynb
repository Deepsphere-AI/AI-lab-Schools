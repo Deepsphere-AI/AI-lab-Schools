{
  "nbformat": 4,
  "nbformat_minor": 0,
  "metadata": {
    "colab": {
      "name": "Untitled14.ipynb",
      "provenance": [],
      "authorship_tag": "ABX9TyMnWwj2XJubAvjVh5RGmr4Q",
      "include_colab_link": true
    },
    "kernelspec": {
      "name": "python3",
      "display_name": "Python 3"
    },
    "language_info": {
      "name": "python"
    }
  },
  "cells": [
    {
      "cell_type": "markdown",
      "metadata": {
        "id": "view-in-github",
        "colab_type": "text"
      },
      "source": [
        "<a href=\"https://colab.research.google.com/github/Deepsphere-AI/AI-lab-Schools/blob/main/Grade%2007/Unit-4/Colab_Seven_PPT_34.ipynb\" target=\"_parent\"><img src=\"https://colab.research.google.com/assets/colab-badge.svg\" alt=\"Open In Colab\"/></a>"
      ]
    },
    {
      "cell_type": "code",
      "execution_count": null,
      "metadata": {
        "id": "TLGrZ4eVD9us"
      },
      "outputs": [],
      "source": [
        "# \"\"\"\n",
        "# Ex 34.\n",
        "\n",
        "# Add to the Calculator class a function that will add the subtract the 2 numbers, one that will divide, and one that will multiply\n",
        "\n",
        "# Program description: The objective of this program is to add 3 functions to the Calculator Class that will subtract, \n",
        "# multiply, and divide apart from the already existing add function (Ex  33). \n",
        "# Note: Doesn’t the Calculator Class now resemble a 4-function Calculator?\n",
        "\n",
        "# \"\"\"\n",
        "\n",
        "class Calculator:\n",
        "   vAR_num1 = 0\n",
        "   vAR_num2 = 0\n",
        "   vAR_operation = \"\"\n",
        "\n",
        "   def __init__ (self, vAR_num1, vAR_num2, vAR_operation):\n",
        "     self.vAR_num1 = int(vAR_num1)\n",
        "     self.vAR_num2 = int(vAR_num2)\n",
        "     self.vAR_operation = vAR_operation\n",
        "\n",
        "   def add(self):\n",
        "     return self.vAR_num1+self.vAR_num2\n",
        "\n",
        "   def subtract(self):\n",
        "     return self.vAR_num1-self.vAR_num2\n",
        "\n",
        "   def multiply(self):\n",
        "     return self.vAR_num1*self.vAR_num2\n",
        "\n",
        "   def divide(self):\n",
        "     return self.vAR_num1/self.vAR_num2"
      ]
    }
  ]
}