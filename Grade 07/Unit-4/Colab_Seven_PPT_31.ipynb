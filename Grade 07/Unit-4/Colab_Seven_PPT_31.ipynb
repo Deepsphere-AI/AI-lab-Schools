{
  "nbformat": 4,
  "nbformat_minor": 0,
  "metadata": {
    "colab": {
      "name": "Untitled10.ipynb",
      "provenance": [],
      "authorship_tag": "ABX9TyMGsgAAyxpY6b9cAJ3DgWKU",
      "include_colab_link": true
    },
    "kernelspec": {
      "name": "python3",
      "display_name": "Python 3"
    },
    "language_info": {
      "name": "python"
    }
  },
  "cells": [
    {
      "cell_type": "markdown",
      "metadata": {
        "id": "view-in-github",
        "colab_type": "text"
      },
      "source": [
        "<a href=\"https://colab.research.google.com/github/Deepsphere-AI/AI-lab-Schools/blob/main/Grade%2007/Unit-4/Colab_Seven_PPT_31.ipynb\" target=\"_parent\"><img src=\"https://colab.research.google.com/assets/colab-badge.svg\" alt=\"Open In Colab\"/></a>"
      ]
    },
    {
      "cell_type": "code",
      "execution_count": null,
      "metadata": {
        "id": "Dcgktj_WCh_2"
      },
      "outputs": [],
      "source": [
        "# \"\"\"\n",
        "# Ex 31.\n",
        "\n",
        "# Create a new class Calculator which has the variables num1 , num2 , and operation\n",
        "\n",
        "# Program description: The objective of this program is to create a new class named “Calculator” which has the variables “num1” and “num2” and the operation.\n",
        "# \"\"\"\n",
        "\n",
        "class Calculator:\n",
        "   vAR_num1 = 0\n",
        "   vAR_num2 = 0\n",
        "   vAR_operation = \"\""
      ]
    }
  ]
}