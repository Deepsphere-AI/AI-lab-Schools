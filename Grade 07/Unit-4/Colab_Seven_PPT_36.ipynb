{
  "nbformat": 4,
  "nbformat_minor": 0,
  "metadata": {
    "colab": {
      "name": "Untitled16.ipynb",
      "provenance": [],
      "authorship_tag": "ABX9TyMICLaAsatuyUiHROwxzKSi",
      "include_colab_link": true
    },
    "kernelspec": {
      "name": "python3",
      "display_name": "Python 3"
    },
    "language_info": {
      "name": "python"
    }
  },
  "cells": [
    {
      "cell_type": "markdown",
      "metadata": {
        "id": "view-in-github",
        "colab_type": "text"
      },
      "source": [
        "<a href=\"https://colab.research.google.com/github/Deepsphere-AI/AI-lab-Schools/blob/main/Grade%2007/Unit-4/Colab_Seven_PPT_36.ipynb\" target=\"_parent\"><img src=\"https://colab.research.google.com/assets/colab-badge.svg\" alt=\"Open In Colab\"/></a>"
      ]
    },
    {
      "cell_type": "code",
      "execution_count": null,
      "metadata": {
        "id": "bV9N8oapEmCA"
      },
      "outputs": [],
      "source": [
        "# \"\"\"\n",
        "# Ex 36.\n",
        "\n",
        "# Given the class animal (see below), create a new animal dog, and name it Fido with it's gender as Male and age as 6.\n",
        "\n",
        "# Program description: The objective of this program is to add a function to the Calculator Class which will call one of the other functions and return the output. \n",
        "# It uses a set of if and else statements to test the operation attribute against “*”,”/”, “+”, “-“ and decide which operation to use.\n",
        "# Additionally, a line to test out the Calculator Class functions is also provided.\n",
        "\n",
        " \n",
        "# \"\"\"\n",
        "\n",
        "class animal:\n",
        "   animal_name = \"\"\n",
        "   age = 0\n",
        "   gender = \"\"\n",
        "\n",
        "   def __init__ (self, animal_name, animal_age, animal_gender):\n",
        "     self.animal_name = animal_name\n",
        "     self.age = int(animal_age)\n",
        "     self.gender = animal_gender\n",
        "\n",
        "   def change_name(self,str_in):\n",
        "     self.animal_name = str_in\n",
        "\n",
        "   def change_age(self,int_in):\n",
        "      self.age = int(int_in)\n",
        "\n",
        "   def change_gender(self,str_in):\n",
        "      self.gender = str_in \n",
        "   \n",
        "   def get_age(self):\n",
        "     return self.age\n",
        "\n",
        "   def get_name(self):\n",
        "     return self.animal_name\n",
        "   \n",
        "   def get_gender(self):\n",
        "     return self.gender\n",
        "\n",
        "\n",
        "Fido = animal(\"Fido\", 6, \"Male\")"
      ]
    }
  ]
}