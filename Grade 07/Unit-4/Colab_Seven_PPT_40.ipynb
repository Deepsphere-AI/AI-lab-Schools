{
  "nbformat": 4,
  "nbformat_minor": 0,
  "metadata": {
    "colab": {
      "name": "Untitled23.ipynb",
      "provenance": [],
      "authorship_tag": "ABX9TyP3CXvCfKyb5HSZ3dGCKzWP",
      "include_colab_link": true
    },
    "kernelspec": {
      "name": "python3",
      "display_name": "Python 3"
    },
    "language_info": {
      "name": "python"
    }
  },
  "cells": [
    {
      "cell_type": "markdown",
      "metadata": {
        "id": "view-in-github",
        "colab_type": "text"
      },
      "source": [
        "<a href=\"https://colab.research.google.com/github/Deepsphere-AI/AI-lab-Schools/blob/main/Grade%2007/Unit-4/Colab_Seven_PPT_40.ipynb\" target=\"_parent\"><img src=\"https://colab.research.google.com/assets/colab-badge.svg\" alt=\"Open In Colab\"/></a>"
      ]
    },
    {
      "cell_type": "code",
      "execution_count": null,
      "metadata": {
        "id": "sjgWt9p0HEsc"
      },
      "outputs": [],
      "source": [
        "# \"\"\"\n",
        "# Ex 40.\n",
        "\n",
        "# Using the code for the last excersise, change Sally's age to 6 and compare it with the age of Gumpy. If it is equal print True, otherwise print False.\n",
        "\n",
        "# Program description: The objective of this function is to perform actions on the 2 objects Fido and Sally (created in 36 and 39). \n",
        "# We first change the age attribute of Sally from 15 to 6. \n",
        "# Then, we use a Boolean statement to check if the age attribute of the 2 objects are the same.\n",
        "# Note: If the Boolean was before the code to change age attribute of Sally, then the answer will be different.\n",
        "\n",
        "# \"\"\"\n",
        "\n",
        "class animal:\n",
        "   animal_name = \"\"\n",
        "   age = 0\n",
        "   gender = \"\"\n",
        "\n",
        "   def __init__ (self, animal_name, animal_age, animal_gender):\n",
        "     self.animal_name = animal_name\n",
        "     self.age = int(animal_age)\n",
        "     self.gender = animal_gender\n",
        "\n",
        "   def change_name(self,str_in):\n",
        "     self.animal_name = str_in\n",
        "\n",
        "   def change_age(self,int_in):\n",
        "      self.age = int(int_in)\n",
        "\n",
        "   def change_gender(self,str_in):\n",
        "      self.gender = str_in \n",
        "   \n",
        "   def get_age(self):\n",
        "     return self.age\n",
        "\n",
        "   def get_name(self):\n",
        "     return self.animal_name\n",
        "   \n",
        "   def get_gender(self):\n",
        "     return self.gender\n",
        "\n",
        "\n",
        "Fido = animal(\"Fido\", 6, \"Male\")\n",
        "print(Fido.get_name() , Fido.get_age())\n",
        "Fido.change_name(\"Gumpy\")\n",
        "\n",
        "Sally = animal(\"Sally\", 15, \"Female\")\n",
        "Sally.change_age(6)\n",
        "\n",
        "print(Fido.get_age() == Sally.get_age())"
      ]
    }
  ]
}