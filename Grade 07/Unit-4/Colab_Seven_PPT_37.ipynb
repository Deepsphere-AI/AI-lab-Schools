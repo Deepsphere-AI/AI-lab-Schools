{
  "nbformat": 4,
  "nbformat_minor": 0,
  "metadata": {
    "colab": {
      "name": "Untitled18.ipynb",
      "provenance": [],
      "authorship_tag": "ABX9TyPIjj4X4pr1fyKJrX0/WTr7",
      "include_colab_link": true
    },
    "kernelspec": {
      "name": "python3",
      "display_name": "Python 3"
    },
    "language_info": {
      "name": "python"
    }
  },
  "cells": [
    {
      "cell_type": "markdown",
      "metadata": {
        "id": "view-in-github",
        "colab_type": "text"
      },
      "source": [
        "<a href=\"https://colab.research.google.com/github/Deepsphere-AI/AI-lab-Schools/blob/main/Grade%2007/Unit-4/Colab_Seven_PPT_37.ipynb\" target=\"_parent\"><img src=\"https://colab.research.google.com/assets/colab-badge.svg\" alt=\"Open In Colab\"/></a>"
      ]
    },
    {
      "cell_type": "code",
      "execution_count": null,
      "metadata": {
        "id": "xe3kYcb8Fn3q"
      },
      "outputs": [],
      "source": [
        "# \"\"\"\n",
        "# Ex 37.\n",
        "\n",
        "# Using the code for the last excersise, print out the name and age of Fido.\n",
        "\n",
        "# Program description: The objective of this code is to print out the attributes name and age of the object “Fido” \n",
        "# (this was created in 36) using the functions already part of the given Animal Class.\n",
        "# Note: This is of the format objectName.functionName()\n",
        "\n",
        "# \"\"\"\n",
        "\n",
        "class animal:\n",
        "   animal_name = \"\"\n",
        "   age = 0\n",
        "   gender = \"\"\n",
        "\n",
        "   def __init__ (self, animal_name, animal_age, animal_gender):\n",
        "     self.animal_name = animal_name\n",
        "     self.age = int(animal_age)\n",
        "     self.gender = animal_gender\n",
        "\n",
        "   def change_name(self,str_in):\n",
        "     self.animal_name = str_in\n",
        "\n",
        "   def change_age(self,int_in):\n",
        "      self.age = int(int_in)\n",
        "\n",
        "   def change_gender(self,str_in):\n",
        "      self.gender = str_in \n",
        "   \n",
        "   def get_age(self):\n",
        "     return self.age\n",
        "\n",
        "   def get_name(self):\n",
        "     return self.animal_name\n",
        "   \n",
        "   def get_gender(self):\n",
        "     return self.gender\n",
        "\n",
        "\n",
        "Fido = animal(\"Fido\", 6, \"Male\")\n",
        "print(Fido.get_name() , Fido.get_age())"
      ]
    }
  ]
}