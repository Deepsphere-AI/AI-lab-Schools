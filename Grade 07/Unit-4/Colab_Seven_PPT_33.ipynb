{
  "nbformat": 4,
  "nbformat_minor": 0,
  "metadata": {
    "colab": {
      "name": "Untitled13.ipynb",
      "provenance": [],
      "authorship_tag": "ABX9TyPWNIwuvatvZXBCP8DWoNDd",
      "include_colab_link": true
    },
    "kernelspec": {
      "name": "python3",
      "display_name": "Python 3"
    },
    "language_info": {
      "name": "python"
    }
  },
  "cells": [
    {
      "cell_type": "markdown",
      "metadata": {
        "id": "view-in-github",
        "colab_type": "text"
      },
      "source": [
        "<a href=\"https://colab.research.google.com/github/Deepsphere-AI/AI-lab-Schools/blob/main/Grade%2007/Unit-4/Colab_Seven_PPT_33.ipynb\" target=\"_parent\"><img src=\"https://colab.research.google.com/assets/colab-badge.svg\" alt=\"Open In Colab\"/></a>"
      ]
    },
    {
      "cell_type": "code",
      "execution_count": null,
      "metadata": {
        "id": "z-J7s8P0DT9M"
      },
      "outputs": [],
      "source": [
        "# \"\"\"\n",
        "# Ex 33.\n",
        "\n",
        "# Add to the Calculator class a function that will add the 2 numbers.\n",
        "\n",
        "# Program description: The objective of this program is to add a function to the Calculator Class that will add 2 numbers.\n",
        "# Here the Class has 3 attributes that are edited in the first function and the final answer is returned in the second function.\n",
        "# \"\"\"\n",
        "\n",
        "class Calculator:\n",
        "   num1 = 0\n",
        "   num2 = 0\n",
        "   operation = \"\"\n",
        "\n",
        "   def __init__ (self, num1, num2, operation):\n",
        "     self.num1 = int(num1)\n",
        "     self.num2 = int(num2)\n",
        "     self.operation = operation\n",
        "\n",
        "   def add(self):\n",
        "     return self.num1+self.num2"
      ]
    }
  ]
}