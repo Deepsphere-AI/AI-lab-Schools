{
  "nbformat": 4,
  "nbformat_minor": 0,
  "metadata": {
    "colab": {
      "name": "Grade 07/Unit-4/Colab_Seven_PPT_29.ipynb",
      "provenance": [],
      "authorship_tag": "ABX9TyM4hwFSUOTvz+uMiSevbWSY",
      "include_colab_link": true
    },
    "kernelspec": {
      "name": "python3",
      "display_name": "Python 3"
    },
    "language_info": {
      "name": "python"
    }
  },
  "cells": [
    {
      "cell_type": "markdown",
      "metadata": {
        "id": "view-in-github",
        "colab_type": "text"
      },
      "source": [
        "<a href=\"https://colab.research.google.com/github/Deepsphere-AI/AI-lab-Schools/blob/main/Grade%2007/Unit-4/Colab_Seven_PPT_29.ipynb\" target=\"_parent\"><img src=\"https://colab.research.google.com/assets/colab-badge.svg\" alt=\"Open In Colab\"/></a>"
      ]
    },
    {
      "cell_type": "code",
      "execution_count": null,
      "metadata": {
        "id": "9w7HSlJB-wE6"
      },
      "outputs": [],
      "source": [
        "# \"\"\"\n",
        "# Ex 29.\n",
        "\n",
        "# Add to the previous class another function, get_type that will print the value of animal type\n",
        "\n",
        "# Program description: The objective of this program is to add another to the previous class another function,\n",
        "# get_type which will print the value of an animal type.\n",
        "\n",
        "# Remember: The normal way to add functionality to a class in Python is to define functions in the class body.\n",
        "\n",
        "# \"\"\"\n",
        "\n",
        "class animal:\n",
        "   animal_type = \"\"\n",
        "   vAR_age = 0\n",
        "\n",
        "   def vAR_change_type(self,vAR_str_in):\n",
        "     self.animal_type = vAR_str_in\n",
        "\n",
        "   def vAR_change_age(self,vAR_int_in):\n",
        "      self.age = int(vAR_int_in)\n",
        "   \n",
        "   def get_type(self):\n",
        "     print(self.animal_type)"
      ]
    }
  ]
}