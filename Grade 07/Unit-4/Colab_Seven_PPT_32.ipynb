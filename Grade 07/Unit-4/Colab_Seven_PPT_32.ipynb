{
  "nbformat": 4,
  "nbformat_minor": 0,
  "metadata": {
    "colab": {
      "name": "Untitled12.ipynb",
      "provenance": [],
      "authorship_tag": "ABX9TyOnhJ9tQ67T/Z0sQ4PRdyC+",
      "include_colab_link": true
    },
    "kernelspec": {
      "name": "python3",
      "display_name": "Python 3"
    },
    "language_info": {
      "name": "python"
    }
  },
  "cells": [
    {
      "cell_type": "markdown",
      "metadata": {
        "id": "view-in-github",
        "colab_type": "text"
      },
      "source": [
        "<a href=\"https://colab.research.google.com/github/Deepsphere-AI/AI-lab-Schools/blob/main/Grade%2007/Unit-4/Colab_Seven_PPT_32.ipynb\" target=\"_parent\"><img src=\"https://colab.research.google.com/assets/colab-badge.svg\" alt=\"Open In Colab\"/></a>"
      ]
    },
    {
      "cell_type": "code",
      "execution_count": null,
      "metadata": {
        "id": "rJlL8A5ADCwV"
      },
      "outputs": [],
      "source": [
        "# \"\"\"\n",
        "# Ex 32.\n",
        "\n",
        "# Add to the Calculator class a constructor that takes in self, 2 numbers, and a string for operation\n",
        "\n",
        "# Program description: The objective of this program is to add to the previously created class named “Calculator” a \n",
        "# constructor which takes in 2 numbers and a string for operation.\n",
        "# \"\"\"\n",
        "\n",
        "class Calculator:\n",
        "   vAR_num1 = 0\n",
        "   vAR_num2 = 0\n",
        "   vAR_operation = \"\"\n",
        "\n",
        "   def __init__ (self, vAR_num1, vAR_num2, vAR_operation):\n",
        "     self.vAR_num1 = int(vAR_num1)\n",
        "     self.vAR_num2 = int(vAR_num2)\n",
        "     self.vAR_operation = vAR_operation"
      ]
    }
  ]
}