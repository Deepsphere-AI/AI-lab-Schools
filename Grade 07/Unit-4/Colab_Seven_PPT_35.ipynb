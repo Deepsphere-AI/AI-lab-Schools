{
  "nbformat": 4,
  "nbformat_minor": 0,
  "metadata": {
    "colab": {
      "name": "Untitled15.ipynb",
      "provenance": [],
      "authorship_tag": "ABX9TyO9UUkumZO1H0RuRBw3w+1d",
      "include_colab_link": true
    },
    "kernelspec": {
      "name": "python3",
      "display_name": "Python 3"
    },
    "language_info": {
      "name": "python"
    }
  },
  "cells": [
    {
      "cell_type": "markdown",
      "metadata": {
        "id": "view-in-github",
        "colab_type": "text"
      },
      "source": [
        "<a href=\"https://colab.research.google.com/github/Deepsphere-AI/AI-lab-Schools/blob/main/Grade%2007/Unit-4/Colab_Seven_PPT_35.ipynb\" target=\"_parent\"><img src=\"https://colab.research.google.com/assets/colab-badge.svg\" alt=\"Open In Colab\"/></a>"
      ]
    },
    {
      "cell_type": "code",
      "execution_count": null,
      "metadata": {
        "id": "dkvLnD3CERcB"
      },
      "outputs": [],
      "source": [
        "# \"\"\"\n",
        "# Ex 35.\n",
        "\n",
        "# Add to the Calculator class a calculate function that depending on the operation, will call one of the other functions and return the output.\n",
        "# Ex. if operation is \"*\", then it will return self.multiply()\n",
        "\n",
        "# Program description: The objective of this program is to add a function to the Calculator Class which will call one of the other functions and return the output.\n",
        "# It uses a set of if and else statements to test the operation attribute against “*”,”/”, “+”, “-“ and decide which operation to use.\n",
        "# Additionally, a line to test out the Calculator Class functions is also provided.\n",
        "# \"\"\"\n",
        "\n",
        "class Calculator:\n",
        "   vAR_num1 = 0\n",
        "   vAR_num2 = 0\n",
        "   vAR_operation = \"\"\n",
        "\n",
        "   def __init__ (self, vAR_num1, vAR_num2, vAR_operation):\n",
        "     self.vAR_num1 = int(vAR_num1)\n",
        "     self.vAR_num2 = int(vAR_num2)\n",
        "     self.vAR_operation = vAR_operation\n",
        "\n",
        "   def add(self):\n",
        "     return self.vAR_num1+self.vAR_num2\n",
        "\n",
        "   def subtract(self):\n",
        "     return self.vAR_num1-self.vAR_num2\n",
        "\n",
        "   def multiply(self):\n",
        "     return self.vAR_num1*self.vAR_num2\n",
        "\n",
        "   def divide(self):\n",
        "     return self.vAR_num1/self.vAR_num2\n",
        "   \n",
        "   def calculate(self):\n",
        "     if(self.vAR_operation == \"*\"):\n",
        "       return self.multiply()\n",
        "\n",
        "     elif(self.vAR_operation == \"/\"):\n",
        "       return self.divide()\n",
        "     \n",
        "     elif(self.vAR_operation == \"-\"):\n",
        "       return self.subtract()\n",
        "\n",
        "     else:\n",
        "      return self.add()\n",
        "\n",
        "calc = Calculator(2,3,\"-\")\n",
        "print(calc.calculate())"
      ]
    }
  ]
}