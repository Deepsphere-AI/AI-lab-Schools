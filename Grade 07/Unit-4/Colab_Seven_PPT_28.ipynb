{
  "nbformat": 4,
  "nbformat_minor": 0,
  "metadata": {
    "colab": {
      "name": "Untitled8.ipynb",
      "provenance": [],
      "authorship_tag": "ABX9TyPKplcVvoPji+b1iPwLBRFF",
      "include_colab_link": true
    },
    "kernelspec": {
      "name": "python3",
      "display_name": "Python 3"
    },
    "language_info": {
      "name": "python"
    }
  },
  "cells": [
    {
      "cell_type": "markdown",
      "metadata": {
        "id": "view-in-github",
        "colab_type": "text"
      },
      "source": [
        "<a href=\"https://colab.research.google.com/github/Deepsphere-AI/AI-lab-Schools/blob/main/Grade%2007/Unit-4/Colab_Seven_PPT_28.ipynb\" target=\"_parent\"><img src=\"https://colab.research.google.com/assets/colab-badge.svg\" alt=\"Open In Colab\"/></a>"
      ]
    },
    {
      "cell_type": "code",
      "execution_count": null,
      "metadata": {
        "id": "gQlk3p_69nRS"
      },
      "outputs": [],
      "source": [
        "# \"\"\"\n",
        "# Ex 28.\n",
        "\n",
        "# Add to the preivous class another variable age and a corresponding function, change_age to change the age.\n",
        "\n",
        "# Program description: The objective of this program is to add to the previous class another variable “age” and a corresponding function and change_age to change the age.\n",
        "# Answer time:\n",
        "#  Now after reading the last 3 exercises some of you might have a doubt that for what is this class used for?\n",
        "# Answer: - Class creates a user-defined data structure, which holds its own data members and members functions, \n",
        "# which can be accessed and used by creating an instance of that class. A class is an outline, copy or blueprint of that object.\n",
        "\n",
        "# \"\"\"\n",
        "\n",
        "class animal:\n",
        "  animal_type = \"\"\n",
        "  vAR_age = 0\n",
        "\n",
        "  def change_type(self,vAR_str_in):\n",
        "    self.animal_type = vAR_str_in\n",
        "\n",
        "  def change_age(self,vAR_int_in):\n",
        "    self.vAR_age = int(vAR_int_in)"
      ]
    }
  ]
}