{
  "nbformat": 4,
  "nbformat_minor": 0,
  "metadata": {
    "colab": {
      "name": "Colab_Seven_PPT_26.ipynb",
      "provenance": [],
      "authorship_tag": "ABX9TyO6onNyWczDSYVW9wnJV9TK",
      "include_colab_link": true
    },
    "kernelspec": {
      "name": "python3",
      "display_name": "Python 3"
    },
    "language_info": {
      "name": "python"
    }
  },
  "cells": [
    {
      "cell_type": "markdown",
      "metadata": {
        "id": "view-in-github",
        "colab_type": "text"
      },
      "source": [
        "<a href=\"https://colab.research.google.com/github/Deepsphere-AI/AI-lab-Schools/blob/main/Grade%2007/Unit-4/Colab_Seven_PPT_26.ipynb\" target=\"_parent\"><img src=\"https://colab.research.google.com/assets/colab-badge.svg\" alt=\"Open In Colab\"/></a>"
      ]
    },
    {
      "cell_type": "code",
      "execution_count": null,
      "metadata": {
        "id": "QfOS6XTSSSOU"
      },
      "outputs": [],
      "source": [
        "# \"\"\"\n",
        "# Ex 26.\n",
        "\n",
        "# Create a class titled animal that has a variable animal_type.\n",
        "\n",
        "# Program description: The objective of this program is to create a class titled animal which has a variable animal_type. \n",
        "# This program highlights the usage of class in python. A class is a code template for creating objects. \n",
        "# Note: In python a class is created by using a keyword name “class”\n",
        "\n",
        "# \"\"\"\n",
        "\n",
        "class animal:\n",
        "   animal_type = \"\""
      ]
    }
  ]
}