{
  "nbformat": 4,
  "nbformat_minor": 0,
  "metadata": {
    "colab": {
      "name": "Untitled135.ipynb",
      "provenance": [],
      "authorship_tag": "ABX9TyODtXyzvKZTy5C8p2zwKek6",
      "include_colab_link": true
    },
    "kernelspec": {
      "name": "python3",
      "display_name": "Python 3"
    },
    "language_info": {
      "name": "python"
    }
  },
  "cells": [
    {
      "cell_type": "markdown",
      "metadata": {
        "id": "view-in-github",
        "colab_type": "text"
      },
      "source": [
        "<a href=\"https://colab.research.google.com/github/Deepsphere-AI/AI-lab-Schools/blob/main/Nine%2009/Unit-1/Colab_Nine_PPT_10.ipynb\" target=\"_parent\"><img src=\"https://colab.research.google.com/assets/colab-badge.svg\" alt=\"Open In Colab\"/></a>"
      ]
    },
    {
      "cell_type": "code",
      "execution_count": null,
      "metadata": {
        "id": "7BqNF3h868IR"
      },
      "outputs": [],
      "source": [
        "# \"\"\"\n",
        "# Ex 10.\n",
        "\n",
        "# Program description: In the previous exercise we have created a function to calculate how many days are left until the next month. In this exercise we have created a function named “next_year” which calculates how many days are left until the next year.\n",
        "\n",
        "# \"\"\"\n",
        "\n",
        "days = [\"Friday\", \"Saturday\", \"Sunday\", \"Monday\", \"Tuesday\", \"Wensday\", \"Thursday\"]\n",
        "year = 2021\n",
        "month = 1\n",
        "day = 23\n",
        "\n",
        "def next():\n",
        "  if(day<31):\n",
        "    day+=1\n",
        "  else:\n",
        "    day = 0\n",
        "    month+=1\n",
        "  if(month == 12):\n",
        "    month = 1\n",
        "    year+=1\n",
        "  \n",
        "def find_day(day, month, year):\n",
        "  total = (day-1) + (month-1)*30 + (360 * (year-2021))\n",
        "  return days[total%7]\n",
        "\n",
        "def print_date():\n",
        "  return find_day(day,month,year) + \", \" + str(month) + \"/\" + str(day) + \"/\" + str(year)\n",
        "\n",
        "def days_until(day1, month1, year1):\n",
        "  return ((day1-1) + (month1-1)*30 + (360 * (year1-2021))) - ((day-1) + (month-1)*30 + (360 * (year-2021)))\n",
        "\n",
        "def next_month():\n",
        "  return 30-day\n",
        "\n",
        "def next_year():\n",
        "  return 360 - month*30 - day"
      ]
    }
  ]
}