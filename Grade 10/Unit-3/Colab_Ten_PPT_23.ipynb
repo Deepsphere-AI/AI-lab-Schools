{
  "nbformat": 4,
  "nbformat_minor": 0,
  "metadata": {
    "colab": {
      "name": "Untitled218.ipynb",
      "provenance": [],
      "authorship_tag": "ABX9TyNTdwiPmlp+WrFXEDEEM+3/",
      "include_colab_link": true
    },
    "kernelspec": {
      "name": "python3",
      "display_name": "Python 3"
    },
    "language_info": {
      "name": "python"
    }
  },
  "cells": [
    {
      "cell_type": "markdown",
      "metadata": {
        "id": "view-in-github",
        "colab_type": "text"
      },
      "source": [
        "<a href=\"https://colab.research.google.com/github/Deepsphere-AI/AI-lab-Schools/blob/main/Grade%2010/Unit-3/Colab_Ten_PPT_23.ipynb\" target=\"_parent\"><img src=\"https://colab.research.google.com/assets/colab-badge.svg\" alt=\"Open In Colab\"/></a>"
      ]
    },
    {
      "cell_type": "code",
      "execution_count": null,
      "metadata": {
        "id": "U3KiC4CXC1bY"
      },
      "outputs": [],
      "source": [
        "# \"\"\"\n",
        "# Ex 23.\n",
        "\n",
        "# Create a function to_letters which splits a string into uniqe letters, meaning that \"Hello\" gets split into H, e, l, and o. Set the letters list to contain each of these letters.\n",
        "# \"\"\"\n",
        "\n",
        "class Word:\n",
        "  word = \"\"\n",
        "  letter_count = []\n",
        "  letters = []\n",
        "\n",
        "  def __init__(self, s1):\n",
        "    self.word = s1\n",
        "  \n",
        "  def to_letters(self):\n",
        "    self.letters.append(self.word[0])\n",
        "    for x in range(len(self.word)):\n",
        "      temp = True\n",
        "      for i in range(len(self.letters)):\n",
        "        if(self.word[x] == self.letters[i]):\n",
        "          temp = False\n",
        "          break\n",
        "      if temp:\n",
        "        self.letters.append(self.word[x])\n",
        "    return self.letters\n",
        "\n",
        "w1 = Word(\"Mississippi\")\n",
        "print(w1.to_letters())\n"
      ]
    }
  ]
}