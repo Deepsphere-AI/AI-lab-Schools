{
  "nbformat": 4,
  "nbformat_minor": 0,
  "metadata": {
    "colab": {
      "name": "Untitled222.ipynb",
      "provenance": [],
      "authorship_tag": "ABX9TyMRIC8Nr21sTm1BWjW8WT6v",
      "include_colab_link": true
    },
    "kernelspec": {
      "name": "python3",
      "display_name": "Python 3"
    },
    "language_info": {
      "name": "python"
    }
  },
  "cells": [
    {
      "cell_type": "markdown",
      "metadata": {
        "id": "view-in-github",
        "colab_type": "text"
      },
      "source": [
        "<a href=\"https://colab.research.google.com/github/Deepsphere-AI/AI-lab-Schools/blob/main/Grade%2010/Unit-3/Colab_Ten_PPT_27.ipynb\" target=\"_parent\"><img src=\"https://colab.research.google.com/assets/colab-badge.svg\" alt=\"Open In Colab\"/></a>"
      ]
    },
    {
      "cell_type": "code",
      "execution_count": null,
      "metadata": {
        "id": "gbcB7aeODzqg"
      },
      "outputs": [],
      "source": [
        "# \"\"\"\n",
        "# Ex 27.\n",
        "\n",
        "# Create a constructor for Takes in the variable x. Then create a class-wide variable called words which is equal to x.\n",
        "# \"\"\"\n",
        "\n",
        "class Text:\n",
        "  word_list = []\n",
        "  words = 0\n",
        "\n",
        "  def __init__(self,x):\n",
        "    self.words = x\n",
        "\n",
        "class Word:\n",
        "  word = \"\"\n",
        "  letter_count = []\n",
        "  letters = []\n",
        "\n",
        "  def __init__(self, s1):\n",
        "    self.word = s1\n",
        "    self.to_letters()\n",
        "    self.count_letters()\n",
        "  \n",
        "  def to_letters(self):\n",
        "    self.letters.append(self.word[0])\n",
        "    for x in range(len(self.word)):\n",
        "      temp = True\n",
        "      for i in range(len(self.letters)):\n",
        "        if(self.word[x] == self.letters[i]):\n",
        "          temp = False\n",
        "          break\n",
        "      if temp:\n",
        "        self.letters.append(self.word[x])\n",
        "    return self.letters\n",
        "  \n",
        "  def count_letters(self):\n",
        "    for x in self.letters:\n",
        "      temp = 0\n",
        "      for i in range(len(self.word)):\n",
        "        if x == self.word[i]:\n",
        "          temp+=1\n",
        "      self.letter_count.append(temp)\n",
        "    return self.letter_count\n",
        "\n",
        "\n",
        "w1 = Word(\"Mississippi\")\n",
        "print(w1.to_letters())\n",
        "print(w1.count_letters())"
      ]
    }
  ]
}