{
  "nbformat": 4,
  "nbformat_minor": 0,
  "metadata": {
    "colab": {
      "name": "Untitled216.ipynb",
      "provenance": [],
      "authorship_tag": "ABX9TyM9N47E+kVffEmpWPDvRUHd",
      "include_colab_link": true
    },
    "kernelspec": {
      "name": "python3",
      "display_name": "Python 3"
    },
    "language_info": {
      "name": "python"
    }
  },
  "cells": [
    {
      "cell_type": "markdown",
      "metadata": {
        "id": "view-in-github",
        "colab_type": "text"
      },
      "source": [
        "<a href=\"https://colab.research.google.com/github/Deepsphere-AI/AI-lab-Schools/blob/main/Grade%2010/Unit-3/Colab_Ten_PPT_21.ipynb\" target=\"_parent\"><img src=\"https://colab.research.google.com/assets/colab-badge.svg\" alt=\"Open In Colab\"/></a>"
      ]
    },
    {
      "cell_type": "code",
      "execution_count": null,
      "metadata": {
        "id": "W_cSbluHCS-X"
      },
      "outputs": [],
      "source": [
        "# \"\"\"\n",
        "# Ex 21.\n",
        "\n",
        "# Create a class called Word which has a string called, word,a list called letter count, and a list called letters.\n",
        "# \"\"\"\n",
        "\n",
        "class Word:\n",
        "  word = \"\"\n",
        "  letter_count = []\n",
        "  letters = []"
      ]
    }
  ]
}