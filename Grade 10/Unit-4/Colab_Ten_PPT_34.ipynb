{
  "nbformat": 4,
  "nbformat_minor": 0,
  "metadata": {
    "colab": {
      "name": "Untitled231.ipynb",
      "provenance": [],
      "authorship_tag": "ABX9TyN9bMBSjDO4IQOA/vkozudI",
      "include_colab_link": true
    },
    "kernelspec": {
      "name": "python3",
      "display_name": "Python 3"
    },
    "language_info": {
      "name": "python"
    }
  },
  "cells": [
    {
      "cell_type": "markdown",
      "metadata": {
        "id": "view-in-github",
        "colab_type": "text"
      },
      "source": [
        "<a href=\"https://colab.research.google.com/github/Deepsphere-AI/AI-lab-Schools/blob/main/Grade%2010/Unit-4/Colab_Ten_PPT_34.ipynb\" target=\"_parent\"><img src=\"https://colab.research.google.com/assets/colab-badge.svg\" alt=\"Open In Colab\"/></a>"
      ]
    },
    {
      "cell_type": "code",
      "execution_count": null,
      "metadata": {
        "id": "yxS9vQF0G2Gb"
      },
      "outputs": [],
      "source": [
        "# \"\"\"\n",
        "# Ex 34.\n",
        "\n",
        "# Using np.precentiles, find and print 75th and 99th percentile of the speeds.\n",
        "# \"\"\"\n",
        "\n",
        "import numpy as np\n",
        "import random\n",
        "\n",
        "speed = np.array([])\n",
        "\n",
        "for x in range(13):\n",
        "  speed = np.append(speed,random.randint(60,120))\n",
        "\n",
        "mean = np.mean(speed)\n",
        "std = np.std(speed)\n",
        "pct_75 = np.percentile(speed,75)\n",
        "pct_99 = np.percentile(speed,99)\n",
        "\n",
        "print(speed)\n",
        "print(mean)\n",
        "print(std)\n",
        "print(pct_75)\n",
        "print(pct_99)"
      ]
    }
  ]
}