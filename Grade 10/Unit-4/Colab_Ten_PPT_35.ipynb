{
  "nbformat": 4,
  "nbformat_minor": 0,
  "metadata": {
    "colab": {
      "name": "Untitled230.ipynb",
      "provenance": [],
      "authorship_tag": "ABX9TyPPVnRRTlwdxGyHv04gDI2g",
      "include_colab_link": true
    },
    "kernelspec": {
      "name": "python3",
      "display_name": "Python 3"
    },
    "language_info": {
      "name": "python"
    }
  },
  "cells": [
    {
      "cell_type": "markdown",
      "metadata": {
        "id": "view-in-github",
        "colab_type": "text"
      },
      "source": [
        "<a href=\"https://colab.research.google.com/github/Deepsphere-AI/AI-lab-Schools/blob/main/Grade%2010/Unit-4/Colab_Ten_PPT_35.ipynb\" target=\"_parent\"><img src=\"https://colab.research.google.com/assets/colab-badge.svg\" alt=\"Open In Colab\"/></a>"
      ]
    },
    {
      "cell_type": "code",
      "execution_count": null,
      "metadata": {
        "id": "j0mCPhAmGi8k"
      },
      "outputs": [],
      "source": [
        "# \"\"\"\n",
        "# Ex 35.\n",
        "\n",
        "# Create an array with a triangular distribution with a length of 250,a mode of 50, and containing values between 1 and 100. Then using matoplotlib, display a histogram with 10 bins.\n",
        "# \"\"\"\n",
        "\n",
        "import numpy as np\n",
        "import random\n",
        "import matplotlib.pyplot as plt\n",
        "\n",
        "y = numpy.random.triangular (1,50, 100, 250000)\n",
        "\n",
        "speed = np.array([])\n",
        "\n",
        "for x in range(13):\n",
        "  speed = np.append(speed,random.randint(60,120))\n",
        "\n",
        "mean = np.mean(speed)\n",
        "std = np.std(speed)\n",
        "pct_75 = np.percentile(speed,75)\n",
        "pct_99 = np.percentile(speed,99)\n",
        "\n",
        "print(speed)\n",
        "print(mean)\n",
        "print(std)\n",
        "print(pct_75)\n",
        "print(pct_99)\n",
        "\n",
        "plt.hist(y, 10)\n",
        "plt.show()"
      ]
    }
  ]
}