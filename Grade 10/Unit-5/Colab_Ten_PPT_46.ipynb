{
  "nbformat": 4,
  "nbformat_minor": 0,
  "metadata": {
    "colab": {
      "name": "Untitled242.ipynb",
      "provenance": [],
      "authorship_tag": "ABX9TyNs1sHxcDuGPpHYufG9WGvE",
      "include_colab_link": true
    },
    "kernelspec": {
      "name": "python3",
      "display_name": "Python 3"
    },
    "language_info": {
      "name": "python"
    }
  },
  "cells": [
    {
      "cell_type": "markdown",
      "metadata": {
        "id": "view-in-github",
        "colab_type": "text"
      },
      "source": [
        "<a href=\"https://colab.research.google.com/github/Deepsphere-AI/AI-lab-Schools/blob/main/Grade%2010/Unit-5/Colab_Ten_PPT_46.ipynb\" target=\"_parent\"><img src=\"https://colab.research.google.com/assets/colab-badge.svg\" alt=\"Open In Colab\"/></a>"
      ]
    },
    {
      "cell_type": "code",
      "execution_count": null,
      "metadata": {
        "id": "Bpe20BF3LFeL"
      },
      "outputs": [],
      "source": [
        "# \"\"\"\n",
        "# Ex 46.\n",
        "\n",
        "# Now plot the points as well as the line of best fit\n",
        "# \"\"\"\n",
        "\n",
        "import random\n",
        "from scipy import stats\n",
        "import numpy as np\n",
        "import matplotlib.pyplot as plt\n",
        "\n",
        "class Line_Plotter:\n",
        "  x_list = []\n",
        "  y_list = []\n",
        "\n",
        "  def __init__(self):\n",
        "    return\n",
        "  \n",
        "  def points(self, point_list):\n",
        "    for x in point_list:\n",
        "      temp = x.split(\",\")\n",
        "      self.x_list.append(temp[0])\n",
        "      self.y_list.append(temp[1])\n",
        "  \n",
        "  def randomize(self, x):\n",
        "    for i in range(x):\n",
        "      self.x_list.append(random.randint(1,100))\n",
        "      self.y_list.append(random.randint(1,100))\n",
        "\n",
        "  def myfunc(x):\n",
        "    slope, intercept, r, p, std_err = stats.linregress(x_list, y_list)\n",
        "    return slope * x + intercept\n",
        "  \n",
        "  mymodel = list(map(myfunc, x_list))\n",
        "\n",
        "  plt.scatter(x_list, y_list)\n",
        "  plt.plot(x_list, mymodel)\n",
        "\n",
        "  plt.show()  \n",
        "\n",
        "\n",
        "l1 = Line_Plotter()\n",
        "l1.points([ \"2,3\" , \"2,4\" , \"2,5\" , \"2,6\"])\n",
        "l1.randomize(10)"
      ]
    }
  ]
}