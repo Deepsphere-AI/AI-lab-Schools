{
  "nbformat": 4,
  "nbformat_minor": 0,
  "metadata": {
    "colab": {
      "name": "Untitled239.ipynb",
      "provenance": [],
      "authorship_tag": "ABX9TyMrG2kuE+qp1eCOBWBtNl6G",
      "include_colab_link": true
    },
    "kernelspec": {
      "name": "python3",
      "display_name": "Python 3"
    },
    "language_info": {
      "name": "python"
    }
  },
  "cells": [
    {
      "cell_type": "markdown",
      "metadata": {
        "id": "view-in-github",
        "colab_type": "text"
      },
      "source": [
        "<a href=\"https://colab.research.google.com/github/Deepsphere-AI/AI-lab-Schools/blob/main/Grade%2010/Unit-5/Colab_Ten_PPT_43.ipynb\" target=\"_parent\"><img src=\"https://colab.research.google.com/assets/colab-badge.svg\" alt=\"Open In Colab\"/></a>"
      ]
    },
    {
      "cell_type": "code",
      "execution_count": null,
      "metadata": {
        "id": "EXeIKLkZKOtS"
      },
      "outputs": [],
      "source": [
        "# \"\"\"\n",
        "# Ex 43.\n",
        "\n",
        "# Create the function points that given a list of points 92,3) seperated by commas, it will add each point to the corresponding x and y lists. An example list would be [ 2,3 , 2,4 , 2,5 , 2,6]\n",
        "# \"\"\"\n",
        "\n",
        "class Line_Plotter:\n",
        "  x_list = []\n",
        "  y_list = []\n",
        "\n",
        "  def __init__(self):\n",
        "    return\n",
        "  \n",
        "  def points(self, point_list):\n",
        "    for x in point_list:\n",
        "      temp = x.split(\",\")\n",
        "      self.x_list.append(temp[0])\n",
        "      self.y_list.append(temp[1])\n",
        "\n",
        "l1 = Line_Plotter()\n",
        "l1.points([ \"2,3\" , \"2,4\" , \"2,5\" , \"2,6\"])"
      ]
    }
  ]
}