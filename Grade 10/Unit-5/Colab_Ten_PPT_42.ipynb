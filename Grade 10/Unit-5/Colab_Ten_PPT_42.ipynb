{
  "nbformat": 4,
  "nbformat_minor": 0,
  "metadata": {
    "colab": {
      "name": "Untitled238.ipynb",
      "provenance": [],
      "authorship_tag": "ABX9TyMx85WFeTuCVIatc6LWAnRR",
      "include_colab_link": true
    },
    "kernelspec": {
      "name": "python3",
      "display_name": "Python 3"
    },
    "language_info": {
      "name": "python"
    }
  },
  "cells": [
    {
      "cell_type": "markdown",
      "metadata": {
        "id": "view-in-github",
        "colab_type": "text"
      },
      "source": [
        "<a href=\"https://colab.research.google.com/github/Deepsphere-AI/AI-lab-Schools/blob/main/Grade%2010/Unit-5/Colab_Ten_PPT_42.ipynb\" target=\"_parent\"><img src=\"https://colab.research.google.com/assets/colab-badge.svg\" alt=\"Open In Colab\"/></a>"
      ]
    },
    {
      "cell_type": "code",
      "execution_count": null,
      "metadata": {
        "id": "_36gIOARJ-9r"
      },
      "outputs": [],
      "source": [
        "# \"\"\"\n",
        "# Ex 42.\n",
        "\n",
        "# Create a constructor for the class.\n",
        "# \"\"\"\n",
        "\n",
        "class Line_Plotter:\n",
        "  x_list = []\n",
        "  y_list = []\n",
        "\n",
        "  def __init__(self):\n",
        "    return"
      ]
    }
  ]
}