{
  "nbformat": 4,
  "nbformat_minor": 0,
  "metadata": {
    "colab": {
      "name": "Untitled197.ipynb",
      "provenance": [],
      "include_colab_link": true
    },
    "kernelspec": {
      "name": "python3",
      "display_name": "Python 3"
    },
    "language_info": {
      "name": "python"
    }
  },
  "cells": [
    {
      "cell_type": "markdown",
      "metadata": {
        "id": "view-in-github",
        "colab_type": "text"
      },
      "source": [
        "<a href=\"https://colab.research.google.com/github/Deepsphere-AI/AI-lab-Schools/blob/main/Grade%2010/Unit-1/Colab_Ten_PPT_3.ipynb\" target=\"_parent\"><img src=\"https://colab.research.google.com/assets/colab-badge.svg\" alt=\"Open In Colab\"/></a>"
      ]
    },
    {
      "cell_type": "code",
      "execution_count": 2,
      "metadata": {
        "id": "OAvjlw06iuKO",
        "outputId": "5533208a-dc04-4c5f-b0ea-08e761e8e741",
        "colab": {
          "base_uri": "https://localhost:8080/"
        }
      },
      "outputs": [
        {
          "output_type": "stream",
          "name": "stdout",
          "text": [
            "ifmmp\n"
          ]
        }
      ],
      "source": [
        "# \"\"\"\n",
        "# Ex 3.\n",
        "\n",
        "# Create a function encrypt, which will shift each letter in the in_string, \n",
        "#the key amount to the right. For example, if the key is 1 and \n",
        "#the string is \"apple\", then it becomes \"bqqmf\" (Each letter is shifted one right)\n",
        "# \"\"\"\n",
        "\n",
        "class Encryptor:\n",
        "  in_string = \"\"\n",
        "  out_string = \"\"\n",
        "  letters = ['a', 'b', 'c', 'd', 'e', 'f', 'g', 'h', 'i', 'j', 'k', 'l', 'm', 'n', 'o', 'p', 'q', 'r', 's', 't', 'u', 'v', 'w', 'x', 'y', 'z']\n",
        "  key = 0\n",
        "\n",
        "  def __init__(self, in_str, in_key):\n",
        "    self.key = in_key\n",
        "    self.in_string = in_str\n",
        "\n",
        "  def encrypt(self):\n",
        "    self.in_string = self.in_string.lower()\n",
        "    for x in range(len(self.in_string)):\n",
        "      for i in range(len(self.letters)):\n",
        "        if(self.letters[i] ==  self.in_string[x]):\n",
        "          temp = i + self.key\n",
        "          temp = temp%26\n",
        "          self.out_string = self.out_string + self.letters[temp]\n",
        "    return self.out_string\n",
        "  \n",
        "e1 = Encryptor(\"Hello\", 1)\n",
        "print(e1.encrypt())\n"
      ]
    },
    {
      "cell_type": "code",
      "source": [],
      "metadata": {
        "id": "J8VeOBwoLg0P"
      },
      "execution_count": null,
      "outputs": []
    }
  ]
}