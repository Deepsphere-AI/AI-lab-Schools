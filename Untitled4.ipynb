{
  "cells": [
    {
      "cell_type": "markdown",
      "metadata": {
        "colab_type": "text",
        "id": "view-in-github"
      },
      "source": [
        "<a href=\"https://colab.research.google.com/github/Deepsphere-AI/AI-lab-Schools/blob/main/Untitled4.ipynb\" target=\"_parent\"><img src=\"https://colab.research.google.com/assets/colab-badge.svg\" alt=\"Open In Colab\"/></a>"
      ]
    },
    {
      "cell_type": "code",
      "execution_count": 1,
      "metadata": {
        "id": "Mpsnwk8A4YaV"
      },
      "outputs": [],
      "source": [
        "#\n",
        "#Ex 1.\n",
        "#Create 2 variables, time1 and time2\n",
        "#Program description: The objective of this program is to assign a value to a variable, which is basically a memory location for storage of values of a datatype such as \n",
        "#(float, integer, string, character etc). \n",
        "#This program illustrates the declaration of variable” time 1” and “time 2 “that is creation of memory location and storage of numeric value 10 and 15 respectively.\n",
        "#NOTE: WE CAN ASSIGN VALUE OF ANY DATA TYPE TO VARIABLE THAT IS FLOAT INTEGER STRING CHARACTER ETC.\n",
        "#\n",
        "vAR_time1 = 10\n",
        "vAR_time2 = 15"
      ]
    }
  ],
  "metadata": {
    "colab": {
      "authorship_tag": "ABX9TyO7fQHJvrs8aiw2cb09t47k",
      "include_colab_link": true,
      "name": "Untitled4.ipynb",
      "provenance": []
    },
    "kernelspec": {
      "display_name": "Python 3.9.13 64-bit (windows store)",
      "language": "python",
      "name": "python3"
    },
    "language_info": {
      "name": "python",
      "version": "3.9.13"
    },
    "vscode": {
      "interpreter": {
        "hash": "f7161cb5baffb24dee6a1726ecc12fdf408657b8c9335ee291ca814aa42784e7"
      }
    }
  },
  "nbformat": 4,
  "nbformat_minor": 0
}
