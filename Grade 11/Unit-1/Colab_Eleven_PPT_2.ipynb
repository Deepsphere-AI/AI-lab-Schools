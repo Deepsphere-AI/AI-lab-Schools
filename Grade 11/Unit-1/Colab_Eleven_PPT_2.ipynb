{
  "nbformat": 4,
  "nbformat_minor": 0,
  "metadata": {
    "colab": {
      "name": "Untitled255.ipynb",
      "provenance": [],
      "authorship_tag": "ABX9TyPsZBF2R6eWolK8rkLwPEWA",
      "include_colab_link": true
    },
    "kernelspec": {
      "name": "python3",
      "display_name": "Python 3"
    },
    "language_info": {
      "name": "python"
    }
  },
  "cells": [
    {
      "cell_type": "markdown",
      "metadata": {
        "id": "view-in-github",
        "colab_type": "text"
      },
      "source": [
        "<a href=\"https://colab.research.google.com/github/Deepsphere-AI/AI-lab-Schools/blob/main/Grade%2011/Unit-1/Colab_Eleven_PPT_2.ipynb\" target=\"_parent\"><img src=\"https://colab.research.google.com/assets/colab-badge.svg\" alt=\"Open In Colab\"/></a>"
      ]
    },
    {
      "cell_type": "code",
      "execution_count": null,
      "metadata": {
        "id": "YU4f5z7a8QHK"
      },
      "outputs": [],
      "source": [
        "# \"\"\"\"\n",
        "\n",
        "# Ex. 2\n",
        "\n",
        "# Create a function to print out the counting numbers from 0 - x\n",
        "\n",
        "# \"\"\"\n",
        "\n",
        "def under(x):\n",
        "  for i in range(x):\n",
        "    print(i)\n",
        "\n",
        "under(9)"
      ]
    }
  ]
}