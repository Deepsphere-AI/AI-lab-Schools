{
  "nbformat": 4,
  "nbformat_minor": 0,
  "metadata": {
    "colab": {
      "name": "Untitled250.ipynb",
      "provenance": [],
      "authorship_tag": "ABX9TyMM+1D2VMzGlHCm3bxpnOir",
      "include_colab_link": true
    },
    "kernelspec": {
      "name": "python3",
      "display_name": "Python 3"
    },
    "language_info": {
      "name": "python"
    }
  },
  "cells": [
    {
      "cell_type": "markdown",
      "metadata": {
        "id": "view-in-github",
        "colab_type": "text"
      },
      "source": [
        "<a href=\"https://colab.research.google.com/github/Deepsphere-AI/AI-lab-Schools/blob/main/Grade%2011/Unit-1/Colab_Eleven_PPT_6.ipynb\" target=\"_parent\"><img src=\"https://colab.research.google.com/assets/colab-badge.svg\" alt=\"Open In Colab\"/></a>"
      ]
    },
    {
      "cell_type": "code",
      "execution_count": null,
      "metadata": {
        "id": "YFGiFhgz57ZN"
      },
      "outputs": [],
      "source": [
        "# \"\"\"\"\n",
        "# Ex. 6\n",
        "\n",
        "# Create a function that will pass in 2 strings and will output the second string inserted halfway in the first. Example: insert(\"Apple\", \"Orange\") = \"ApOrangeple\"\n",
        "# \"\"\"\n",
        "\n",
        "str1 = \"Hello\"\n",
        "str2 = \"World\"\n",
        "\n",
        "def insert(str1, str2):\n",
        "  return str1[:int(len(str1)/2)] + str2 + str1[int(len(str1)/2):]\n",
        "\n",
        "print(insert(str1,str2))"
      ]
    }
  ]
}