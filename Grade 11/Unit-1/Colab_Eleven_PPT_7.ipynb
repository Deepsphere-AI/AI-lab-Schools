{
  "nbformat": 4,
  "nbformat_minor": 0,
  "metadata": {
    "colab": {
      "name": "Untitled252.ipynb",
      "provenance": [],
      "authorship_tag": "ABX9TyNWu5EDxabbU4q3JMGOGT3v",
      "include_colab_link": true
    },
    "kernelspec": {
      "name": "python3",
      "display_name": "Python 3"
    },
    "language_info": {
      "name": "python"
    }
  },
  "cells": [
    {
      "cell_type": "markdown",
      "metadata": {
        "id": "view-in-github",
        "colab_type": "text"
      },
      "source": [
        "<a href=\"https://colab.research.google.com/github/Deepsphere-AI/AI-lab-Schools/blob/main/Grade%2011/Unit-1/Colab_Eleven_PPT_7.ipynb\" target=\"_parent\"><img src=\"https://colab.research.google.com/assets/colab-badge.svg\" alt=\"Open In Colab\"/></a>"
      ]
    },
    {
      "cell_type": "code",
      "execution_count": null,
      "metadata": {
        "id": "YpQs31lu7Jnh"
      },
      "outputs": [],
      "source": [
        "# \"\"\"\"\n",
        "# Ex. 7\n",
        "\n",
        "# Create a class student. It should have a constructor with __init__(self,...) and the variables name, id_number, and age. There should also be functions to get these values and return them.\n",
        "# \"\"\"\n",
        "\n",
        "class Student:\n",
        "  name = \"\"\n",
        "  id_number = 0\n",
        "  age = 0\n",
        "\n",
        "  def __init__(self, name, id_number, age):\n",
        "    self.name = name\n",
        "    self.id_number = id_number\n",
        "    self.age = age\n",
        "  \n",
        "  def get_name(self):\n",
        "    return self.name\n",
        "  \n",
        "  def get_id(self):\n",
        "    return self.id_number\n",
        "\n",
        "  def get_age(self):\n",
        "    return self.age\n",
        "\n"
      ]
    }
  ]
}