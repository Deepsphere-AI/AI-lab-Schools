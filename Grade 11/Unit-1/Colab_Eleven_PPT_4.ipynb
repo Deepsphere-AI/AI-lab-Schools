{
  "nbformat": 4,
  "nbformat_minor": 0,
  "metadata": {
    "colab": {
      "name": "Untitled248.ipynb",
      "provenance": [],
      "authorship_tag": "ABX9TyOOxkFwhR3mjDaqfxxEbqjs",
      "include_colab_link": true
    },
    "kernelspec": {
      "name": "python3",
      "display_name": "Python 3"
    },
    "language_info": {
      "name": "python"
    }
  },
  "cells": [
    {
      "cell_type": "markdown",
      "metadata": {
        "id": "view-in-github",
        "colab_type": "text"
      },
      "source": [
        "<a href=\"https://colab.research.google.com/github/Deepsphere-AI/AI-lab-Schools/blob/main/Grade%2011/Unit-1/Colab_Eleven_PPT_4.ipynb\" target=\"_parent\"><img src=\"https://colab.research.google.com/assets/colab-badge.svg\" alt=\"Open In Colab\"/></a>"
      ]
    },
    {
      "cell_type": "code",
      "execution_count": null,
      "metadata": {
        "id": "rM2j25sZ5aAP"
      },
      "outputs": [],
      "source": [
        "# \"\"\"\"\n",
        "\n",
        "# Ex. 4\n",
        "\n",
        "# Create a function that randomly Displays a numerical 4-digit password using random.randint(range).\n",
        "\n",
        "# \"\"\"\n",
        "\n",
        "import random\n",
        "\n",
        "def randompassword():\n",
        "  a = random.randint(0,9)\n",
        "  b = random.randint(0,9)\n",
        "  c = random.randint(0,9)\n",
        "  d = random.randint(0,9)\n",
        "  return str(a) + str(b) + str(c) + str(d)\n",
        "\n",
        "print(randompassword())"
      ]
    }
  ]
}