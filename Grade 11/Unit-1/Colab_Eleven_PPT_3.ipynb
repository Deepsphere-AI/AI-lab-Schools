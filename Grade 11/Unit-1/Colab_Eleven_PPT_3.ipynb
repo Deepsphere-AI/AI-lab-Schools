{
  "nbformat": 4,
  "nbformat_minor": 0,
  "metadata": {
    "colab": {
      "name": "Untitled246.ipynb",
      "provenance": [],
      "authorship_tag": "ABX9TyMlD8EmimZ5v2l/RCodQPDW",
      "include_colab_link": true
    },
    "kernelspec": {
      "name": "python3",
      "display_name": "Python 3"
    },
    "language_info": {
      "name": "python"
    }
  },
  "cells": [
    {
      "cell_type": "markdown",
      "metadata": {
        "id": "view-in-github",
        "colab_type": "text"
      },
      "source": [
        "<a href=\"https://colab.research.google.com/github/Deepsphere-AI/AI-lab-Schools/blob/main/Grade%2011/Unit-1/Colab_Eleven_PPT_3.ipynb\" target=\"_parent\"><img src=\"https://colab.research.google.com/assets/colab-badge.svg\" alt=\"Open In Colab\"/></a>"
      ]
    },
    {
      "cell_type": "code",
      "execution_count": null,
      "metadata": {
        "id": "F191F0yM4gRb"
      },
      "outputs": [],
      "source": [
        "# \"\"\"\"\n",
        "\n",
        "# Ex. 3\n",
        "\n",
        "# Grab the username and password through user input and return the result. Make sure this is inside a function.\n",
        "\n",
        "# \"\"\"\n",
        "\n",
        "def get_credentials():\n",
        "  username = input(\"Enter username:\")\n",
        "  password = input(\"Enter password:\")\n",
        "\n",
        "  return(\"Username: \" + str(username) + \" Password: \" + str(password))\n",
        "\n",
        "get_credentials()"
      ]
    }
  ]
}