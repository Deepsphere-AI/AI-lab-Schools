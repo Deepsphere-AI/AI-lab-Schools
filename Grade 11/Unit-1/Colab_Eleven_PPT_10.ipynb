{
  "nbformat": 4,
  "nbformat_minor": 0,
  "metadata": {
    "colab": {
      "name": "Untitled244.ipynb",
      "provenance": [],
      "authorship_tag": "ABX9TyOpiFeF3OlJKq/YA2GgRxws",
      "include_colab_link": true
    },
    "kernelspec": {
      "name": "python3",
      "display_name": "Python 3"
    },
    "language_info": {
      "name": "python"
    }
  },
  "cells": [
    {
      "cell_type": "markdown",
      "metadata": {
        "id": "view-in-github",
        "colab_type": "text"
      },
      "source": [
        "<a href=\"https://colab.research.google.com/github/Deepsphere-AI/AI-lab-Schools/blob/main/Grade%2011/Unit-1/Colab_Eleven_PPT_10.ipynb\" target=\"_parent\"><img src=\"https://colab.research.google.com/assets/colab-badge.svg\" alt=\"Open In Colab\"/></a>"
      ]
    },
    {
      "cell_type": "code",
      "execution_count": null,
      "metadata": {
        "id": "HbUX0izp3MGA"
      },
      "outputs": [],
      "source": [
        "# \"\"\"\"\"\n",
        "# Ex. 10\n",
        "\n",
        "# Using the Classroom class from the previous excercise, create a function calc_id_range which will calculate the range of the ids. This means that it will set the self.id_range to the highest id minus the lowest id. For example, if a student had an id of 999999, and it was the highest, and another student had an id of 100000, and it was the lowest, the id_range would be 999999-100000 = 899999.\n",
        "# \"\"\"\n",
        "\n",
        "import random\n",
        "\n",
        "class Student:\n",
        "  name = \"\"\n",
        "  id_number = 0\n",
        "  age = 0\n",
        "\n",
        "  def __init__(self, name, id_number, age):\n",
        "    self.name = name\n",
        "    self.id_number = id_number\n",
        "    self.age = age\n",
        "  \n",
        "  def get_name(self):\n",
        "    return self.name\n",
        "  \n",
        "  def get_id(self):\n",
        "    return self.id_number\n",
        "\n",
        "  def get_age(self):\n",
        "    return self.age\n",
        "\n",
        "\n",
        "class Classroom:\n",
        "  class_size = 0\n",
        "  student_list = []\n",
        "  average_age = 0.0\n",
        "  id_range = 0\n",
        "\n",
        "  def __init__(self, size):\n",
        "    self.class_size = size\n",
        "    for x in range(size):\n",
        "      self.student_list.append(Student(\"Mark\",random.randrange(100000,999999),random.randrange(14,16)))\n",
        "  \n",
        "  def get_average_age(self):\n",
        "    total = 0\n",
        "    for x in self.student_list:\n",
        "      total = total + x.get_age()\n",
        "    self.average_age = total/self.class_size\n",
        "    return self.average_age\n",
        "\n",
        "  def calc_id_range(self):\n",
        "    min = 999999\n",
        "    max = 0\n",
        "    for x in self.student_list:\n",
        "      if(x.get_id() > max):\n",
        "        max = x.get_id()\n",
        "      elif(x.get_id() < min):\n",
        "        min = x.get_id()\n",
        "    self.id_range = max - min\n",
        "    return self.id_range\n",
        "\n",
        "\n",
        "\n",
        "\n",
        "me = Classroom(20)\n",
        "print(me.calc_id_range())"
      ]
    }
  ]
}