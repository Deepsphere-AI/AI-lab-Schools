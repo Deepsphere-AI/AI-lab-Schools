{
  "nbformat": 4,
  "nbformat_minor": 0,
  "metadata": {
    "colab": {
      "name": "Untitled251.ipynb",
      "provenance": [],
      "authorship_tag": "ABX9TyP4ykL0KrPt7sa0sqT8fjwr",
      "include_colab_link": true
    },
    "kernelspec": {
      "name": "python3",
      "display_name": "Python 3"
    },
    "language_info": {
      "name": "python"
    }
  },
  "cells": [
    {
      "cell_type": "markdown",
      "metadata": {
        "id": "view-in-github",
        "colab_type": "text"
      },
      "source": [
        "<a href=\"https://colab.research.google.com/github/Deepsphere-AI/AI-lab-Schools/blob/main/Grade%2011/Unit-1/Colab_Eleven_PPT_5.ipynb\" target=\"_parent\"><img src=\"https://colab.research.google.com/assets/colab-badge.svg\" alt=\"Open In Colab\"/></a>"
      ]
    },
    {
      "cell_type": "code",
      "execution_count": null,
      "metadata": {
        "id": "wLMk2Mex6zjp"
      },
      "outputs": [],
      "source": [
        "# \"\"\"\"\n",
        "\n",
        "# Ex. 5\n",
        "\n",
        "# Create a function that will check whether the sum of a list that is passed in equal to 21\n",
        "\n",
        "# \"\"\"\n",
        "\n",
        "check = [1,2,-3,3,3,4,5,6,2,-2]\n",
        "def sum21(list):\n",
        "  total = 0\n",
        "  for x in check:\n",
        "    total+=x\n",
        "  if(total == 21):\n",
        "    return True\n",
        "  else:\n",
        "    return False\n",
        "\n",
        "print(sum21(check))"
      ]
    }
  ]
}