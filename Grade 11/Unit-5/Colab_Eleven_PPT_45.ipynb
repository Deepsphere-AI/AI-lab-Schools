{
  "nbformat": 4,
  "nbformat_minor": 0,
  "metadata": {
    "colab": {
      "name": "Untitled322.ipynb",
      "provenance": [],
      "authorship_tag": "ABX9TyMJyugmQP5GO6aNR8AFpHNU",
      "include_colab_link": true
    },
    "kernelspec": {
      "name": "python3",
      "display_name": "Python 3"
    },
    "language_info": {
      "name": "python"
    }
  },
  "cells": [
    {
      "cell_type": "markdown",
      "metadata": {
        "id": "view-in-github",
        "colab_type": "text"
      },
      "source": [
        "<a href=\"https://colab.research.google.com/github/Deepsphere-AI/AI-lab-Schools/blob/main/Grade%2011/Unit-5/Colab_Eleven_PPT_45.ipynb\" target=\"_parent\"><img src=\"https://colab.research.google.com/assets/colab-badge.svg\" alt=\"Open In Colab\"/></a>"
      ]
    },
    {
      "cell_type": "code",
      "execution_count": null,
      "metadata": {
        "id": "yIxwHba6hAlT"
      },
      "outputs": [],
      "source": [
        "# \"\"\"\n",
        "# Ex. 45\n",
        "\n",
        "# Finally, using scipy's curve_fit, plot the line of best fit in the display function. It can be linear, polynomial or other.\n",
        "# \"\"\"\n",
        "\n",
        "import csv\n",
        "import matplotlib.pyplot as plt\n",
        "import numpy as np\n",
        "from scipy.optimize import curve_fit\n",
        "\n",
        "class Data_Analyzer:\n",
        "  name = \"\"\n",
        "  x_arr = []\n",
        "  y_arr = []\n",
        "\n",
        "  def __init__(self, name):\n",
        "    self.name = name + \".csv\"\n",
        "  \n",
        "  def default(self):\n",
        "    with open(self.name) as csv_file:\n",
        "      csv_reader = csv.reader(csv_file, delimiter=',')\n",
        "      line_count = 0\n",
        "      for row in csv_reader:\n",
        "        if(line_count == 0):\n",
        "          line_count+=1\n",
        "          continue\n",
        "        self.x_arr.append(int(f'\\t {row[6]}'))\n",
        "        self.y_arr.append(int(f'\\t {row[0]}'))\n",
        "        line_count+=1\n",
        "\n",
        "  def display(self):\n",
        "    def objective(x, a, b, c):\n",
        "\t    return a*(b**x) + c\n",
        "    plt.scatter(self.x_arr, self.y_arr)\n",
        "    x, y = self.x_arr, self.y_arr\n",
        "    popt, _ = curve_fit(objective, x, y)\n",
        "    a, b, c = popt\n",
        "    x_line = np.arange(min(x), max(x), 1)\n",
        "    y_line = objective(x_line, a, b, c)\n",
        "    plt.plot(x_line, y_line, '--', color='red')\n",
        "    plt.show()\n",
        "  \n",
        "\n",
        "d1 = Data_Analyzer(\"homes\")\n",
        "d1.default()\n",
        "d1.display()"
      ]
    }
  ]
}