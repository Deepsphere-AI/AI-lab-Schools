{
  "nbformat": 4,
  "nbformat_minor": 0,
  "metadata": {
    "colab": {
      "name": "Untitled319.ipynb",
      "provenance": [],
      "authorship_tag": "ABX9TyNJ6gaZA3NdwbJHNolvVkJb",
      "include_colab_link": true
    },
    "kernelspec": {
      "name": "python3",
      "display_name": "Python 3"
    },
    "language_info": {
      "name": "python"
    }
  },
  "cells": [
    {
      "cell_type": "markdown",
      "metadata": {
        "id": "view-in-github",
        "colab_type": "text"
      },
      "source": [
        "<a href=\"https://colab.research.google.com/github/Deepsphere-AI/AI-lab-Schools/blob/main/Grade%2011/Unit-5/Colab_Eleven_PPT_43.ipynb\" target=\"_parent\"><img src=\"https://colab.research.google.com/assets/colab-badge.svg\" alt=\"Open In Colab\"/></a>"
      ]
    },
    {
      "cell_type": "code",
      "execution_count": null,
      "metadata": {
        "id": "QFBT7_mxfrPX"
      },
      "outputs": [],
      "source": [
        "# \"\"\"\n",
        "# Ex. 43\n",
        "\n",
        "# Create a function default that will set the x_arr to the values in column 6, and the y_arr to the values in column 0.\n",
        "# \"\"\"\n",
        "\n",
        "import csv\n",
        "\n",
        "class Data_Analyzer:\n",
        "  name = \"\"\n",
        "  x_arr = []\n",
        "  y_arr = []\n",
        "\n",
        "  def __init__(self, name):\n",
        "    self.name = name + \".csv\"\n",
        "  \n",
        "  def default(self):\n",
        "    with open(self.name) as csv_file:\n",
        "      csv_reader = csv.reader(csv_file, delimiter=',')\n",
        "      line_count = 0\n",
        "      for row in csv_reader:\n",
        "        if(line_count == 0):\n",
        "          line_count+=1\n",
        "          continue\n",
        "        self.x_arr.append(int(f'\\t {row[6]}'))\n",
        "        self.y_arr.append(int(f'\\t {row[0]}'))\n",
        "        line_count+=1\n",
        "d1 = Data_Analyzer(\"homes\")\n",
        "d1.default()"
      ]
    }
  ]
}