{
  "nbformat": 4,
  "nbformat_minor": 0,
  "metadata": {
    "colab": {
      "name": "Untitled321.ipynb",
      "provenance": [],
      "authorship_tag": "ABX9TyOsr5sHRhxXb+C61z2TM1R9",
      "include_colab_link": true
    },
    "kernelspec": {
      "name": "python3",
      "display_name": "Python 3"
    },
    "language_info": {
      "name": "python"
    }
  },
  "cells": [
    {
      "cell_type": "markdown",
      "metadata": {
        "id": "view-in-github",
        "colab_type": "text"
      },
      "source": [
        "<a href=\"https://colab.research.google.com/github/Deepsphere-AI/AI-lab-Schools/blob/main/Grade%2011/Unit-5/Colab_Eleven_PPT_44.ipynb\" target=\"_parent\"><img src=\"https://colab.research.google.com/assets/colab-badge.svg\" alt=\"Open In Colab\"/></a>"
      ]
    },
    {
      "cell_type": "code",
      "execution_count": null,
      "metadata": {
        "id": "2D-wtpKHguMB"
      },
      "outputs": [],
      "source": [
        "# \"\"\"\n",
        "# Ex. 44\n",
        "\n",
        "# Using matplotlib, create a function display which will plot the x and y points.\n",
        "# \"\"\"\n",
        "\n",
        "import csv\n",
        "import matplotlib.pyplot as plt\n",
        "\n",
        "\n",
        "class Data_Analyzer:\n",
        "  name = \"\"\n",
        "  x_arr = []\n",
        "  y_arr = []\n",
        "\n",
        "  def __init__(self, name):\n",
        "    self.name = name + \".csv\"\n",
        "  \n",
        "  def default(self):\n",
        "    with open(self.name) as csv_file:\n",
        "      csv_reader = csv.reader(csv_file, delimiter=',')\n",
        "      line_count = 0\n",
        "      for row in csv_reader:\n",
        "        if(line_count == 0):\n",
        "          line_count+=1\n",
        "          continue\n",
        "        self.x_arr.append(int(f'\\t {row[6]}'))\n",
        "        self.y_arr.append(int(f'\\t {row[0]}'))\n",
        "        line_count+=1\n",
        "\n",
        "  def display(self):\n",
        "    plt.scatter(self.x_arr, self.y_arr)\n",
        "    plt.show()\n",
        "\n",
        "d1 = Data_Analyzer(\"homes\")\n",
        "d1.default()\n",
        "d1.display()"
      ]
    }
  ]
}