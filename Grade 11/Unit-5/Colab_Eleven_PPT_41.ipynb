{
  "nbformat": 4,
  "nbformat_minor": 0,
  "metadata": {
    "colab": {
      "name": "Untitled317.ipynb",
      "provenance": [],
      "authorship_tag": "ABX9TyM0mNufdJTAgyY6UypZwr53",
      "include_colab_link": true
    },
    "kernelspec": {
      "name": "python3",
      "display_name": "Python 3"
    },
    "language_info": {
      "name": "python"
    }
  },
  "cells": [
    {
      "cell_type": "markdown",
      "metadata": {
        "id": "view-in-github",
        "colab_type": "text"
      },
      "source": [
        "<a href=\"https://colab.research.google.com/github/Deepsphere-AI/AI-lab-Schools/blob/main/Grade%2011/Unit-5/Colab_Eleven_PPT_41.ipynb\" target=\"_parent\"><img src=\"https://colab.research.google.com/assets/colab-badge.svg\" alt=\"Open In Colab\"/></a>"
      ]
    },
    {
      "cell_type": "code",
      "execution_count": null,
      "metadata": {
        "id": "v99qcFZ0fF93"
      },
      "outputs": [],
      "source": [
        "# \"\"\"\n",
        "# Ex. 41\n",
        "\n",
        "# Create a class called Data_Visualizer and give it the variables name (a string),x_arr(a list) and y_arr(a list)\n",
        "# \"\"\"\n",
        "\n",
        "class Data_Analyzer:\n",
        "  name = \"\"\n",
        "  x_arr = []\n",
        "  y_arr = []"
      ]
    }
  ]
}