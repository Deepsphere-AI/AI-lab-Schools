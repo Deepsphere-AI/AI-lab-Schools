{
  "nbformat": 4,
  "nbformat_minor": 0,
  "metadata": {
    "colab": {
      "name": "Untitled318.ipynb",
      "provenance": [],
      "authorship_tag": "ABX9TyPSSpodWoCV2uOX/lMKu4qd",
      "include_colab_link": true
    },
    "kernelspec": {
      "name": "python3",
      "display_name": "Python 3"
    },
    "language_info": {
      "name": "python"
    }
  },
  "cells": [
    {
      "cell_type": "markdown",
      "metadata": {
        "id": "view-in-github",
        "colab_type": "text"
      },
      "source": [
        "<a href=\"https://colab.research.google.com/github/Deepsphere-AI/AI-lab-Schools/blob/main/Grade%2011/Unit-5/Colab_Eleven_PPT_42.ipynb\" target=\"_parent\"><img src=\"https://colab.research.google.com/assets/colab-badge.svg\" alt=\"Open In Colab\"/></a>"
      ]
    },
    {
      "cell_type": "code",
      "execution_count": null,
      "metadata": {
        "id": "ObxnyPC7faFj"
      },
      "outputs": [],
      "source": [
        "# \"\"\"\n",
        "# Ex. 42\n",
        "\n",
        "# Create a constructor which takes in a string, adds \".csv\" to it and sets it equal to self.name.\n",
        "# \"\"\"\n",
        "\n",
        "class Data_Analyzer:\n",
        "  name = \"\"\n",
        "  x_arr = []\n",
        "  y_arr = []\n",
        "\n",
        "  def __init__(self, name):\n",
        "    self.name = name + \".csv\""
      ]
    }
  ]
}