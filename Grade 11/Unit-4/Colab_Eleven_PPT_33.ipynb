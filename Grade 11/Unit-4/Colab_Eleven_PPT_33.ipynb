{
  "nbformat": 4,
  "nbformat_minor": 0,
  "metadata": {
    "colab": {
      "name": "Untitled306.ipynb",
      "provenance": [],
      "authorship_tag": "ABX9TyPv+/rUaAZhxpEqkVOKtMNv",
      "include_colab_link": true
    },
    "kernelspec": {
      "name": "python3",
      "display_name": "Python 3"
    },
    "language_info": {
      "name": "python"
    }
  },
  "cells": [
    {
      "cell_type": "markdown",
      "metadata": {
        "id": "view-in-github",
        "colab_type": "text"
      },
      "source": [
        "<a href=\"https://colab.research.google.com/github/Deepsphere-AI/AI-lab-Schools/blob/main/Grade%2011/Unit-4/Colab_Eleven_PPT_33.ipynb\" target=\"_parent\"><img src=\"https://colab.research.google.com/assets/colab-badge.svg\" alt=\"Open In Colab\"/></a>"
      ]
    },
    {
      "cell_type": "code",
      "execution_count": null,
      "metadata": {
        "id": "Q2fvZVvEb3wI"
      },
      "outputs": [],
      "source": [
        "# \"\"\"\n",
        "# Ex. 33\n",
        "\n",
        "# Import pandas. Create a function open which will use pandas.read_csv to open a csv and return it. Then create a variable called csv at the top which will hold the output of pandas_read_csv.\n",
        "# \"\"\"\n",
        "\n",
        "import pandas as pd\n",
        "\n",
        "class Data_Analyzer:\n",
        "  name = \"\"\n",
        "  columns = []\n",
        "\n",
        "  def __init__(self,name):\n",
        "    self.name = name + \".csv\"\n",
        "  \n",
        "  def open(self):\n",
        "    return pd.read_csv(self.name)\n",
        "\n",
        "d1 = Data_Analyzer(\"homes\")\n",
        "print(d1.open())"
      ]
    }
  ]
}