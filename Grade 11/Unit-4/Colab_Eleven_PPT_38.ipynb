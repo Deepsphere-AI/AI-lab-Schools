{
  "nbformat": 4,
  "nbformat_minor": 0,
  "metadata": {
    "colab": {
      "name": "Untitled313.ipynb",
      "provenance": [],
      "authorship_tag": "ABX9TyPWODIZoPaB65P4+FRVjSaJ",
      "include_colab_link": true
    },
    "kernelspec": {
      "name": "python3",
      "display_name": "Python 3"
    },
    "language_info": {
      "name": "python"
    }
  },
  "cells": [
    {
      "cell_type": "markdown",
      "metadata": {
        "id": "view-in-github",
        "colab_type": "text"
      },
      "source": [
        "<a href=\"https://colab.research.google.com/github/Deepsphere-AI/AI-lab-Schools/blob/main/Grade%2011/Unit-4/Colab_Eleven_PPT_38.ipynb\" target=\"_parent\"><img src=\"https://colab.research.google.com/assets/colab-badge.svg\" alt=\"Open In Colab\"/></a>"
      ]
    },
    {
      "cell_type": "code",
      "execution_count": null,
      "metadata": {
        "id": "h-FXyFXod0Fu"
      },
      "outputs": [],
      "source": [
        "# \"\"\"\n",
        "# Ex. 38\n",
        "\n",
        "# Create a display which displays the selling price, the age, and acres of the house given it's position.\n",
        "# \"\"\"\n",
        "\n",
        "import csv\n",
        "\n",
        "class Data_Analyzer:\n",
        "  name = \"\"\n",
        "  columns = []\n",
        "\n",
        "  def __init__(self,name):\n",
        "    self.name = name + \".csv\"\n",
        "\n",
        "  def get_columns(self):\n",
        "    with open(self.name) as csv_file:\n",
        "      csv_reader = csv.reader(csv_file, delimiter=',')\n",
        "      line_count = 0\n",
        "      for row in csv_reader:\n",
        "        if line_count == 0:\n",
        "            self.columns = row\n",
        "            line_count+=1\n",
        "    return self.columns\n",
        "\n",
        "  def display(self,line):\n",
        "    with open(self.name) as csv_file:\n",
        "      csv_reader = csv.reader(csv_file, delimiter=',')\n",
        "      line_count = 0\n",
        "      for row in csv_reader:\n",
        "        line_count+=1\n",
        "        if line_count == line:\n",
        "          return f'\\t Age:{row[6]} , Sell: {row[0]} , Acres {row[7]}.'\n",
        "\n",
        "d1 = Data_Analyzer(\"homes\")\n",
        "print(d1.get_columns())\n",
        "print(d1.display(10))"
      ]
    }
  ]
}