{
  "nbformat": 4,
  "nbformat_minor": 0,
  "metadata": {
    "colab": {
      "name": "Untitled316.ipynb",
      "provenance": [],
      "authorship_tag": "ABX9TyOkiuTwPF5HzWRZztJIFjzL",
      "include_colab_link": true
    },
    "kernelspec": {
      "name": "python3",
      "display_name": "Python 3"
    },
    "language_info": {
      "name": "python"
    }
  },
  "cells": [
    {
      "cell_type": "markdown",
      "metadata": {
        "id": "view-in-github",
        "colab_type": "text"
      },
      "source": [
        "<a href=\"https://colab.research.google.com/github/Deepsphere-AI/AI-lab-Schools/blob/main/Grade%2011/Unit-4/Colab_Eleven_PPT_34.ipynb\" target=\"_parent\"><img src=\"https://colab.research.google.com/assets/colab-badge.svg\" alt=\"Open In Colab\"/></a>"
      ]
    },
    {
      "cell_type": "code",
      "execution_count": null,
      "metadata": {
        "id": "jOFYyHU7epAU"
      },
      "outputs": [],
      "source": [
        "# \"\"\"\n",
        "# Ex. 34 \n",
        "\n",
        "# Create a function Most_Expensive() which will details of the most expensive house.\n",
        "# \"\"\"\n",
        "\n",
        "import pandas as pd\n",
        "\n",
        "class Data_Analyzer:\n",
        "  name = \"\"\n",
        "  columns = []\n",
        "\n",
        "  def __init__(self,name):\n",
        "    self.name = name + \".csv\"\n",
        "  \n",
        "  def open(self):\n",
        "    return pd.read_csv(self.name)\n",
        "\n",
        "  def Most_Expensive(self):\n",
        "    return max(open(self.name)) \n",
        "\n",
        "d1 = Data_Analyzer(\"homes\")\n",
        "print(d1.open())\n",
        "print(d1.Most_Expensive())"
      ]
    }
  ]
}