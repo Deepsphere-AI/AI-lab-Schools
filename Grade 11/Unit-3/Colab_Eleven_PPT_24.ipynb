{
  "nbformat": 4,
  "nbformat_minor": 0,
  "metadata": {
    "colab": {
      "name": "Untitled276.ipynb",
      "provenance": [],
      "authorship_tag": "ABX9TyPnvGvuCDLq4EZwwAaXrDHw",
      "include_colab_link": true
    },
    "kernelspec": {
      "name": "python3",
      "display_name": "Python 3"
    },
    "language_info": {
      "name": "python"
    }
  },
  "cells": [
    {
      "cell_type": "markdown",
      "metadata": {
        "id": "view-in-github",
        "colab_type": "text"
      },
      "source": [
        "<a href=\"https://colab.research.google.com/github/Deepsphere-AI/AI-lab-Schools/blob/main/Grade%2011/Unit-3/Colab_Eleven_PPT_24.ipynb\" target=\"_parent\"><img src=\"https://colab.research.google.com/assets/colab-badge.svg\" alt=\"Open In Colab\"/></a>"
      ]
    },
    {
      "cell_type": "code",
      "execution_count": null,
      "metadata": {
        "id": "zLXGGtg2QO-r"
      },
      "outputs": [],
      "source": [
        "# \"\"\"\n",
        "# Ex. 24\n",
        "\n",
        "# Create a function hist that creates a histogram with the Y Values.\n",
        "# \"\"\"\n",
        "\n",
        "import numpy as np\n",
        "import matplotlib.pyplot as plt\n",
        "\n",
        "class Data_Plotter:\n",
        "  type = \"\"\n",
        "  X = np.array([])\n",
        "  Y = np.array([])\n",
        "\n",
        "  def __init__(self, type, x, y):\n",
        "    self.type = type\n",
        "    self.X = x\n",
        "    self.Y = y\n",
        "  \n",
        "  def bar(self):\n",
        "    plt.bar(self.X, self.Y)\n",
        "  \n",
        "  def hist(self):\n",
        "    plt.hist(self.Y)\n",
        "\n",
        "dp1 = Data_Plotter(\"Bar\", [\"A\", \"B\", \"C\", \"D\"], [1,1,2,3,3,3,3,3,3,4,4,4,4,4,5,5,6,7,8,8,9,9,9,10])\n",
        "dp1.hist()"
      ]
    }
  ]
}