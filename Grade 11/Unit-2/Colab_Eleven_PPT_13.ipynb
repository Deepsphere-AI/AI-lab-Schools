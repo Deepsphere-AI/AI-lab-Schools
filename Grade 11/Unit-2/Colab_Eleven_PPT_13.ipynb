{
  "nbformat": 4,
  "nbformat_minor": 0,
  "metadata": {
    "colab": {
      "name": "Untitled258.ipynb",
      "provenance": [],
      "authorship_tag": "ABX9TyNfrWyYaDDPnTjLw/YcbJua",
      "include_colab_link": true
    },
    "kernelspec": {
      "name": "python3",
      "display_name": "Python 3"
    },
    "language_info": {
      "name": "python"
    }
  },
  "cells": [
    {
      "cell_type": "markdown",
      "metadata": {
        "id": "view-in-github",
        "colab_type": "text"
      },
      "source": [
        "<a href=\"https://colab.research.google.com/github/Deepsphere-AI/AI-lab-Schools/blob/main/Grade%2011/Unit-2/Colab_Eleven_PPT_13.ipynb\" target=\"_parent\"><img src=\"https://colab.research.google.com/assets/colab-badge.svg\" alt=\"Open In Colab\"/></a>"
      ]
    },
    {
      "cell_type": "code",
      "execution_count": null,
      "metadata": {
        "id": "2hAiJaCj-28g"
      },
      "outputs": [],
      "source": [
        "# \"\"\"\"\"\n",
        "# Ex. 13\n",
        "\n",
        "# Give the application the function update which will take in 2 strings. One will determine what feature needs to be update. The other will contain the value that will update. ie update(\"13\", \"size\") will change the size to 13. update(\"New\", \"name\") will change the name to \"New\".\n",
        "# \"\"\"\n",
        "\n",
        "class Application:\n",
        "  app_name = \"\"\n",
        "  app_size = 0.0\n",
        "  app_type = \"\"\n",
        "\n",
        "  def __init__(self, name, size, type):\n",
        "    self.app_name = name\n",
        "    self.app_type = type\n",
        "    self.app_size = size\n",
        "  \n",
        "  def update(self, name, type):\n",
        "    if(type == \"name\"):\n",
        "      self.app_name = name\n",
        "    if(type == \"size\"):\n",
        "      self.app_size = float(name)\n",
        "    if(type == \"type\"):\n",
        "      self.app_type = app_name"
      ]
    }
  ]
}