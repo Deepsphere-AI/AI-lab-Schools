{
  "nbformat": 4,
  "nbformat_minor": 0,
  "metadata": {
    "colab": {
      "name": "Untitled260.ipynb",
      "provenance": [],
      "authorship_tag": "ABX9TyM5ulNzDTpuziZYqyMh0Yb0",
      "include_colab_link": true
    },
    "kernelspec": {
      "name": "python3",
      "display_name": "Python 3"
    },
    "language_info": {
      "name": "python"
    }
  },
  "cells": [
    {
      "cell_type": "markdown",
      "metadata": {
        "id": "view-in-github",
        "colab_type": "text"
      },
      "source": [
        "<a href=\"https://colab.research.google.com/github/Deepsphere-AI/AI-lab-Schools/blob/main/Grade%2011/Unit-2/Colab_Eleven_PPT_15.ipynb\" target=\"_parent\"><img src=\"https://colab.research.google.com/assets/colab-badge.svg\" alt=\"Open In Colab\"/></a>"
      ]
    },
    {
      "cell_type": "code",
      "execution_count": null,
      "metadata": {
        "id": "On0kTK_V_hY3"
      },
      "outputs": [],
      "source": [
        "# \"\"\"\"\"\n",
        "# Ex. 15\n",
        "\n",
        "# Create another function get_values which will return the values of Application as a string.\n",
        "# \"\"\"\n",
        "\n",
        "class Application:\n",
        "  app_name = \"\"\n",
        "  app_size = 0.0\n",
        "  app_type = \"\"\n",
        "\n",
        "  def __init__(self, name, size, type):\n",
        "    self.app_name = name\n",
        "    self.app_type = type\n",
        "    self.app_size = size\n",
        "  \n",
        "  def update(self, name, type):\n",
        "    if(type == \"name\"):\n",
        "      self.app_name = name\n",
        "      return \"Name:\", self.app_name\n",
        "    if(type == \"size\"):\n",
        "      self.app_size = float(name)\n",
        "      return \"Size:\", self.app_size\n",
        "    if(type == \"type\"):\n",
        "      self.app_type = name\n",
        "      return \"Type:\", self.app_type\n",
        "    return\n",
        "  \n",
        "  def get_values(self):\n",
        "    return \"Name: \" + self.app_name + \" Size (GB): \" + str(self.app_size) + \" Type: \" + self.app_type\n",
        "  "
      ]
    }
  ]
}