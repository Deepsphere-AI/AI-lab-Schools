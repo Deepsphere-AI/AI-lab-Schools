{
  "nbformat": 4,
  "nbformat_minor": 0,
  "metadata": {
    "colab": {
      "name": "Untitled326.ipynb",
      "provenance": [],
      "authorship_tag": "ABX9TyPRuUhVCAJExOh8/YS1e1My",
      "include_colab_link": true
    },
    "kernelspec": {
      "name": "python3",
      "display_name": "Python 3"
    },
    "language_info": {
      "name": "python"
    }
  },
  "cells": [
    {
      "cell_type": "markdown",
      "metadata": {
        "id": "view-in-github",
        "colab_type": "text"
      },
      "source": [
        "<a href=\"https://colab.research.google.com/github/Deepsphere-AI/AI-lab-Schools/blob/main/Grade%2012/Unit-5/Colab_Twelve_PPT_42.ipynb\" target=\"_parent\"><img src=\"https://colab.research.google.com/assets/colab-badge.svg\" alt=\"Open In Colab\"/></a>"
      ]
    },
    {
      "cell_type": "code",
      "execution_count": null,
      "metadata": {
        "id": "2ppupuvylLeh"
      },
      "outputs": [],
      "source": [
        "#  \"\"\"\n",
        "# Ex. 42\n",
        "\n",
        "# Create a constructor for the function.\n",
        "# \"\"\"\n",
        "\n",
        "import numpy as np\n",
        "\n",
        "class Data_Plotter:\n",
        "  type = \"\"\n",
        "  X = np.array([])\n",
        "  Y = np.array([])\n",
        "\n",
        "  def __init__(self, type, x, y):\n",
        "    self.type = type\n",
        "    self.X = x\n",
        "    self.Y = y\n",
        "\n",
        "dp1 = Data_Plotter(\"Bar\", [\"A\", \"B\", \"C\", \"D\"], [20,43,56,12])"
      ]
    }
  ]
}