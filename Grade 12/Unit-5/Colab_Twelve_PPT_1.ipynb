{
  "nbformat": 4,
  "nbformat_minor": 0,
  "metadata": {
    "colab": {
      "name": "Untitled324.ipynb",
      "provenance": [],
      "authorship_tag": "ABX9TyNCF4xTSKK86xWwD8HSBXfY",
      "include_colab_link": true
    },
    "kernelspec": {
      "name": "python3",
      "display_name": "Python 3"
    },
    "language_info": {
      "name": "python"
    }
  },
  "cells": [
    {
      "cell_type": "markdown",
      "metadata": {
        "id": "view-in-github",
        "colab_type": "text"
      },
      "source": [
        "<a href=\"https://colab.research.google.com/github/Deepsphere-AI/AI-lab-Schools/blob/main/Grade%2012/Unit-5/Colab_Twelve_PPT_1.ipynb\" target=\"_parent\"><img src=\"https://colab.research.google.com/assets/colab-badge.svg\" alt=\"Open In Colab\"/></a>"
      ]
    },
    {
      "cell_type": "code",
      "execution_count": null,
      "metadata": {
        "id": "I8pOf0mskUhH"
      },
      "outputs": [],
      "source": [
        "# \"\"\"\n",
        "# Ex. 41\n",
        "\n",
        "# Create a class called Data_Plotter and give it the variables type, X, and Y. Import numpy and set X and Y equal to a blank array initially.\n",
        "# \"\"\"\n",
        "\n",
        "import numpy as np\n",
        "\n",
        "class Data_Plotter:\n",
        "  type = \"\"\n",
        "  X = np.array([])\n",
        "  Y = np.array([])"
      ]
    }
  ]
}