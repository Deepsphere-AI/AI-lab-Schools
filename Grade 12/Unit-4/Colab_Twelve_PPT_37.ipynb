{
  "nbformat": 4,
  "nbformat_minor": 0,
  "metadata": {
    "colab": {
      "name": "Untitled341.ipynb",
      "provenance": [],
      "authorship_tag": "ABX9TyP+cusmtMob3N5goKtFZI5y",
      "include_colab_link": true
    },
    "kernelspec": {
      "name": "python3",
      "display_name": "Python 3"
    },
    "language_info": {
      "name": "python"
    }
  },
  "cells": [
    {
      "cell_type": "markdown",
      "metadata": {
        "id": "view-in-github",
        "colab_type": "text"
      },
      "source": [
        "<a href=\"https://colab.research.google.com/github/Deepsphere-AI/AI-lab-Schools/blob/main/Grade%2012/Unit-4/Colab_Twelve_PPT_37.ipynb\" target=\"_parent\"><img src=\"https://colab.research.google.com/assets/colab-badge.svg\" alt=\"Open In Colab\"/></a>"
      ]
    },
    {
      "cell_type": "code",
      "execution_count": null,
      "metadata": {
        "id": "USR4xkbKHQBr"
      },
      "outputs": [],
      "source": [
        "# \"\"\"\n",
        "# Ex. 37\n",
        "\n",
        "# Create a function get_columns that will just open the csv function as a csv file for and take the first row and set each variable to a corresponing place in self.columns.\n",
        "# \"\"\"\n",
        "\n",
        "import csv\n",
        "\n",
        "class Data_Analyzer:\n",
        "  name = \"\"\n",
        "  columns = []\n",
        "\n",
        "  def __init__(self,name):\n",
        "    self.name = name + \".csv\"\n",
        "\n",
        "  def get_columns(self):\n",
        "    with open(self.name) as csv_file:\n",
        "      csv_reader = csv.reader(csv_file, delimiter=',')\n",
        "      line_count = 0\n",
        "      for row in csv_reader:\n",
        "        if line_count == 0:\n",
        "            self.columns = row\n",
        "            line_count+=1\n",
        "    return self.columns\n",
        "\n",
        "d1 = Data_Analyzer(\"homes\")\n",
        "print(d1.get_columns())"
      ]
    }
  ]
}