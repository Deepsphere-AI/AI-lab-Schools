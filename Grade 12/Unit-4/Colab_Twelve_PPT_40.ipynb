{
  "nbformat": 4,
  "nbformat_minor": 0,
  "metadata": {
    "colab": {
      "name": "Untitled344.ipynb",
      "provenance": [],
      "authorship_tag": "ABX9TyMK1T+uvfclgAsG64Bu9Ewx",
      "include_colab_link": true
    },
    "kernelspec": {
      "name": "python3",
      "display_name": "Python 3"
    },
    "language_info": {
      "name": "python"
    }
  },
  "cells": [
    {
      "cell_type": "markdown",
      "metadata": {
        "id": "view-in-github",
        "colab_type": "text"
      },
      "source": [
        "<a href=\"https://colab.research.google.com/github/Deepsphere-AI/AI-lab-Schools/blob/main/Grade%2012/Unit-4/Colab_Twelve_PPT_40.ipynb\" target=\"_parent\"><img src=\"https://colab.research.google.com/assets/colab-badge.svg\" alt=\"Open In Colab\"/></a>"
      ]
    },
    {
      "cell_type": "code",
      "execution_count": null,
      "metadata": {
        "id": "tgwebP5EI88G"
      },
      "outputs": [],
      "source": [
        "# \"\"\"\n",
        "# Ex. 40\n",
        "\n",
        "# Now create the function min which finds the house with the minimum sell and return the position of the min house.\n",
        "\n",
        "# \"\"\"\n",
        "\n",
        "import csv\n",
        "\n",
        "class Data_Analyzer:\n",
        "  name = \"\"\n",
        "  columns = []\n",
        "\n",
        "  def __init__(self,name):\n",
        "    self.name = name + \".csv\"\n",
        "\n",
        "  def get_columns(self):\n",
        "    with open(self.name) as csv_file:\n",
        "      csv_reader = csv.reader(csv_file, delimiter=',')\n",
        "      line_count = 0\n",
        "      for row in csv_reader:\n",
        "        if line_count == 0:\n",
        "            self.columns = row\n",
        "            line_count+=1\n",
        "    return self.columns\n",
        "\n",
        "  def display(self,line):\n",
        "    with open(self.name) as csv_file:\n",
        "      csv_reader = csv.reader(csv_file, delimiter=',')\n",
        "      line_count = 0\n",
        "      for row in csv_reader:\n",
        "        line_count+=1\n",
        "        if line_count == line:\n",
        "          return f'\\t Age:{row[6]} , Sell: {row[0]} , Acres {row[7]}.'\n",
        "  \n",
        "  def max(self):\n",
        "    max = 0\n",
        "    pos = 0\n",
        "    with open(self.name) as csv_file:\n",
        "      csv_reader = csv.reader(csv_file, delimiter=',')\n",
        "      line_count = 0\n",
        "      for row in csv_reader:\n",
        "        if(line_count != 0):\n",
        "          if(float(f'{row[0]}') > max):\n",
        "            max = int(f'\\t {row[0]}')\n",
        "            pos = line_count+1 \n",
        "        line_count+=1\n",
        "    return pos\n",
        "\n",
        "  def min(self):\n",
        "    min = 999999999999999\n",
        "    pos = 0\n",
        "    with open(self.name) as csv_file:\n",
        "      csv_reader = csv.reader(csv_file, delimiter=',')\n",
        "      line_count = 0\n",
        "      for row in csv_reader:\n",
        "        if(line_count != 0):\n",
        "          if(float(f'{row[0]}') < min):\n",
        "            min = int(f'\\t {row[0]}')\n",
        "            pos = line_count+1 \n",
        "        line_count+=1\n",
        "    return pos\n",
        "\n",
        "d1 = Data_Analyzer(\"homes\")\n",
        "print(d1.get_columns())\n",
        "print(d1.display(d1.max()))\n",
        "print(d1.display(d1.min()))"
      ]
    }
  ]
}