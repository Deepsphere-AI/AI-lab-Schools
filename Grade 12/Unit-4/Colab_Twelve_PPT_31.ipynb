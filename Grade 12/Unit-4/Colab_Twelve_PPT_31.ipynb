{
  "nbformat": 4,
  "nbformat_minor": 0,
  "metadata": {
    "colab": {
      "name": "Untitled335.ipynb",
      "provenance": [],
      "authorship_tag": "ABX9TyPnMxcV/UI0gPe4nfTkQfMR",
      "include_colab_link": true
    },
    "kernelspec": {
      "name": "python3",
      "display_name": "Python 3"
    },
    "language_info": {
      "name": "python"
    }
  },
  "cells": [
    {
      "cell_type": "markdown",
      "metadata": {
        "id": "view-in-github",
        "colab_type": "text"
      },
      "source": [
        "<a href=\"https://colab.research.google.com/github/Deepsphere-AI/AI-lab-Schools/blob/main/Grade%2012/Unit-4/Colab_Twelve_PPT_31.ipynb\" target=\"_parent\"><img src=\"https://colab.research.google.com/assets/colab-badge.svg\" alt=\"Open In Colab\"/></a>"
      ]
    },
    {
      "cell_type": "code",
      "execution_count": null,
      "metadata": {
        "id": "NLmz1lg2EFNh"
      },
      "outputs": [],
      "source": [
        "# \"\"\"\n",
        "# Ex. 31\n",
        "\n",
        "# Create a class called Data Analyzer and give it the variables name, and columns, which is a list.\n",
        "# \"\"\"\n",
        "\n",
        "class Data_Analyzer:\n",
        "  name = \"\"\n",
        "  columns = []"
      ]
    }
  ]
}