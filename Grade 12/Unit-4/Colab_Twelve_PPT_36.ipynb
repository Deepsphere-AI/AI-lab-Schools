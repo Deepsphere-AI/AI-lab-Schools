{
  "nbformat": 4,
  "nbformat_minor": 0,
  "metadata": {
    "colab": {
      "name": "Untitled340.ipynb",
      "provenance": [],
      "authorship_tag": "ABX9TyMQmdoedA0hfFQ1zCL/KGpq",
      "include_colab_link": true
    },
    "kernelspec": {
      "name": "python3",
      "display_name": "Python 3"
    },
    "language_info": {
      "name": "python"
    }
  },
  "cells": [
    {
      "cell_type": "markdown",
      "metadata": {
        "id": "view-in-github",
        "colab_type": "text"
      },
      "source": [
        "<a href=\"https://colab.research.google.com/github/Deepsphere-AI/AI-lab-Schools/blob/main/Grade%2012/Unit-4/Colab_Twelve_PPT_36.ipynb\" target=\"_parent\"><img src=\"https://colab.research.google.com/assets/colab-badge.svg\" alt=\"Open In Colab\"/></a>"
      ]
    },
    {
      "cell_type": "code",
      "execution_count": null,
      "metadata": {
        "id": "jhMyiu7FGCI1"
      },
      "outputs": [],
      "source": [
        "# \"\"\"\n",
        "# Ex. 36\n",
        "\n",
        "# Now let's try and read a csv with the csv module in python. Create the same class as before with the same variabels and constructor (excluding the functions), and import csv.\n",
        "# \"\"\"\n",
        "\n",
        "import csv\n",
        "\n",
        "class Data_Analyzer:\n",
        "  name = \"\"\n",
        "  columns = []\n",
        "\n",
        "  def __init__(self,name):\n",
        "    self.name = name + \".csv\"\n",
        "\n",
        "d1 = Data_Analyzer(\"homes\")"
      ]
    }
  ]
}