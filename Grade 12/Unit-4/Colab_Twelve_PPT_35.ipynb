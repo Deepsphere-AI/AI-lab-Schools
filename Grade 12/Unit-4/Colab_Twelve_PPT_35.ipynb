{
  "nbformat": 4,
  "nbformat_minor": 0,
  "metadata": {
    "colab": {
      "name": "Untitled339.ipynb",
      "provenance": [],
      "authorship_tag": "ABX9TyNdtj5M8d5sc31z3qKnyTNg",
      "include_colab_link": true
    },
    "kernelspec": {
      "name": "python3",
      "display_name": "Python 3"
    },
    "language_info": {
      "name": "python"
    }
  },
  "cells": [
    {
      "cell_type": "markdown",
      "metadata": {
        "id": "view-in-github",
        "colab_type": "text"
      },
      "source": [
        "<a href=\"https://colab.research.google.com/github/Deepsphere-AI/AI-lab-Schools/blob/main/Grade%2012/Unit-4/Colab_Twelve_PPT_35.ipynb\" target=\"_parent\"><img src=\"https://colab.research.google.com/assets/colab-badge.svg\" alt=\"Open In Colab\"/></a>"
      ]
    },
    {
      "cell_type": "code",
      "execution_count": null,
      "metadata": {
        "id": "y5CYKPpGFPwZ"
      },
      "outputs": [],
      "source": [
        "# \"\"\"\n",
        "# Ex. 35\n",
        "\n",
        "# Create a function Least_Expensive() which will details of the least expensive house.\n",
        "# \"\"\"\n",
        "\n",
        "import pandas as pd\n",
        "import numpy as np\n",
        "\n",
        "class Data_Analyzer:\n",
        "  name = \"\"\n",
        "  columns = []\n",
        "\n",
        "  def __init__(self,name):\n",
        "    self.name = name + \".csv\"\n",
        "  \n",
        "  def open(self):\n",
        "    return pd.read_csv(self.name)\n",
        "\n",
        "  def Most_Expensive(self):\n",
        "    return max(open(self.name)) \n",
        "  \n",
        "  def Least_Expensive(self):\n",
        "    return min(open(self.name)) \n",
        "\n",
        "d1 = Data_Analyzer(\"homes\")\n",
        "print(d1.open())\n",
        "print(d1.Most_Expensive())\n",
        "print(d1.Least_Expensive())"
      ]
    }
  ]
}