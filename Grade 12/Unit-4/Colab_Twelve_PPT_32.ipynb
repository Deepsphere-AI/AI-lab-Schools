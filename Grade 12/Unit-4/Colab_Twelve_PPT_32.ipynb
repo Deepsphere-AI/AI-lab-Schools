{
  "nbformat": 4,
  "nbformat_minor": 0,
  "metadata": {
    "colab": {
      "name": "Untitled336.ipynb",
      "provenance": [],
      "authorship_tag": "ABX9TyPCY87JjBeBKsfa/17xZwg9",
      "include_colab_link": true
    },
    "kernelspec": {
      "name": "python3",
      "display_name": "Python 3"
    },
    "language_info": {
      "name": "python"
    }
  },
  "cells": [
    {
      "cell_type": "markdown",
      "metadata": {
        "id": "view-in-github",
        "colab_type": "text"
      },
      "source": [
        "<a href=\"https://colab.research.google.com/github/Deepsphere-AI/AI-lab-Schools/blob/main/Grade%2012/Unit-4/Colab_Twelve_PPT_32.ipynb\" target=\"_parent\"><img src=\"https://colab.research.google.com/assets/colab-badge.svg\" alt=\"Open In Colab\"/></a>"
      ]
    },
    {
      "cell_type": "code",
      "execution_count": null,
      "metadata": {
        "id": "OC9czQP1EaVa"
      },
      "outputs": [],
      "source": [
        "# \"\"\"\n",
        "# Ex. 32\n",
        "\n",
        "# Create a constructor which takes in a name and sets it equal to the class's name variable, but adds .csv to the name passed in. Ie, Data_Analyzer(\"homes\") should set the name value to \"homes.csv\"\n",
        "# \"\"\"\n",
        "\n",
        "class Data_Analyzer:\n",
        "  name = \"\"\n",
        "  columns = []\n",
        "\n",
        "  def __init__(self,name):\n",
        "    self.name = name + \".csv\"\n",
        "\n",
        "d1 = Data_Analyzer(\"homes\")"
      ]
    }
  ]
}