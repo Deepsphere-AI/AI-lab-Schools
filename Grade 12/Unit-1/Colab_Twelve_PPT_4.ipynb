{
  "nbformat": 4,
  "nbformat_minor": 0,
  "metadata": {
    "colab": {
      "name": "Untitled268.ipynb",
      "provenance": [],
      "authorship_tag": "ABX9TyPFUoVTIZv9pXRCmD8aE2zT",
      "include_colab_link": true
    },
    "kernelspec": {
      "name": "python3",
      "display_name": "Python 3"
    },
    "language_info": {
      "name": "python"
    }
  },
  "cells": [
    {
      "cell_type": "markdown",
      "metadata": {
        "id": "view-in-github",
        "colab_type": "text"
      },
      "source": [
        "<a href=\"https://colab.research.google.com/github/Deepsphere-AI/AI-lab-Schools/blob/main/Grade%2012/Unit-1/Colab_Twelve_PPT_4.ipynb\" target=\"_parent\"><img src=\"https://colab.research.google.com/assets/colab-badge.svg\" alt=\"Open In Colab\"/></a>"
      ]
    },
    {
      "cell_type": "code",
      "execution_count": null,
      "metadata": {
        "id": "8qISUwHQNpw9"
      },
      "outputs": [],
      "source": [
        "# \"\"\"\"\n",
        "\n",
        "# Ex. 4\n",
        "\n",
        "# Create the function pp_sq_ft or price per square foot, which will calculate how much each sq_foot of the property costs based on the price of the house.\n",
        "\n",
        "# \"\"\"\n",
        "\n",
        "class house:\n",
        "  bed = 0.0\n",
        "  bath = 0.0\n",
        "  price = 0.0\n",
        "  sq_feet = 0.0\n",
        "\n",
        "  def __init__(self, bed, bath, price, sq_feet):\n",
        "    self.bed = bed\n",
        "    self.bath = bath\n",
        "    self.price = price\n",
        "    self.sq_feet = sq_feet\n",
        "  \n",
        "  def yard_area(self):\n",
        "    return self.sq_feet - 2000 - (self.bed * 130) - (self.bath * 50)\n",
        "  \n",
        "  def pp_sq_ft(self):\n",
        "    return self.price / self.sq_feet\n"
      ]
    }
  ]
}