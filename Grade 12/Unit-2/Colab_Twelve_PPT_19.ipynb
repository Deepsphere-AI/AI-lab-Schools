{
  "nbformat": 4,
  "nbformat_minor": 0,
  "metadata": {
    "colab": {
      "name": "Untitled296.ipynb",
      "provenance": [],
      "authorship_tag": "ABX9TyMX9H/882Gh8zcO4/2O7GkB",
      "include_colab_link": true
    },
    "kernelspec": {
      "name": "python3",
      "display_name": "Python 3"
    },
    "language_info": {
      "name": "python"
    }
  },
  "cells": [
    {
      "cell_type": "markdown",
      "metadata": {
        "id": "view-in-github",
        "colab_type": "text"
      },
      "source": [
        "<a href=\"https://colab.research.google.com/github/Deepsphere-AI/AI-lab-Schools/blob/main/Grade%2012/Unit-2/Colab_Twelve_PPT_19.ipynb\" target=\"_parent\"><img src=\"https://colab.research.google.com/assets/colab-badge.svg\" alt=\"Open In Colab\"/></a>"
      ]
    },
    {
      "cell_type": "code",
      "execution_count": null,
      "metadata": {
        "id": "54qaCJgKYOZP"
      },
      "outputs": [],
      "source": [
        "# \"\"\"\"\"\n",
        "# Ex. 19\n",
        "\n",
        "# Create a new plot of 10 x and y values completely randomized from 1 to 100.\n",
        "# \"\"\"\n",
        "\n",
        "import numpy as np\n",
        "import matplotlib.pyplot as plt\n",
        "from scipy import stats\n",
        "import random\n",
        "\n",
        "x = []\n",
        "y = []\n",
        "\n",
        "for i in range(10):\n",
        "  x = np.append(x,[random.randint(1,100)])\n",
        "\n",
        "for j in range(10):\n",
        "  y = np.append(y,[random.randint(1,100)])\n",
        "plt.scatter(x, y)\n",
        "plt.show()"
      ]
    }
  ]
}