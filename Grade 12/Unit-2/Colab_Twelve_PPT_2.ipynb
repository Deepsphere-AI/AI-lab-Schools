{
  "nbformat": 4,
  "nbformat_minor": 0,
  "metadata": {
    "colab": {
      "name": "Untitled265.ipynb",
      "provenance": [],
      "authorship_tag": "ABX9TyPkCiGSOVBxZy+uRHV/oRVh",
      "include_colab_link": true
    },
    "kernelspec": {
      "name": "python3",
      "display_name": "Python 3"
    },
    "language_info": {
      "name": "python"
    }
  },
  "cells": [
    {
      "cell_type": "markdown",
      "metadata": {
        "id": "view-in-github",
        "colab_type": "text"
      },
      "source": [
        "<a href=\"https://colab.research.google.com/github/Deepsphere-AI/AI-lab-Schools/blob/main/Grade%2012/Unit-2/Colab_Twelve_PPT_2.ipynb\" target=\"_parent\"><img src=\"https://colab.research.google.com/assets/colab-badge.svg\" alt=\"Open In Colab\"/></a>"
      ]
    },
    {
      "cell_type": "code",
      "execution_count": null,
      "metadata": {
        "id": "vGu2RTGrL8FT"
      },
      "outputs": [],
      "source": [
        "# \"\"\"\"\n",
        "\n",
        "# Ex. 2\n",
        "\n",
        "# Create a constructor for the house class that will take in the four parameters listed above and set them equal to one another.\n",
        "\n",
        "# \"\"\"\n",
        "\n",
        "class house:\n",
        "  bed = 0.0\n",
        "  bath = 0.0\n",
        "  price = 0.0\n",
        "  sq_feet = 0.0\n",
        "\n",
        "  def __init__(self, bed, bath, price, sq_feet):\n",
        "    self.bed = bed\n",
        "    self.bath = bath\n",
        "    self.price = price\n",
        "    self.sq_feet = sq_feet"
      ]
    }
  ]
}