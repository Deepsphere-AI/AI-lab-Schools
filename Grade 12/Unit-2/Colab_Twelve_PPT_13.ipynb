{
  "nbformat": 4,
  "nbformat_minor": 0,
  "metadata": {
    "colab": {
      "name": "Untitled286.ipynb",
      "provenance": [],
      "authorship_tag": "ABX9TyOl5tIYz28dgY/k6DkRpiIk",
      "include_colab_link": true
    },
    "kernelspec": {
      "name": "python3",
      "display_name": "Python 3"
    },
    "language_info": {
      "name": "python"
    }
  },
  "cells": [
    {
      "cell_type": "markdown",
      "metadata": {
        "id": "view-in-github",
        "colab_type": "text"
      },
      "source": [
        "<a href=\"https://colab.research.google.com/github/Deepsphere-AI/AI-lab-Schools/blob/main/Grade%2012/Unit-2/Colab_Twelve_PPT_13.ipynb\" target=\"_parent\"><img src=\"https://colab.research.google.com/assets/colab-badge.svg\" alt=\"Open In Colab\"/></a>"
      ]
    },
    {
      "cell_type": "code",
      "execution_count": null,
      "metadata": {
        "id": "LJ7qaihtTS1W"
      },
      "outputs": [],
      "source": [
        "# \"\"\"\"\"\n",
        "# Ex. 13\n",
        "\n",
        "# Using np.std, find and print the standard deviation of this array.\n",
        "# \"\"\"\n",
        "\n",
        "import numpy as np\n",
        "import random\n",
        "\n",
        "speed = np.array([])\n",
        "\n",
        "for x in range(13):\n",
        "  speed = np.append(speed,random.randint(60,120))\n",
        "\n",
        "mean = np.mean(speed)\n",
        "std = np.std(speed)\n",
        "\n",
        "print(speed)\n",
        "print(mean)\n",
        "print(std)"
      ]
    }
  ]
}