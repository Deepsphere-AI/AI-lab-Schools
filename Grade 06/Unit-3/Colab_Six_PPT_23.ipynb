{
  "nbformat": 4,
  "nbformat_minor": 0,
  "metadata": {
    "colab": {
      "name": "Untitled52.ipynb",
      "provenance": [],
      "authorship_tag": "ABX9TyPoqAS0SwSa67704zce3fYR",
      "include_colab_link": true
    },
    "kernelspec": {
      "name": "python3",
      "display_name": "Python 3"
    },
    "language_info": {
      "name": "python"
    }
  },
  "cells": [
    {
      "cell_type": "markdown",
      "metadata": {
        "id": "view-in-github",
        "colab_type": "text"
      },
      "source": [
        "<a href=\"https://colab.research.google.com/github/Deepsphere-AI/AI-lab-Schools/blob/main/Grade%2006/Unit-3/Colab_Six_PPT_23.ipynb\" target=\"_parent\"><img src=\"https://colab.research.google.com/assets/colab-badge.svg\" alt=\"Open In Colab\"/></a>"
      ]
    },
    {
      "cell_type": "code",
      "execution_count": null,
      "metadata": {
        "id": "tHWNGSGs5Qz-"
      },
      "outputs": [],
      "source": [
        "# \"\"\"\n",
        "# Ex 23.\n",
        "\n",
        "# Add Up all the values from each cell in the vARint_list (From Ex 22)\n",
        "# Program description: The objective of this program is to add up all the value from each call in the vARint_list.\n",
        "\n",
        "# \"\"\"\n",
        "\n",
        "vARint_list = [1, 2, 3, 4, 5, 6, 7, 8, 9, 10]\n",
        "\n",
        "for x in range(len(vARint_list)):\n",
        "  vARint_list[x]*=12\n",
        "\n",
        "vAR_add = [3, 6, 9, 12, 15, 18, 21, 24, 27, 30]\n",
        "for x in range(len(vARint_list)):\n",
        "  vARint_list[x] = (vARint_list[x] + vAR_add[x])\n",
        "\n",
        "vAR_total = 0\n",
        "for x in range (len(vARint_list)):\n",
        "  vAR_total+= vARint_list[x]"
      ]
    }
  ]
}