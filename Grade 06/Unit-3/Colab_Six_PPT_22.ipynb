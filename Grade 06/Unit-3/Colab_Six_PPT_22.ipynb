{
  "nbformat": 4,
  "nbformat_minor": 0,
  "metadata": {
    "colab": {
      "name": "Untitled51.ipynb",
      "provenance": [],
      "authorship_tag": "ABX9TyPsZMyKUvo0LNFKPZQ3aXT4",
      "include_colab_link": true
    },
    "kernelspec": {
      "name": "python3",
      "display_name": "Python 3"
    },
    "language_info": {
      "name": "python"
    }
  },
  "cells": [
    {
      "cell_type": "markdown",
      "metadata": {
        "id": "view-in-github",
        "colab_type": "text"
      },
      "source": [
        "<a href=\"https://colab.research.google.com/github/Deepsphere-AI/AI-lab-Schools/blob/main/Grade%2006/Unit-3/Colab_Six_PPT_22.ipynb\" target=\"_parent\"><img src=\"https://colab.research.google.com/assets/colab-badge.svg\" alt=\"Open In Colab\"/></a>"
      ]
    },
    {
      "cell_type": "code",
      "execution_count": null,
      "metadata": {
        "id": "N1wafy2u49Fa"
      },
      "outputs": [],
      "source": [
        "# \"\"\"\n",
        "# Ex 22.\n",
        "\n",
        "# Add Each value in the list (From Ex 21) to the corresponding value from: add = [3, 6, 9, 12, 15, 18, 21, 24, 27, 30]\n",
        "\n",
        "# Program description: The objective of this program is to add each value in the list “vARint_list” to the corresponding value [3, 6,9,12,15,18,21,24,27,30]\n",
        "# The program highlights the usage of add function in python.\n",
        "\n",
        "# \"\"\"\n",
        "\n",
        "vARint_list = [1, 2, 3, 4, 5, 6, 7, 8, 9, 10]\n",
        "for x in range(len(int_list)):\n",
        "  int_list[x]*=12\n",
        "vAR_add = [3, 6, 9, 12, 15, 18, 21, 24, 27, 30]\n",
        "for x in range(len(int_list)):\n",
        "  int_list[x] = (int_list[x] + vAR_add[x])"
      ]
    }
  ]
}