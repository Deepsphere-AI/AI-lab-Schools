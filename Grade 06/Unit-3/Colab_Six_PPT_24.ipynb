{
  "nbformat": 4,
  "nbformat_minor": 0,
  "metadata": {
    "colab": {
      "name": "Untitled53.ipynb",
      "provenance": [],
      "authorship_tag": "ABX9TyNP8xZwQjjr37i6nhVqrZqc",
      "include_colab_link": true
    },
    "kernelspec": {
      "name": "python3",
      "display_name": "Python 3"
    },
    "language_info": {
      "name": "python"
    }
  },
  "cells": [
    {
      "cell_type": "markdown",
      "metadata": {
        "id": "view-in-github",
        "colab_type": "text"
      },
      "source": [
        "<a href=\"https://colab.research.google.com/github/Deepsphere-AI/AI-lab-Schools/blob/main/Grade%2006/Unit-3/Colab_Six_PPT_24.ipynb\" target=\"_parent\"><img src=\"https://colab.research.google.com/assets/colab-badge.svg\" alt=\"Open In Colab\"/></a>"
      ]
    },
    {
      "cell_type": "code",
      "execution_count": null,
      "metadata": {
        "id": "eRk6zzO55mo5"
      },
      "outputs": [],
      "source": [
        "# \"\"\"\n",
        "# Ex 24.\n",
        "\n",
        "# Convert each number in the list from a int to a string\n",
        "# Program description: The objective of this program is to change the data type of the items in the list from integer to strings.\n",
        "\n",
        "# \"\"\"\n",
        "\n",
        "vARint_list = [1, 2, 3, 4, 5, 6, 7, 8, 9, 10]\n",
        "\n",
        "for x in range(len(vARint_list)):\n",
        "  vARint_list[x]*=12\n",
        "\n",
        "vAR_add = [3, 6, 9, 12, 15, 18, 21, 24, 27, 30]\n",
        "for x in range(len(vARint_list)):\n",
        "  vARint_list[x] = (vARint_list[x] + vAR_add[x])\n",
        "\n",
        "vAR_total = 0\n",
        "for x in range (len(vARint_list)):\n",
        "  vAR_total+= vARint_list[x]\n",
        "\n",
        "for x in range(len(vARint_list)):\n",
        "  vARint_list[x] = str(vARint_list[x])"
      ]
    }
  ]
}