{
  "nbformat": 4,
  "nbformat_minor": 0,
  "metadata": {
    "colab": {
      "name": "Untitled50.ipynb",
      "provenance": [],
      "authorship_tag": "ABX9TyOh+Ha+l6oARfzQ2dPA9ySI",
      "include_colab_link": true
    },
    "kernelspec": {
      "name": "python3",
      "display_name": "Python 3"
    },
    "language_info": {
      "name": "python"
    }
  },
  "cells": [
    {
      "cell_type": "markdown",
      "metadata": {
        "id": "view-in-github",
        "colab_type": "text"
      },
      "source": [
        "<a href=\"https://colab.research.google.com/github/Deepsphere-AI/AI-lab-Schools/blob/main/Grade%2006/Unit-3/Colab_Six_PPT_2.ipynb\" target=\"_parent\"><img src=\"https://colab.research.google.com/assets/colab-badge.svg\" alt=\"Open In Colab\"/></a>"
      ]
    },
    {
      "cell_type": "code",
      "execution_count": null,
      "metadata": {
        "id": "miwxSrcX4W_O"
      },
      "outputs": [],
      "source": [
        "# \"\"\"\n",
        "# Ex 21.\n",
        "\n",
        "# Multiply Each Number in the list by 12 (From Ex 20)\n",
        "\n",
        "# Program description: The objective of this program is to multiply each number in the vARint_list by twelve.\n",
        "\n",
        "# \"\"\"\n",
        "\n",
        "vARint_list = [1, 2, 3, 4, 5, 6, 7, 8, 9, 10]\n",
        "for x in range(len(vARint_list)):\n",
        "  vARint_list[x]*=12\n",
        "  "
      ]
    }
  ]
}
