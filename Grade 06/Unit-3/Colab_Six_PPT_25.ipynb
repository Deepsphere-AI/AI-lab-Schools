{
  "nbformat": 4,
  "nbformat_minor": 0,
  "metadata": {
    "colab": {
      "name": "Untitled54.ipynb",
      "provenance": [],
      "include_colab_link": true
    },
    "kernelspec": {
      "name": "python3",
      "display_name": "Python 3"
    },
    "language_info": {
      "name": "python"
    }
  },
  "cells": [
    {
      "cell_type": "markdown",
      "metadata": {
        "id": "view-in-github",
        "colab_type": "text"
      },
      "source": [
        "<a href=\"https://colab.research.google.com/github/Deepsphere-AI/AI-lab-Schools/blob/main/Grade%2006/Unit-3/Colab_Six_PPT_25.ipynb\" target=\"_parent\"><img src=\"https://colab.research.google.com/assets/colab-badge.svg\" alt=\"Open In Colab\"/></a>"
      ]
    },
    {
      "cell_type": "code",
      "execution_count": 1,
      "metadata": {
        "id": "qi9V3Zea54HQ",
        "outputId": "863dd668-19b1-423b-916c-cc748352ab29",
        "colab": {
          "base_uri": "https://localhost:8080/"
        }
      },
      "outputs": [
        {
          "output_type": "stream",
          "name": "stdout",
          "text": [
            " 12 24 36 48 60 72 84 96 108 420\n"
          ]
        }
      ],
      "source": [
        "# \"\"\"\n",
        "# Ex 25.\n",
        "\n",
        "# Finally, Add all the values to make 1 long string with each number seperated by a space\n",
        "\n",
        "# Program description: The objective of this program is to add all the values of a list containing different strings and make a large string.\n",
        "# \"\"\"\n",
        "\n",
        "vARint_list = [1, 2, 3, 4, 5, 6, 7, 8, 9, 10]\n",
        "\n",
        "for x in range(len(vARint_list)):\n",
        "  vARint_list[x]*=12\n",
        "\n",
        "vAR_add = [3, 6, 9, 12, 15, 18, 21, 24, 27, 30]\n",
        "for vAR_x in range(len(vARint_list)):\n",
        "  vARint_list[x] = (vARint_list[x] + vAR_add[x])\n",
        "\n",
        "vAR_total = 0\n",
        "for x in range (len(vARint_list)):\n",
        "  vAR_total+= vARint_list[x]\n",
        "\n",
        "for x in range(len(vARint_list)):\n",
        "  vARint_list[x] = str(vARint_list[x])\n",
        "\n",
        "print_me = \"\"\n",
        "for x in range(len(vARint_list)):\n",
        "  print_me = print_me + \" \" + vARint_list[x]\n",
        "print(print_me)"
      ]
    }
  ]
}