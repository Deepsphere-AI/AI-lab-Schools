{
  "nbformat": 4,
  "nbformat_minor": 0,
  "metadata": {
    "colab": {
      "name": "Untitled64.ipynb",
      "provenance": [],
      "include_colab_link": true
    },
    "kernelspec": {
      "name": "python3",
      "display_name": "Python 3"
    },
    "language_info": {
      "name": "python"
    }
  },
  "cells": [
    {
      "cell_type": "markdown",
      "metadata": {
        "id": "view-in-github",
        "colab_type": "text"
      },
      "source": [
        "<a href=\"https://colab.research.google.com/github/Deepsphere-AI/AI-lab-Schools/blob/main/Grade%2006/Unit-4/Colab_Six_PPT_35.ipynb\" target=\"_parent\"><img src=\"https://colab.research.google.com/assets/colab-badge.svg\" alt=\"Open In Colab\"/></a>"
      ]
    },
    {
      "cell_type": "code",
      "execution_count": null,
      "metadata": {
        "id": "VygdsD9r-R1z",
        "outputId": "5d23ec7b-c868-4537-d1bc-d81976a26a73",
        "colab": {
          "base_uri": "https://localhost:8080/"
        }
      },
      "outputs": [
        {
          "output_type": "stream",
          "name": "stdout",
          "text": [
            "0\n",
            "1\n",
            "2\n",
            "3\n",
            "4\n",
            "5\n",
            "6\n",
            "7\n",
            "8\n",
            "9\n"
          ]
        }
      ],
      "source": [
        "# \"\"\"\n",
        "# Ex 35.\n",
        "\n",
        "# Create a function that takes in a number and prints out all the numbers under it\n",
        "\n",
        "# Hint: for x in ___\n",
        "\n",
        "# Program description: The objective of this program is to create a simple user-defined function that combines both the knowledge of for loops and functions.\n",
        "# This program specifically takes in a number and prints out all the numbers lesser than him.\n",
        "# Remember: Indentation is extremely important in Python. Not indenting code that is supposed to come under a function properly will cause an error.\n",
        "\n",
        "\n",
        "# \"\"\"\n",
        "\n",
        "def under(vAR_num1):\n",
        "  for vAR_x in range(vAR_num1):\n",
        "    print(vAR_x)\n",
        "under(10)"
      ]
    }
  ]
}