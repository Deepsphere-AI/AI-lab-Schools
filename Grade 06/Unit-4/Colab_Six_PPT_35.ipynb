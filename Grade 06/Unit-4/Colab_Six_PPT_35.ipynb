{
  "nbformat": 4,
  "nbformat_minor": 0,
  "metadata": {
    "colab": {
      "name": "Untitled64.ipynb",
      "provenance": [],
      "authorship_tag": "ABX9TyOYmISl8PDdE4LLZgmw0KAz",
      "include_colab_link": true
    },
    "kernelspec": {
      "name": "python3",
      "display_name": "Python 3"
    },
    "language_info": {
      "name": "python"
    }
  },
  "cells": [
    {
      "cell_type": "markdown",
      "metadata": {
        "id": "view-in-github",
        "colab_type": "text"
      },
      "source": [
        "<a href=\"https://colab.research.google.com/github/Deepsphere-AI/AI-lab-Schools/blob/main/Grade%2006/Unit-4/Colab_Six_PPT_35.ipynb\" target=\"_parent\"><img src=\"https://colab.research.google.com/assets/colab-badge.svg\" alt=\"Open In Colab\"/></a>"
      ]
    },
    {
      "cell_type": "code",
      "execution_count": null,
      "metadata": {
        "id": "VygdsD9r-R1z"
      },
      "outputs": [],
      "source": [
        "# \"\"\"\n",
        "# Ex 35.\n",
        "\n",
        "# Create a function that takes in a number and prints out all the numbers under it\n",
        "\n",
        "# Hint: for x in ___\n",
        "\n",
        "# Program description: The objective of this program is to create a simple user-defined function that combines both the knowledge of for loops and functions.\n",
        "# This program specifically takes in a number and prints out all the numbers lesser than him.\n",
        "# Remember: Indentation is extremely important in Python. Not indenting code that is supposed to come under a function properly will cause an error.\n",
        "\n",
        "\n",
        "# \"\"\"\n",
        "\n",
        "def under(vAR_num1):\n",
        "  for vAR_x in range(vAR_num1):\n",
        "    print(vAR_x)"
      ]
    }
  ]
}