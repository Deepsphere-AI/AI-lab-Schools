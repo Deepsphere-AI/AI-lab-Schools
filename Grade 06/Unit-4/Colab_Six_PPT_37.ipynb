{
  "nbformat": 4,
  "nbformat_minor": 0,
  "metadata": {
    "colab": {
      "name": "Untitled66.ipynb",
      "provenance": [],
      "include_colab_link": true
    },
    "kernelspec": {
      "name": "python3",
      "display_name": "Python 3"
    },
    "language_info": {
      "name": "python"
    }
  },
  "cells": [
    {
      "cell_type": "markdown",
      "metadata": {
        "id": "view-in-github",
        "colab_type": "text"
      },
      "source": [
        "<a href=\"https://colab.research.google.com/github/Deepsphere-AI/AI-lab-Schools/blob/main/Grade%2006/Unit-4/Colab_Six_PPT_37.ipynb\" target=\"_parent\"><img src=\"https://colab.research.google.com/assets/colab-badge.svg\" alt=\"Open In Colab\"/></a>"
      ]
    },
    {
      "cell_type": "code",
      "execution_count": 1,
      "metadata": {
        "id": "Z6XFBHel_A5C",
        "outputId": "47aca6ec-bd53-4383-be99-a35338ee8e58",
        "colab": {
          "base_uri": "https://localhost:8080/"
        }
      },
      "outputs": [
        {
          "output_type": "stream",
          "name": "stdout",
          "text": [
            "54\n"
          ]
        }
      ],
      "source": [
        "# \"\"\"\n",
        "# Ex 37.\n",
        "\n",
        "# Create 2 functions where one multiplies by 5 and one takes the output of the first one and adds 4 to the output of it.\n",
        "\n",
        "# Program description: The objective of this program is to create 2 user-defined functions.\n",
        "# The function call of one function is placed within the other function.\n",
        "# The first function ‘vAR_times5’ multiplies a given number by 5 and then returns it. \n",
        "# The second function calls ‘vAR_times5’ and then adds 4. \n",
        "# Remember: A function can return data as a result. \n",
        "# If there is no value that is returned by a function, it is called a void function.\n",
        "\n",
        "# \"\"\"\n",
        "def vAR_times5(vAR_num1):\n",
        "  return vAR_num1*5\n",
        "\n",
        "def vAR_plus4(vAR_num1):\n",
        "  return vAR_times5(vAR_num1)+4\n",
        "\n",
        "print(vAR_plus4(10))"
      ]
    }
  ]
}