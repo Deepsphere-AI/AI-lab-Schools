{
  "nbformat": 4,
  "nbformat_minor": 0,
  "metadata": {
    "colab": {
      "name": "Untitled62.ipynb",
      "provenance": [],
      "authorship_tag": "ABX9TyNuVCM+5iILJJwOglIu7n8F",
      "include_colab_link": true
    },
    "kernelspec": {
      "name": "python3",
      "display_name": "Python 3"
    },
    "language_info": {
      "name": "python"
    }
  },
  "cells": [
    {
      "cell_type": "markdown",
      "metadata": {
        "id": "view-in-github",
        "colab_type": "text"
      },
      "source": [
        "<a href=\"https://colab.research.google.com/github/Deepsphere-AI/AI-lab-Schools/blob/main/Grade%2006/Unit-4/Colab_Six_PPT_33.ipynb\" target=\"_parent\"><img src=\"https://colab.research.google.com/assets/colab-badge.svg\" alt=\"Open In Colab\"/></a>"
      ]
    },
    {
      "cell_type": "code",
      "execution_count": null,
      "metadata": {
        "id": "cz1BgZIf9qcC"
      },
      "outputs": [],
      "source": [
        "# \"\"\"\n",
        "# Ex 33.\n",
        "\n",
        "# Adding on to the previous function, make it so that the function add, takes in 2 numbers and prints out their sum.\n",
        "\n",
        "# Program description: The objective of this program is to create a simple user-defined function that takes in 2 parameters and prints out its sum.\n",
        "# If you do not provide two numbers when calling the function, there will be an error.\n",
        "# Remember: You can pass data, known as parameters, into a function.\n",
        "\n",
        "\n",
        "# \"\"\"\n",
        "\n",
        "def add(vAR_num1, vAR_num2):\n",
        "  print(vAR_num1 + vAR_num2)"
      ]
    }
  ]
}