{
  "nbformat": 4,
  "nbformat_minor": 0,
  "metadata": {
    "colab": {
      "name": "Untitled69.ipynb",
      "provenance": [],
      "authorship_tag": "ABX9TyNm41pZ4ApYL+304Y6AHZS3",
      "include_colab_link": true
    },
    "kernelspec": {
      "name": "python3",
      "display_name": "Python 3"
    },
    "language_info": {
      "name": "python"
    }
  },
  "cells": [
    {
      "cell_type": "markdown",
      "metadata": {
        "id": "view-in-github",
        "colab_type": "text"
      },
      "source": [
        "<a href=\"https://colab.research.google.com/github/Deepsphere-AI/AI-lab-Schools/blob/main/Grade%2006/Unit-4/Colab_Six_PPT_40.ipynb\" target=\"_parent\"><img src=\"https://colab.research.google.com/assets/colab-badge.svg\" alt=\"Open In Colab\"/></a>"
      ]
    },
    {
      "cell_type": "code",
      "execution_count": null,
      "metadata": {
        "id": "x8I88zzfAc2V"
      },
      "outputs": [],
      "source": [
        "# \"\"\"\n",
        "# Ex 40.\n",
        "\n",
        "# Revisting the previous topics, create a 4 function calculator using functions that can add, subtract, multiply and divide. Take in user input like before.\n",
        "\n",
        "# Program description: The objective of this program is to create a simple user-defined function that takes in an input from the\n",
        "# user of the program and performs a variety of arithmetic functions on it before returning the final answer.\n",
        "# This program imitates a 4 function calculator. Here the user can input the two numbers and their preferred arithmetic operation(addition or subtraction).\n",
        "# Remember: Unless a function is called, python will not perform the code under the specific function. Hence, function calls are very important.\n",
        "# Try to differentiate between arguments and parameters of a function.\n",
        "\n",
        "# \"\"\"\n",
        "\n",
        "num1 = int(input(\"What is the first number:\"))\n",
        "num2 = int(input(\"What is the second number:\"))\n",
        "operation = input(\"What is the desired operation (- , + , / or *):\")\n",
        "\n",
        "def add(n1, n2):\n",
        "  return n1+n2\n",
        "\n",
        "def subtract(n1, n2):\n",
        "  return n1-n2\n",
        "\n",
        "def multiply(n1, n2):\n",
        "  return n1*n2\n",
        "\n",
        "def divide(n1, n2):\n",
        "  return n1/n2\n",
        "  \n",
        "if(operation == \"+\"):\n",
        "  print(add(num1,num2))\n",
        "elif(operation == \"-\"):\n",
        "  print(subtract(num1,num2))\n",
        "elif(operation == \"*\"):\n",
        "  print(multiply(num1,num2))\n",
        "elif(operation == \"/\"):\n",
        "  print(divide(num1,num2))\n",
        "else:\n",
        "  print(\"Invalid Operation\")"
      ]
    }
  ]
}