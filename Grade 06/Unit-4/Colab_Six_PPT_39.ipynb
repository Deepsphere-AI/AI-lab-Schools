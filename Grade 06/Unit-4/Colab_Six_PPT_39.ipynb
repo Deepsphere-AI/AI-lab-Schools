{
  "nbformat": 4,
  "nbformat_minor": 0,
  "metadata": {
    "colab": {
      "name": "Untitled68.ipynb",
      "provenance": [],
      "authorship_tag": "ABX9TyNRww6Hhc50m4mOBMxM6Ka9",
      "include_colab_link": true
    },
    "kernelspec": {
      "name": "python3",
      "display_name": "Python 3"
    },
    "language_info": {
      "name": "python"
    }
  },
  "cells": [
    {
      "cell_type": "markdown",
      "metadata": {
        "id": "view-in-github",
        "colab_type": "text"
      },
      "source": [
        "<a href=\"https://colab.research.google.com/github/Deepsphere-AI/AI-lab-Schools/blob/main/Grade%2006/Unit-4/Colab_Six_PPT_39.ipynb\" target=\"_parent\"><img src=\"https://colab.research.google.com/assets/colab-badge.svg\" alt=\"Open In Colab\"/></a>"
      ]
    },
    {
      "cell_type": "code",
      "execution_count": null,
      "metadata": {
        "id": "KrY1ctQQANl1"
      },
      "outputs": [],
      "source": [
        "# \"\"\"\n",
        "# Ex 39.\n",
        "\n",
        "# Create a function that sorts a list. Use the sorted() function which will sort a list alphaetically\n",
        "\n",
        "\n",
        "# Program description: \n",
        "# Program description: The objective of this program is to create a function which uses the Python’s inbuilt functions.\n",
        "# This program specifically uses sorted() functions to sort a list in the alphabetical order. It then returns the sorted list.\n",
        "# Remember: Built-in functions are those that are already defined in Python libraries and we can call them directly.\n",
        "# User defined functions are those that we define ourselves in our program using the ‘def’ keyword and then call them wherever we want.\n",
        "\n",
        "# \"\"\"\n",
        "\n",
        "def list_sorter(sort_me):\n",
        "  return sorted(sort_me)"
      ]
    }
  ]
}