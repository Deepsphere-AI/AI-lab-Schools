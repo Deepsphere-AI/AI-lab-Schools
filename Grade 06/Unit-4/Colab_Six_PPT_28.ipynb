{
  "nbformat": 4,
  "nbformat_minor": 0,
  "metadata": {
    "colab": {
      "name": "Untitled57.ipynb",
      "provenance": [],
      "include_colab_link": true
    },
    "kernelspec": {
      "name": "python3",
      "display_name": "Python 3"
    },
    "language_info": {
      "name": "python"
    }
  },
  "cells": [
    {
      "cell_type": "markdown",
      "metadata": {
        "id": "view-in-github",
        "colab_type": "text"
      },
      "source": [
        "<a href=\"https://colab.research.google.com/github/Deepsphere-AI/AI-lab-Schools/blob/main/Grade%2006/Unit-4/Colab_Six_PPT_28.ipynb\" target=\"_parent\"><img src=\"https://colab.research.google.com/assets/colab-badge.svg\" alt=\"Open In Colab\"/></a>"
      ]
    },
    {
      "cell_type": "code",
      "execution_count": 1,
      "metadata": {
        "id": "ZP1KNROd7wXz",
        "outputId": "ecaa31d9-864c-4f11-b922-24b41764c84c",
        "colab": {
          "base_uri": "https://localhost:8080/"
        }
      },
      "outputs": [
        {
          "output_type": "stream",
          "name": "stdout",
          "text": [
            "Enter a number:5\n",
            "Enter another number:2\n",
            "\n",
            "10\n"
          ]
        }
      ],
      "source": [
        "# \"\"\"\n",
        "# Ex 28.\n",
        "\n",
        "# Grab 2 numbers through user input and print out the result when they are multiplied\n",
        "\n",
        "# Hint: Use int() to convert string to an int.\n",
        "\n",
        "# Program description: The objective of this program is to get an input from the user of the program and perform functions on it before printing it out.\n",
        "# This program specifically asks for 2 numbers and multiplies them before printing it out.\n",
        "# Remember: The input function always takes user input as it is and converts it into a String.\n",
        "# To perform arithmetic operations like multiplication, you must first convert it into an Integer data type using the int keyword.\n",
        "\n",
        "# \"\"\"\n",
        "\n",
        "vAR_num1 = int(input(\"Enter a number:\"))\n",
        "vAR_num2 = int(input(\"Enter another number:\"))\n",
        "\n",
        "print() #This is just so there is a space\n",
        "print(vAR_num1 * vAR_num2)"
      ]
    }
  ]
}