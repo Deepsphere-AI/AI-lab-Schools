{
  "nbformat": 4,
  "nbformat_minor": 0,
  "metadata": {
    "colab": {
      "name": "Untitled65.ipynb",
      "provenance": [],
      "authorship_tag": "ABX9TyMTVPn9qmC5XyG+FLqVRHXl",
      "include_colab_link": true
    },
    "kernelspec": {
      "name": "python3",
      "display_name": "Python 3"
    },
    "language_info": {
      "name": "python"
    }
  },
  "cells": [
    {
      "cell_type": "markdown",
      "metadata": {
        "id": "view-in-github",
        "colab_type": "text"
      },
      "source": [
        "<a href=\"https://colab.research.google.com/github/Deepsphere-AI/AI-lab-Schools/blob/main/Grade%2006/Unit-4/Colab_Six_PPT_36.ipynb\" target=\"_parent\"><img src=\"https://colab.research.google.com/assets/colab-badge.svg\" alt=\"Open In Colab\"/></a>"
      ]
    },
    {
      "cell_type": "code",
      "execution_count": null,
      "metadata": {
        "id": "mXDA_qrB-vnx"
      },
      "outputs": [],
      "source": [
        "# \"\"\"\n",
        "# Ex 36.\n",
        "\n",
        "# Create a function similar to the previous that takes in a number and prints out the sum of all the numbers under it including the number itself. \n",
        "# For example, sum_under(6) would print out 21.\n",
        "\n",
        "# Program description: The objective of this program is to create a user-defined function that is similar to the one before, but instead prints out \n",
        "# the sum of the numbers less than the given number. \n",
        "# Try it out: What do you think will be the output when the number 1 is passed under this function. (Hint: try to be careful of the range)\n",
        "\n",
        "\n",
        "# \"\"\"\n",
        "\n",
        "def sum_under(num1):\n",
        "  out = 0\n",
        "  for x in range(num1+1):\n",
        "    out+=x\n",
        "  print(out)"
      ]
    }
  ]
}