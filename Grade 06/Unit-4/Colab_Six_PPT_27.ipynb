{
  "nbformat": 4,
  "nbformat_minor": 0,
  "metadata": {
    "colab": {
      "name": "Untitled56.ipynb",
      "provenance": [],
      "authorship_tag": "ABX9TyNfQxlXzKhkEOoOJ71/yZ5R",
      "include_colab_link": true
    },
    "kernelspec": {
      "name": "python3",
      "display_name": "Python 3"
    },
    "language_info": {
      "name": "python"
    }
  },
  "cells": [
    {
      "cell_type": "markdown",
      "metadata": {
        "id": "view-in-github",
        "colab_type": "text"
      },
      "source": [
        "<a href=\"https://colab.research.google.com/github/Deepsphere-AI/AI-lab-Schools/blob/main/Grade%2006/Unit-4/Colab_Six_PPT_27.ipynb\" target=\"_parent\"><img src=\"https://colab.research.google.com/assets/colab-badge.svg\" alt=\"Open In Colab\"/></a>"
      ]
    },
    {
      "cell_type": "code",
      "execution_count": null,
      "metadata": {
        "id": "Bg1LCIHl7Oal"
      },
      "outputs": [],
      "source": [
        "# \"\"\"\n",
        "# Ex 27.\n",
        "\n",
        "# Grab the username and password through user input using input(). Print back the result.\n",
        "\n",
        "# Program description: The objective of this program is to get an input from the user of the program and print it.\n",
        "# This program specifically asks for the user’s username and password and then prints it out.\n",
        "# Remember: The input function always takes user input as it is and converts it into a String.\n",
        "\n",
        "\n",
        "# \"\"\"\n",
        "\n",
        "vAR_username = input(\"Enter username:\")\n",
        "vAR_password = input(\"Enter password:\")\n",
        "\n",
        "print() #This is just so there is a space\n",
        "print(\"Username:\",vAR_username)\n",
        "print(\"Password:\",vAR_password)"
      ]
    }
  ]
}