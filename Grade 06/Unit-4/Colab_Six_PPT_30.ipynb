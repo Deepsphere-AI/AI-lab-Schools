{
  "nbformat": 4,
  "nbformat_minor": 0,
  "metadata": {
    "colab": {
      "name": "Untitled59.ipynb",
      "provenance": [],
      "authorship_tag": "ABX9TyO7r1TaGJkKpMK/jj8XxCX0",
      "include_colab_link": true
    },
    "kernelspec": {
      "name": "python3",
      "display_name": "Python 3"
    },
    "language_info": {
      "name": "python"
    }
  },
  "cells": [
    {
      "cell_type": "markdown",
      "metadata": {
        "id": "view-in-github",
        "colab_type": "text"
      },
      "source": [
        "<a href=\"https://colab.research.google.com/github/Deepsphere-AI/AI-lab-Schools/blob/main/Grade%2006/Unit-4/Colab_Six_PPT_30.ipynb\" target=\"_parent\"><img src=\"https://colab.research.google.com/assets/colab-badge.svg\" alt=\"Open In Colab\"/></a>"
      ]
    },
    {
      "cell_type": "code",
      "execution_count": null,
      "metadata": {
        "id": "HbKTXupE8Tig"
      },
      "outputs": [],
      "source": [
        "# \"\"\"\n",
        "# Ex 30.\n",
        "\n",
        "# Create a System that will check whether or not a user's credentials match the correct username and password. Using user input,\n",
        "# if the User's username matches \"Billy\" and the Users password matches \"Clark123\", then print(\"Access Granted\"). Otherwise, print(\"Access Denied\").\n",
        "\n",
        "# Program description: The objective of this program is to get an input from the user of the program and test it against an already existing condition. \n",
        "# This program specifically gets an input of username and password and decides whether it matches the already set username and password.\n",
        "# Then it either grants access or denies access.\n",
        "# Notice: Doesn’t this program seem to simulate the log in pages of a website?\n",
        "\n",
        "\n",
        "# \"\"\"\n",
        "\n",
        "vAR_username = input(\"Enter username:\")\n",
        "vAR_password = input(\"Enter password:\")\n",
        "\n",
        "print() #This is just so there is a space\n",
        "if(vAR_username == \"Billy\" and vAR_password == \"Clark123\"):\n",
        "  print(\"Access Granted\")\n",
        "else:\n",
        "  print(\"Access Denied\")"
      ]
    }
  ]
}