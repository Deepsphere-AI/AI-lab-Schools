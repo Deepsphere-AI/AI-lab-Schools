{
  "nbformat": 4,
  "nbformat_minor": 0,
  "metadata": {
    "colab": {
      "name": "Untitled58.ipynb",
      "provenance": [],
      "authorship_tag": "ABX9TyMvVmT87Vt8vOpl6/ZBd112",
      "include_colab_link": true
    },
    "kernelspec": {
      "name": "python3",
      "display_name": "Python 3"
    },
    "language_info": {
      "name": "python"
    }
  },
  "cells": [
    {
      "cell_type": "markdown",
      "metadata": {
        "id": "view-in-github",
        "colab_type": "text"
      },
      "source": [
        "<a href=\"https://colab.research.google.com/github/Deepsphere-AI/AI-lab-Schools/blob/main/Grade%2006/Unit-4/Colab_Six_PPT_29.ipynb\" target=\"_parent\"><img src=\"https://colab.research.google.com/assets/colab-badge.svg\" alt=\"Open In Colab\"/></a>"
      ]
    },
    {
      "cell_type": "code",
      "execution_count": null,
      "metadata": {
        "id": "k4CooVzH8C6r"
      },
      "outputs": [],
      "source": [
        "# \"\"\"\n",
        "# Ex 29.\n",
        "\n",
        "# Say an apple costs .59 cents and a pear costs .99 cents. Using user input and ommiting any taxes, find out how much it costs if one buys 3 apples and 4 pears.\n",
        "\n",
        "# Program description: The objective of this program is to get an input from the user of the program and perform functions on it before printing it out.\n",
        "# This program specifically calculates the total cost of apples and pears at the rate of .59 cents per apple and .99 cents per pear.\n",
        "# It inputs the individual number of apples and pears before finding the total cost.\n",
        "# Try it out: Try to find the cost of 3 apples and 4 pears, then try finding the cost of 8 apples and 12 pears.\n",
        "\n",
        "# \"\"\"\n",
        "vAR_apples  = int(input(\"How many apples:\"))\n",
        "vAR_pears = int(input(\"How many pears:\"))\n",
        "\n",
        "print() #This is just so there is a space\n",
        "print(vAR_apples * .59 + vAR_pears * .99)"
      ]
    }
  ]
}