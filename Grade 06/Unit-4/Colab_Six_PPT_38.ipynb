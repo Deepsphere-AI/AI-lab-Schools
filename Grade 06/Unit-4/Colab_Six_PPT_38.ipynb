{
  "nbformat": 4,
  "nbformat_minor": 0,
  "metadata": {
    "colab": {
      "name": "Untitled67.ipynb",
      "provenance": [],
      "authorship_tag": "ABX9TyMK8fouswkvop+5e6sjf5kB",
      "include_colab_link": true
    },
    "kernelspec": {
      "name": "python3",
      "display_name": "Python 3"
    },
    "language_info": {
      "name": "python"
    }
  },
  "cells": [
    {
      "cell_type": "markdown",
      "metadata": {
        "id": "view-in-github",
        "colab_type": "text"
      },
      "source": [
        "<a href=\"https://colab.research.google.com/github/Deepsphere-AI/AI-lab-Schools/blob/main/Grade%2006/Unit-4/Colab_Six_PPT_38.ipynb\" target=\"_parent\"><img src=\"https://colab.research.google.com/assets/colab-badge.svg\" alt=\"Open In Colab\"/></a>"
      ]
    },
    {
      "cell_type": "code",
      "execution_count": null,
      "metadata": {
        "id": "v1l20gLK_k8U"
      },
      "outputs": [],
      "source": [
        "# \"\"\"\n",
        "# Ex 38.\n",
        "\n",
        "# Create a function that scrambles the order of a sentence inputted by a user. The last and first word will be switched and the second word will be deleted. Use a switching algorithm in order to swich the first and last words. This excersise is more difficult then the previous one, but try your best!\n",
        "\n",
        "# Hint: Using the method .split(\" \") on a string will split the sentence into a list where each word occupies a slot.\n",
        "\n",
        "\n",
        "# Program description: The objective of this program is to create a function which performs several tasks altogether.\n",
        "# This code specifically creates a function that scrambles the order of a  sentence given by the user.\n",
        "# The last and first word will be switched and the second word will be deleted. \n",
        "# It uses a ‘Switching algorithm’ (using a temp variable) to do the same.\n",
        "# This is a little more difficult compared to the rest.\n",
        "# Hint: Using the method.split(\" \") on a string will split the sentence into a list where each word occupies a slot.\n",
        "\n",
        "# \"\"\"\n",
        "\n",
        "\n",
        "def sentence_scrambler(sent):\n",
        "  words = sent.split(\" \")\n",
        "  output = \"\"\n",
        "  #Below is a common switching algorithm\n",
        "  temp = words[0] #Temporarily stores value that will be replaced\n",
        "  words[0] = words[len(words)-1] # Replaces value 1 with value 2\n",
        "  words[len(words)-1] = temp # Replace value 2 with temp which stores value 1\n",
        "  words[1] = \"\"\n",
        "  for x in words:\n",
        "    output = output + x + \" \"\n",
        "  print(output)\n",
        "sentence_scrambler(\"The last and first word\")"
      ]
    }
  ]
}