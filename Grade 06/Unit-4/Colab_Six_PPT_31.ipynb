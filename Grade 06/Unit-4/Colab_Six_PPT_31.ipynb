{
  "nbformat": 4,
  "nbformat_minor": 0,
  "metadata": {
    "colab": {
      "name": "Untitled60.ipynb",
      "provenance": [],
      "authorship_tag": "ABX9TyOnO7SbDXb5S/OhOrwGqv7S",
      "include_colab_link": true
    },
    "kernelspec": {
      "name": "python3",
      "display_name": "Python 3"
    },
    "language_info": {
      "name": "python"
    }
  },
  "cells": [
    {
      "cell_type": "markdown",
      "metadata": {
        "id": "view-in-github",
        "colab_type": "text"
      },
      "source": [
        "<a href=\"https://colab.research.google.com/github/Deepsphere-AI/AI-lab-Schools/blob/main/Grade%2006/Unit-4/Colab_Six_PPT_31.ipynb\" target=\"_parent\"><img src=\"https://colab.research.google.com/assets/colab-badge.svg\" alt=\"Open In Colab\"/></a>"
      ]
    },
    {
      "cell_type": "code",
      "execution_count": null,
      "metadata": {
        "id": "Hdx6vhO28uEF"
      },
      "outputs": [],
      "source": [
        "# \"\"\"\n",
        "# Ex 31.\n",
        "\n",
        "# Using user input, create a basic calculator that will add or subtract 2 numbers the user passes in. If the user passes in the numbers 1 , 2 and then types in -,\n",
        "# then the output should be 1-2, or -1. If the user types in 3,4 and then +, the output should be 3+4, or 7.\n",
        "\n",
        "# Program description: The objective of this program is to get an input from the user of the program and perform a variety of arithmetic functions on it before returning the\n",
        "# final answer. \n",
        "# This program imitates a 2 function calculator. Here the user can input the two numbers and their preferred arithmetic operation (addition or subtraction).\n",
        "# Remember: You have to include a condition for even the worst case scenario when it comes to inputs, the desired format of input may not always be followed.\n",
        "\n",
        "# \"\"\"\n",
        "\n",
        "vAR_num1 = int(input(\"What is the first number:\"))\n",
        "vAR_num2 = int(input(\"What is the second number:\"))\n",
        "vAR_operation = input(\"What is the desired operation (- or +):\")\n",
        "\n",
        "print() #This is just so there is a space\n",
        "if(vAR_operation == \"-\"):\n",
        "  print(vAR_num1 - vAR_num2)\n",
        "elif(vAR_operation == \"+\"):\n",
        "  print(vAR_num1+num2)\n",
        "else:\n",
        "  print(\"Not Valid Operation Input\")"
      ]
    }
  ]
}