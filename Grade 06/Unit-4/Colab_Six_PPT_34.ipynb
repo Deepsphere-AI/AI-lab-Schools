{
  "nbformat": 4,
  "nbformat_minor": 0,
  "metadata": {
    "colab": {
      "name": "Untitled63.ipynb",
      "provenance": [],
      "authorship_tag": "ABX9TyN+23hBt9HIjWekXU/7chV4",
      "include_colab_link": true
    },
    "kernelspec": {
      "name": "python3",
      "display_name": "Python 3"
    },
    "language_info": {
      "name": "python"
    }
  },
  "cells": [
    {
      "cell_type": "markdown",
      "metadata": {
        "id": "view-in-github",
        "colab_type": "text"
      },
      "source": [
        "<a href=\"https://colab.research.google.com/github/Deepsphere-AI/AI-lab-Schools/blob/main/Grade%2006/Unit-4/Colab_Six_PPT_34.ipynb\" target=\"_parent\"><img src=\"https://colab.research.google.com/assets/colab-badge.svg\" alt=\"Open In Colab\"/></a>"
      ]
    },
    {
      "cell_type": "code",
      "execution_count": null,
      "metadata": {
        "id": "E70p4ERK98E-"
      },
      "outputs": [],
      "source": [
        "# \"\"\"\n",
        "# Ex 34.\n",
        "\n",
        "# Create another function, subtract that does the opposite of add and subtracts the two numbers passed in.\n",
        "\n",
        "# Program description: The objective of this program is to create a simple user-defined function that takes in 2 parameters and print out its difference.\n",
        "# If you do not provide two numbers when calling the function, there will be an error.\n",
        "# Notice: Isn’t this program and the program before this, similar to Ex. 31? Then why do we need functions?\n",
        "\n",
        "# \"\"\"\n",
        "\n",
        "def subtract(vAR_num1, vAR_num2):\n",
        "  print(vAR_num1 - vAR_num2)"
      ]
    }
  ]
}