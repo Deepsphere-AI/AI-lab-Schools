{
  "nbformat": 4,
  "nbformat_minor": 0,
  "metadata": {
    "colab": {
      "name": "Untitled55.ipynb",
      "provenance": [],
      "authorship_tag": "ABX9TyNHWXj2Fawc0MSTr5S3ZEkN",
      "include_colab_link": true
    },
    "kernelspec": {
      "name": "python3",
      "display_name": "Python 3"
    },
    "language_info": {
      "name": "python"
    }
  },
  "cells": [
    {
      "cell_type": "markdown",
      "metadata": {
        "id": "view-in-github",
        "colab_type": "text"
      },
      "source": [
        "<a href=\"https://colab.research.google.com/github/Deepsphere-AI/AI-lab-Schools/blob/main/Grade%2006/Unit-4/Colab_Six_PPT_26.ipynb\" target=\"_parent\"><img src=\"https://colab.research.google.com/assets/colab-badge.svg\" alt=\"Open In Colab\"/></a>"
      ]
    },
    {
      "cell_type": "code",
      "execution_count": null,
      "metadata": {
        "id": "mr58nTKO6r0R"
      },
      "outputs": [],
      "source": [
        "# \"\"\"\n",
        "# Ex 26.\n",
        "\n",
        "# Grab the username through user input using input()\n",
        "\n",
        "# Program description: The objective of this program is to get input from the user of the program.\n",
        "# It forms a basis for learning how to make your program interact with the users. \n",
        "# This program specifically asks for the user’s username.\n",
        "# Remember: A prompt is a String that represents a default message before the input\n",
        "\n",
        "\n",
        "# \"\"\"\n",
        "\n",
        "vAR_username = input(\"Enter username:\")"
      ]
    }
  ]
}