{
  "nbformat": 4,
  "nbformat_minor": 0,
  "metadata": {
    "colab": {
      "name": "Untitled61.ipynb",
      "provenance": [],
      "authorship_tag": "ABX9TyMjsz9vrUVtgNvTSuD5idyi",
      "include_colab_link": true
    },
    "kernelspec": {
      "name": "python3",
      "display_name": "Python 3"
    },
    "language_info": {
      "name": "python"
    }
  },
  "cells": [
    {
      "cell_type": "markdown",
      "metadata": {
        "id": "view-in-github",
        "colab_type": "text"
      },
      "source": [
        "<a href=\"https://colab.research.google.com/github/Deepsphere-AI/AI-lab-Schools/blob/main/Grade%2006/Unit-4/Colab_Six_PPT_32.ipynb\" target=\"_parent\"><img src=\"https://colab.research.google.com/assets/colab-badge.svg\" alt=\"Open In Colab\"/></a>"
      ]
    },
    {
      "cell_type": "code",
      "execution_count": null,
      "metadata": {
        "id": "34HpxkHq89Vz"
      },
      "outputs": [],
      "source": [
        "# \"\"\"\n",
        "# Ex 32.\n",
        "\n",
        "# Now we are starting functions. Using the keyword def, create a basing function called add that does not take anything in, nor returns anything.\n",
        "\n",
        "# Program description: The objective of this program is to start with an introduction to functions.\n",
        "# You can learn how to create user-defined functions using the keyword ‘def’.\n",
        "# The function does not take anything nor return anything. This program specifically prints out a blank line when called.\n",
        "# Remember: A function is a block of code which only runs when it is called.\n",
        "\n",
        "# \"\"\"\n",
        "\n",
        "def add():\n",
        "  print()"
      ]
    }
  ]
}