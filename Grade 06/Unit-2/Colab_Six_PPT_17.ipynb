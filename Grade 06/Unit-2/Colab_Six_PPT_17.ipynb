{
  "nbformat": 4,
  "nbformat_minor": 0,
  "metadata": {
    "colab": {
      "name": "Untitled46.ipynb",
      "provenance": [],
      "include_colab_link": true
    },
    "kernelspec": {
      "name": "python3",
      "display_name": "Python 3"
    },
    "language_info": {
      "name": "python"
    }
  },
  "cells": [
    {
      "cell_type": "markdown",
      "metadata": {
        "id": "view-in-github",
        "colab_type": "text"
      },
      "source": [
        "<a href=\"https://colab.research.google.com/github/Deepsphere-AI/AI-lab-Schools/blob/main/Grade%2006/Unit-2/Colab_Six_PPT_17.ipynb\" target=\"_parent\"><img src=\"https://colab.research.google.com/assets/colab-badge.svg\" alt=\"Open In Colab\"/></a>"
      ]
    },
    {
      "cell_type": "code",
      "execution_count": 1,
      "metadata": {
        "id": "pCI2dw6mgM_e",
        "outputId": "4042ed5b-3adf-4368-bdb7-75dc6d5c74cb",
        "colab": {
          "base_uri": "https://localhost:8080/"
        }
      },
      "outputs": [
        {
          "output_type": "stream",
          "name": "stdout",
          "text": [
            "['Bannana', 'Apple', 'Peach']\n"
          ]
        }
      ],
      "source": [
        "# \"\"\"\n",
        "# Ex 17.\n",
        "\n",
        "# Using the list created in ex. 14, print out each value in the list\n",
        "\n",
        "# Hint: No loop required, just use print\n",
        "\n",
        "# Program description: The objective of this program is to print all the values in the list (vAR_fruits). \n",
        "# “Print (vAR_fruits)” code prints the values in all slots.\n",
        "# This program highlights the usage of print function in python.\n",
        "# Note: Lists are used to store multiple value or items in a single variable.\n",
        "\n",
        "# \"\"\"\n",
        "\n",
        "vAR_fruits = [\"Bannana\", \"Apple\", \"Peach\"]\n",
        "print(vAR_fruits)"
      ]
    }
  ]
}