{
  "nbformat": 4,
  "nbformat_minor": 0,
  "metadata": {
    "colab": {
      "name": "Untitled42.ipynb",
      "provenance": [],
      "authorship_tag": "ABX9TyMBnjal5qoPKThAoadpe9cY",
      "include_colab_link": true
    },
    "kernelspec": {
      "name": "python3",
      "display_name": "Python 3"
    },
    "language_info": {
      "name": "python"
    }
  },
  "cells": [
    {
      "cell_type": "markdown",
      "metadata": {
        "id": "view-in-github",
        "colab_type": "text"
      },
      "source": [
        "<a href=\"https://colab.research.google.com/github/Deepsphere-AI/AI-lab-Schools/blob/main/Grade%2006/Unit-2/Colab_Six_PPT_13.ipynb\" target=\"_parent\"><img src=\"https://colab.research.google.com/assets/colab-badge.svg\" alt=\"Open In Colab\"/></a>"
      ]
    },
    {
      "cell_type": "code",
      "execution_count": null,
      "metadata": {
        "id": "H3jDitw8e3_t"
      },
      "outputs": [],
      "source": [
        "# \"\"\"\n",
        "# Ex 13.\n",
        "\n",
        "# Write a loop to print out counting numbers from 0 - 9, but use while instead of for\\\n",
        "\n",
        "# Program description: The objective of this program is to print numbers from 0 – 9 using a while loop. \n",
        "# The variable vAR_x equals 0, While variable vAR_x < 10 it prints the value in variable vAR_x. This program keeps repeating till vAR_x reaches 9.\n",
        "# Since the starting value of vAR_x is 0 it will start from 0 and end in 9.\n",
        "# Note: While loop in python is used to execute a block of statement repeatedly until a given condition is satisfied.\n",
        "\n",
        "# \"\"\"\n",
        "\n",
        "vAR_x = 0\n",
        "while vAR_x < 10:\n",
        "  print(vAR_x)\n",
        "  vAR_x = vAR_x+1    \n",
        "  #Or vAR_x+=1 also works"
      ]
    }
  ]
}