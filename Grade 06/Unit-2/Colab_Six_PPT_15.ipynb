{
  "nbformat": 4,
  "nbformat_minor": 0,
  "metadata": {
    "colab": {
      "name": "Untitled44.ipynb",
      "provenance": [],
      "include_colab_link": true
    },
    "kernelspec": {
      "name": "python3",
      "display_name": "Python 3"
    },
    "language_info": {
      "name": "python"
    }
  },
  "cells": [
    {
      "cell_type": "markdown",
      "metadata": {
        "id": "view-in-github",
        "colab_type": "text"
      },
      "source": [
        "<a href=\"https://colab.research.google.com/github/Deepsphere-AI/AI-lab-Schools/blob/main/Grade%2006/Unit-2/Colab_Six_PPT_15.ipynb\" target=\"_parent\"><img src=\"https://colab.research.google.com/assets/colab-badge.svg\" alt=\"Open In Colab\"/></a>"
      ]
    },
    {
      "cell_type": "code",
      "execution_count": 1,
      "metadata": {
        "id": "O491iRsnfjq8",
        "outputId": "202be585-05be-414f-fa88-5cf413842e60",
        "colab": {
          "base_uri": "https://localhost:8080/"
        }
      },
      "outputs": [
        {
          "output_type": "stream",
          "name": "stdout",
          "text": [
            "Apple\n"
          ]
        }
      ],
      "source": [
        "# \"\"\"\n",
        "# Ex 15.\n",
        "\n",
        "# Using the list created in ex. 14, print out the second slot of the list\n",
        "\n",
        "# Program description: The objective of this program is to print out the second slot of the list named fruits containing values “Banana”, “Apple”, “Peach”. \n",
        "# The second slot of this list is Apple; Therefore, the output of this program is Apple.\n",
        "\n",
        "# Note: A list can also have another list as an item. This is called a nested list.\n",
        "\n",
        "# \"\"\"\n",
        "\n",
        "vAR_fruits = [\"Bannana\", \"Apple\", \"Peach\"]\n",
        "print(vAR_fruits[1])"
      ]
    }
  ]
}