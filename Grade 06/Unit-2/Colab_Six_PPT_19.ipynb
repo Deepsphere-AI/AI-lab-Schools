{
  "nbformat": 4,
  "nbformat_minor": 0,
  "metadata": {
    "colab": {
      "name": "Untitled48.ipynb",
      "provenance": [],
      "include_colab_link": true
    },
    "kernelspec": {
      "name": "python3",
      "display_name": "Python 3"
    },
    "language_info": {
      "name": "python"
    }
  },
  "cells": [
    {
      "cell_type": "markdown",
      "metadata": {
        "id": "view-in-github",
        "colab_type": "text"
      },
      "source": [
        "<a href=\"https://colab.research.google.com/github/Deepsphere-AI/AI-lab-Schools/blob/main/Grade%2006/Unit-2/Colab_Six_PPT_19.ipynb\" target=\"_parent\"><img src=\"https://colab.research.google.com/assets/colab-badge.svg\" alt=\"Open In Colab\"/></a>"
      ]
    },
    {
      "cell_type": "code",
      "execution_count": 1,
      "metadata": {
        "id": "hkQnbA8wg95T",
        "outputId": "f6f073d2-8a6c-461e-e4c6-d452fbdc7e74",
        "colab": {
          "base_uri": "https://localhost:8080/"
        }
      },
      "outputs": [
        {
          "output_type": "stream",
          "name": "stdout",
          "text": [
            "['Pineapple', 'Watermelon', 'Peach']\n"
          ]
        }
      ],
      "source": [
        "# \"\"\"\n",
        "# Ex 19.\n",
        "\n",
        "# Using the list created in ex. 14, given the list, new_fruits = [\"Pineapple\", \"Watermelon\"], replace the corresponding value of fruits, \n",
        "# with the corresponding values of new_fruits\n",
        "# Program description: The objective of this program is to replace the corresponding value of the variable fruits, \n",
        "# with the corresponding value of the variable new_fruit. The len () function for getting the length of a list.\n",
        "\n",
        "# \"\"\"\n",
        "\n",
        "vAR_fruits = [\"Bannana\", \"Apple\", \"Peach\"]\n",
        "new_fruits = [\"Pineapple\", \"Watermelon\"]\n",
        "for vAR_x in range(len(new_fruits)):\n",
        "  vAR_fruits[vAR_x] = new_fruits[vAR_x]\n",
        "print(vAR_fruits)"
      ]
    }
  ]
}