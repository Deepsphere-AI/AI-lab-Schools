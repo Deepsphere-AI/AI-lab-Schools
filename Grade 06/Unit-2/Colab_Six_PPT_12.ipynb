{
  "nbformat": 4,
  "nbformat_minor": 0,
  "metadata": {
    "colab": {
      "name": "Untitled41.ipynb",
      "provenance": [],
      "authorship_tag": "ABX9TyP2UkgiUjRm/k70Z+TaJh0q",
      "include_colab_link": true
    },
    "kernelspec": {
      "name": "python3",
      "display_name": "Python 3"
    },
    "language_info": {
      "name": "python"
    }
  },
  "cells": [
    {
      "cell_type": "markdown",
      "metadata": {
        "id": "view-in-github",
        "colab_type": "text"
      },
      "source": [
        "<a href=\"https://colab.research.google.com/github/Deepsphere-AI/AI-lab-Schools/blob/main/Grade%2006/Unit-2/Colab_Six_PPT_12.ipynb\" target=\"_parent\"><img src=\"https://colab.research.google.com/assets/colab-badge.svg\" alt=\"Open In Colab\"/></a>"
      ]
    },
    {
      "cell_type": "code",
      "execution_count": null,
      "metadata": {
        "id": "x2fJQ_9vecFS"
      },
      "outputs": [],
      "source": [
        "# \"\"\"\n",
        "# Ex 12.\n",
        "\n",
        "# Similar to previous question, but instead of 0 - 9, use 10 - 20\n",
        "\n",
        "# Hint: Use for vAR_x in ___:\n",
        "\n",
        "# Program description: The objective of this program is to print numbers Between 10 – 20. This program highlights the usage of “for” loop in python.\n",
        "# In python “for” loop the first number is used to indicate the starting of the list or series. The second number is used to indicate the ending of the list or series. \n",
        "# So, the 10 -21is used to represent the starting number and the ending number. We might have a small doubt that the objective of this program is to print numbers 10 – 20 \n",
        "# then why in the code it is written as 10 – 21. Python always prints 1 number less than we mention in the ending.\n",
        "# Bonus point: The third number written in the “for” loop is to mention the difference between numbers (skip numbers).\n",
        "\n",
        "\n",
        "# \"\"\"\n",
        "\n",
        "for vAR_x in range(10,21):\n",
        "  print(vAR_x)"
      ]
    }
  ]
}