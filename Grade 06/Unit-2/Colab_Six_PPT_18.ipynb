{
  "nbformat": 4,
  "nbformat_minor": 0,
  "metadata": {
    "colab": {
      "name": "Untitled47.ipynb",
      "provenance": [],
      "authorship_tag": "ABX9TyORashIilCerFl41HNT3wn7",
      "include_colab_link": true
    },
    "kernelspec": {
      "name": "python3",
      "display_name": "Python 3"
    },
    "language_info": {
      "name": "python"
    }
  },
  "cells": [
    {
      "cell_type": "markdown",
      "metadata": {
        "id": "view-in-github",
        "colab_type": "text"
      },
      "source": [
        "<a href=\"https://colab.research.google.com/github/Deepsphere-AI/AI-lab-Schools/blob/main/Grade%2006/Unit-2/Colab_Six_PPT_18.ipynb\" target=\"_parent\"><img src=\"https://colab.research.google.com/assets/colab-badge.svg\" alt=\"Open In Colab\"/></a>"
      ]
    },
    {
      "cell_type": "code",
      "execution_count": null,
      "metadata": {
        "id": "y4fMGc08gwGF"
      },
      "outputs": [],
      "source": [
        "# \"\"\"\n",
        "# Ex 18.\n",
        "\n",
        "# Using the list created in ex. 14, given a new list, new_fruits = [\"Pineapple\", \"Coconut\", \"Watermelon\"], combine the two.\n",
        "# Program description: The objective of this program is to create a new list in the name of “new_fruits” and combine this new list with list” fruits”. \n",
        "# The new_fruits (New list) consists of three values “Pineapple”, “Coconut”, “Watermelon”. A list can also have another list as an item. \n",
        "# This new_fruits are then combined with the list vAR_fruits. So now the value present in the new_fruits list are now the values of fruits as well.\n",
        "# This program highlights the usage of append in python.\n",
        "\n",
        "# \"\"\"\n",
        "\n",
        "vAR_fruits = [\"Bannana\", \"Apple\", \"Peach\"]\n",
        "new_fruits = [\"Pineapple\", \"Coconut\", \"Watermelon\"]\n",
        "for x in new_fruits:\n",
        "  vAR_fruits.append(x)"
      ]
    }
  ]
}