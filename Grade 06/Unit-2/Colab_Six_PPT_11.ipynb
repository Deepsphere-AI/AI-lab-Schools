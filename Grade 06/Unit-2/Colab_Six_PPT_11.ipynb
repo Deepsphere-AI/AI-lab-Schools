{
  "nbformat": 4,
  "nbformat_minor": 0,
  "metadata": {
    "colab": {
      "name": "Untitled40.ipynb",
      "provenance": [],
      "include_colab_link": true
    },
    "kernelspec": {
      "name": "python3",
      "display_name": "Python 3"
    },
    "language_info": {
      "name": "python"
    }
  },
  "cells": [
    {
      "cell_type": "markdown",
      "metadata": {
        "id": "view-in-github",
        "colab_type": "text"
      },
      "source": [
        "<a href=\"https://colab.research.google.com/github/Deepsphere-AI/AI-lab-Schools/blob/main/Grade%2006/Unit-2/Colab_Six_PPT_11.ipynb\" target=\"_parent\"><img src=\"https://colab.research.google.com/assets/colab-badge.svg\" alt=\"Open In Colab\"/></a>"
      ]
    },
    {
      "cell_type": "code",
      "execution_count": 1,
      "metadata": {
        "id": "uaG2gdKgeKXB",
        "outputId": "0edc8dd5-e365-404b-b09f-169d58bb7f6a",
        "colab": {
          "base_uri": "https://localhost:8080/"
        }
      },
      "outputs": [
        {
          "output_type": "stream",
          "name": "stdout",
          "text": [
            "0\n",
            "1\n",
            "2\n",
            "3\n",
            "4\n",
            "5\n",
            "6\n",
            "7\n",
            "8\n",
            "9\n"
          ]
        }
      ],
      "source": [
        "# \"\"\"\n",
        "# Ex 11.\n",
        "\n",
        "# Write a for loop to print out the counting numbers from 0 - 9\n",
        "\n",
        "# Hint: for x in ___:\n",
        "# Program description: The objective of this program is to print numbers from 0-9. This program highlights the usage of “for” loop in python. \n",
        "# This for loop is used to execute a set of statement, once for each item in a list. For loop is also used to write numbers.\n",
        "# First the range is stored in the variable x and then it is printed.\n",
        "\n",
        "\n",
        "# \"\"\"\n",
        "\n",
        "for vAR_x in range(10):\n",
        "  print(vAR_x)"
      ]
    }
  ]
}