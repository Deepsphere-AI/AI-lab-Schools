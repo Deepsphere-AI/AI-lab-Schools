{
  "nbformat": 4,
  "nbformat_minor": 0,
  "metadata": {
    "colab": {
      "name": "Untitled45.ipynb",
      "provenance": [],
      "authorship_tag": "ABX9TyP8WaVeyYKgJDPqhgARYrRb",
      "include_colab_link": true
    },
    "kernelspec": {
      "name": "python3",
      "display_name": "Python 3"
    },
    "language_info": {
      "name": "python"
    }
  },
  "cells": [
    {
      "cell_type": "markdown",
      "metadata": {
        "id": "view-in-github",
        "colab_type": "text"
      },
      "source": [
        "<a href=\"https://colab.research.google.com/github/Deepsphere-AI/AI-lab-Schools/blob/main/Grade%2006/Unit-2/Colab_Six_PPT_16.ipynb\" target=\"_parent\"><img src=\"https://colab.research.google.com/assets/colab-badge.svg\" alt=\"Open In Colab\"/></a>"
      ]
    },
    {
      "cell_type": "code",
      "execution_count": null,
      "metadata": {
        "id": "ucydEd-lf8OW"
      },
      "outputs": [],
      "source": [
        "# \"\"\"\n",
        "# Ex 16.\n",
        "\n",
        "# Using the list created in ex. 14, add (append) a new fruit, \"Orange\"\n",
        "\n",
        "# Program description: The objective of this program is to add another fruit “orange” to an existing list named vAR_fruits.\n",
        "# The append () in python adds a single item to the existing list.\n",
        "# Note: After the method append is implemented the size of the list increases by one.\n",
        "\n",
        "# \"\"\"\n",
        "\n",
        "vAR_fruits = [\"Bannana\", \"Apple\", \"Peach\"]\n",
        "vAR_fruits.append(\"Orange\")"
      ]
    }
  ]
}