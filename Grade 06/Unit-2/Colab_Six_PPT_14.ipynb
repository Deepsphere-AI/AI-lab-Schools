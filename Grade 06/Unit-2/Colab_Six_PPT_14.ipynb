{
  "nbformat": 4,
  "nbformat_minor": 0,
  "metadata": {
    "colab": {
      "name": "Untitled43.ipynb",
      "provenance": [],
      "authorship_tag": "ABX9TyOpA5s5uWe4KAO30KWCHkyc",
      "include_colab_link": true
    },
    "kernelspec": {
      "name": "python3",
      "display_name": "Python 3"
    },
    "language_info": {
      "name": "python"
    }
  },
  "cells": [
    {
      "cell_type": "markdown",
      "metadata": {
        "id": "view-in-github",
        "colab_type": "text"
      },
      "source": [
        "<a href=\"https://colab.research.google.com/github/Deepsphere-AI/AI-lab-Schools/blob/main/Grade%2006/Unit-2/Colab_Six_PPT_14.ipynb\" target=\"_parent\"><img src=\"https://colab.research.google.com/assets/colab-badge.svg\" alt=\"Open In Colab\"/></a>"
      ]
    },
    {
      "cell_type": "code",
      "execution_count": null,
      "metadata": {
        "id": "33LbS_vNfNbM"
      },
      "outputs": [],
      "source": [
        "# \"\"\"\n",
        "# Ex 14.\n",
        "\n",
        "# Create a list called vAR_fruits that stores the values \"Banana\", \"Apple\", and \"Peach\"\n",
        "\n",
        "# Program description: The objective of this program is to create a list named vAR_fruits which stores the values “banana”, “Apple” and “peach “.\n",
        "# Note: In python programming, a list is created by placing all the items inside square brackets [] and separated by commas. \n",
        "# A list can contain a float (decimal number), integer and a string.\n",
        "\n",
        "# \"\"\"\n",
        "\n",
        "vAR_fruits = [\"Bannana\", \"Apple\", \"Peach\"]"
      ]
    }
  ]
}