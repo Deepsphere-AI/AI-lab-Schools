{
  "nbformat": 4,
  "nbformat_minor": 0,
  "metadata": {
    "colab": {
      "name": "Untitled76.ipynb",
      "provenance": [],
      "authorship_tag": "ABX9TyMR0aGytZNyMLZ7ZHiCq9YH",
      "include_colab_link": true
    },
    "kernelspec": {
      "name": "python3",
      "display_name": "Python 3"
    },
    "language_info": {
      "name": "python"
    }
  },
  "cells": [
    {
      "cell_type": "markdown",
      "metadata": {
        "id": "view-in-github",
        "colab_type": "text"
      },
      "source": [
        "<a href=\"https://colab.research.google.com/github/Deepsphere-AI/AI-lab-Schools/blob/main/Grade%2006/Unit-5/Colab_Six_PPT_47.ipynb\" target=\"_parent\"><img src=\"https://colab.research.google.com/assets/colab-badge.svg\" alt=\"Open In Colab\"/></a>"
      ]
    },
    {
      "cell_type": "code",
      "execution_count": null,
      "metadata": {
        "id": "vn6A0jyDDIFx"
      },
      "outputs": [],
      "source": [
        "# \"\"\"\n",
        "# Ex 47.\n",
        "\n",
        "# A fibonnaci number is a number created by the sum of the previous 2 numbers starting at 0 and 1. The first 5 fibbonaci numbers are 0,1,1,2,3. \n",
        "# Create a function that finds the nth fibbonaci number.\n",
        "\n",
        "\n",
        "# Program description: The objective of this program is to try and solve logical problems using code. \n",
        "# This code specifically gives the nth Fibonacci number. A Fibonacci number is a number created by the sum of the previous 2 numbers starting at 0 and 1.\n",
        "# The first 5 Fibonacci numbers are 0,1,1,2,3.  \n",
        "# Hint: You can utilize recursion to make this code simpler.\n",
        "# Remember: A recursive function is a function defined in terms of itself via self-referential expressions.\n",
        "# This means that the function will continue to call itself and repeat its behaviour until some condition is met to return a result.\n",
        "# Similar codes can be written using recursion instead of looping.\n",
        "\n",
        "\n",
        "# \"\"\"\n",
        "\n",
        "def Fibonacci(n):\n",
        "  int1 = 0 #creating first 2 numbers\n",
        "  int2 = 1\n",
        "\n",
        "  temp = int1 #adding numbers to get next numbers and slidng down number 2 into number1\n",
        "  int1 = int2\n",
        "  int2+=temp\n",
        "\n",
        "  if n < 0:\n",
        "        print(\"Not Possible\")\n",
        "  elif n == 0:\n",
        "        return 0\n",
        "  elif n == 1 or n == 2:\n",
        "        return 1\n",
        "  else:\n",
        "    return Fibonacci(n-1) + Fibonacci(n-2) #This is an advanced technique called recursion which is used to loop a function within itself.\n",
        "print(Fibonacci(15))"
      ]
    }
  ]
}