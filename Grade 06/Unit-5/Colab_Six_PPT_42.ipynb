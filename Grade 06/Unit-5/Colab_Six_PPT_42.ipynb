{
  "nbformat": 4,
  "nbformat_minor": 0,
  "metadata": {
    "colab": {
      "name": "Untitled71.ipynb",
      "provenance": [],
      "authorship_tag": "ABX9TyNriMGB5s6JytWK/rwvlg87",
      "include_colab_link": true
    },
    "kernelspec": {
      "name": "python3",
      "display_name": "Python 3"
    },
    "language_info": {
      "name": "python"
    }
  },
  "cells": [
    {
      "cell_type": "markdown",
      "metadata": {
        "id": "view-in-github",
        "colab_type": "text"
      },
      "source": [
        "<a href=\"https://colab.research.google.com/github/Deepsphere-AI/AI-lab-Schools/blob/main/Grade%2006/Unit-5/Colab_Six_PPT_42.ipynb\" target=\"_parent\"><img src=\"https://colab.research.google.com/assets/colab-badge.svg\" alt=\"Open In Colab\"/></a>"
      ]
    },
    {
      "cell_type": "code",
      "execution_count": null,
      "metadata": {
        "id": "voULyACsBLWe"
      },
      "outputs": [],
      "source": [
        "# \"\"\"\n",
        "# Ex 42.\n",
        "\n",
        "# Given a list of integer numbers, return the average value of the numbers\n",
        "\n",
        "# Program description: The objective of this program is to try and solve logical problems using code.\n",
        "# This code specifically returns the average of numbers in a given list.\n",
        "\n",
        "# Hint: Try to use the len() function to get the number of elements in the list.\n",
        "\n",
        "# \"\"\"\n",
        "\n",
        "vAR_numbers = [10,12,13,14,12,11,15,19,7,6,46] # can be any list, this is just an example\n",
        "def vAR_average(vAR_numbers):\n",
        "  vAR_total = 0\n",
        "  for vAR_x in vAR_numbers:\n",
        "    vAR_total+=vAR_x\n",
        "  return vAR_total/len(vAR_numbers)\n",
        "\n",
        "print(vAR_average(vAR_numbers))"
      ]
    }
  ]
}