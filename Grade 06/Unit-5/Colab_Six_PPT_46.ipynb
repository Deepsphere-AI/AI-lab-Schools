{
  "nbformat": 4,
  "nbformat_minor": 0,
  "metadata": {
    "colab": {
      "name": "Untitled75.ipynb",
      "provenance": [],
      "authorship_tag": "ABX9TyN3VB/1zULHo8SUTF3MKoGp",
      "include_colab_link": true
    },
    "kernelspec": {
      "name": "python3",
      "display_name": "Python 3"
    },
    "language_info": {
      "name": "python"
    }
  },
  "cells": [
    {
      "cell_type": "markdown",
      "metadata": {
        "id": "view-in-github",
        "colab_type": "text"
      },
      "source": [
        "<a href=\"https://colab.research.google.com/github/Deepsphere-AI/AI-lab-Schools/blob/main/Grade%2006/Unit-5/Colab_Six_PPT_46.ipynb\" target=\"_parent\"><img src=\"https://colab.research.google.com/assets/colab-badge.svg\" alt=\"Open In Colab\"/></a>"
      ]
    },
    {
      "cell_type": "code",
      "execution_count": null,
      "metadata": {
        "id": "tpDpTrKoCvJw"
      },
      "outputs": [],
      "source": [
        "# \"\"\"\n",
        "# Ex 46.\n",
        "\n",
        "# Create a function that randomly Displays a numerical 4-digit password using random.randint(range). Remeber to type import random at the top!\n",
        "\n",
        "# Program description: The objective of this program is to try and solve logical problems using code. \n",
        "# The code specifically asks to return a randomly generate 4 digit numeric password. You will learn to work with the randint() function. \n",
        "# Hint: Remember to type import random to import the random module at the beginning.\n",
        "# Or else, you won't be able to use the randint() function.\n",
        "# Remember: The random module is a built-in module to generate the pseudo-random variables.\n",
        "# It can be used to perform some action randomly such as to get a random number, selecting a random element from a list, shuffle elements randomly, etc.\n",
        "\n",
        "# \"\"\"\n",
        "import random\n",
        "\n",
        "def randompassword():\n",
        "  vAR_a = random.randint(0,9)\n",
        "  vAR_b = random.randint(0,9)\n",
        "  vAR_c = random.randint(0,9)\n",
        "  vAR_d = random.randint(0,9)\n",
        "  return str(vAR_a) + str(vAR_b) + str(vAR_c) + str(vAR_d)\n",
        "\n",
        "print(randompassword())"
      ]
    }
  ]
}