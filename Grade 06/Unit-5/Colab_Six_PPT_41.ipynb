{
  "nbformat": 4,
  "nbformat_minor": 0,
  "metadata": {
    "colab": {
      "name": "Untitled70.ipynb",
      "provenance": [],
      "authorship_tag": "ABX9TyN8J57NPnV/0NFrAP4j0Qpd",
      "include_colab_link": true
    },
    "kernelspec": {
      "name": "python3",
      "display_name": "Python 3"
    },
    "language_info": {
      "name": "python"
    }
  },
  "cells": [
    {
      "cell_type": "markdown",
      "metadata": {
        "id": "view-in-github",
        "colab_type": "text"
      },
      "source": [
        "<a href=\"https://colab.research.google.com/github/Deepsphere-AI/AI-lab-Schools/blob/main/Grade%2006/Unit-5/Colab_Six_PPT_41.ipynb\" target=\"_parent\"><img src=\"https://colab.research.google.com/assets/colab-badge.svg\" alt=\"Open In Colab\"/></a>"
      ]
    },
    {
      "cell_type": "code",
      "execution_count": null,
      "metadata": {
        "id": "KJa_Uv9hAv_4"
      },
      "outputs": [],
      "source": [
        "# \"\"\"\n",
        "# Ex 41.\n",
        "\n",
        "# Given a list of integer numbers, return the amount of numbers in that list that are even.\n",
        "\n",
        "# Program description: The objective of this program is to try and solve logical problems using code. \n",
        "# This code specifically returns the amount of numbers in a given list that are even.\n",
        "\n",
        "\n",
        "# Hint: Use a loop and think about the conditions under which a number is even.\n",
        "\n",
        "# \"\"\"\n",
        "\n",
        "vAR_numbers = [1,2,3,4,5,6,7,8] # can be any list, this is just an example\n",
        "def count_evens(vAR_numbers):\n",
        "  count = 0\n",
        "  for vAR_x in numbers:\n",
        "    if vAR_x % 2 == 0:\n",
        "      count+=1\n",
        "  return count"
      ]
    }
  ]
}