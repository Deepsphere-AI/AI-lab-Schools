{
  "nbformat": 4,
  "nbformat_minor": 0,
  "metadata": {
    "colab": {
      "name": "Untitled73.ipynb",
      "provenance": [],
      "authorship_tag": "ABX9TyN+Ew2iVZ7UxgsTZPRIKrwW",
      "include_colab_link": true
    },
    "kernelspec": {
      "name": "python3",
      "display_name": "Python 3"
    },
    "language_info": {
      "name": "python"
    }
  },
  "cells": [
    {
      "cell_type": "markdown",
      "metadata": {
        "id": "view-in-github",
        "colab_type": "text"
      },
      "source": [
        "<a href=\"https://colab.research.google.com/github/Deepsphere-AI/AI-lab-Schools/blob/main/Grade%2006/Unit-5/Colab_Six_PPT_44.ipynb\" target=\"_parent\"><img src=\"https://colab.research.google.com/assets/colab-badge.svg\" alt=\"Open In Colab\"/></a>"
      ]
    },
    {
      "cell_type": "code",
      "execution_count": null,
      "metadata": {
        "id": "ShWcoX58B8F6"
      },
      "outputs": [],
      "source": [
        "# \"\"\"\n",
        "# Ex 44.\n",
        "\n",
        "# Given a list of integer numbers, find the range of the list (the maximum - minimum value)\n",
        "\n",
        "# Program description: The objective of this program is to try and solve logical problems using code.\n",
        "# The code specifically asks to return the range of a given list of numbers.\n",
        "# You first have to try and get the maximum value, then the minimum value and then find and return the range.\n",
        "\n",
        "\n",
        "# Hint: Range = Max value – Min value\n",
        "\n",
        "# \"\"\"\n",
        "\n",
        "vAR_numbers = [12,145,14,122,142,2,3154,132,132,242,1245,235,123] # can be any list, this is just an example\n",
        "def range(vAR_numbers):\n",
        "  min = vAR_numbers[0]\n",
        "  max = vAR_numbers[0] \n",
        "  for vAR_x in vAR_numbers:\n",
        "    if(vAR_x < min):\n",
        "      min = vAR_x\n",
        "    if(vAR_x > max):\n",
        "      max = vAR_x\n",
        "  return max-min\n",
        "\n",
        "print(range(vAR_numbers))"
      ]
    }
  ]
}