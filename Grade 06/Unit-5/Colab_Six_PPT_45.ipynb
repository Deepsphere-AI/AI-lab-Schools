{
  "nbformat": 4,
  "nbformat_minor": 0,
  "metadata": {
    "colab": {
      "name": "Untitled74.ipynb",
      "provenance": [],
      "include_colab_link": true
    },
    "kernelspec": {
      "name": "python3",
      "display_name": "Python 3"
    },
    "language_info": {
      "name": "python"
    }
  },
  "cells": [
    {
      "cell_type": "markdown",
      "metadata": {
        "id": "view-in-github",
        "colab_type": "text"
      },
      "source": [
        "<a href=\"https://colab.research.google.com/github/Deepsphere-AI/AI-lab-Schools/blob/main/Grade%2006/Unit-5/Colab_Six_PPT_45.ipynb\" target=\"_parent\"><img src=\"https://colab.research.google.com/assets/colab-badge.svg\" alt=\"Open In Colab\"/></a>"
      ]
    },
    {
      "cell_type": "code",
      "execution_count": 1,
      "metadata": {
        "id": "72XF0GICCcHQ",
        "outputId": "258dd63c-b231-4acd-ef0e-e15249a1ee77",
        "colab": {
          "base_uri": "https://localhost:8080/"
        }
      },
      "outputs": [
        {
          "output_type": "stream",
          "name": "stdout",
          "text": [
            "1776\n"
          ]
        }
      ],
      "source": [
        "# \"\"\"\n",
        "# Ex 45.\n",
        "\n",
        "# Given a list of integer numbers, find the sum of all numbers that are either odd or less than 100\n",
        "\n",
        "\n",
        "# Program description: The objective of this program is to try and solve logical problems using code. The code specifically asks to return the sum of numbers that are either odd or less than 100. \n",
        "# Hint: Try to write a Boolean statement which checks both conditions at the same time.\n",
        "\n",
        "\n",
        "# \"\"\"\n",
        "\n",
        "\n",
        "vAR_numbers = [12,145,14,122,142,2,3154,132,132,242,1245,235,123] # can be any list, this is just an example\n",
        "def vAR_odd_orvAR_hundred(vAR_numbers):\n",
        "  vAR_total=0\n",
        "  for vAR_x in vAR_numbers:\n",
        "    if(vAR_x%2 == 1 or vAR_x<100):\n",
        "      vAR_total+=vAR_x\n",
        "  return vAR_total\n",
        "\n",
        "print(vAR_odd_orvAR_hundred(vAR_numbers))"
      ]
    }
  ]
}