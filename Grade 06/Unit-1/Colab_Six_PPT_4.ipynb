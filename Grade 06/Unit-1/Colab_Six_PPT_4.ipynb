{
  "nbformat": 4,
  "nbformat_minor": 0,
  "metadata": {
    "colab": {
      "name": "Untitled33.ipynb",
      "provenance": [],
      "include_colab_link": true
    },
    "kernelspec": {
      "name": "python3",
      "display_name": "Python 3"
    },
    "language_info": {
      "name": "python"
    }
  },
  "cells": [
    {
      "cell_type": "markdown",
      "metadata": {
        "id": "view-in-github",
        "colab_type": "text"
      },
      "source": [
        "<a href=\"https://colab.research.google.com/github/Deepsphere-AI/AI-lab-Schools/blob/main/Grade%2006/Unit-1/Colab_Six_PPT_4.ipynb\" target=\"_parent\"><img src=\"https://colab.research.google.com/assets/colab-badge.svg\" alt=\"Open In Colab\"/></a>"
      ]
    },
    {
      "cell_type": "code",
      "execution_count": 1,
      "metadata": {
        "id": "1K_hP5qqYcCx",
        "outputId": "9da9908e-829a-4110-e38f-1098e48c910c",
        "colab": {
          "base_uri": "https://localhost:8080/"
        }
      },
      "outputs": [
        {
          "output_type": "stream",
          "name": "stdout",
          "text": [
            "10\n"
          ]
        }
      ],
      "source": [
        "# \"\"\"\n",
        "# Ex 4.\n",
        "\n",
        "# Create two variables, vARstart_time and vARend_time and print the difference between the two\n",
        "# Program description: The objective of this program is to print the difference between two variables “vARstart_time” and “vARend_time”. \n",
        "# The vARstart_time contains the numeric value 5 whereas the vARend_time contains the numeric value 15. The output printed will be the difference of “vARstart_time” and “vARend_time”. \n",
        "# This highlights the usage of print function in python.\n",
        "# Note: The function of print statement can be used in several different ways.\n",
        "\n",
        "# \"\"\"\n",
        "\n",
        "vARstart_time = 5\n",
        "vARend_time = 15\n",
        "print(vARend_time - vARstart_time)"
      ]
    }
  ]
}