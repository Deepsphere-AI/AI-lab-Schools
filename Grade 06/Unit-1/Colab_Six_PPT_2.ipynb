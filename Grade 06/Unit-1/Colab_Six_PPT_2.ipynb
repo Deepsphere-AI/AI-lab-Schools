{
  "nbformat": 4,
  "nbformat_minor": 0,
  "metadata": {
    "colab": {
      "name": "Untitled31.ipynb",
      "provenance": [],
      "authorship_tag": "ABX9TyN8AstjbRMb8+GISzJFhE3f",
      "include_colab_link": true
    },
    "kernelspec": {
      "name": "python3",
      "display_name": "Python 3"
    },
    "language_info": {
      "name": "python"
    }
  },
  "cells": [
    {
      "cell_type": "markdown",
      "metadata": {
        "id": "view-in-github",
        "colab_type": "text"
      },
      "source": [
        "<a href=\"https://colab.research.google.com/github/Deepsphere-AI/AI-lab-Schools/blob/main/Grade%2006/Unit-1/Colab_Six_PPT_2.ipynb\" target=\"_parent\"><img src=\"https://colab.research.google.com/assets/colab-badge.svg\" alt=\"Open In Colab\"/></a>"
      ]
    },
    {
      "cell_type": "code",
      "execution_count": null,
      "metadata": {
        "id": "VCWuIiXIXj23"
      },
      "outputs": [],
      "source": [
        "# \"\"\"\n",
        "# Ex 2.\n",
        "\n",
        "# Create 2 variables start and end with the values \"start\" and \"end\" respectively\n",
        "\n",
        "# Program description: The objective of this program is to assign string value (text value) to variables “vAR_start” and “vAR_end” with the values of start and end respectively.\n",
        "# The equal sign (=) is used to assign value to variables in python.\n",
        "# Note: The declaration automatically happens when you assign a numeric value or string value to a variable.\n",
        "\n",
        "# \"\"\"\n",
        "\n",
        "vAR_start = \"start\"\n",
        "vAR_end = \"end\""
      ]
    }
  ]
}