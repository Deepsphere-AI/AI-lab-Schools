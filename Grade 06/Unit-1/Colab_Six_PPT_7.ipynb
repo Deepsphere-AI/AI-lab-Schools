{
  "nbformat": 4,
  "nbformat_minor": 0,
  "metadata": {
    "colab": {
      "name": "Untitled36.ipynb",
      "provenance": [],
      "authorship_tag": "ABX9TyOEhE5Tj/qU/eI/sLHHjCfw",
      "include_colab_link": true
    },
    "kernelspec": {
      "name": "python3",
      "display_name": "Python 3"
    },
    "language_info": {
      "name": "python"
    }
  },
  "cells": [
    {
      "cell_type": "markdown",
      "metadata": {
        "id": "view-in-github",
        "colab_type": "text"
      },
      "source": [
        "<a href=\"https://colab.research.google.com/github/Deepsphere-AI/AI-lab-Schools/blob/main/Grade%2006/Unit-1/Colab_Six_PPT_7.ipynb\" target=\"_parent\"><img src=\"https://colab.research.google.com/assets/colab-badge.svg\" alt=\"Open In Colab\"/></a>"
      ]
    },
    {
      "cell_type": "code",
      "execution_count": null,
      "metadata": {
        "id": "xwON-ZulZyPv"
      },
      "outputs": [],
      "source": [
        "# \"\"\"\n",
        "# Ex 7.\n",
        "\n",
        "# Given a float (decimal number), print how far the number is from 10.\n",
        "\n",
        "# Program description: The objective of this program is to print how far the float (decimal number) is from 10. This program highlights the function of if statement and\n",
        "# else statement. \n",
        "# Note: If statement contains a body of code which runs only when the condition given in the if statement is true the other way around, we use else statement only to justify \n",
        "# one condition while the other is not true.\n",
        "\n",
        "\n",
        "# \"\"\"\n",
        "\n",
        "vARinput_num = -10.00\n",
        "if(vARinput_num > 10):\n",
        "  print(vARinput_num - 10)\n",
        "else:\n",
        "  print(10 - vARinput_num)"
      ]
    }
  ]
}