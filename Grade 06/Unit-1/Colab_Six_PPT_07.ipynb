{
  "nbformat": 4,
  "nbformat_minor": 0,
  "metadata": {
    "colab": {
      "provenance": [],
      "authorship_tag": "ABX9TyMcyAyX8K4qqiniJDIna2YV",
      "include_colab_link": true
    },
    "kernelspec": {
      "name": "python3",
      "display_name": "Python 3"
    },
    "language_info": {
      "name": "python"
    }
  },
  "cells": [
    {
      "cell_type": "markdown",
      "metadata": {
        "id": "view-in-github",
        "colab_type": "text"
      },
      "source": [
        "<a href=\"https://colab.research.google.com/github/Deepsphere-AI/AI-lab-Schools/blob/main/Grade%2006/Unit-1/Colab_Six_PPT_07.ipynb\" target=\"_parent\"><img src=\"https://colab.research.google.com/assets/colab-badge.svg\" alt=\"Open In Colab\"/></a>"
      ]
    },
    {
      "cell_type": "code",
      "execution_count": 1,
      "metadata": {
        "colab": {
          "base_uri": "https://localhost:8080/"
        },
        "id": "7xJ6RSaA6jPi",
        "outputId": "0def1c2d-68bd-48de-aaa0-50dd4abb764c"
      },
      "outputs": [
        {
          "output_type": "stream",
          "name": "stdout",
          "text": [
            "20.0\n"
          ]
        }
      ],
      "source": [
        "# \"\"\"\n",
        "# Ex 7.\n",
        "# Given a float (decimal number), print how far the number is from 10.\n",
        "# Program description: The objective of this program is to print how far the float (decimal number) is from 10. This program highlights the function of if statement and\n",
        "# else statement. \n",
        "# Note: If statement contains a body of code which runs only when the condition given in the if statement is true the other way around, we use else statement only to justify \n",
        "# one condition while the other is not true.\n",
        "# \"\"\"\n",
        "\n",
        "vARinput_num = -10.00\n",
        "if(vARinput_num > 10):\n",
        "  print(vARinput_num - 10)\n",
        "else:\n",
        "  print(10 - vARinput_num)"
      ]
    }
  ]
}