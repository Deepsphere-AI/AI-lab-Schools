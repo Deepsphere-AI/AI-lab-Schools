{
  "nbformat": 4,
  "nbformat_minor": 0,
  "metadata": {
    "colab": {
      "name": "Untitled35.ipynb",
      "provenance": [],
      "include_colab_link": true
    },
    "kernelspec": {
      "name": "python3",
      "display_name": "Python 3"
    },
    "language_info": {
      "name": "python"
    }
  },
  "cells": [
    {
      "cell_type": "markdown",
      "metadata": {
        "id": "view-in-github",
        "colab_type": "text"
      },
      "source": [
        "<a href=\"https://colab.research.google.com/github/Deepsphere-AI/AI-lab-Schools/blob/main/Grade%2006/Unit-1/Colab_Six_PPT_6.ipynb\" target=\"_parent\"><img src=\"https://colab.research.google.com/assets/colab-badge.svg\" alt=\"Open In Colab\"/></a>"
      ]
    },
    {
      "cell_type": "code",
      "execution_count": 3,
      "metadata": {
        "id": "yp6TIa-cZgJR",
        "outputId": "5ce589aa-72f5-4ff7-9e7c-11f05a30eba4",
        "colab": {
          "base_uri": "https://localhost:8080/"
        }
      },
      "outputs": [
        {
          "output_type": "stream",
          "name": "stdout",
          "text": [
            "vAR_time2 is greater and its value is: 15\n"
          ]
        }
      ],
      "source": [
        "# \"\"\"\n",
        "# Ex 6.\n",
        "\n",
        "# Create two variables, time1 and time2 and print the greater variable and its value\n",
        "# Program description: The objective of this program is to create two variables “vAR_time1” and “vAR_time2” and print the variable containing the greater numeric value and its value.\n",
        "# This is similar to exercise-5.\n",
        "\n",
        "\n",
        "# \"\"\"\n",
        "\n",
        "vAR_time1 = 10\n",
        "vAR_time2 = 15\n",
        "if(vAR_time1 > vAR_time2):\n",
        "  print(\"vAR_time1 is greater and its value is:\", vAR_time1)\n",
        "else:\n",
        "  print(\"vAR_time2 is greater and its value is:\", vAR_time2)"
      ]
    }
  ]
}