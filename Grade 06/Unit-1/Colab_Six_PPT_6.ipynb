{
  "nbformat": 4,
  "nbformat_minor": 0,
  "metadata": {
    "colab": {
      "name": "Untitled35.ipynb",
      "provenance": [],
      "authorship_tag": "ABX9TyMhlhBGKf7gmhSjpD+voMZp",
      "include_colab_link": true
    },
    "kernelspec": {
      "name": "python3",
      "display_name": "Python 3"
    },
    "language_info": {
      "name": "python"
    }
  },
  "cells": [
    {
      "cell_type": "markdown",
      "metadata": {
        "id": "view-in-github",
        "colab_type": "text"
      },
      "source": [
        "<a href=\"https://colab.research.google.com/github/Deepsphere-AI/AI-lab-Schools/blob/main/Grade%2006/Unit-1/Colab_Six_PPT_6.ipynb\" target=\"_parent\"><img src=\"https://colab.research.google.com/assets/colab-badge.svg\" alt=\"Open In Colab\"/></a>"
      ]
    },
    {
      "cell_type": "code",
      "execution_count": null,
      "metadata": {
        "id": "yp6TIa-cZgJR"
      },
      "outputs": [],
      "source": [
        "# \"\"\"\n",
        "# Ex 6.\n",
        "\n",
        "# Create 2 variables, time1 and time2 and print the greater variable and its value\n",
        "# Program description: The objective of this program is to create 2 variables “vAR_time1” and “vAR_time2” and print the variable containing the greater numeric value and its value.\n",
        "# This is similar to exercise-5.\n",
        "\n",
        "\n",
        "# \"\"\"\n",
        "\n",
        "vAR_time1 = 10\n",
        "vAR_time2 = 15\n",
        "if(vAR_time1 > vAR_time2):\n",
        "  print(\"vAR_time1:\", vAR_time1)\n",
        "else:\n",
        "  print(\"vAR_time2:\", vAR_time2)"
      ]
    }
  ]
}