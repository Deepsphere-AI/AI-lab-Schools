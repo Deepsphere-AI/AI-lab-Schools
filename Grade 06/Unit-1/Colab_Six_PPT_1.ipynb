{
  "nbformat": 4,
  "nbformat_minor": 0,
  "metadata": {
    "colab": {
      "name": "Untitled30.ipynb",
      "provenance": [],
      "include_colab_link": true
    },
    "kernelspec": {
      "name": "python3",
      "display_name": "Python 3"
    },
    "language_info": {
      "name": "python"
    }
  },
  "cells": [
    {
      "cell_type": "markdown",
      "metadata": {
        "id": "view-in-github",
        "colab_type": "text"
      },
      "source": [
        "<a href=\"https://colab.research.google.com/github/Deepsphere-AI/AI-lab-Schools/blob/main/Grade%2006/Unit-1/Colab_Six_PPT_1.ipynb\" target=\"_parent\"><img src=\"https://colab.research.google.com/assets/colab-badge.svg\" alt=\"Open In Colab\"/></a>"
      ]
    },
    {
      "cell_type": "code",
      "execution_count": 4,
      "metadata": {
        "id": "QpHA7pabWYBu",
        "outputId": "ec8603db-1ebb-49d5-c9a2-8ca16d400e41",
        "colab": {
          "base_uri": "https://localhost:8080/"
        }
      },
      "outputs": [
        {
          "output_type": "stream",
          "name": "stdout",
          "text": [
            "10\n",
            "Hello\n"
          ]
        }
      ],
      "source": [
        "# \"\"\"\n",
        "# Ex 1.\n",
        "# Create two different variables with numeric and string and print the same\n",
        "\n",
        "# Program description: The objective of this program is to assign a numeric value to a variable “vAR_num” with initial value 10 \n",
        "# and assign a string value to another variable \"vAR_text\" with initial value \"Hello\"\n",
        "# The equal sign (=) is used to assign value to variables in python.\n",
        "# Note: We can assign two different types of value to a variable a numeric value as well a string value (text value).\n",
        "\n",
        "# \"\"\"\n",
        "\n",
        "vAR_num = 10\n",
        "vAR_text = \"Hello\"\n",
        "print (vAR_num)\n",
        "print (vAR_text)"
      ]
    }
  ]
}