{
  "nbformat": 4,
  "nbformat_minor": 0,
  "metadata": {
    "colab": {
      "name": "Untitled39.ipynb",
      "provenance": [],
      "include_colab_link": true
    },
    "kernelspec": {
      "name": "python3",
      "display_name": "Python 3"
    },
    "language_info": {
      "name": "python"
    }
  },
  "cells": [
    {
      "cell_type": "markdown",
      "metadata": {
        "id": "view-in-github",
        "colab_type": "text"
      },
      "source": [
        "<a href=\"https://colab.research.google.com/github/Deepsphere-AI/AI-lab-Schools/blob/main/Grade%2006/Unit-1/Colab_Six_PPT_10.ipynb\" target=\"_parent\"><img src=\"https://colab.research.google.com/assets/colab-badge.svg\" alt=\"Open In Colab\"/></a>"
      ]
    },
    {
      "cell_type": "code",
      "execution_count": 1,
      "metadata": {
        "id": "o3fXLc8NauqJ",
        "outputId": "49b0a984-a480-4790-a452-eb45d24011bb",
        "colab": {
          "base_uri": "https://localhost:8080/"
        }
      },
      "outputs": [
        {
          "output_type": "stream",
          "name": "stdout",
          "text": [
            "1412\n"
          ]
        }
      ],
      "source": [
        "# \"\"\"\n",
        "# Ex 10.\n",
        "# Given a float, round the number and print it\n",
        "\n",
        "# Program description: The objective of this program is round a float (decimal number) and print it. \n",
        "# This program highlights the function of Round () in python. \n",
        "# This will return you a float number that will be rounded to the decimal places which are given as input. \n",
        "# In this program the vARinput_num is 1411.911213.\n",
        "# \"\"\"\n",
        "\n",
        "vARinput_num = 1411.911213\n",
        "print(round(vARinput_num))"
      ]
    }
  ]
}