{
  "nbformat": 4,
  "nbformat_minor": 0,
  "metadata": {
    "colab": {
      "name": "Untitled32.ipynb",
      "provenance": [],
      "authorship_tag": "ABX9TyPt2jcxJTuMThR7ANcD1lA2",
      "include_colab_link": true
    },
    "kernelspec": {
      "name": "python3",
      "display_name": "Python 3"
    },
    "language_info": {
      "name": "python"
    }
  },
  "cells": [
    {
      "cell_type": "markdown",
      "metadata": {
        "id": "view-in-github",
        "colab_type": "text"
      },
      "source": [
        "<a href=\"https://colab.research.google.com/github/Deepsphere-AI/AI-lab-Schools/blob/main/Grade%2006/Unit-1/Colab_Six_PPT_3.ipynb\" target=\"_parent\"><img src=\"https://colab.research.google.com/assets/colab-badge.svg\" alt=\"Open In Colab\"/></a>"
      ]
    },
    {
      "cell_type": "code",
      "execution_count": null,
      "metadata": {
        "id": "4OqSQv7KYFDi"
      },
      "outputs": [],
      "source": [
        "# \"\"\"\n",
        "# Ex 3.\n",
        "\n",
        "# Compare whether 2 conditional variables, day1 and day2 are equal\n",
        "# Hint: Use ==\n",
        "\n",
        "# Program description: The objective of this program is to compare whether two conditional variables “vAR_day1” and “vAR_day2” are equal and print it. \n",
        "# The values assigned for “vAR_day1” and “vAR_day2” are Monday and Wednesday respectively. This highlights the usage of == operator in python.\n",
        "# Note: The == operator checks whether two variable point to the same data in the memory.\n",
        "\n",
        "# \"\"\"\n",
        "\n",
        "vAR_day1 = \"Monday\"\n",
        "vAR_day2 = \"Wensday\"\n",
        "print(vAR_day1 == vAR_day2)"
      ]
    }
  ]
}