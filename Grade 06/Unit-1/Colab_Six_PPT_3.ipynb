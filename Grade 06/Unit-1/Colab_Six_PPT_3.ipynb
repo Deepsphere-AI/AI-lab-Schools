{
  "nbformat": 4,
  "nbformat_minor": 0,
  "metadata": {
    "colab": {
      "name": "Copy of Untitled32.ipynb",
      "provenance": [],
      "include_colab_link": true
    },
    "kernelspec": {
      "name": "python3",
      "display_name": "Python 3"
    },
    "language_info": {
      "name": "python"
    }
  },
  "cells": [
    {
      "cell_type": "markdown",
      "metadata": {
        "id": "view-in-github",
        "colab_type": "text"
      },
      "source": [
        "<a href=\"https://colab.research.google.com/github/Deepsphere-AI/AI-lab-Schools/blob/main/Grade%2006/Unit-1/Colab_Six_PPT_3.ipynb\" target=\"_parent\"><img src=\"https://colab.research.google.com/assets/colab-badge.svg\" alt=\"Open In Colab\"/></a>"
      ]
    },
    {
      "cell_type": "code",
      "execution_count": 11,
      "metadata": {
        "id": "4OqSQv7KYFDi",
        "outputId": "6db50711-8e20-45ae-cf49-d59c3dc5ea17",
        "colab": {
          "base_uri": "https://localhost:8080/"
        }
      },
      "outputs": [
        {
          "output_type": "stream",
          "name": "stdout",
          "text": [
            "vAR_day1 == vAR_day2\n",
            "False\n",
            "vAR_day1 == vAR_day3\n",
            "True\n"
          ]
        }
      ],
      "source": [
        "# \"\"\"\n",
        "# Ex 3.\n",
        "\n",
        "# Compare whether two conditional variables, day1 and day2 are equal\n",
        "# Hint: Use ==\n",
        "\n",
        "# Program description: The objective of this program is to compare whether two conditional variables “vAR_day1” and “vAR_day2” are equal and print it. \n",
        "# The values assigned for “vAR_day1” and “vAR_day2” are Monday and Wednesday respectively. This highlights the usage of == operator in python.\n",
        "# Note: The == operator checks whether two variable point to the same data in the memory.\n",
        "\n",
        "# \"\"\"\n",
        "\n",
        "vAR_day1 = \"Monday\"\n",
        "vAR_day2 = \"Wednesday\"\n",
        "print('vAR_day1 == vAR_day2')\n",
        "print(vAR_day1 == vAR_day2)\n",
        "vAR_day3 = \"Monday\"\n",
        "print ('vAR_day1 == vAR_day3')\n",
        "print(vAR_day1 == vAR_day3)\n",
        "\n"
      ]
    }
  ]
} 
