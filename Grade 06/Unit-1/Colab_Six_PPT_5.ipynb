{
  "nbformat": 4,
  "nbformat_minor": 0,
  "metadata": {
    "colab": {
      "name": "Untitled34.ipynb",
      "provenance": [],
      "authorship_tag": "ABX9TyMKoKKwNaoprnBtN2S8VXEP",
      "include_colab_link": true
    },
    "kernelspec": {
      "name": "python3",
      "display_name": "Python 3"
    },
    "language_info": {
      "name": "python"
    }
  },
  "cells": [
    {
      "cell_type": "markdown",
      "metadata": {
        "id": "view-in-github",
        "colab_type": "text"
      },
      "source": [
        "<a href=\"https://colab.research.google.com/github/Deepsphere-AI/AI-lab-Schools/blob/main/Grade%2006/Unit-1/Colab_Six_PPT_5.ipynb\" target=\"_parent\"><img src=\"https://colab.research.google.com/assets/colab-badge.svg\" alt=\"Open In Colab\"/></a>"
      ]
    },
    {
      "cell_type": "code",
      "execution_count": null,
      "metadata": {
        "id": "oaN-WlC2ZH2J"
      },
      "outputs": [],
      "source": [
        "# \"\"\"\n",
        "# Ex 5.\n",
        "\n",
        "# Create 2 variables, vAR_time1 and vAR_time2 and print the greater variable\n",
        "# Hint: Use if(): and else:\n",
        "\n",
        "# Program description: The objective of this program is to create 2 variables “vAR_time1” and “vAR_time2” and print the variable containing the greater numeric value.\n",
        "# “vAR_time1” and “vAR_time2” consists numeric values 10 and 15 respectively.\n",
        "# This highlights the function of if and else statement in python. If statement is used for decision making operations.\n",
        "# We can use else statement when we must justify one condition while the other condition is not true.\n",
        "# Note: The else statement is an optional statement and there could only be one else statement following if.\n",
        "\n",
        "# \"\"\"\n",
        "\n",
        "vAR_time1 = 10\n",
        "vAR_time2 = 15\n",
        "if(vAR_time1 > vAR_time2):\n",
        "  print(\"vAR_time1\")\n",
        "else:\n",
        "  print(\"vAR_time2\")"
      ]
    }
  ]
}