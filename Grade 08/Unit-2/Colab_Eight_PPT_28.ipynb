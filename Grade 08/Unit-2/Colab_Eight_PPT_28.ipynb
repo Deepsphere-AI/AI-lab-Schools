{
  "nbformat": 4,
  "nbformat_minor": 0,
  "metadata": {
    "colab": {
      "name": "Untitled108.ipynb",
      "provenance": [],
      "authorship_tag": "ABX9TyN9GCqE3Euhw4pLhk6Pexe/",
      "include_colab_link": true
    },
    "kernelspec": {
      "name": "python3",
      "display_name": "Python 3"
    },
    "language_info": {
      "name": "python"
    }
  },
  "cells": [
    {
      "cell_type": "markdown",
      "metadata": {
        "id": "view-in-github",
        "colab_type": "text"
      },
      "source": [
        "<a href=\"https://colab.research.google.com/github/Deepsphere-AI/AI-lab-Schools/blob/main/Grade%2008/Unit-2/Colab_Eight_PPT_28.ipynb\" target=\"_parent\"><img src=\"https://colab.research.google.com/assets/colab-badge.svg\" alt=\"Open In Colab\"/></a>"
      ]
    },
    {
      "cell_type": "code",
      "execution_count": null,
      "metadata": {
        "id": "_ENVXZXhLqQS"
      },
      "outputs": [],
      "source": [
        "# \"\"\"\n",
        "# Ex 28.\n",
        "# Draw a smiley face using plt.scatter and plt.plot\n",
        "\n",
        "# Program Description: The objective of this program is to draw a smiley face using the functions .scatter() and .plot() in matplotlib.\n",
        "\n",
        "# \"\"\"\n",
        "import matplotlib.pyplot as plt\n",
        "import numpy as np\n",
        "\n",
        "eyeY = 40\n",
        "left = -2\n",
        "right = 2\n",
        "\n",
        "X = range (-5, 6)\n",
        "Y = [i*i for i in X]\n",
        "\n",
        "plt.scatter(left, eyeY)\n",
        "plt.scatter(right, eyeY)\n",
        "\n",
        "plt.plot(X, Y)\n",
        "\n",
        "plt.show"
      ]
    }
  ]
}