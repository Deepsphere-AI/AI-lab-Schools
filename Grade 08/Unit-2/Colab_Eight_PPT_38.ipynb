{
  "nbformat": 4,
  "nbformat_minor": 0,
  "metadata": {
    "colab": {
      "name": "Untitled120.ipynb",
      "provenance": [],
      "authorship_tag": "ABX9TyMRRVTs+eJCWY+bWUQFh8Om",
      "include_colab_link": true
    },
    "kernelspec": {
      "name": "python3",
      "display_name": "Python 3"
    },
    "language_info": {
      "name": "python"
    }
  },
  "cells": [
    {
      "cell_type": "markdown",
      "metadata": {
        "id": "view-in-github",
        "colab_type": "text"
      },
      "source": [
        "<a href=\"https://colab.research.google.com/github/Deepsphere-AI/AI-lab-Schools/blob/main/Grade%2008/Unit-2/Colab_Eight_PPT_38.ipynb\" target=\"_parent\"><img src=\"https://colab.research.google.com/assets/colab-badge.svg\" alt=\"Open In Colab\"/></a>"
      ]
    },
    {
      "cell_type": "code",
      "execution_count": null,
      "metadata": {
        "id": "pvEmUdR8TUZe"
      },
      "outputs": [],
      "source": [
        "# \"\"\"\n",
        "# Ex 38.\n",
        "\n",
        "# Create a random histogram with np.random.normal() that is centered around 100 with a standard deviation of 10.\n",
        "\n",
        "# Program Description: The objective of this program is to  create a random histogram with np/random.normal() that is centered around 100 with a standard deviation of 10.\n",
        "\n",
        "# \"\"\"\n",
        "import matplotlib.pyplot as plt\n",
        "import numpy as np\n",
        "\n",
        "x = np.random.normal(100, 10, 250) # The 170 is the mean and the 10 is the standard deviation. We are also using .normal so that our histogram will be relativly normal\n",
        "\n",
        "plt.hist(x)"
      ]
    }
  ]
}