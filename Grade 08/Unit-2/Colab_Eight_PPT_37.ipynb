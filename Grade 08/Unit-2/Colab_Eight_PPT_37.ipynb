{
  "nbformat": 4,
  "nbformat_minor": 0,
  "metadata": {
    "colab": {
      "name": "Untitled119.ipynb",
      "provenance": [],
      "authorship_tag": "ABX9TyN9PrmxPN3xaEwPxxPGSa7r",
      "include_colab_link": true
    },
    "kernelspec": {
      "name": "python3",
      "display_name": "Python 3"
    },
    "language_info": {
      "name": "python"
    }
  },
  "cells": [
    {
      "cell_type": "markdown",
      "metadata": {
        "id": "view-in-github",
        "colab_type": "text"
      },
      "source": [
        "<a href=\"https://colab.research.google.com/github/Deepsphere-AI/AI-lab-Schools/blob/main/Grade%2008/Unit-2/Colab_Eight_PPT_37.ipynb\" target=\"_parent\"><img src=\"https://colab.research.google.com/assets/colab-badge.svg\" alt=\"Open In Colab\"/></a>"
      ]
    },
    {
      "cell_type": "code",
      "execution_count": null,
      "metadata": {
        "id": "2NBIG4mAS_7e"
      },
      "outputs": [],
      "source": [
        "# \"\"\"\n",
        "# Ex 37.\n",
        "\n",
        "# Generate 100 random x values (mean of 150 with standard deviation of 10) using np.random.normal() to make sure that we can create a normal histogram with them.\n",
        "\n",
        "# Program description: The objective of this program is to generate 100 random x values (mean of 150 with standard deviation of 10) using np.random.normal() to make sure that we can create a normal Histogram with them.\n",
        "\n",
        "# \"\"\"\n",
        "import numpy as np\n",
        "\n",
        "x = np.random.normal(150, 10, 100)\n",
        "\n",
        "print(x)"
      ]
    }
  ]
}