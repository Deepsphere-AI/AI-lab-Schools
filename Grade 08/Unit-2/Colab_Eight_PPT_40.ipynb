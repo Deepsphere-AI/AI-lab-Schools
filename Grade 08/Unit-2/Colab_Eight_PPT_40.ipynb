{
  "nbformat": 4,
  "nbformat_minor": 0,
  "metadata": {
    "colab": {
      "name": "Untitled122.ipynb",
      "provenance": [],
      "authorship_tag": "ABX9TyMRDEXqcLojuHkjgzzvxY43",
      "include_colab_link": true
    },
    "kernelspec": {
      "name": "python3",
      "display_name": "Python 3"
    },
    "language_info": {
      "name": "python"
    }
  },
  "cells": [
    {
      "cell_type": "markdown",
      "metadata": {
        "id": "view-in-github",
        "colab_type": "text"
      },
      "source": [
        "<a href=\"https://colab.research.google.com/github/Deepsphere-AI/AI-lab-Schools/blob/main/Grade%2008/Unit-2/Colab_Eight_PPT_40.ipynb\" target=\"_parent\"><img src=\"https://colab.research.google.com/assets/colab-badge.svg\" alt=\"Open In Colab\"/></a>"
      ]
    },
    {
      "cell_type": "code",
      "execution_count": null,
      "metadata": {
        "id": "7YdPepTzT3vJ"
      },
      "outputs": [],
      "source": [
        "# \"\"\"\n",
        "# Ex 40.\n",
        "\n",
        "# Create and show a pie chart that has 4 randomized sections.\n",
        "\n",
        "# Program Description: The objective of this program is to create a pie chart that is randomly divided into 4 sections by entering the percentage out of 100 with the random function.\n",
        "# Note: You need to add a range using random.randrange(start, end)\n",
        "\n",
        "# \"\"\"\n",
        "\n",
        "import matplotlib.pyplot as plt\n",
        "import numpy as np\n",
        "import random\n",
        "\n",
        "X = np.array([random.randrange(0,100), random.randrange(0,100), random.randrange(0,100), random.randrange(0,100)])\n",
        "\n",
        "plt.pie(X)"
      ]
    }
  ]
}