{
  "nbformat": 4,
  "nbformat_minor": 0,
  "metadata": {
    "colab": {
      "name": "Untitled121.ipynb",
      "provenance": [],
      "authorship_tag": "ABX9TyN38XX/8FXGKVMhFM7mIaC1",
      "include_colab_link": true
    },
    "kernelspec": {
      "name": "python3",
      "display_name": "Python 3"
    },
    "language_info": {
      "name": "python"
    }
  },
  "cells": [
    {
      "cell_type": "markdown",
      "metadata": {
        "id": "view-in-github",
        "colab_type": "text"
      },
      "source": [
        "<a href=\"https://colab.research.google.com/github/Deepsphere-AI/AI-lab-Schools/blob/main/Grade%2008/Unit-2/Colab_Eight_PPT_39.ipynb\" target=\"_parent\"><img src=\"https://colab.research.google.com/assets/colab-badge.svg\" alt=\"Open In Colab\"/></a>"
      ]
    },
    {
      "cell_type": "code",
      "execution_count": null,
      "metadata": {
        "id": "TwbwAGu1ToKq"
      },
      "outputs": [],
      "source": [
        "# \"\"\"\n",
        "# Ex 39.\n",
        "\n",
        "# Create and show a pie chart that has 4 equal sections.\n",
        "\n",
        "# Program Description: The objective of this program is to create a pie chart that is equally divided into 4 sections by entering the percentage out of 100 for each part. \n",
        "\n",
        "# \"\"\"\n",
        "\n",
        "import matplotlib.pyplot as plt\n",
        "import numpy as np\n",
        "\n",
        "X = np.array([25, 25, 25, 25])\n",
        "\n",
        "plt.pie(X)"
      ]
    }
  ]
}