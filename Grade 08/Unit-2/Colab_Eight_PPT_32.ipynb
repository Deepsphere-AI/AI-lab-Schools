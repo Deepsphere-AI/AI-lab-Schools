{
  "nbformat": 4,
  "nbformat_minor": 0,
  "metadata": {
    "colab": {
      "name": "Untitled114.ipynb",
      "provenance": [],
      "authorship_tag": "ABX9TyMnQa4spZEaLCUx4fcURqCs",
      "include_colab_link": true
    },
    "kernelspec": {
      "name": "python3",
      "display_name": "Python 3"
    },
    "language_info": {
      "name": "python"
    }
  },
  "cells": [
    {
      "cell_type": "markdown",
      "metadata": {
        "id": "view-in-github",
        "colab_type": "text"
      },
      "source": [
        "<a href=\"https://colab.research.google.com/github/Deepsphere-AI/AI-lab-Schools/blob/main/Grade%2008/Unit-2/Colab_Eight_PPT_32.ipynb\" target=\"_parent\"><img src=\"https://colab.research.google.com/assets/colab-badge.svg\" alt=\"Open In Colab\"/></a>"
      ]
    },
    {
      "cell_type": "code",
      "execution_count": null,
      "metadata": {
        "id": "hNFBEzngQw_e"
      },
      "outputs": [],
      "source": [
        "# \"\"\"\n",
        "# Ex 32.\n",
        "# Create and print an array holding the numbers 1, 2, 3\n",
        "\n",
        "# Program descriptions : The objective of this program is to create and print an array holding numbers 1,2 and 3.\n",
        "\n",
        "# \"\"\"\n",
        "\n",
        "import matplotlib.pyplot as plt\n",
        "import numpy as np\n",
        "\n",
        "array = np.array([1, 2, 3])\n",
        "\n",
        "print(array)"
      ]
    }
  ]
}