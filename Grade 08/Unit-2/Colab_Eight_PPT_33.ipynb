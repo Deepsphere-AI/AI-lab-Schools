{
  "nbformat": 4,
  "nbformat_minor": 0,
  "metadata": {
    "colab": {
      "name": "Untitled115.ipynb",
      "provenance": [],
      "authorship_tag": "ABX9TyN6cnfW/H8/L8PD6DIDB7QU",
      "include_colab_link": true
    },
    "kernelspec": {
      "name": "python3",
      "display_name": "Python 3"
    },
    "language_info": {
      "name": "python"
    }
  },
  "cells": [
    {
      "cell_type": "markdown",
      "metadata": {
        "id": "view-in-github",
        "colab_type": "text"
      },
      "source": [
        "<a href=\"https://colab.research.google.com/github/Deepsphere-AI/AI-lab-Schools/blob/main/Grade%2008/Unit-2/Colab_Eight_PPT_33.ipynb\" target=\"_parent\"><img src=\"https://colab.research.google.com/assets/colab-badge.svg\" alt=\"Open In Colab\"/></a>"
      ]
    },
    {
      "cell_type": "code",
      "execution_count": null,
      "metadata": {
        "id": "JsAwSQ8bRsRH"
      },
      "outputs": [],
      "source": [
        "# \"\"\"\n",
        "# Ex 33.\n",
        "# Using the array created in ex 32, create another array and plot the points as a line.\n",
        "\n",
        "# Program Description: The objective of this program is to create another array (using the array from the previous program) and plot the points as a line.\n",
        "\n",
        "# \"\"\"\n",
        "\n",
        "import numpy as np\n",
        "import matplotlib.pyplot as plt\n",
        "\n",
        "X = np.array([1, 2, 3])\n",
        "Y = np.array([1, 2, 3])\n",
        "\n",
        "plt.plot(X, Y)"
      ]
    }
  ]
}