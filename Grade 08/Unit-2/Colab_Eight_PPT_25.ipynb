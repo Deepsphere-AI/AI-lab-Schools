{
  "nbformat": 4,
  "nbformat_minor": 0,
  "metadata": {
    "colab": {
      "name": "Untitled105.ipynb",
      "provenance": [],
      "authorship_tag": "ABX9TyP2XAjr0YFVRneIJy8DbjdQ",
      "include_colab_link": true
    },
    "kernelspec": {
      "name": "python3",
      "display_name": "Python 3"
    },
    "language_info": {
      "name": "python"
    }
  },
  "cells": [
    {
      "cell_type": "markdown",
      "metadata": {
        "id": "view-in-github",
        "colab_type": "text"
      },
      "source": [
        "<a href=\"https://colab.research.google.com/github/Deepsphere-AI/AI-lab-Schools/blob/main/Grade%2008/Unit-2/Colab_Eight_PPT_25.ipynb\" target=\"_parent\"><img src=\"https://colab.research.google.com/assets/colab-badge.svg\" alt=\"Open In Colab\"/></a>"
      ]
    },
    {
      "cell_type": "code",
      "execution_count": null,
      "metadata": {
        "id": "7RoEoARSIom2"
      },
      "outputs": [],
      "source": [
        "# \"\"\"\n",
        "# Ex 25.\n",
        "\n",
        "# Program Description: The objective of this program is to plot the point (5,5) on a graph using the modules matplotlib & numpy.\n",
        "\n",
        "# At the top import matplotlib.pyplot as plt and import numpy as np. Start by just plotting the point(5,5) and showing it.\n",
        "# \"\"\"\n",
        "\n",
        "import matplotlib.pyplot as plt\n",
        "import numpy as np\n",
        "\n",
        "plt.scatter(5,5)\n",
        "plt.show()"
      ]
    }
  ]
}