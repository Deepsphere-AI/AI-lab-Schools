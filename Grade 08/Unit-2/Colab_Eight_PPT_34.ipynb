{
  "nbformat": 4,
  "nbformat_minor": 0,
  "metadata": {
    "colab": {
      "name": "Untitled116.ipynb",
      "provenance": [],
      "authorship_tag": "ABX9TyMItULBkFLRSH111Sx+aJ1C",
      "include_colab_link": true
    },
    "kernelspec": {
      "name": "python3",
      "display_name": "Python 3"
    },
    "language_info": {
      "name": "python"
    }
  },
  "cells": [
    {
      "cell_type": "markdown",
      "metadata": {
        "id": "view-in-github",
        "colab_type": "text"
      },
      "source": [
        "<a href=\"https://colab.research.google.com/github/Deepsphere-AI/AI-lab-Schools/blob/main/Grade%2008/Unit-2/Colab_Eight_PPT_34.ipynb\" target=\"_parent\"><img src=\"https://colab.research.google.com/assets/colab-badge.svg\" alt=\"Open In Colab\"/></a>"
      ]
    },
    {
      "cell_type": "code",
      "execution_count": null,
      "metadata": {
        "id": "PhLX-j82SFHx"
      },
      "outputs": [],
      "source": [
        "# \"\"\"\n",
        "# Ex 34.\n",
        "# Using the code from ex.33, theres a cool feature with matplotlib that will add grids to the graph. Using the .grid() function, add a grid to the graph.\n",
        "\n",
        "# Program Description: The objective of this program is to use the .grid() function from matplotlib to add a grid to the graph from the previous program.\n",
        "\n",
        "# \"\"\"\n",
        "\n",
        "import numpy as np\n",
        "import matplotlib.pyplot as plt\n",
        "\n",
        "X = np.array([1, 2, 3])\n",
        "Y = np.array([1, 2, 3])\n",
        "\n",
        "plt.grid()\n",
        "\n",
        "plt.plot(X, Y)"
      ]
    }
  ]
}