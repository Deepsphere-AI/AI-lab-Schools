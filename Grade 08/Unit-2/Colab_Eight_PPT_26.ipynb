{
  "nbformat": 4,
  "nbformat_minor": 0,
  "metadata": {
    "colab": {
      "name": "Untitled106.ipynb",
      "provenance": [],
      "authorship_tag": "ABX9TyMw0FkKMZ0b0+wCle4V5pc9",
      "include_colab_link": true
    },
    "kernelspec": {
      "name": "python3",
      "display_name": "Python 3"
    },
    "language_info": {
      "name": "python"
    }
  },
  "cells": [
    {
      "cell_type": "markdown",
      "metadata": {
        "id": "view-in-github",
        "colab_type": "text"
      },
      "source": [
        "<a href=\"https://colab.research.google.com/github/Deepsphere-AI/AI-lab-Schools/blob/main/Grade%2008/Unit-2/Colab_Eight_PPT_26.ipynb\" target=\"_parent\"><img src=\"https://colab.research.google.com/assets/colab-badge.svg\" alt=\"Open In Colab\"/></a>"
      ]
    },
    {
      "cell_type": "code",
      "execution_count": null,
      "metadata": {
        "id": "p_jdr3ZcJHQ6"
      },
      "outputs": [],
      "source": [
        "# \"\"\"\n",
        "# Ex 26.\n",
        "# Plot a line from (1,1) to (8, 8)\n",
        "\n",
        "# Program Description: The objective of this program is to plot a line from the point (1,1) to the point (8, 8) using matplotlib & numpy.\n",
        "\n",
        "# \"\"\"\n",
        "import matplotlib.pyplot as plt\n",
        "import numpy as np\n",
        "\n",
        "x = range(1, 9)\n",
        "y = [i for i in x]\n",
        "\n",
        "plt.plot(x, y)\n",
        "plt.show"
      ]
    }
  ]
}