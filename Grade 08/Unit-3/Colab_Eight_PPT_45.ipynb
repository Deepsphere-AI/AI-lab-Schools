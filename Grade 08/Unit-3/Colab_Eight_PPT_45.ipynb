{
  "nbformat": 4,
  "nbformat_minor": 0,
  "metadata": {
    "colab": {
      "name": "Untitled127.ipynb",
      "provenance": [],
      "authorship_tag": "ABX9TyPIFsTUJRR3fsCTVjgz1Ukd",
      "include_colab_link": true
    },
    "kernelspec": {
      "name": "python3",
      "display_name": "Python 3"
    },
    "language_info": {
      "name": "python"
    }
  },
  "cells": [
    {
      "cell_type": "markdown",
      "metadata": {
        "id": "view-in-github",
        "colab_type": "text"
      },
      "source": [
        "<a href=\"https://colab.research.google.com/github/Deepsphere-AI/AI-lab-Schools/blob/main/Grade%2008/Unit-3/Colab_Eight_PPT_45.ipynb\" target=\"_parent\"><img src=\"https://colab.research.google.com/assets/colab-badge.svg\" alt=\"Open In Colab\"/></a>"
      ]
    },
    {
      "cell_type": "code",
      "execution_count": null,
      "metadata": {
        "id": "Cqo2rHWBY8Nc"
      },
      "outputs": [],
      "source": [
        "# \"\"\"\n",
        "# Ex 45.\n",
        "\n",
        "# Create a random array with floats from 0 to 1. Give this array 4 rows and 6 columns.\n",
        "\n",
        "# Program Description: The objective of this program is to create an array with random numbers and specified number of rows and column. \n",
        "# Note: Use format np.random.random([rows, columns])\n",
        "\n",
        "# \"\"\"\n",
        "\n",
        "import numpy as np\n",
        "\n",
        "rand_arr = np.random.random([4,6])\n",
        "\n",
        "print(rand_arr)"
      ]
    }
  ]
}