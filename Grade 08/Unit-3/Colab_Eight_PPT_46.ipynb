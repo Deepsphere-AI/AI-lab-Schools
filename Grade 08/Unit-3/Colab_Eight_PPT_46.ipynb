{
  "nbformat": 4,
  "nbformat_minor": 0,
  "metadata": {
    "colab": {
      "name": "Untitled128.ipynb",
      "provenance": [],
      "authorship_tag": "ABX9TyNdKz5My4MIX7X15BVIx12O",
      "include_colab_link": true
    },
    "kernelspec": {
      "name": "python3",
      "display_name": "Python 3"
    },
    "language_info": {
      "name": "python"
    }
  },
  "cells": [
    {
      "cell_type": "markdown",
      "metadata": {
        "id": "view-in-github",
        "colab_type": "text"
      },
      "source": [
        "<a href=\"https://colab.research.google.com/github/Deepsphere-AI/AI-lab-Schools/blob/main/Grade%2008/Unit-3/Colab_Eight_PPT_46.ipynb\" target=\"_parent\"><img src=\"https://colab.research.google.com/assets/colab-badge.svg\" alt=\"Open In Colab\"/></a>"
      ]
    },
    {
      "cell_type": "code",
      "execution_count": null,
      "metadata": {
        "id": "B2xg8tbSZZvx"
      },
      "outputs": [],
      "source": [
        "# \"\"\"\n",
        "# Ex 46.\n",
        "\n",
        "# Using the same code from Ex. 45, round each number to 3 decimal places.\n",
        "\n",
        "# Program Description: The objective of this program is to create an array with random number and specified number of rows and columns (same as Ex. 45) but with rounded to a specified number of decimal places.\n",
        "# Note: Use format np.set_printoptions(precision = x) where x is a number. \n",
        "\n",
        "# \"\"\"\n",
        "import numpy as np\n",
        "\n",
        "rand_arr = np.random.random([4,6])\n",
        "np.set_printoptions(precision=3)\n",
        "\n",
        "print(rand_arr)"
      ]
    }
  ]
}