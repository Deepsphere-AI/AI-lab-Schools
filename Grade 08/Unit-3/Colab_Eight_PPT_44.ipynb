{
  "nbformat": 4,
  "nbformat_minor": 0,
  "metadata": {
    "colab": {
      "name": "Untitled126.ipynb",
      "provenance": [],
      "authorship_tag": "ABX9TyNldVw25aBxUxH1BcQ920lY",
      "include_colab_link": true
    },
    "kernelspec": {
      "name": "python3",
      "display_name": "Python 3"
    },
    "language_info": {
      "name": "python"
    }
  },
  "cells": [
    {
      "cell_type": "markdown",
      "metadata": {
        "id": "view-in-github",
        "colab_type": "text"
      },
      "source": [
        "<a href=\"https://colab.research.google.com/github/Deepsphere-AI/AI-lab-Schools/blob/main/Grade%2008/Unit-3/Colab_Eight_PPT_44.ipynb\" target=\"_parent\"><img src=\"https://colab.research.google.com/assets/colab-badge.svg\" alt=\"Open In Colab\"/></a>"
      ]
    },
    {
      "cell_type": "code",
      "execution_count": null,
      "metadata": {
        "id": "yBjMumlJXLqd"
      },
      "outputs": [],
      "source": [
        "# \"\"\"\n",
        "# Ex 44.\n",
        "\n",
        "# Given the arrays, arr = np.array([0, 1, 2, 3, 4, 5, 6, 7, 8, 9]) and arr1 = np.array([2, 3, 4]), find the common items present in both arrays and delete them from the arr.\n",
        "\n",
        "# Program Description: The objective of this program is to find and delete the common items present in two arrays. These common items are put into a new set. \n",
        "# Note: Use the format np.setdiff1d(arr1, arr2)\n",
        "\n",
        "# \"\"\"\n",
        "\n",
        "import numpy as np\n",
        "\n",
        "arr = np.array([0, 1, 2, 3, 4, 5, 6, 7, 8, 9])\n",
        "arr1 = np.array([2, 4, 8])\n",
        "\n",
        "arr2 = np.setdiff1d(arr,arr1)\n",
        "\n",
        "print(arr2)"
      ]
    }
  ]
}