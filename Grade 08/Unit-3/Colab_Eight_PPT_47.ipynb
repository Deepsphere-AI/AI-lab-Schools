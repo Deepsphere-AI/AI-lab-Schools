{
  "nbformat": 4,
  "nbformat_minor": 0,
  "metadata": {
    "colab": {
      "name": "Untitled129.ipynb",
      "provenance": [],
      "authorship_tag": "ABX9TyORQwKNXdtkLOlfWImOwH2Z",
      "include_colab_link": true
    },
    "kernelspec": {
      "name": "python3",
      "display_name": "Python 3"
    },
    "language_info": {
      "name": "python"
    }
  },
  "cells": [
    {
      "cell_type": "markdown",
      "metadata": {
        "id": "view-in-github",
        "colab_type": "text"
      },
      "source": [
        "<a href=\"https://colab.research.google.com/github/Deepsphere-AI/AI-lab-Schools/blob/main/Grade%2008/Unit-3/Colab_Eight_PPT_47.ipynb\" target=\"_parent\"><img src=\"https://colab.research.google.com/assets/colab-badge.svg\" alt=\"Open In Colab\"/></a>"
      ]
    },
    {
      "cell_type": "code",
      "execution_count": null,
      "metadata": {
        "id": "rnjRsdX5he9c"
      },
      "outputs": [],
      "source": [
        "# \"\"\"\n",
        "# Ex 47.\n",
        "\n",
        "# Using .arange, create an array with the counting numbers from 0 to 19.\n",
        "\n",
        "# Program Description: The objective of this program is to create an array counting numbers upto a specified values. \n",
        "# Note: Use the format np.arrange(x) where x is a number.\n",
        "\n",
        "# \"\"\"\n",
        "\n",
        "import numpy as np\n",
        "\n",
        "arr = np.arange(20)\n",
        "\n",
        "print(arr)"
      ]
    }
  ]
}