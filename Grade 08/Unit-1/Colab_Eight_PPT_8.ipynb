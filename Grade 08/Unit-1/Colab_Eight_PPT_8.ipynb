{
  "nbformat": 4,
  "nbformat_minor": 0,
  "metadata": {
    "colab": {
      "name": "Untitled103.ipynb",
      "provenance": [],
      "authorship_tag": "ABX9TyOo12oupYX3Bq56/iSR9IWG",
      "include_colab_link": true
    },
    "kernelspec": {
      "name": "python3",
      "display_name": "Python 3"
    },
    "language_info": {
      "name": "python"
    }
  },
  "cells": [
    {
      "cell_type": "markdown",
      "metadata": {
        "id": "view-in-github",
        "colab_type": "text"
      },
      "source": [
        "<a href=\"https://colab.research.google.com/github/Deepsphere-AI/AI-lab-Schools/blob/main/Grade%2008/Unit-1/Colab_Eight_PPT_8.ipynb\" target=\"_parent\"><img src=\"https://colab.research.google.com/assets/colab-badge.svg\" alt=\"Open In Colab\"/></a>"
      ]
    },
    {
      "cell_type": "code",
      "execution_count": null,
      "metadata": {
        "id": "5rBZMU_4HgRN"
      },
      "outputs": [],
      "source": [
        "# \"\"\"\n",
        "# Ex 8.\n",
        "\n",
        "# Create a function that takes in a number and prints out all the numbers under it\n",
        "\n",
        "# Program description: The objective of this program is to create a function that takes in a number and prints out all the numbers under it.\n",
        "# Note : The “def” is used to create our own functions.\n",
        "\n",
        "# Hint: for x in ___\n",
        "# \"\"\"\n",
        "\n",
        "def under(num1):\n",
        "  for x in range(num1):\n",
        "    print(x)"
      ]
    }
  ]
}