{
  "nbformat": 4,
  "nbformat_minor": 0,
  "metadata": {
    "colab": {
      "name": "Untitled82.ipynb",
      "provenance": [],
      "authorship_tag": "ABX9TyPL247lGF+KHYj+dX36J6Bc",
      "include_colab_link": true
    },
    "kernelspec": {
      "name": "python3",
      "display_name": "Python 3"
    },
    "language_info": {
      "name": "python"
    }
  },
  "cells": [
    {
      "cell_type": "markdown",
      "metadata": {
        "id": "view-in-github",
        "colab_type": "text"
      },
      "source": [
        "<a href=\"https://colab.research.google.com/github/Deepsphere-AI/AI-lab-Schools/blob/main/Grade%2008/Unit-1/Colab_Eight_PPT_10.ipynb\" target=\"_parent\"><img src=\"https://colab.research.google.com/assets/colab-badge.svg\" alt=\"Open In Colab\"/></a>"
      ]
    },
    {
      "cell_type": "code",
      "execution_count": null,
      "metadata": {
        "id": "6ujSM9ey4nFI"
      },
      "outputs": [],
      "source": [
        "# \"\"\"\n",
        "# Ex 10.\n",
        "\n",
        "# Given a list of integer numbers, find the range of the list (the maximum - minimum value)\n",
        "\n",
        "# Program Description: The objective of this program is to create a function that can print the range(Maximum- minimum list) of integers inputted by the user.\n",
        "# Note- Range is the difference between the highest and lowest values\n",
        "\n",
        "# \"\"\"\n",
        "\n",
        "numbers = [12,145,14,122,142,2,3154,132,132,242,1245,235,123] # can be any list, this is just an example\n",
        "def range(numbers):\n",
        "  min = numbers[0]\n",
        "  max = numbers[0] \n",
        "  for x in numbers:\n",
        "    if(x < min):\n",
        "      min = x\n",
        "    if(x > max):\n",
        "      max = x\n",
        "  return max-min\n",
        "\n",
        "print(range(numbers))"
      ]
    }
  ]
}