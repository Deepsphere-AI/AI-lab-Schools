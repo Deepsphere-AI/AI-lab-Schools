{
  "nbformat": 4,
  "nbformat_minor": 0,
  "metadata": {
    "colab": {
      "name": "Untitled88.ipynb",
      "provenance": [],
      "include_colab_link": true
    },
    "kernelspec": {
      "name": "python3",
      "display_name": "Python 3"
    },
    "language_info": {
      "name": "python"
    }
  },
  "cells": [
    {
      "cell_type": "markdown",
      "metadata": {
        "id": "view-in-github",
        "colab_type": "text"
      },
      "source": [
        "<a href=\"https://colab.research.google.com/github/Deepsphere-AI/AI-lab-Schools/blob/main/Grade%2008/Unit-1/Colab_Eight_PPT_16.ipynb\" target=\"_parent\"><img src=\"https://colab.research.google.com/assets/colab-badge.svg\" alt=\"Open In Colab\"/></a>"
      ]
    },
    {
      "cell_type": "code",
      "execution_count": 1,
      "metadata": {
        "id": "IsX4Pymp-RsQ",
        "outputId": "3460a2ae-2ad5-49a0-e2fc-3a15293284f0",
        "colab": {
          "base_uri": "https://localhost:8080/"
        }
      },
      "outputs": [
        {
          "output_type": "stream",
          "name": "stdout",
          "text": [
            "2\n"
          ]
        }
      ],
      "source": [
        "# \"\"\"\n",
        "# Ex 16.\n",
        "\n",
        "# Program Description: The objective of this program is to create a function that will find the index of where the first time character ‘e’ appears in a string. \n",
        "\n",
        "# Note- Use the function .index(‘e’) for successful execution of the program\n",
        "# \"\"\"\n",
        "\n",
        "vAR_str = \"Where is there an e here?\"\n",
        "\n",
        "def indexOf(string):\n",
        "  return vAR_str.index('e')\n",
        "\n",
        "print(indexOf(vAR_str))"
      ]
    }
  ]
}