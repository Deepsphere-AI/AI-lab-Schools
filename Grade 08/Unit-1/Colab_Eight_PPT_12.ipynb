{
  "nbformat": 4,
  "nbformat_minor": 0,
  "metadata": {
    "colab": {
      "name": "Untitled84.ipynb",
      "provenance": [],
      "authorship_tag": "ABX9TyObotbeZ95tbBe4VFrCrHEK",
      "include_colab_link": true
    },
    "kernelspec": {
      "name": "python3",
      "display_name": "Python 3"
    },
    "language_info": {
      "name": "python"
    }
  },
  "cells": [
    {
      "cell_type": "markdown",
      "metadata": {
        "id": "view-in-github",
        "colab_type": "text"
      },
      "source": [
        "<a href=\"https://colab.research.google.com/github/Deepsphere-AI/AI-lab-Schools/blob/main/Grade%2008/Unit-1/Colab_Eight_PPT_12.ipynb\" target=\"_parent\"><img src=\"https://colab.research.google.com/assets/colab-badge.svg\" alt=\"Open In Colab\"/></a>"
      ]
    },
    {
      "cell_type": "code",
      "execution_count": null,
      "metadata": {
        "id": "-WbZudc48xWZ"
      },
      "outputs": [],
      "source": [
        "# \"\"\"\n",
        "# Ex 12.\n",
        "\n",
        "# Create a function that randomly Displays a numerical 4-digit password using random.randint(range).\n",
        "\n",
        "# Program Description: The objective of this program is to create a function that randomly displays a numerical 4-digit password using random.randint(range) \n",
        "# Note- For the program to work, the built-in module Random from the python libraries must be imported successfully.\n",
        "\n",
        "# \"\"\"\n",
        "\n",
        "import random\n",
        "\n",
        "def randompassword():\n",
        "  a = random.randint(0,9)\n",
        "  b = random.randint(0,9)\n",
        "  c = random.randint(0,9)\n",
        "  d = random.randint(0,9)\n",
        "  return str(a) + str(b) + str(c) + str(d)\n",
        "\n",
        "print(randompassword())"
      ]
    }
  ]
}