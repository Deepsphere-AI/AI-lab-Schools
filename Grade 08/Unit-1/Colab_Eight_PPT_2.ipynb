{
  "nbformat": 4,
  "nbformat_minor": 0,
  "metadata": {
    "colab": {
      "name": "Untitled92.ipynb",
      "provenance": [],
      "authorship_tag": "ABX9TyPgooPYA9XDNu9V5oceNWj5",
      "include_colab_link": true
    },
    "kernelspec": {
      "name": "python3",
      "display_name": "Python 3"
    },
    "language_info": {
      "name": "python"
    }
  },
  "cells": [
    {
      "cell_type": "markdown",
      "metadata": {
        "id": "view-in-github",
        "colab_type": "text"
      },
      "source": [
        "<a href=\"https://colab.research.google.com/github/Deepsphere-AI/AI-lab-Schools/blob/main/Grade%2008/Unit-1/Colab_Eight_PPT_2.ipynb\" target=\"_parent\"><img src=\"https://colab.research.google.com/assets/colab-badge.svg\" alt=\"Open In Colab\"/></a>"
      ]
    },
    {
      "cell_type": "code",
      "execution_count": null,
      "metadata": {
        "id": "6b4wxV-DCiv_"
      },
      "outputs": [],
      "source": [
        "# \"\"\"\n",
        "# Ex 2.\n",
        "\n",
        "# Write a for loop to print out the counting numbers from 0 - 9\n",
        "\n",
        "# Program description : The objective of this program is to print counting numbers 0-9 using for loop.\n",
        "# So, for i in range(10) signifies range between 0-9.\n",
        "\n",
        "# Note: To execute the same output we can also use other conditional statements such as “Downwhile” and “While”.\n",
        "\n",
        "# \"\"\"\n",
        "\n",
        "for x in range(10):\n",
        "  print(x)"
      ]
    }
  ]
}