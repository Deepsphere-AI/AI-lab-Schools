{
  "nbformat": 4,
  "nbformat_minor": 0,
  "metadata": {
    "colab": {
      "name": "Untitled97.ipynb",
      "provenance": [],
      "authorship_tag": "ABX9TyPwSWpZzNe8SpBd98w/St3x",
      "include_colab_link": true
    },
    "kernelspec": {
      "name": "python3",
      "display_name": "Python 3"
    },
    "language_info": {
      "name": "python"
    }
  },
  "cells": [
    {
      "cell_type": "markdown",
      "metadata": {
        "id": "view-in-github",
        "colab_type": "text"
      },
      "source": [
        "<a href=\"https://colab.research.google.com/github/Deepsphere-AI/AI-lab-Schools/blob/main/Grade%2008/Unit-1/Colab_Eight_PPT_24.ipynb\" target=\"_parent\"><img src=\"https://colab.research.google.com/assets/colab-badge.svg\" alt=\"Open In Colab\"/></a>"
      ]
    },
    {
      "cell_type": "code",
      "execution_count": null,
      "metadata": {
        "id": "vYCzZvXAFW_V"
      },
      "outputs": [],
      "source": [
        "# \"\"\"\n",
        "# Ex 24.\n",
        "\n",
        "# Program Description: The objective of this program is to add verification to the withdraw and deposit functions.\n",
        "\n",
        "# Note: Only do the transaction if the verification returns “True.”\n",
        "\n",
        "# \"\"\"\n",
        "\n",
        "import random\n",
        "\n",
        "class bank_account:\n",
        "  vAR_balance = 0\n",
        "  vAR_id_number = 0\n",
        "\n",
        "  def __init__(self, vAR_num):\n",
        "    self.balance = vAR_num\n",
        "    self.id_number = random.randrange(100000,999999)\n",
        "\n",
        "  def withdraw(self, vAR_num):\n",
        "    if(self.verify()):\n",
        "      self.balance = self.balance - vAR_num\n",
        "    return self.balance\n",
        "  \n",
        "  def deposit(self, vAR_num):\n",
        "    if(self.verify()):\n",
        "      self.balance = self.balance + vAR_num\n",
        "    return self.balance\n",
        "  \n",
        "  def verify(self):\n",
        "    return self.id_number == int(input(\"What is your id_number?\"))\n",
        "  \n",
        "  def get_id_num(self):\n",
        "    return self.id_number"
      ]
    }
  ]
}