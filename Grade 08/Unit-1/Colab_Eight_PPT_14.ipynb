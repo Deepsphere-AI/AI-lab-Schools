{
  "nbformat": 4,
  "nbformat_minor": 0,
  "metadata": {
    "colab": {
      "name": "Untitled86.ipynb",
      "provenance": [],
      "include_colab_link": true
    },
    "kernelspec": {
      "name": "python3",
      "display_name": "Python 3"
    },
    "language_info": {
      "name": "python"
    }
  },
  "cells": [
    {
      "cell_type": "markdown",
      "metadata": {
        "id": "view-in-github",
        "colab_type": "text"
      },
      "source": [
        "<a href=\"https://colab.research.google.com/github/Deepsphere-AI/AI-lab-Schools/blob/main/Grade%2008/Unit-1/Colab_Eight_PPT_14.ipynb\" target=\"_parent\"><img src=\"https://colab.research.google.com/assets/colab-badge.svg\" alt=\"Open In Colab\"/></a>"
      ]
    },
    {
      "cell_type": "code",
      "execution_count": 1,
      "metadata": {
        "id": "C5LmIWSV9Yjs",
        "outputId": "fb829677-2304-48df-eb8a-0bbab783dd75",
        "colab": {
          "base_uri": "https://localhost:8080/"
        }
      },
      "outputs": [
        {
          "output_type": "stream",
          "name": "stdout",
          "text": [
            "True\n"
          ]
        }
      ],
      "source": [
        "# \"\"\"\n",
        "# Ex 14.\n",
        "\n",
        "# Program Description: The objective of this program is to create a function that will check whether the sum of a list that is inputted is equal to 21.\n",
        "# \"\"\"\n",
        "\n",
        "check = [1,2,-3,3,3,4,5,6,2,-2]\n",
        "def sum21(list):\n",
        "  vAR_total = 0\n",
        "  for vAR_x in check:\n",
        "    vAR_total+=vAR_x\n",
        "  if(vAR_total == 21):\n",
        "    return True\n",
        "  else:\n",
        "    return False\n",
        "\n",
        "print(sum21(check))"
      ]
    }
  ]
}