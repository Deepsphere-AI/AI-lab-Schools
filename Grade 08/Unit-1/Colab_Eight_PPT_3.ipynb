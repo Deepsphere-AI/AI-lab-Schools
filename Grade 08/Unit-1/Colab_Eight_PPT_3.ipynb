{
  "nbformat": 4,
  "nbformat_minor": 0,
  "metadata": {
    "colab": {
      "name": "Untitled98.ipynb",
      "provenance": [],
      "include_colab_link": true
    },
    "kernelspec": {
      "name": "python3",
      "display_name": "Python 3"
    },
    "language_info": {
      "name": "python"
    }
  },
  "cells": [
    {
      "cell_type": "markdown",
      "metadata": {
        "id": "view-in-github",
        "colab_type": "text"
      },
      "source": [
        "<a href=\"https://colab.research.google.com/github/Deepsphere-AI/AI-lab-Schools/blob/main/Grade%2008/Unit-1/Colab_Eight_PPT_3.ipynb\" target=\"_parent\"><img src=\"https://colab.research.google.com/assets/colab-badge.svg\" alt=\"Open In Colab\"/></a>"
      ]
    },
    {
      "cell_type": "code",
      "execution_count": 1,
      "metadata": {
        "id": "9WlqG_xoF2BO",
        "outputId": "e76f594f-6272-4d32-b0cd-187b67b0c7ea",
        "colab": {
          "base_uri": "https://localhost:8080/"
        }
      },
      "outputs": [
        {
          "output_type": "stream",
          "name": "stdout",
          "text": [
            "0\n",
            "1\n",
            "2\n",
            "3\n",
            "4\n",
            "5\n",
            "6\n",
            "7\n",
            "8\n",
            "9\n"
          ]
        }
      ],
      "source": [
        "# \"\"\"\n",
        "# Ex 3.\n",
        "\n",
        "# Write a loop to print out counting numbers from 0 - 9, but use ```while``` instead of for\n",
        "\n",
        "# Program description : The objective of this program is to print the numbers in range using a while loop. Here we declare a variable “x” and initialize it as 0 and give it with a while condition that the value should be lesser than 10.and we also increment which is increasing the value of x by 1, each time the loop runs. And we print so each time the loop runs it will increase its value by 1 and check with the condition and if the condition satisfies its proceeds or if not, the loop terminates.\n",
        "# Note: The value can also decrement by using the condition “x=x-1”. But for decrementing we have to initialize the value of x as 10.\n",
        "# Try it out : Try printing 0-9 using a while loop by decrementing. \n",
        "\n",
        "# \"\"\"\n",
        "\n",
        "x = 0\n",
        "while x < 10:\n",
        "  print(x)\n",
        "  x = x+1    \n",
        "  \n",
        "  #Or x+=1 also works"
      ]
    }
  ]
}