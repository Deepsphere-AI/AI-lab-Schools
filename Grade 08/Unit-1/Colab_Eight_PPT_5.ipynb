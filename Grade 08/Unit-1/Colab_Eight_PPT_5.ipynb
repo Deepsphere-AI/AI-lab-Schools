{
  "nbformat": 4,
  "nbformat_minor": 0,
  "metadata": {
    "colab": {
      "name": "Untitled100.ipynb",
      "provenance": [],
      "include_colab_link": true
    },
    "kernelspec": {
      "name": "python3",
      "display_name": "Python 3"
    },
    "language_info": {
      "name": "python"
    }
  },
  "cells": [
    {
      "cell_type": "markdown",
      "metadata": {
        "id": "view-in-github",
        "colab_type": "text"
      },
      "source": [
        "<a href=\"https://colab.research.google.com/github/Deepsphere-AI/AI-lab-Schools/blob/main/Grade%2008/Unit-1/Colab_Eight_PPT_5.ipynb\" target=\"_parent\"><img src=\"https://colab.research.google.com/assets/colab-badge.svg\" alt=\"Open In Colab\"/></a>"
      ]
    },
    {
      "cell_type": "code",
      "execution_count": 1,
      "metadata": {
        "id": "STPzj9j0Gh_P",
        "outputId": "811906ac-ab09-4fc5-9e42-7aab75913f8d",
        "colab": {
          "base_uri": "https://localhost:8080/"
        }
      },
      "outputs": [
        {
          "output_type": "stream",
          "name": "stdout",
          "text": [
            "['Pineapple', 'Watermelon', 'Peach']\n"
          ]
        }
      ],
      "source": [
        "# \"\"\"\n",
        "# Ex 5.\n",
        "\n",
        "# Using the list created in ex. 4, given the list, new_fruits = [\"Pineapple\", \"Watermelon\"], replace the corresponding value of fruits, with the corresponding values of new_fruits\n",
        "\n",
        "# Program description : The objective of this program is using the list created in exercise -4 (fruits) Create another list named new_fruits which contains values Pineapple and watermelon and to replace the corresponding values of fruits with corresponding values of new_fruits.\n",
        "\n",
        "# \"\"\"\n",
        "\n",
        "fruits = [\"Bannana\", \"Apple\", \"Peach\"]\n",
        "new_fruits = [\"Pineapple\", \"Watermelon\"]\n",
        "for x in range(len(new_fruits)):\n",
        "  fruits[x] = new_fruits[x]\n",
        "print(fruits)"
      ]
    }
  ]
}