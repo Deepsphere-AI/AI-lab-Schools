{
  "nbformat": 4,
  "nbformat_minor": 0,
  "metadata": {
    "colab": {
      "name": "Untitled85.ipynb",
      "provenance": [],
      "include_colab_link": true
    },
    "kernelspec": {
      "name": "python3",
      "display_name": "Python 3"
    },
    "language_info": {
      "name": "python"
    }
  },
  "cells": [
    {
      "cell_type": "markdown",
      "metadata": {
        "id": "view-in-github",
        "colab_type": "text"
      },
      "source": [
        "<a href=\"https://colab.research.google.com/github/Deepsphere-AI/AI-lab-Schools/blob/main/Grade%2008/Unit-1/Colab_Eight_PPT_13.ipynb\" target=\"_parent\"><img src=\"https://colab.research.google.com/assets/colab-badge.svg\" alt=\"Open In Colab\"/></a>"
      ]
    },
    {
      "cell_type": "code",
      "execution_count": 1,
      "metadata": {
        "id": "wGJExHLz9DP3",
        "outputId": "b59027c4-dc2e-42e3-c60a-8fe6ed561d7e",
        "colab": {
          "base_uri": "https://localhost:8080/"
        }
      },
      "outputs": [
        {
          "output_type": "stream",
          "name": "stdout",
          "text": [
            "1776\n"
          ]
        }
      ],
      "source": [
        "# \"\"\"\n",
        "# Ex 13.\n",
        "\n",
        "# Program Description: The objective of this program is to create a function that can print the sum of all integers that are odd or less than 100.\n",
        "# \"\"\"\n",
        "\n",
        "numbers = [12,145,14,122,142,2,3154,132,132,242,1245,235,123] # can be any list, this is just an example\n",
        "def odd_or_hundred(vAR_numbers):\n",
        "  vAR_total=0\n",
        "  for vAR_x in vAR_numbers:\n",
        "    if(vAR_x%2 == 1 or vAR_x<100):\n",
        "      vAR_total+=vAR_x\n",
        "  return vAR_total\n",
        "\n",
        "print(odd_or_hundred(numbers))"
      ]
    }
  ]
}