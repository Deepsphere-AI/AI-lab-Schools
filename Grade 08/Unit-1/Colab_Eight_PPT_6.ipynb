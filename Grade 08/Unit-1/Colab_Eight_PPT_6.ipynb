{
  "nbformat": 4,
  "nbformat_minor": 0,
  "metadata": {
    "colab": {
      "name": "Untitled101.ipynb",
      "provenance": [],
      "authorship_tag": "ABX9TyO1aqI+RxkvU4SGntShe00m",
      "include_colab_link": true
    },
    "kernelspec": {
      "name": "python3",
      "display_name": "Python 3"
    },
    "language_info": {
      "name": "python"
    }
  },
  "cells": [
    {
      "cell_type": "markdown",
      "metadata": {
        "id": "view-in-github",
        "colab_type": "text"
      },
      "source": [
        "<a href=\"https://colab.research.google.com/github/Deepsphere-AI/AI-lab-Schools/blob/main/Grade%2008/Unit-1/Colab_Eight_PPT_6.ipynb\" target=\"_parent\"><img src=\"https://colab.research.google.com/assets/colab-badge.svg\" alt=\"Open In Colab\"/></a>"
      ]
    },
    {
      "cell_type": "code",
      "execution_count": null,
      "metadata": {
        "id": "tzM8FsmnG1Fg"
      },
      "outputs": [],
      "source": [
        "# \"\"\"\n",
        "# Ex 6.\n",
        "\n",
        "# Grab the username and password through user input using input(). Print back the result.\n",
        "\n",
        "# Program description : The objective of this program is to grab username and password through user input using input() and print back the result.\n",
        "# Note :This program highlights the usage of input() function in Python.\n",
        "\n",
        "# \"\"\"\n",
        "\n",
        "username = input(\"Enter username:\")\n",
        "password = input(\"Enter password:\")\n",
        "\n",
        "print() #This is just so there is a space\n",
        "print(\"Username:\",username)\n",
        "print(\"Password:\",password)"
      ]
    }
  ]
}