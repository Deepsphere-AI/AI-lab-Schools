{
  "nbformat": 4,
  "nbformat_minor": 0,
  "metadata": {
    "colab": {
      "provenance": [],
      "authorship_tag": "ABX9TyPhLSnQorkJbjwhM5e4NwV9",
      "include_colab_link": true
    },
    "kernelspec": {
      "name": "python3",
      "display_name": "Python 3"
    },
    "language_info": {
      "name": "python"
    }
  },
  "cells": [
    {
      "cell_type": "markdown",
      "metadata": {
        "id": "view-in-github",
        "colab_type": "text"
      },
      "source": [
        "<a href=\"https://colab.research.google.com/github/Deepsphere-AI/AI-lab-Schools/blob/main/Grade%2008/Unit-5/Colab_Eight_PPT_63.ipynb\" target=\"_parent\"><img src=\"https://colab.research.google.com/assets/colab-badge.svg\" alt=\"Open In Colab\"/></a>"
      ]
    },
    {
      "cell_type": "code",
      "execution_count": null,
      "metadata": {
        "id": "oVomOZrMVlBL"
      },
      "outputs": [],
      "source": [
        "\"\"\"\n",
        "Ex 63.\n",
        "\n",
        "The objective of this program is to create another class called movie_theatre which will contain a list of movie class objects.\n",
        "\"\"\"\n",
        "\n",
        "class movie:\n",
        "  title = \"\"\n",
        "  runtime = 0\n",
        "  rating = 0.0\n",
        "  year = 0\n",
        "\n",
        "  def __init__(self, title, runtime, rating, year):\n",
        "    self.title = title\n",
        "    self.rating = rating\n",
        "    self.runtime = runtime\n",
        "    self.year = year\n",
        "\n",
        "class movie_theatre:\n",
        "  movie_list = []"
      ]
    }
  ]
}