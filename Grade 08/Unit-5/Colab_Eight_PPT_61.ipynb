{
  "nbformat": 4,
  "nbformat_minor": 0,
  "metadata": {
    "colab": {
      "provenance": [],
      "authorship_tag": "ABX9TyP2W0kVqa9AnXlsVQr/pIrO",
      "include_colab_link": true
    },
    "kernelspec": {
      "name": "python3",
      "display_name": "Python 3"
    },
    "language_info": {
      "name": "python"
    }
  },
  "cells": [
    {
      "cell_type": "markdown",
      "metadata": {
        "id": "view-in-github",
        "colab_type": "text"
      },
      "source": [
        "<a href=\"https://colab.research.google.com/github/Deepsphere-AI/AI-lab-Schools/blob/main/Grade%2008/Unit-5/Colab_Eight_PPT_61.ipynb\" target=\"_parent\"><img src=\"https://colab.research.google.com/assets/colab-badge.svg\" alt=\"Open In Colab\"/></a>"
      ]
    },
    {
      "cell_type": "code",
      "execution_count": null,
      "metadata": {
        "id": "spHUYRNJTBLc"
      },
      "outputs": [],
      "source": [
        "\"\"\"\n",
        "Ex 61.\n",
        "\n",
        "The objective of this program is create a constructor for the movie class.\n",
        "\n",
        "\"\"\"\n",
        "\n",
        "class movie:\n",
        "  title = \"\"\n",
        "  runtime = 0\n",
        "  rating = 0.0\n",
        "  year = 0\n",
        "\n",
        "  def __init__(self, title, runtime, rating, year):\n",
        "    self.title = title\n",
        "    self.rating = rating\n",
        "    self.runtime = runtime\n",
        "    self.year = year\n",
        "\n",
        "m1 = movie(\"Titanic\", 210, 7.8, 1997)"
      ]
    }
  ]
}