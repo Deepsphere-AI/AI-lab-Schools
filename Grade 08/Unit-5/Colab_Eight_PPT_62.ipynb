{
  "nbformat": 4,
  "nbformat_minor": 0,
  "metadata": {
    "colab": {
      "provenance": [],
      "include_colab_link": true
    },
    "kernelspec": {
      "name": "python3",
      "display_name": "Python 3"
    },
    "language_info": {
      "name": "python"
    }
  },
  "cells": [
    {
      "cell_type": "markdown",
      "metadata": {
        "id": "view-in-github",
        "colab_type": "text"
      },
      "source": [
        "<a href=\"https://colab.research.google.com/github/Deepsphere-AI/AI-lab-Schools/blob/main/Grade%2008/Unit-5/Colab_Eight_PPT_62.ipynb\" target=\"_parent\"><img src=\"https://colab.research.google.com/assets/colab-badge.svg\" alt=\"Open In Colab\"/></a>"
      ]
    },
    {
      "cell_type": "code",
      "execution_count": 1,
      "metadata": {
        "id": "ogCwS-qplpKR",
        "outputId": "09952102-4261-40d7-b0bc-c0f1af792935",
        "colab": {
          "base_uri": "https://localhost:8080/"
        }
      },
      "outputs": [
        {
          "output_type": "stream",
          "name": "stdout",
          "text": [
            "Title:  Runtime: 226 Rating: 8.1 Year: 2013\n",
            "Title:  Runtime: 180 Rating: 2.8 Year: 2012\n",
            "Title:  Runtime: 131 Rating: 6.4 Year: 1984\n",
            "Title:  Runtime: 208 Rating: 7.6 Year: 2012\n",
            "Title:  Runtime: 126 Rating: 7.3 Year: 2008\n",
            "Title:  Runtime: 210 Rating: 6.9 Year: 1962\n",
            "Title:  Runtime: 210 Rating: 0.7 Year: 1964\n",
            "Title:  Runtime: 194 Rating: 9.2 Year: 2009\n",
            "Title:  Runtime: 166 Rating: 2.6 Year: 1975\n",
            "Title:  Runtime: 224 Rating: 0.2 Year: 2010\n",
            "Title:  Runtime: 198 Rating: 7.9 Year: 1967\n",
            "Title:  Runtime: 128 Rating: 9.2 Year: 1982\n",
            "Title:  Runtime: 216 Rating: 6.3 Year: 1984\n",
            "Title:  Runtime: 134 Rating: 1.0 Year: 1975\n",
            "Title:  Runtime: 195 Rating: 3.8 Year: 2015\n",
            "Title:  Runtime: 178 Rating: 6.3 Year: 2008\n",
            "Title:  Runtime: 208 Rating: 7.6 Year: 1996\n",
            "Title:  Runtime: 131 Rating: 5.7 Year: 1991\n",
            "Title:  Runtime: 177 Rating: 9.1 Year: 1954\n",
            "Title:  Runtime: 135 Rating: 7.0 Year: 1975\n",
            "\n"
          ]
        }
      ],
      "source": [
        "\"\"\"\n",
        "Ex 67.\n",
        "\n",
        "The objective of this program is to round the value of the movie rating upto one decimal place. Use the round() function.\n",
        "\"\"\"\n",
        "\n",
        "import random\n",
        "\n",
        "class movie:\n",
        "  title = \"\"\n",
        "  runtime = 0\n",
        "  rating = 0.0\n",
        "  year = 0\n",
        "\n",
        "  def __init__(self, title, runtime, rating, year):\n",
        "    self.title = title\n",
        "    self.rating = rating\n",
        "    self.runtime = runtime\n",
        "    self.year = year\n",
        "  \n",
        "  def details(self):\n",
        "    out = \"Title: \" + self.title + \" Runtime: \" + str(self.runtime) + \" Rating: \" + str(self.rating) + \" Year: \" + str(self.year)\n",
        "    return out\n",
        "\n",
        "class movie_theatre:\n",
        "  movie_list = []\n",
        "\n",
        "  def __init__(self):\n",
        "    return\n",
        "  \n",
        "  def random_movie(self,x):\n",
        "    for i in range(x):\n",
        "      rt = random.randint(120,240)\n",
        "      rat = random.uniform(0,10)\n",
        "      y = random.randint(1950,2021)\n",
        "      self.movie_list.append(movie(\"\",rt,round(rat,1),y))\n",
        "  \n",
        "  def get_movies(self):\n",
        "    out = \"\"\n",
        "    for x in self.movie_list:\n",
        "      out = out + x.details() + '\\n'\n",
        "    return out\n",
        "\n",
        "m1 = movie_theatre()\n",
        "m1.random_movie(20)\n",
        "print(m1.get_movies())"
      ]
    }
  ]
}