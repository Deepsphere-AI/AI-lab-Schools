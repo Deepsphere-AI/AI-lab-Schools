{
  "nbformat": 4,
  "nbformat_minor": 0,
  "metadata": {
    "colab": {
      "name": "Untitled28.ipynb",
      "provenance": [],
      "include_colab_link": true
    },
    "kernelspec": {
      "name": "python3",
      "display_name": "Python 3"
    },
    "language_info": {
      "name": "python"
    }
  },
  "cells": [
    {
      "cell_type": "markdown",
      "metadata": {
        "id": "view-in-github",
        "colab_type": "text"
      },
      "source": [
        "<a href=\"https://colab.research.google.com/github/Deepsphere-AI/AI-lab-Schools/blob/main/Grade%2008/Unit-5/Colab_Eight_PPT_64.ipynb\" target=\"_parent\"><img src=\"https://colab.research.google.com/assets/colab-badge.svg\" alt=\"Open In Colab\"/></a>"
      ]
    },
    {
      "cell_type": "code",
      "execution_count": 6,
      "metadata": {
        "id": "8eqd8r7ENAUY",
        "outputId": "a6a3396f-fabf-4b5b-b8df-9b0e71235dcf",
        "colab": {
          "base_uri": "https://localhost:8080/"
        }
      },
      "outputs": [
        {
          "name": "stdout",
          "output_type": "stream",
          "text": [
            "What is your id_number?100001\n"
          ]
        },
        {
          "output_type": "execute_result",
          "data": {
            "text/plain": [
              "False"
            ]
          },
          "metadata": {},
          "execution_count": 6
        }
      ],
      "source": [
        "# \"\"\"\n",
        "# Ex 64.\n",
        "\n",
        "# Finally, edit the withdraw and deposit functions in the bank account class to include verify. Only do the transaction if the verification is true.\n",
        "\n",
        "# Program description: The objective of this function is to edit the withdraw and deposit functions (47) to ensure that the transaction only\n",
        "# takes place of the verify function is true.\n",
        "# \"\"\"\n",
        "\n",
        "import random\n",
        "\n",
        "class bank_account:\n",
        "  balance = 0\n",
        "  id_number = 0\n",
        "\n",
        "  def __init__(self, num):\n",
        "    self.balance = num\n",
        "    self.id_number = random.randrange(100000,999999)\n",
        "\n",
        "  def withdraw(self, num):\n",
        "    if(self.verify()):\n",
        "      self.balance = self.balance - num\n",
        "    return self.balance\n",
        "  \n",
        "  def deposit(self, num):\n",
        "    if(self.verify()):\n",
        "      self.balance = self.balance + num\n",
        "    return self.balance\n",
        "  \n",
        "  def verify(self):\n",
        "    return self.id_number == int(input(\"What is your id_number?\"))\n",
        "  \n",
        "  def get_id_num(self):\n",
        "    return self.id_number\n",
        "\n",
        "m = bank_account(4000)\n",
        "m.verify()\n"
      ]
    }
  ]
}