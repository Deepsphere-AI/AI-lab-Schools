{
  "nbformat": 4,
  "nbformat_minor": 0,
  "metadata": {
    "colab": {
      "provenance": [],
      "authorship_tag": "ABX9TyMnqUDK84Nrv3qpYZUYIWev",
      "include_colab_link": true
    },
    "kernelspec": {
      "name": "python3",
      "display_name": "Python 3"
    },
    "language_info": {
      "name": "python"
    }
  },
  "cells": [
    {
      "cell_type": "markdown",
      "metadata": {
        "id": "view-in-github",
        "colab_type": "text"
      },
      "source": [
        "<a href=\"https://colab.research.google.com/github/Deepsphere-AI/AI-lab-Schools/blob/main/Grade%2008/Unit-5/Colab_Eight_PPT_64.ipynb\" target=\"_parent\"><img src=\"https://colab.research.google.com/assets/colab-badge.svg\" alt=\"Open In Colab\"/></a>"
      ]
    },
    {
      "cell_type": "code",
      "execution_count": null,
      "metadata": {
        "id": "nvt6XLAZV4nE"
      },
      "outputs": [],
      "source": [
        "\"\"\"\n",
        "Ex 64.\n",
        "\n",
        "The objective of this program is to create a ‘random movie’ which creates a specified number of movies with a random runtime, random rating, and random year with a blank title. \n",
        "Note: Remember to import the random module at the start of your code.\n",
        "\n",
        "\"\"\"\n",
        "\n",
        "import random\n",
        "\n",
        "class movie:\n",
        "  title = \"\"\n",
        "  runtime = 0\n",
        "  rating = 0.0\n",
        "  year = 0\n",
        "\n",
        "  def __init__(self, title, runtime, rating, year):\n",
        "    self.title = title\n",
        "    self.rating = rating\n",
        "    self.runtime = runtime\n",
        "    self.year = year\n",
        "\n",
        "class movie_theatre:\n",
        "  movie_list = []\n",
        "\n",
        "  def __init__(self):\n",
        "    return\n",
        "  \n",
        "  def random_movie(self,x):\n",
        "    for i in range(x):\n",
        "      rt = random.randint(120,240)\n",
        "      rat = random.uniform(0,10)\n",
        "      y = random.randint(1950,2021)\n",
        "      self.movie_list.append(movie(\"\",rt,rat,y))\n",
        "\n",
        "m1 = movie_theatre()\n",
        "m1.random_movie(20)"
      ]
    }
  ]
}