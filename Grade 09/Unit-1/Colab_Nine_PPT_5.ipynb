{
  "nbformat": 4,
  "nbformat_minor": 0,
  "metadata": {
    "colab": {
      "name": "Untitled143.ipynb",
      "provenance": [],
      "authorship_tag": "ABX9TyOtPs6Be/VIirNF4FdWumoh",
      "include_colab_link": true
    },
    "kernelspec": {
      "name": "python3",
      "display_name": "Python 3"
    },
    "language_info": {
      "name": "python"
    }
  },
  "cells": [
    {
      "cell_type": "markdown",
      "metadata": {
        "id": "view-in-github",
        "colab_type": "text"
      },
      "source": [
        "<a href=\"https://colab.research.google.com/github/Deepsphere-AI/AI-lab-Schools/blob/main/Grade%2009/Unit-1/Colab_Nine_PPT_5.ipynb\" target=\"_parent\"><img src=\"https://colab.research.google.com/assets/colab-badge.svg\" alt=\"Open In Colab\"/></a>"
      ]
    },
    {
      "cell_type": "code",
      "execution_count": null,
      "metadata": {
        "id": "Hy08-jC3G3cR"
      },
      "outputs": [],
      "source": [
        "# \"\"\"\n",
        "# Ex 5.\n",
        "\n",
        "# Program description: The objective of this program is given that each month has 30 days and the random date 7/7/2021 is Wednesday here this code to create a function named “next” which will increase the day by one.\n",
        "\n",
        "# Note:\n",
        "# * If the day is less than 0 this code adds 1.\n",
        "# *If the day is 0 then it adds one to the day and one to the month as well.\n",
        "# *Of the month is the 12th month (December) then this code adds one to the \n",
        "# Month and also adds one to the year.\n",
        "\n",
        "# Remember: This Exercise so far is like a chain of codes!\n",
        "\n",
        "# \"\"\"\n",
        "\n",
        "days = [\"Sunday\", \"Monday\", \"Tuesday\", \"Wensday\", \"Thursday\", \"Friday\", \"Saturday\"]\n",
        "year = 2021\n",
        "month = 7\n",
        "day = 7\n",
        "\n",
        "def next():\n",
        "  if(day<31):\n",
        "    day+=1\n",
        "  else:\n",
        "    day = 0\n",
        "    month+=1\n",
        "  if(month == 12):\n",
        "    month = 1\n",
        "    year+=1"
      ]
    }
  ]
}