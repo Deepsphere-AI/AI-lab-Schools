{
  "nbformat": 4,
  "nbformat_minor": 0,
  "metadata": {
    "colab": {
      "name": "Untitled138.ipynb",
      "provenance": [],
      "authorship_tag": "ABX9TyMq3JQVl9AEJ0QUJlsu7NHh",
      "include_colab_link": true
    },
    "kernelspec": {
      "name": "python3",
      "display_name": "Python 3"
    },
    "language_info": {
      "name": "python"
    }
  },
  "cells": [
    {
      "cell_type": "markdown",
      "metadata": {
        "id": "view-in-github",
        "colab_type": "text"
      },
      "source": [
        "<a href=\"https://colab.research.google.com/github/Deepsphere-AI/AI-lab-Schools/blob/main/Grade%2009/Unit-1/Colab_Nine_PPT_10.ipynb\" target=\"_parent\"><img src=\"https://colab.research.google.com/assets/colab-badge.svg\" alt=\"Open In Colab\"/></a>"
      ]
    },
    {
      "cell_type": "code",
      "execution_count": null,
      "metadata": {
        "id": "c66MBStAE9yK"
      },
      "outputs": [],
      "source": [
        "# \"\"\"\n",
        "# Ex 2.\n",
        "\n",
        "# Program description:  The objective of this program is to set the previously created variable “days” (In Ex - 1) To the list of all the days of a week.\n",
        "\n",
        "# Sunday - Saturday.\n",
        "\n",
        "# \"\"\"\n",
        "\n",
        "days = [\"Sunday\", \"Monday\", \"Tuesday\", \"Wensday\", \"Thursday\", \"Friday\", \"Saturday\"]"
      ]
    }
  ]
}