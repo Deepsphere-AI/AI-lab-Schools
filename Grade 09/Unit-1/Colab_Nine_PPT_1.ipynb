{
  "nbformat": 4,
  "nbformat_minor": 0,
  "metadata": {
    "colab": {
      "name": "Untitled132.ipynb",
      "provenance": [],
      "authorship_tag": "ABX9TyO4n0VVfSmse/iXNGXIH7vR",
      "include_colab_link": true
    },
    "kernelspec": {
      "name": "python3",
      "display_name": "Python 3"
    },
    "language_info": {
      "name": "python"
    }
  },
  "cells": [
    {
      "cell_type": "markdown",
      "metadata": {
        "id": "view-in-github",
        "colab_type": "text"
      },
      "source": [
        "<a href=\"https://colab.research.google.com/github/Deepsphere-AI/AI-lab-Schools/blob/main/Grade%2009/Unit-1/Colab_Nine_PPT_1.ipynb\" target=\"_parent\"><img src=\"https://colab.research.google.com/assets/colab-badge.svg\" alt=\"Open In Colab\"/></a>"
      ]
    },
    {
      "cell_type": "code",
      "execution_count": null,
      "metadata": {
        "id": "Gt6FpTqBslRY"
      },
      "outputs": [],
      "source": [
        "# \"\"\"\n",
        "# Ex 1.\n",
        "\n",
        "# Program Description: The objective of this program is to create a variable named “days”.\n",
        "\n",
        "# Note: If you want to assign values to the variables you shall use the “=” sign.\n",
        "\n",
        "# \"\"\"\n",
        "\n",
        "days"
      ]
    }
  ]
}