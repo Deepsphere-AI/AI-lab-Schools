{
  "nbformat": 4,
  "nbformat_minor": 0,
  "metadata": {
    "colab": {
      "name": "Untitled145.ipynb",
      "provenance": [],
      "include_colab_link": true
    },
    "kernelspec": {
      "name": "python3",
      "display_name": "Python 3"
    },
    "language_info": {
      "name": "python"
    }
  },
  "cells": [
    {
      "cell_type": "markdown",
      "metadata": {
        "id": "view-in-github",
        "colab_type": "text"
      },
      "source": [
        "<a href=\"https://colab.research.google.com/github/Deepsphere-AI/AI-lab-Schools/blob/main/Grade%2009/Unit-1/Colab_Nine_PPT_7.ipynb\" target=\"_parent\"><img src=\"https://colab.research.google.com/assets/colab-badge.svg\" alt=\"Open In Colab\"/></a>"
      ]
    },
    {
      "cell_type": "code",
      "execution_count": 1,
      "metadata": {
        "id": "3XOQ46BPH13y",
        "outputId": "c34acafa-94e7-4e2f-9e02-dd32b7ade02d",
        "colab": {
          "base_uri": "https://localhost:8080/"
        }
      },
      "outputs": [
        {
          "output_type": "stream",
          "name": "stdout",
          "text": [
            "Saturday, 1/23/2021\n"
          ]
        }
      ],
      "source": [
        "# \"\"\"\n",
        "# Ex 7.\n",
        "\n",
        "# Program description: The objective of this program is to create a function named “print date” which will print in the format (from previously created list ).\n",
        "# The format is Month/Day/Year.\n",
        "\n",
        "# \"\"\"\n",
        "\n",
        "days = [\"Friday\", \"Saturday\", \"Sunday\", \"Monday\", \"Tuesday\", \"Wensday\", \"Thursday\"]\n",
        "year = 2021\n",
        "month = 1\n",
        "day = 23\n",
        "\n",
        "def next():\n",
        "  if(day<31):\n",
        "    day+=1\n",
        "  else:\n",
        "    day = 0\n",
        "    month+=1\n",
        "  if(month == 12):\n",
        "    month = 1\n",
        "    year+=1\n",
        "  \n",
        "def find_day(day, month, year):\n",
        "  total = (day-1) + (month-1)*30 + (360 * (year-2021))\n",
        "  return days[total%7]\n",
        "\n",
        "def print_date():\n",
        "  return find_day(day,month,year) + \", \" + str(month) + \"/\" + str(day) + \"/\" + str(year)\n",
        "\n",
        "print(print_date())"
      ]
    }
  ]
}