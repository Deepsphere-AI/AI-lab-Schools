{
  "nbformat": 4,
  "nbformat_minor": 0,
  "metadata": {
    "colab": {
      "name": "Untitled144.ipynb",
      "provenance": [],
      "authorship_tag": "ABX9TyM/8WnE5WnY33VrGXZe/96o",
      "include_colab_link": true
    },
    "kernelspec": {
      "name": "python3",
      "display_name": "Python 3"
    },
    "language_info": {
      "name": "python"
    }
  },
  "cells": [
    {
      "cell_type": "markdown",
      "metadata": {
        "id": "view-in-github",
        "colab_type": "text"
      },
      "source": [
        "<a href=\"https://colab.research.google.com/github/Deepsphere-AI/AI-lab-Schools/blob/main/Grade%2009/Unit-1/Colab_Nine_PPT_6.ipynb\" target=\"_parent\"><img src=\"https://colab.research.google.com/assets/colab-badge.svg\" alt=\"Open In Colab\"/></a>"
      ]
    },
    {
      "cell_type": "code",
      "execution_count": null,
      "metadata": {
        "id": "dlJ8nQE1HIhq"
      },
      "outputs": [],
      "source": [
        "# \"\"\"\n",
        "# Ex 6.\n",
        "\n",
        "# Program description: The objective of this program is to create a function which finds a day as the values of variables “year” , “month” and “day”. In this code we use the starting point 1/1/2021 which is a friday. In this code we assume a year to be 360 days where each month as 30 days.\n",
        "# \"\"\"\n",
        "\n",
        "days = [\"Friday\", \"Saturday\", \"Sunday\", \"Monday\", \"Tuesday\", \"Wensday\", \"Thursday\"]\n",
        "year = 2021\n",
        "month = 7\n",
        "day = 7\n",
        "\n",
        "def next(self):\n",
        "  if(day<31):\n",
        "    day+=1\n",
        "  else:\n",
        "    day = 0\n",
        "    month+=1\n",
        "  if(month == 12):\n",
        "    month = 1\n",
        "    year+=1\n",
        "  \n",
        "def find_day(day, month, year):\n",
        "  total = (day-1) + (month-1)*30 + (360 * (year-2021))\n",
        "  return days[total%7]"
      ]
    }
  ]
}