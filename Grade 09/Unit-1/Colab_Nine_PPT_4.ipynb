{
  "nbformat": 4,
  "nbformat_minor": 0,
  "metadata": {
    "colab": {
      "name": "Untitled142.ipynb",
      "provenance": [],
      "authorship_tag": "ABX9TyNmMTcAc8rGvenMSPuUafDf",
      "include_colab_link": true
    },
    "kernelspec": {
      "name": "python3",
      "display_name": "Python 3"
    },
    "language_info": {
      "name": "python"
    }
  },
  "cells": [
    {
      "cell_type": "markdown",
      "metadata": {
        "id": "view-in-github",
        "colab_type": "text"
      },
      "source": [
        "<a href=\"https://colab.research.google.com/github/Deepsphere-AI/AI-lab-Schools/blob/main/Grade%2009/Unit-1/Colab_Nine_PPT_4.ipynb\" target=\"_parent\"><img src=\"https://colab.research.google.com/assets/colab-badge.svg\" alt=\"Open In Colab\"/></a>"
      ]
    },
    {
      "cell_type": "code",
      "execution_count": null,
      "metadata": {
        "id": "7UchDaFnGhc8"
      },
      "outputs": [],
      "source": [
        "# \"\"\"\n",
        "# Ex 4.\n",
        "\n",
        "# Program description : The objective of this program is to give variables “year”, “Month” and “day” the values of the current day. \n",
        "\n",
        "# \"\"\"\n",
        "\n",
        "days = [\"Sunday\", \"Monday\", \"Tuesday\", \"Wensday\", \"Thursday\", \"Friday\", \"Saturday\"]\n",
        "year = 2021\n",
        "month = 7\n",
        "day = 7"
      ]
    }
  ]
}