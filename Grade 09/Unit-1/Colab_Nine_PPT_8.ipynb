{
  "nbformat": 4,
  "nbformat_minor": 0,
  "metadata": {
    "colab": {
      "name": "Untitled146.ipynb",
      "provenance": [],
      "authorship_tag": "ABX9TyMqc6mkGAiFRyLKHQ52naV9",
      "include_colab_link": true
    },
    "kernelspec": {
      "name": "python3",
      "display_name": "Python 3"
    },
    "language_info": {
      "name": "python"
    }
  },
  "cells": [
    {
      "cell_type": "markdown",
      "metadata": {
        "id": "view-in-github",
        "colab_type": "text"
      },
      "source": [
        "<a href=\"https://colab.research.google.com/github/Deepsphere-AI/AI-lab-Schools/blob/main/Grade%2009/Unit-1/Colab_Nine_PPT_8.ipynb\" target=\"_parent\"><img src=\"https://colab.research.google.com/assets/colab-badge.svg\" alt=\"Open In Colab\"/></a>"
      ]
    },
    {
      "cell_type": "code",
      "execution_count": null,
      "metadata": {
        "id": "lDKNOI5DIlpZ"
      },
      "outputs": [],
      "source": [
        "# \"\"\"\n",
        "# Ex 8.\n",
        "\n",
        "# Program description: The objective of this program is to create a function named ”days” which will find out how many days until a specific date is passed in.\n",
        "\n",
        "# \"\"\"\n",
        "\n",
        "days = [\"Friday\", \"Saturday\", \"Sunday\", \"Monday\", \"Tuesday\", \"Wensday\", \"Thursday\"]\n",
        "year = 2021\n",
        "month = 1\n",
        "day = 23\n",
        "\n",
        "def next():\n",
        "  if(day<31):\n",
        "    day+=1\n",
        "  else:\n",
        "    day = 0\n",
        "    month+=1\n",
        "  if(month == 12):\n",
        "    month = 1\n",
        "    year+=1\n",
        "  \n",
        "def find_day(day, month, year):\n",
        "  total = (day-1) + (month-1)*30 + (360 * (year-2021))\n",
        "  return days[total%7]\n",
        "\n",
        "def print_date():\n",
        "  return find_day(day,month,year) + \", \" + str(month) + \"/\" + str(day) + \"/\" + str(year)\n",
        "\n",
        "def days_until(day1, month1, year1):\n",
        "  return ((day1-1) + (month1-1)*30 + (360 * (year1-2021))) - ((day-1) + (month-1)*30 + (360 * (year-2021)))"
      ]
    }
  ]
}