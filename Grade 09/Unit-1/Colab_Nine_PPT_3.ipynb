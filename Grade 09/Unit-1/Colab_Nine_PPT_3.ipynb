{
  "nbformat": 4,
  "nbformat_minor": 0,
  "metadata": {
    "colab": {
      "name": "Untitled141.ipynb",
      "provenance": [],
      "authorship_tag": "ABX9TyPSWd5JHrmhrmqIdliPaMq0",
      "include_colab_link": true
    },
    "kernelspec": {
      "name": "python3",
      "display_name": "Python 3"
    },
    "language_info": {
      "name": "python"
    }
  },
  "cells": [
    {
      "cell_type": "markdown",
      "metadata": {
        "id": "view-in-github",
        "colab_type": "text"
      },
      "source": [
        "<a href=\"https://colab.research.google.com/github/Deepsphere-AI/AI-lab-Schools/blob/main/Grade%2009/Unit-1/Colab_Nine_PPT_3.ipynb\" target=\"_parent\"><img src=\"https://colab.research.google.com/assets/colab-badge.svg\" alt=\"Open In Colab\"/></a>"
      ]
    },
    {
      "cell_type": "code",
      "execution_count": null,
      "metadata": {
        "id": "nw4RO0wfGIfy"
      },
      "outputs": [],
      "source": [
        "# \"\"\"\n",
        "# Ex 3.\n",
        "\n",
        "# Program description: The objective of this program is to create the variables “year” , “month” and “day”.\n",
        "\n",
        "# Note: This part of code is being added to the previously created code in Exercise - 2.\n",
        "# \"\"\"\n",
        "\n",
        "days = [\"Sunday\", \"Monday\", \"Tuesday\", \"Wensday\", \"Thursday\", \"Friday\", \"Saturday\"]\n",
        "year\n",
        "month\n",
        "day"
      ]
    }
  ]
}