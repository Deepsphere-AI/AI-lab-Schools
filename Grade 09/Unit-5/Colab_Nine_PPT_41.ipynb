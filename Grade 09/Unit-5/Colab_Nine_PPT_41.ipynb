{
  "nbformat": 4,
  "nbformat_minor": 0,
  "metadata": {
    "colab": {
      "name": "Untitled182.ipynb",
      "provenance": [],
      "authorship_tag": "ABX9TyPw0UURyChRKsoBuivcb+rM",
      "include_colab_link": true
    },
    "kernelspec": {
      "name": "python3",
      "display_name": "Python 3"
    },
    "language_info": {
      "name": "python"
    }
  },
  "cells": [
    {
      "cell_type": "markdown",
      "metadata": {
        "id": "view-in-github",
        "colab_type": "text"
      },
      "source": [
        "<a href=\"https://colab.research.google.com/github/Deepsphere-AI/AI-lab-Schools/blob/main/Grade%2009/Unit-5/Colab_Nine_PPT_41.ipynb\" target=\"_parent\"><img src=\"https://colab.research.google.com/assets/colab-badge.svg\" alt=\"Open In Colab\"/></a>"
      ]
    },
    {
      "cell_type": "code",
      "execution_count": null,
      "metadata": {
        "id": "hTbKUcSodEEc"
      },
      "outputs": [],
      "source": [
        "# \"\"\"\n",
        "# Ex 41.\n",
        "\n",
        "# The objective of this program is to create a class called movie and give it 4 properties that are title, runtime, rating, and year.\n",
        "\n",
        "# \"\"\"\n",
        "\n",
        "class movie:\n",
        "  title = \"\"\n",
        "  runtime = 0\n",
        "  rating = 0.0\n",
        "  year = 0"
      ]
    }
  ]
}