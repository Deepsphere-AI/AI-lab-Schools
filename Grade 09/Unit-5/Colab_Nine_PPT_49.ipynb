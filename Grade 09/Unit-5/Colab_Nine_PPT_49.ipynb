{
  "nbformat": 4,
  "nbformat_minor": 0,
  "metadata": {
    "colab": {
      "name": "Untitled192.ipynb",
      "provenance": [],
      "authorship_tag": "ABX9TyNshBEmvkWMxVjyZaQeXUFx",
      "include_colab_link": true
    },
    "kernelspec": {
      "name": "python3",
      "display_name": "Python 3"
    },
    "language_info": {
      "name": "python"
    }
  },
  "cells": [
    {
      "cell_type": "markdown",
      "metadata": {
        "id": "view-in-github",
        "colab_type": "text"
      },
      "source": [
        "<a href=\"https://colab.research.google.com/github/Deepsphere-AI/AI-lab-Schools/blob/main/Grade%2009/Unit-5/Colab_Nine_PPT_49.ipynb\" target=\"_parent\"><img src=\"https://colab.research.google.com/assets/colab-badge.svg\" alt=\"Open In Colab\"/></a>"
      ]
    },
    {
      "cell_type": "code",
      "execution_count": null,
      "metadata": {
        "id": "ajhZFWprfzx3"
      },
      "outputs": [],
      "source": [
        "# \"\"\"\n",
        "# Ex 49.\n",
        "\n",
        "# The objective of this program is to create a function sort_rating that will sort the movie_list by rating, least to greatest. Use for loops and conditional statements to do the same. \n",
        "# Note: Make sure to use the correct format while accessing the members of the list.\n",
        "\n",
        "# \"\"\"\n",
        "\n",
        "import random\n",
        "\n",
        "class movie:\n",
        "  title = \"\"\n",
        "  runtime = 0\n",
        "  rating = 0.0\n",
        "  year = 0\n",
        "\n",
        "  def __init__(self, title, runtime, rating, year):\n",
        "    self.title = title\n",
        "    self.rating = rating\n",
        "    self.runtime = runtime\n",
        "    self.year = year\n",
        "  \n",
        "  def details(self):\n",
        "    out = \"Title: \" + self.title + \" Runtime: \" + str(self.runtime) + \" Rating: \" + str(self.rating) + \" Year: \" + str(self.year)\n",
        "    return out\n",
        "  \n",
        "  def get_rating(self):\n",
        "    return self.rating\n",
        "\n",
        "class movie_theatre:\n",
        "  movie_list = []\n",
        "\n",
        "  def __init__(self):\n",
        "    return\n",
        "  \n",
        "  def random_movie(self,x):\n",
        "    for i in range(x):\n",
        "      rt = random.randint(120,240)\n",
        "      rat = random.uniform(0,10)\n",
        "      y = random.randint(1950,2021)\n",
        "      self.movie_list.append(movie(\"\",rt,round(rat,1),y))\n",
        "  \n",
        "  def get_movies(self):\n",
        "    out = \"\"\n",
        "    for x in self.movie_list:\n",
        "      out = out + x.details() + '\\n'\n",
        "    return out\n",
        "  \n",
        "  def sort_rating(self):\n",
        "    for i in range(len(self.movie_list)):\n",
        "      for x in range(len(self.movie_list) - 1):\n",
        "        if(self.movie_list[x].get_rating() > self.movie_list[x+1].get_rating()):\n",
        "          temp = self.movie_list[x+1]\n",
        "          self.movie_list[x+1] = self.movie_list[x]\n",
        "          self.movie_list[x] = temp\n",
        "\n",
        "m1 = movie_theatre()\n",
        "m1.random_movie(20)\n",
        "m1.sort_rating()\n",
        "print(m1.get_movies())"
      ]
    }
  ]
}