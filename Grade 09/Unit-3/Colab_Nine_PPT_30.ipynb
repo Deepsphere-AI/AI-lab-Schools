{
  "nbformat": 4,
  "nbformat_minor": 0,
  "metadata": {
    "colab": {
      "name": "Untitled170.ipynb",
      "provenance": [],
      "authorship_tag": "ABX9TyPMIugfEEnLntJoX3EmHTaM",
      "include_colab_link": true
    },
    "kernelspec": {
      "name": "python3",
      "display_name": "Python 3"
    },
    "language_info": {
      "name": "python"
    }
  },
  "cells": [
    {
      "cell_type": "markdown",
      "metadata": {
        "id": "view-in-github",
        "colab_type": "text"
      },
      "source": [
        "<a href=\"https://colab.research.google.com/github/Deepsphere-AI/AI-lab-Schools/blob/main/Grade%2009/Unit-3/Colab_Nine_PPT_30.ipynb\" target=\"_parent\"><img src=\"https://colab.research.google.com/assets/colab-badge.svg\" alt=\"Open In Colab\"/></a>"
      ]
    },
    {
      "cell_type": "code",
      "execution_count": null,
      "metadata": {
        "id": "zd9h3oLYS_S3"
      },
      "outputs": [],
      "source": [
        "# \"\"\"\n",
        "# Ex 30.\n",
        "\n",
        "# Program Description: The objective of this program is to use “statistics” and create a function called “std()” which calculates the standard deviation (using the statistics.stdev method.)\n",
        "\n",
        "# Reminder: “Statistics” is a module in Python.\n",
        "\n",
        "# \"\"\"\n",
        "\n",
        "import random\n",
        "import statistics\n",
        "\n",
        "class super_calculator:\n",
        "  calc_list = []\n",
        "  ans_list = []\n",
        "\n",
        "  def __init__(self, x):\n",
        "    for i in range(x):\n",
        "      self.calc_list.append(calculator())\n",
        "  \n",
        "  def rand_calc(self, op):\n",
        "    out_list = []\n",
        "    for x in self.calc_list:\n",
        "      out_list.append(x.calculate(random.randint(1,100),random.randint(1,100),op))\n",
        "    self.ans_list = out_list\n",
        "    return out_list\n",
        "  \n",
        "  def average(self):\n",
        "    total = 0\n",
        "    for x in self.ans_list:\n",
        "      total = total + x\n",
        "    return total/len(self.ans_list)\n",
        "  \n",
        "  def std(self):\n",
        "    return statistics.stdev(self.ans_list)\n",
        "\n",
        "\n",
        "\n",
        "class calculator:\n",
        "  num1 = 0.0\n",
        "  num2 = 0.0\n",
        "  op = \"\"\n",
        "\n",
        "  def __init__(self):\n",
        "    return\n",
        "  \n",
        "  def input(self, n1, n2, op):\n",
        "    self.num1 = n1\n",
        "    self.num2 = n2\n",
        "    self.op = op\n",
        "    return\n",
        "  \n",
        "  def output(self):\n",
        "    if(self.op == \"+\"):\n",
        "      return self.num1 + self.num2\n",
        "    elif(self.op == \"-\"):\n",
        "      return self.num1 - self.num2\n",
        "    elif(self.op == \"*\"):\n",
        "      return self.num1 * self.num2\n",
        "    elif(self.op == \"/\"):\n",
        "      return self.num1 / self.num2\n",
        "    else:\n",
        "      return 0\n",
        "  \n",
        "  def calculate(self, n1, n2, op):\n",
        "    self.input(n1, n2, op)\n",
        "    return self.output()\n",
        "  \n",
        "\n",
        "c1 = super_calculator(43)\n",
        "c1.rand_calc(\"/\")\n",
        "print(c1.std())\n",
        "  "
      ]
    }
  ]
}