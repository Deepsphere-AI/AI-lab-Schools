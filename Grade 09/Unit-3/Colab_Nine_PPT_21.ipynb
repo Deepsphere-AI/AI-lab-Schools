{
  "nbformat": 4,
  "nbformat_minor": 0,
  "metadata": {
    "colab": {
      "name": "Untitled160.ipynb",
      "provenance": [],
      "authorship_tag": "ABX9TyMOZ4LJJTVMsYtQqbnACMzi",
      "include_colab_link": true
    },
    "kernelspec": {
      "name": "python3",
      "display_name": "Python 3"
    },
    "language_info": {
      "name": "python"
    }
  },
  "cells": [
    {
      "cell_type": "markdown",
      "metadata": {
        "id": "view-in-github",
        "colab_type": "text"
      },
      "source": [
        "<a href=\"https://colab.research.google.com/github/Deepsphere-AI/AI-lab-Schools/blob/main/Grade%2009/Unit-3/Colab_Nine_PPT_21.ipynb\" target=\"_parent\"><img src=\"https://colab.research.google.com/assets/colab-badge.svg\" alt=\"Open In Colab\"/></a>"
      ]
    },
    {
      "cell_type": "code",
      "execution_count": null,
      "metadata": {
        "id": "_XKA4LzoOeeC"
      },
      "outputs": [],
      "source": [
        "# \"\"\"\n",
        "# Ex 21.\n",
        "\n",
        "# Program Description : The objective of this program is to create a class named “calculator”  that has variables named “num1” , “num2” and “op” as such.\n",
        "# \"\"\"\n",
        "\n",
        "class calculator:\n",
        "  num1 = 0.0\n",
        "  num2 = 0.0\n",
        "  op = \"\""
      ]
    }
  ]
}