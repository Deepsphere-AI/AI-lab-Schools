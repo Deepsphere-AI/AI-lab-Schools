{
  "nbformat": 4,
  "nbformat_minor": 0,
  "metadata": {
    "colab": {
      "name": "Untitled164.ipynb",
      "provenance": [],
      "authorship_tag": "ABX9TyPuBbs/y34Y8BngJXqdY1Bm",
      "include_colab_link": true
    },
    "kernelspec": {
      "name": "python3",
      "display_name": "Python 3"
    },
    "language_info": {
      "name": "python"
    }
  },
  "cells": [
    {
      "cell_type": "markdown",
      "metadata": {
        "id": "view-in-github",
        "colab_type": "text"
      },
      "source": [
        "<a href=\"https://colab.research.google.com/github/Deepsphere-AI/AI-lab-Schools/blob/main/Grade%2009/Unit-3/Colab_Nine_PPT_25.ipynb\" target=\"_parent\"><img src=\"https://colab.research.google.com/assets/colab-badge.svg\" alt=\"Open In Colab\"/></a>"
      ]
    },
    {
      "cell_type": "code",
      "execution_count": null,
      "metadata": {
        "id": "VnUgQtLoPiFb"
      },
      "outputs": [],
      "source": [
        "# \"\"\"\n",
        "# Ex 25.\n",
        "\n",
        "# Program Description: The objective of this program is to create a function called “calculate” that will take in the inputted numbers and operation and do input/output and return the output.\n",
        "# \"\"\"\n",
        "\n",
        "class calculator:\n",
        "  num1 = 0.0\n",
        "  num2 = 0.0\n",
        "  op = \"\"\n",
        "\n",
        "  def __init__(self):\n",
        "    return\n",
        "  \n",
        "  def input(self, n1, n2, op):\n",
        "    self.num1 = n1\n",
        "    self.num2 = n2\n",
        "    self.op = op\n",
        "    return\n",
        "  \n",
        "  def output(self):\n",
        "    if(self.op == \"+\"):\n",
        "      return self.num1 + self.num2\n",
        "    elif(self.op == \"-\"):\n",
        "      return self.num1 - self.num2\n",
        "    elif(self.op == \"*\"):\n",
        "      return self.num1 * self.num2\n",
        "    elif(self.op == \"/\"):\n",
        "      return self.num1 / self.num2\n",
        "    else:\n",
        "      return 0\n",
        "  \n",
        "  def calculate(self, n1, n2, op):\n",
        "    self.input(n1, n2, op)\n",
        "    return self.output()"
      ]
    }
  ]
}