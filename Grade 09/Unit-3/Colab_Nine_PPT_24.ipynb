{
  "nbformat": 4,
  "nbformat_minor": 0,
  "metadata": {
    "colab": {
      "name": "Untitled165.ipynb",
      "provenance": [],
      "authorship_tag": "ABX9TyPPyBmVzX7H6nQzu/W9EqP0",
      "include_colab_link": true
    },
    "kernelspec": {
      "name": "python3",
      "display_name": "Python 3"
    },
    "language_info": {
      "name": "python"
    }
  },
  "cells": [
    {
      "cell_type": "markdown",
      "metadata": {
        "id": "view-in-github",
        "colab_type": "text"
      },
      "source": [
        "<a href=\"https://colab.research.google.com/github/Deepsphere-AI/AI-lab-Schools/blob/main/Grade%2009/Unit-3/Colab_Nine_PPT_24.ipynb\" target=\"_parent\"><img src=\"https://colab.research.google.com/assets/colab-badge.svg\" alt=\"Open In Colab\"/></a>"
      ]
    },
    {
      "cell_type": "code",
      "execution_count": null,
      "metadata": {
        "id": "4f8gdJv3QgTH"
      },
      "outputs": [],
      "source": [
        "# \"\"\"\n",
        "# Ex 24.\n",
        "\n",
        "# Program Description: The objective of this program is to create a function that will execute the operation on the given numbers and return an answer.\n",
        "\n",
        "# \"\"\"\n",
        "\n",
        "class calculator:\n",
        "  num1 = 0.0\n",
        "  num2 = 0.0\n",
        "  op = \"\"\n",
        "\n",
        "  def __init__(self):\n",
        "    return\n",
        "  \n",
        "  def input(self, n1, n2, op):\n",
        "    self.num1 = n1\n",
        "    self.num2 = n2\n",
        "    self.op = op\n",
        "    return\n",
        "  \n",
        "  def output(self):\n",
        "    if(self.op == \"+\"):\n",
        "      return self.num1 + self.num2\n",
        "    elif(self.op == \"-\"):\n",
        "      return self.num1 - self.num2\n",
        "    elif(self.op == \"*\"):\n",
        "      return self.num1 * self.num2\n",
        "    elif(self.op == \"/\"):\n",
        "      return self.num1 / self.num2\n",
        "    else:\n",
        "      return 0"
      ]
    }
  ]
}