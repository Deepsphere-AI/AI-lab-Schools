{
  "nbformat": 4,
  "nbformat_minor": 0,
  "metadata": {
    "colab": {
      "name": "Untitled162.ipynb",
      "provenance": [],
      "authorship_tag": "ABX9TyNSO7C5uEPjyg3ZgX9HimB+",
      "include_colab_link": true
    },
    "kernelspec": {
      "name": "python3",
      "display_name": "Python 3"
    },
    "language_info": {
      "name": "python"
    }
  },
  "cells": [
    {
      "cell_type": "markdown",
      "metadata": {
        "id": "view-in-github",
        "colab_type": "text"
      },
      "source": [
        "<a href=\"https://colab.research.google.com/github/Deepsphere-AI/AI-lab-Schools/blob/main/Grade%2009/Unit-3/Colab_Nine_PPT_23.ipynb\" target=\"_parent\"><img src=\"https://colab.research.google.com/assets/colab-badge.svg\" alt=\"Open In Colab\"/></a>"
      ]
    },
    {
      "cell_type": "code",
      "execution_count": null,
      "metadata": {
        "id": "Vqtup8MfPAML"
      },
      "outputs": [],
      "source": [
        "# \"\"\"\n",
        "# Ex 23.\n",
        "\n",
        "# Program Description: The objective of this program is to create a function which inputs 2 numbers and a arithmetic operation ( + , - , * , / ). Then set the self variables to one passed in.\n",
        "\n",
        "# \"\"\"\n",
        "\n",
        "class calculator:\n",
        "  num1 = 0.0\n",
        "  num2 = 0.0\n",
        "  op = \"\"\n",
        "\n",
        "  def __init__(self):\n",
        "    return\n",
        "  \n",
        "  def input(self, n1, n2, op):\n",
        "    self.num1 = n1\n",
        "    self.num2 = n2\n",
        "    self.op = op\n",
        "    return"
      ]
    }
  ]
}