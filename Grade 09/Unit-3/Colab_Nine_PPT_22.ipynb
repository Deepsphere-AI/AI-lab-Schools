{
  "nbformat": 4,
  "nbformat_minor": 0,
  "metadata": {
    "colab": {
      "name": "Untitled161.ipynb",
      "provenance": [],
      "authorship_tag": "ABX9TyOm1p7Rx20+oO1ug34/bkvj",
      "include_colab_link": true
    },
    "kernelspec": {
      "name": "python3",
      "display_name": "Python 3"
    },
    "language_info": {
      "name": "python"
    }
  },
  "cells": [
    {
      "cell_type": "markdown",
      "metadata": {
        "id": "view-in-github",
        "colab_type": "text"
      },
      "source": [
        "<a href=\"https://colab.research.google.com/github/Deepsphere-AI/AI-lab-Schools/blob/main/Grade%2009/Unit-3/Colab_Nine_PPT_22.ipynb\" target=\"_parent\"><img src=\"https://colab.research.google.com/assets/colab-badge.svg\" alt=\"Open In Colab\"/></a>"
      ]
    },
    {
      "cell_type": "code",
      "execution_count": null,
      "metadata": {
        "id": "w5iVAtHaOwDJ"
      },
      "outputs": [],
      "source": [
        "# \"\"\"\n",
        "# Ex 22.\n",
        "\n",
        "# Program Description: The objective of this program is to add a constructor to a previously created class named “calculator” which in this case will not take anything in.\n",
        "\n",
        "# \"\"\"\n",
        "\n",
        "class calculator:\n",
        "  num1 = 0.0\n",
        "  num2 = 0.0\n",
        "  op = \"\"\n",
        "\n",
        "  def __init__():\n",
        "    return"
      ]
    }
  ]
}