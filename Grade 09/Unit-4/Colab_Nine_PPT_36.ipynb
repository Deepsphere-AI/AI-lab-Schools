{
  "nbformat": 4,
  "nbformat_minor": 0,
  "metadata": {
    "colab": {
      "name": "Untitled177.ipynb",
      "provenance": [],
      "authorship_tag": "ABX9TyNhd+18rIU3d2ULkkcsq/lf",
      "include_colab_link": true
    },
    "kernelspec": {
      "name": "python3",
      "display_name": "Python 3"
    },
    "language_info": {
      "name": "python"
    }
  },
  "cells": [
    {
      "cell_type": "markdown",
      "metadata": {
        "id": "view-in-github",
        "colab_type": "text"
      },
      "source": [
        "<a href=\"https://colab.research.google.com/github/Deepsphere-AI/AI-lab-Schools/blob/main/Grade%2009/Unit-4/Colab_Nine_PPT_36.ipynb\" target=\"_parent\"><img src=\"https://colab.research.google.com/assets/colab-badge.svg\" alt=\"Open In Colab\"/></a>"
      ]
    },
    {
      "cell_type": "code",
      "execution_count": null,
      "metadata": {
        "id": "R7tVXXOJV6y-"
      },
      "outputs": [],
      "source": [
        "# \"\"\"\n",
        "# Ex 36.\n",
        "\n",
        "# Program Description: The objective of this program is to create a class called “residential_area” which contains the list “house_list” and the variables “avg_price” and “avg_sq_feet.”\n",
        "\n",
        "# \"\"\"\n",
        "\n",
        "class house:\n",
        "  bed = 0.0\n",
        "  bath = 0.0\n",
        "  price = 0.0\n",
        "  sq_feet = 0.0\n",
        "\n",
        "  def __init__(self, bed, bath, price, sq_feet):\n",
        "    self.bed = round(bed,1)\n",
        "    self.bath = round(bath,1)\n",
        "    self.price = round(price,2)\n",
        "    self.sq_feet = round(sq_feet,2)\n",
        "  \n",
        "  def yard_area(self):\n",
        "    return round((self.sq_feet - 2000 - (self.bed * 130) - (self.bath * 50)),2)\n",
        "  \n",
        "  def pp_sq_ft(self):\n",
        "    return round((self.price / self.sq_feet),2)\n",
        "\n",
        "class residential_area:\n",
        "  house_list = []\n",
        "  avg_price = 0.0\n",
        "  avg_sq_feet = 0.0\n",
        "  "
      ]
    }
  ]
}