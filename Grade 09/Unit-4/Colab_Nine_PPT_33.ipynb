{
  "nbformat": 4,
  "nbformat_minor": 0,
  "metadata": {
    "colab": {
      "name": "Untitled174.ipynb",
      "provenance": [],
      "authorship_tag": "ABX9TyOjPOEpQJ4BIEGuDSw6tgUW",
      "include_colab_link": true
    },
    "kernelspec": {
      "name": "python3",
      "display_name": "Python 3"
    },
    "language_info": {
      "name": "python"
    }
  },
  "cells": [
    {
      "cell_type": "markdown",
      "metadata": {
        "id": "view-in-github",
        "colab_type": "text"
      },
      "source": [
        "<a href=\"https://colab.research.google.com/github/Deepsphere-AI/AI-lab-Schools/blob/main/Grade%2009/Unit-4/Colab_Nine_PPT_33.ipynb\" target=\"_parent\"><img src=\"https://colab.research.google.com/assets/colab-badge.svg\" alt=\"Open In Colab\"/></a>"
      ]
    },
    {
      "cell_type": "code",
      "execution_count": null,
      "metadata": {
        "id": "4K8xRtrKUzMK"
      },
      "outputs": [],
      "source": [
        "# \"\"\"\n",
        "# Ex 33.\n",
        "\n",
        "# Program Description: The objective of this program is to create a function called “yard_area()” which will return the remaining square footage of the property that is the yard. \n",
        "\n",
        "# Note: Each bedroom requires a minimum of 130 square feet and each bathroom requires a minimum of 50 square feet. Assume that there are 2000 square feet in the house that are not a part of the bed or bathrooms.\n",
        "\n",
        "# \"\"\"\n",
        "\n",
        "class house:\n",
        "  bed = 0.0\n",
        "  bath = 0.0\n",
        "  price = 0.0\n",
        "  sq_feet = 0.0\n",
        "\n",
        "  def __init__(self, bed, bath, price, sq_feet):\n",
        "    self.bed = bed\n",
        "    self.bath = bath\n",
        "    self.price = price\n",
        "    self.sq_feet = sq_feet\n",
        "  \n",
        "  def yard_area(self):\n",
        "    return self.sq_feet - 2000 - (self.bed * 130) - (self.bath * 50)\n"
      ]
    }
  ]
}