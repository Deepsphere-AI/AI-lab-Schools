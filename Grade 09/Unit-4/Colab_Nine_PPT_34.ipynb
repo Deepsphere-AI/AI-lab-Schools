{
  "nbformat": 4,
  "nbformat_minor": 0,
  "metadata": {
    "colab": {
      "name": "Untitled175.ipynb",
      "provenance": [],
      "authorship_tag": "ABX9TyMCSEzhXtxrA38nf5nxl6AI",
      "include_colab_link": true
    },
    "kernelspec": {
      "name": "python3",
      "display_name": "Python 3"
    },
    "language_info": {
      "name": "python"
    }
  },
  "cells": [
    {
      "cell_type": "markdown",
      "metadata": {
        "id": "view-in-github",
        "colab_type": "text"
      },
      "source": [
        "<a href=\"https://colab.research.google.com/github/Deepsphere-AI/AI-lab-Schools/blob/main/Grade%2009/Unit-4/Colab_Nine_PPT_34.ipynb\" target=\"_parent\"><img src=\"https://colab.research.google.com/assets/colab-badge.svg\" alt=\"Open In Colab\"/></a>"
      ]
    },
    {
      "cell_type": "code",
      "execution_count": null,
      "metadata": {
        "id": "Qf1sRSa-VZh-"
      },
      "outputs": [],
      "source": [
        "# \"\"\"\n",
        "# Ex 34.\n",
        "\n",
        "# Program Description: The objective of this program is to create a function called “pp_sq_ft” (price per square foot) which will calculate the cost of each square foot of the property given the price of the house.\n",
        "\n",
        "# \"\"\"\n",
        "\n",
        "class house:\n",
        "  bed = 0.0\n",
        "  bath = 0.0\n",
        "  price = 0.0\n",
        "  sq_feet = 0.0\n",
        "\n",
        "  def __init__(self, bed, bath, price, sq_feet):\n",
        "    self.bed = bed\n",
        "    self.bath = bath\n",
        "    self.price = price\n",
        "    self.sq_feet = sq_feet\n",
        "  \n",
        "  def yard_area(self):\n",
        "    return self.sq_feet - 2000 - (self.bed * 130) - (self.bath * 50)\n",
        "  \n",
        "  def pp_sq_ft(self):\n",
        "    return self.price / self.sq_feet\n"
      ]
    }
  ]
}