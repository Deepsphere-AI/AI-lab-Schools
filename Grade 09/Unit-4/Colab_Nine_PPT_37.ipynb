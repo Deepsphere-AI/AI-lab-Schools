{
  "nbformat": 4,
  "nbformat_minor": 0,
  "metadata": {
    "colab": {
      "name": "Untitled178.ipynb",
      "provenance": [],
      "authorship_tag": "ABX9TyOQRgmnWKUSmVbiEXL15bF1",
      "include_colab_link": true
    },
    "kernelspec": {
      "name": "python3",
      "display_name": "Python 3"
    },
    "language_info": {
      "name": "python"
    }
  },
  "cells": [
    {
      "cell_type": "markdown",
      "metadata": {
        "id": "view-in-github",
        "colab_type": "text"
      },
      "source": [
        "<a href=\"https://colab.research.google.com/github/Deepsphere-AI/AI-lab-Schools/blob/main/Grade%2009/Unit-4/Colab_Nine_PPT_37.ipynb\" target=\"_parent\"><img src=\"https://colab.research.google.com/assets/colab-badge.svg\" alt=\"Open In Colab\"/></a>"
      ]
    },
    {
      "cell_type": "code",
      "execution_count": null,
      "metadata": {
        "id": "QEWp5bbhWH6V"
      },
      "outputs": [],
      "source": [
        "# \"\"\"\n",
        "# Ex 37.\n",
        "\n",
        "# The objective of this program is to add a constructor and a function which will take in an integer and add that number of random houses to the house list. Give each house either 2, 2.5, or 3 bed/bath, a random price from 800,000 to 1,200,000, and a random square feet from 4,000 to 6,000.\n",
        "\n",
        "# \"\"\"\n",
        "\n",
        "import random\n",
        "\n",
        "class house:\n",
        "  bed = 0.0\n",
        "  bath = 0.0\n",
        "  price = 0.0\n",
        "  sq_feet = 0.0\n",
        "\n",
        "  def __init__(self, bed, bath, price, sq_feet):\n",
        "    self.bed = round(bed,1)\n",
        "    self.bath = round(bath,1)\n",
        "    self.price = round(price,2)\n",
        "    self.sq_feet = round(sq_feet,2)\n",
        "  \n",
        "  def yard_area(self):\n",
        "    return round((self.sq_feet - 2000 - (self.bed * 130) - (self.bath * 50)),2)\n",
        "  \n",
        "  def pp_sq_ft(self):\n",
        "    return round((self.price / self.sq_feet),2)\n",
        "\n",
        "class residential_area:\n",
        "  house_list = []\n",
        "  avg_price = 0.0\n",
        "  avg_sq_feet = 0.0\n",
        "\n",
        "  def __init__(self):\n",
        "    return\n",
        "  \n",
        "  def rand_house(self,x):\n",
        "    bed = random.randint(4,6)/2\n",
        "    bath = random.randint(4,6)/2\n",
        "    for i in range(x):\n",
        "      self.house_list.append(house(bed,bath,random.randrange(800000,1200000),random.randrange(4000,6000)))\n",
        "\n",
        "r1 = residential_area()\n",
        "r1.rand_house(40)\n",
        "  "
      ]
    }
  ]
}