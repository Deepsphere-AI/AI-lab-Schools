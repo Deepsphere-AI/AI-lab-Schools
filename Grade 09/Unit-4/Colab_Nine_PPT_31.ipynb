{
  "nbformat": 4,
  "nbformat_minor": 0,
  "metadata": {
    "colab": {
      "name": "Untitled172.ipynb",
      "provenance": [],
      "authorship_tag": "ABX9TyPkqZcbSG6oBqyCS/HpSoUo",
      "include_colab_link": true
    },
    "kernelspec": {
      "name": "python3",
      "display_name": "Python 3"
    },
    "language_info": {
      "name": "python"
    }
  },
  "cells": [
    {
      "cell_type": "markdown",
      "metadata": {
        "id": "view-in-github",
        "colab_type": "text"
      },
      "source": [
        "<a href=\"https://colab.research.google.com/github/Deepsphere-AI/AI-lab-Schools/blob/main/Grade%2009/Unit-4/Colab_Nine_PPT_31.ipynb\" target=\"_parent\"><img src=\"https://colab.research.google.com/assets/colab-badge.svg\" alt=\"Open In Colab\"/></a>"
      ]
    },
    {
      "cell_type": "code",
      "execution_count": null,
      "metadata": {
        "id": "UgvXwRaIUVTy"
      },
      "outputs": [],
      "source": [
        "# \"\"\"\n",
        "# Ex 31.\n",
        "\n",
        "# Program Description: The objective of this program is to create a class called “house” and create the variables “bed,” “bath,” “price,” and “sq_feet.”\n",
        "\n",
        "# \"\"\"\n",
        "\n",
        "class house:\n",
        "  bed = 0.0\n",
        "  bath = 0.0\n",
        "  price = 0.0\n",
        "  sq_feet = 0.0"
      ]
    }
  ]
}