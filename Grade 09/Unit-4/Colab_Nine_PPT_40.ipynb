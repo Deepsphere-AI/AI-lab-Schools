{
  "nbformat": 4,
  "nbformat_minor": 0,
  "metadata": {
    "colab": {
      "name": "Untitled181.ipynb",
      "provenance": [],
      "authorship_tag": "ABX9TyMv1lqBWT+/SieLZyjmRlBg",
      "include_colab_link": true
    },
    "kernelspec": {
      "name": "python3",
      "display_name": "Python 3"
    },
    "language_info": {
      "name": "python"
    }
  },
  "cells": [
    {
      "cell_type": "markdown",
      "metadata": {
        "id": "view-in-github",
        "colab_type": "text"
      },
      "source": [
        "<a href=\"https://colab.research.google.com/github/Deepsphere-AI/AI-lab-Schools/blob/main/Grade%2009/Unit-4/Colab_Nine_PPT_40.ipynb\" target=\"_parent\"><img src=\"https://colab.research.google.com/assets/colab-badge.svg\" alt=\"Open In Colab\"/></a>"
      ]
    },
    {
      "cell_type": "code",
      "execution_count": null,
      "metadata": {
        "id": "HcF9MKMlWz9_"
      },
      "outputs": [],
      "source": [
        "# \"\"\"\n",
        "# Ex 40.\n",
        "\n",
        "# The objective of this program is to add a function to get the average square feet and then set the self value to this value of average square feet.\n",
        "\n",
        "# \"\"\"\n",
        "\n",
        "import random\n",
        "\n",
        "class house:\n",
        "  bed = 0.0\n",
        "  bath = 0.0\n",
        "  price = 0.0\n",
        "  sq_feet = 0.0\n",
        "\n",
        "  def __init__(self, bed, bath, price, sq_feet):\n",
        "    self.bed = round(bed,1)\n",
        "    self.bath = round(bath,1)\n",
        "    self.price = round(price,2)\n",
        "    self.sq_feet = round(sq_feet,2)\n",
        "  \n",
        "  def yard_area(self):\n",
        "    return round((self.sq_feet - 2000 - (self.bed * 130) - (self.bath * 50)),2)\n",
        "  \n",
        "  def pp_sq_ft(self):\n",
        "    return round((self.price / self.sq_feet),2)\n",
        "  \n",
        "  def get_values(self):\n",
        "    return \"Bed: \" + str(self.bed) + \" Bath: \" + str(self.bath) + \" Price: \" + str(self.price) + \" Square Feet: \" + str(self.sq_feet)\n",
        "  \n",
        "  def get_price(self):\n",
        "    return self.price\n",
        "  \n",
        "  def get_sq_ft(self):\n",
        "    return self.sq_feet\n",
        "\n",
        "class residential_area:\n",
        "  house_list = []\n",
        "  avg_price = 0.0\n",
        "  avg_sq_feet = 0.0\n",
        "\n",
        "  def __init__(self):\n",
        "    return\n",
        "  \n",
        "  def rand_house(self,x):\n",
        "    for i in range(x):\n",
        "      bed = float(random.randint(4,6))/2\n",
        "      bath = float(random.randint(4,6))/2\n",
        "      self.house_list.append(house(bed,bath,random.randrange(800000,1200000),random.randrange(4000,6000)))\n",
        "  \n",
        "  def get_houses(self):\n",
        "    out = \"\"\n",
        "    for x in self.house_list:\n",
        "      out = out + x.get_values() + '\\n'\n",
        "    return out\n",
        "  \n",
        "  def get_avg_price(self):\n",
        "    total = 0.0\n",
        "    for x in self.house_list:\n",
        "      total = total + x.get_price()\n",
        "    self.avg_price = total/len(self.house_list)\n",
        "    return self.avg_price\n",
        "  \n",
        "  def get_avg_sq_ft(self):\n",
        "    total = 0.0\n",
        "    for x in self.house_list:\n",
        "      total = total + x.get_sq_ft()\n",
        "    self.avg_sq_feet = total/len(self.house_list)\n",
        "    return self.avg_sq_feet\n",
        "\n",
        "r1 = residential_area()\n",
        "r1.rand_house(40)\n",
        "print(r1.get_houses())\n",
        "print(r1.get_avg_price())\n",
        "print(r1.get_avg_sq_ft())"
      ]
    }
  ]
}