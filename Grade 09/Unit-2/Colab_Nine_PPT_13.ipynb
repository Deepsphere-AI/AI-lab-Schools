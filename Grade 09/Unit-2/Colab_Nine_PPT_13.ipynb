{
  "nbformat": 4,
  "nbformat_minor": 0,
  "metadata": {
    "colab": {
      "name": "Untitled150.ipynb",
      "provenance": [],
      "authorship_tag": "ABX9TyNfsjX2d1gAy53Z0AwBMnJh",
      "include_colab_link": true
    },
    "kernelspec": {
      "name": "python3",
      "display_name": "Python 3"
    },
    "language_info": {
      "name": "python"
    }
  },
  "cells": [
    {
      "cell_type": "markdown",
      "metadata": {
        "id": "view-in-github",
        "colab_type": "text"
      },
      "source": [
        "<a href=\"https://colab.research.google.com/github/Deepsphere-AI/AI-lab-Schools/blob/main/Grade%2009/Unit-2/Colab_Nine_PPT_13.ipynb\" target=\"_parent\"><img src=\"https://colab.research.google.com/assets/colab-badge.svg\" alt=\"Open In Colab\"/></a>"
      ]
    },
    {
      "cell_type": "code",
      "execution_count": null,
      "metadata": {
        "id": "dRwXRMxRJ2x8"
      },
      "outputs": [],
      "source": [
        "# \"\"\"\n",
        "# Ex 13.\n",
        "\n",
        "# Program Description: The objective of this program is to create a function that will take in two strings. One string will be determining what feature will be changed and the other will be the value that will be updated.\n",
        "\n",
        "# Example: update(“13”, “size”) will change the size to 13.\n",
        "\n",
        "# \"\"\"\n",
        "\n",
        "class Application:\n",
        "  app_name = \"\"\n",
        "  app_size = 0.0\n",
        "  app_type = \"\"\n",
        "\n",
        "  def __init__(self, name, size, type):\n",
        "    self.app_name = name\n",
        "    self.app_type = type\n",
        "    self.app_size = size\n",
        "  \n",
        "  def update(self, name, type):\n",
        "    if(type == \"name\"):\n",
        "      self.app_name = name\n",
        "    if(type == \"size\"):\n",
        "      self.app_size = float(name)\n",
        "    if(type == \"type\"):\n",
        "      self.app_type = app_name"
      ]
    }
  ]
}