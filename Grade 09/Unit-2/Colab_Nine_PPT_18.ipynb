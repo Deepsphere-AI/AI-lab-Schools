{
  "nbformat": 4,
  "nbformat_minor": 0,
  "metadata": {
    "colab": {
      "name": "Untitled155.ipynb",
      "provenance": [],
      "authorship_tag": "ABX9TyO973GoTrFCvvCnKH439Bl4",
      "include_colab_link": true
    },
    "kernelspec": {
      "name": "python3",
      "display_name": "Python 3"
    },
    "language_info": {
      "name": "python"
    }
  },
  "cells": [
    {
      "cell_type": "markdown",
      "metadata": {
        "id": "view-in-github",
        "colab_type": "text"
      },
      "source": [
        "<a href=\"https://colab.research.google.com/github/Deepsphere-AI/AI-lab-Schools/blob/main/Grade%2009/Unit-2/Colab_Nine_PPT_18.ipynb\" target=\"_parent\"><img src=\"https://colab.research.google.com/assets/colab-badge.svg\" alt=\"Open In Colab\"/></a>"
      ]
    },
    {
      "cell_type": "code",
      "execution_count": null,
      "metadata": {
        "id": "NMzpmjYLLsx9"
      },
      "outputs": [],
      "source": [
        "# \"\"\"\n",
        "# Ex 18.\n",
        "\n",
        "# Program Description: The objective of this program is to create a new function called “add_app” to the “Computer” class. This function will add an app to the app list and also update the “availabe_space” variable. \n",
        "\n",
        "# \"\"\"\n",
        "\n",
        "class Application:\n",
        "  app_name = \"\"\n",
        "  app_size = 0.0\n",
        "  app_type = \"\"\n",
        "\n",
        "  def __init__(self, name, size, type):\n",
        "    self.app_name = name\n",
        "    self.app_type = type\n",
        "    self.app_size = size\n",
        "  \n",
        "  def update(self, name, type):\n",
        "    if(type == \"name\"):\n",
        "      self.app_name = name\n",
        "      return \"Name:\", self.app_name\n",
        "    if(type == \"size\"):\n",
        "      self.app_size = float(name)\n",
        "      return \"Size:\", self.app_size\n",
        "    if(type == \"type\"):\n",
        "      self.app_type = name\n",
        "      return \"Type:\", self.app_type\n",
        "    return\n",
        "  \n",
        "  def get_values(self):\n",
        "    return \"Name: \" + self.app_name + \" Size (GB): \" + str(self.app_size) + \" Type: \" + self.app_type\n",
        "  \n",
        "  def get_size(self):\n",
        "    return self.app_size\n",
        "  \n",
        "class Computer:\n",
        "  comp_name = \"\"\n",
        "  available_space = 0.0\n",
        "  total_space = 0.0\n",
        "  app_list = []\n",
        "\n",
        "  def __init__(self, name, av, to):\n",
        "    self.comp_name = name\n",
        "    self.available_space = av\n",
        "    self.total_space = to\n",
        "  \n",
        "  def add_app(self, app):\n",
        "    self.app_list.append(app)\n",
        "    self.available_space = self.available_space - app.get_size()\n",
        "  \n",
        "  \n",
        "mycomp = Computer(\"My PC\", 22.33, 50)\n",
        "mycomp.add_app(Application(\"Settings\", .98, \"System\"))"
      ]
    }
  ]
}