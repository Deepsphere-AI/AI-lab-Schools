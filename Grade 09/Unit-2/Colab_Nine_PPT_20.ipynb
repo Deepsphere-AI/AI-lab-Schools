{
  "nbformat": 4,
  "nbformat_minor": 0,
  "metadata": {
    "colab": {
      "name": "Untitled159.ipynb",
      "provenance": [],
      "include_colab_link": true
    },
    "kernelspec": {
      "name": "python3",
      "display_name": "Python 3"
    },
    "language_info": {
      "name": "python"
    }
  },
  "cells": [
    {
      "cell_type": "markdown",
      "metadata": {
        "id": "view-in-github",
        "colab_type": "text"
      },
      "source": [
        "<a href=\"https://colab.research.google.com/github/Deepsphere-AI/AI-lab-Schools/blob/main/Grade%2009/Unit-2/Colab_Nine_PPT_20.ipynb\" target=\"_parent\"><img src=\"https://colab.research.google.com/assets/colab-badge.svg\" alt=\"Open In Colab\"/></a>"
      ]
    },
    {
      "cell_type": "code",
      "execution_count": 1,
      "metadata": {
        "id": "QogAmDQFNEAv",
        "outputId": "16612be9-1022-4c5c-acc7-94c611d5ff03",
        "colab": {
          "base_uri": "https://localhost:8080/"
        }
      },
      "outputs": [
        {
          "output_type": "stream",
          "name": "stdout",
          "text": [
            " Name:  Size (GB): 0.5008375282197906 Type: \n",
            " Name:  Size (GB): 0.2784985777883706 Type: \n",
            " Name:  Size (GB): 0.6025063813092514 Type: \n",
            " Name:  Size (GB): 0.3059427116026786 Type: \n",
            " Name:  Size (GB): 0.466521797736946 Type: \n",
            " Name:  Size (GB): 0.6973510983921253 Type: \n",
            " Name:  Size (GB): 0.7527201444693445 Type: \n",
            " Name:  Size (GB): 0.17912049605500457 Type: \n",
            " Name:  Size (GB): 0.4816303011976829 Type: \n",
            " Name:  Size (GB): 0.27215178506104865 Type: \n",
            "\n"
          ]
        }
      ],
      "source": [
        "# \"\"\"\n",
        "# Ex 20.\n",
        "\n",
        "# Program Description: The objective of this program is to create a function in the computer to return the list of applications.\n",
        "\n",
        "# \"\"\"\n",
        "\n",
        "import random\n",
        "\n",
        "\n",
        "class Application:\n",
        "    app_name = \"\"\n",
        "    app_size = 0.0\n",
        "    app_type = \"\"\n",
        "\n",
        "    def __init__(self, name, size, type):\n",
        "        self.app_name = name\n",
        "        self.app_type = type\n",
        "        self.app_size = size\n",
        "\n",
        "    def update(self, name, type):\n",
        "        if (type == \"name\"):\n",
        "            self.app_name = name\n",
        "            return \"Name:\", self.app_name\n",
        "        if (type == \"size\"):\n",
        "            self.app_size = float(name)\n",
        "            return \"Size:\", self.app_size\n",
        "        if (type == \"type\"):\n",
        "            self.app_type = name\n",
        "            return \"Type:\", self.app_type\n",
        "        return\n",
        "\n",
        "    def get_values(self):\n",
        "        return \"Name: \" + self.app_name + \" Size (GB): \" + str(\n",
        "            self.app_size) + \" Type: \" + self.app_type\n",
        "\n",
        "    def get_size(self):\n",
        "        return self.app_size\n",
        "\n",
        "\n",
        "class Computer:\n",
        "    comp_name = \"\"\n",
        "    available_space = 0.0\n",
        "    total_space = 0.0\n",
        "    app_list = []\n",
        "\n",
        "    def __init__(self, name, av, to):\n",
        "        self.comp_name = name\n",
        "        self.available_space = av\n",
        "        self.total_space = to\n",
        "\n",
        "    def add_app(self, app):\n",
        "        self.app_list.append(app)\n",
        "        self.available_space = self.available_space - app.get_size()\n",
        "\n",
        "    def get_app_list(self):\n",
        "        out = \"\"\n",
        "        for x in self.app_list:\n",
        "            out = out + \" \" + x.get_values() + '\\n'\n",
        "        return out\n",
        "\n",
        "\n",
        "mycomp = Computer(\"My PC\", 22.33, 50)\n",
        "for x in range(10):\n",
        "    r = random.random()\n",
        "    mycomp.add_app(Application(\"\", r, \"\"))\n",
        "\n",
        "print(mycomp.get_app_list())"
      ]
    }
  ]
}