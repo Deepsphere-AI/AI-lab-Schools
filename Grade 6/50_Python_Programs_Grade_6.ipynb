{
  "nbformat": 4,
  "nbformat_minor": 0,
  "metadata": {
    "colab": {
      "name": "50 Python Programs - Grade 6",
      "provenance": [],
      "collapsed_sections": [
        "lyEIp7z3xwxR",
        "5nvbhIYdyFoi",
        "JaF9edfN0FdP",
        "AZ45_1jHyZGr",
        "MMiKScwa0sCZ",
        "gcG4Fm-v1aAJ",
        "9OdLq9982AGY",
        "gu9Ov8_V2pkI",
        "QOBvxhhL3RNa",
        "fVW0JiEt3mJp",
        "HTLZUL4d4zA2",
        "1VbKVYT17Jfv",
        "A266R58H72Ee",
        "QoKbWEOK8FmV",
        "6TgpAjVk8o1m",
        "plruO_Ge82bW",
        "xZ_OBuR09GR_",
        "bxLzr_509Uj2",
        "vvMqwim8-XML",
        "LBFDYYvn9qTP",
        "xLKrsjz0_p8U",
        "79Zyle5IA3mc",
        "EVnkHGWDHEh_"
      ]
    },
    "kernelspec": {
      "name": "python3",
      "display_name": "Python 3"
    },
    "language_info": {
      "name": "python"
    }
  },
  "cells": [
    {
      "cell_type": "markdown",
      "metadata": {
        "id": "lJi3Fs-PxkRq"
      },
      "source": [
        "# **50 Python Programs 6th Grade**\n"
      ]
    },
    {
      "cell_type": "markdown",
      "metadata": {
        "id": "X6JHeBfr17sv"
      },
      "source": [
        "#***Exercises 1 - 10***\n",
        "These first 10 excersies cover Basic Arithmetic Operators, Initializing and Creating Variables, and Conditionals (If/Else Statements)"
      ]
    },
    {
      "cell_type": "markdown",
      "metadata": {
        "id": "lyEIp7z3xwxR"
      },
      "source": [
        "# ***1***\n",
        "Create Variable test with initial value 10"
      ]
    },
    {
      "cell_type": "code",
      "metadata": {
        "id": "GJoG_aeFvgh9"
      },
      "source": [
        "test = 10"
      ],
      "execution_count": null,
      "outputs": []
    },
    {
      "cell_type": "markdown",
      "metadata": {
        "id": "5nvbhIYdyFoi"
      },
      "source": [
        "# ***2***\n",
        "Create 2 variables start and end with the values \"start\" and \"end\" respectively\n"
      ]
    },
    {
      "cell_type": "code",
      "metadata": {
        "id": "Yw7aDnjF0OKK"
      },
      "source": [
        "start = \"start\"\n",
        "end = \"end\""
      ],
      "execution_count": null,
      "outputs": []
    },
    {
      "cell_type": "markdown",
      "metadata": {
        "id": "JaF9edfN0FdP"
      },
      "source": [
        "# ***3***\n",
        "Compare whether 2 conditional variables, day1 and day2 are equal\n",
        "\n",
        "Hint: Use ```==```\n"
      ]
    },
    {
      "cell_type": "code",
      "metadata": {
        "colab": {
          "base_uri": "https://localhost:8080/"
        },
        "id": "cAQNdkUy0FdQ",
        "outputId": "fdda606a-401c-45e7-8e5d-931ca7a0ae00"
      },
      "source": [
        "day1 = \"Monday\"\n",
        "day2 = \"Wensday\"\n",
        "print(day1 == day2)\n"
      ],
      "execution_count": null,
      "outputs": [
        {
          "output_type": "stream",
          "text": [
            "True\n"
          ],
          "name": "stdout"
        }
      ]
    },
    {
      "cell_type": "markdown",
      "metadata": {
        "id": "AZ45_1jHyZGr"
      },
      "source": [
        "# ***4*** \n",
        "Create 2 variables, start_time and end_time and print the difference between the two."
      ]
    },
    {
      "cell_type": "code",
      "metadata": {
        "colab": {
          "base_uri": "https://localhost:8080/"
        },
        "id": "3yFzwQGhyFoi",
        "outputId": "be13b649-d6aa-468f-c75d-7d5b55b8b99a"
      },
      "source": [
        "start_time = 0\n",
        "end_time = 15\n",
        "print(end_time - start_time)\n"
      ],
      "execution_count": null,
      "outputs": [
        {
          "output_type": "stream",
          "text": [
            "15\n"
          ],
          "name": "stdout"
        }
      ]
    },
    {
      "cell_type": "markdown",
      "metadata": {
        "id": "MMiKScwa0sCZ"
      },
      "source": [
        "# ***5*** \n",
        "Create 2 variables, time1 and time2 and print the greater variable\n",
        "\n",
        "Hint: Use ```if():``` and ```else:```"
      ]
    },
    {
      "cell_type": "code",
      "metadata": {
        "colab": {
          "base_uri": "https://localhost:8080/"
        },
        "id": "G9tATSJC0sCi",
        "outputId": "29f387be-400d-43bb-9a7a-06f57ec96f5e"
      },
      "source": [
        "time1 = 10\n",
        "time2 = 15\n",
        "if(time1 > time2):\n",
        "  print(\"time1\")\n",
        "else:\n",
        "  print(\"time2\")"
      ],
      "execution_count": null,
      "outputs": [
        {
          "output_type": "stream",
          "text": [
            "time2\n"
          ],
          "name": "stdout"
        }
      ]
    },
    {
      "cell_type": "markdown",
      "metadata": {
        "id": "gcG4Fm-v1aAJ"
      },
      "source": [
        "# ***6*** \n",
        "Create 2 variables, time1 and time2 and print the greater variable and its value"
      ]
    },
    {
      "cell_type": "code",
      "metadata": {
        "colab": {
          "base_uri": "https://localhost:8080/"
        },
        "id": "jhGcNwTe1aAS",
        "outputId": "b5f72ca6-45de-499d-955b-5a1ee2c40c21"
      },
      "source": [
        "time1 = 10\n",
        "time2 = 15\n",
        "if(time1 > time2):\n",
        "  print(\"time1:\", time1)\n",
        "else:\n",
        "  print(\"time2:\", time2)"
      ],
      "execution_count": null,
      "outputs": [
        {
          "output_type": "stream",
          "text": [
            "time2: 15\n"
          ],
          "name": "stdout"
        }
      ]
    },
    {
      "cell_type": "markdown",
      "metadata": {
        "id": "9OdLq9982AGY"
      },
      "source": [
        "# ***7*** \n",
        "Given a float (decimal number), print how far the number is from 10."
      ]
    },
    {
      "cell_type": "code",
      "metadata": {
        "colab": {
          "base_uri": "https://localhost:8080/"
        },
        "id": "b_4HqE9P2AGg",
        "outputId": "6fe903a6-20dd-42d0-adcb-fec5e41a3300"
      },
      "source": [
        "input_num = -10.00\n",
        "if(input_num > 10):\n",
        "  print(input_num - 10)\n",
        "else:\n",
        "  print(10 - input_num)"
      ],
      "execution_count": null,
      "outputs": [
        {
          "output_type": "stream",
          "text": [
            "20.0\n"
          ],
          "name": "stdout"
        }
      ]
    },
    {
      "cell_type": "markdown",
      "metadata": {
        "id": "gu9Ov8_V2pkI"
      },
      "source": [
        "# ***8*** \n",
        "Print whether a number is even or odd\n",
        "\n",
        "Hint: Use ```%```"
      ]
    },
    {
      "cell_type": "code",
      "metadata": {
        "colab": {
          "base_uri": "https://localhost:8080/"
        },
        "id": "IH89iUdx2pkJ",
        "outputId": "ec48b5fa-41d0-4165-f029-7166968ed29b"
      },
      "source": [
        "input_num = 141\n",
        "if(input_num%2 == 0):\n",
        "  print(\"even\")\n",
        "else:\n",
        "  print(\"odd\")"
      ],
      "execution_count": null,
      "outputs": [
        {
          "output_type": "stream",
          "text": [
            "odd\n"
          ],
          "name": "stdout"
        }
      ]
    },
    {
      "cell_type": "markdown",
      "metadata": {
        "id": "QOBvxhhL3RNa"
      },
      "source": [
        "# ***9*** \n",
        "Print the remainder of a number when divided by 11"
      ]
    },
    {
      "cell_type": "code",
      "metadata": {
        "colab": {
          "base_uri": "https://localhost:8080/"
        },
        "id": "pRTMPkXw3RNb",
        "outputId": "07eb08b7-96f3-49f5-9fd1-e2eb9e267452"
      },
      "source": [
        "input_num = 1411\n",
        "print(input_num%11)"
      ],
      "execution_count": null,
      "outputs": [
        {
          "output_type": "stream",
          "text": [
            "3\n"
          ],
          "name": "stdout"
        }
      ]
    },
    {
      "cell_type": "markdown",
      "metadata": {
        "id": "fVW0JiEt3mJp"
      },
      "source": [
        "# ***10*** \n",
        "Given a float, round the number and print it "
      ]
    },
    {
      "cell_type": "code",
      "metadata": {
        "colab": {
          "base_uri": "https://localhost:8080/"
        },
        "id": "Fd46UnyW3mJq",
        "outputId": "b772d703-76d3-4e1d-fe14-ff72b788ca21"
      },
      "source": [
        "input_num = 1411.911213\n",
        "print(round(input_num))"
      ],
      "execution_count": null,
      "outputs": [
        {
          "output_type": "stream",
          "text": [
            "1412\n"
          ],
          "name": "stdout"
        }
      ]
    },
    {
      "cell_type": "markdown",
      "metadata": {
        "id": "HTLZUL4d4zA2"
      },
      "source": [
        "#**Review**\n",
        "By this point, printing, conditionals (```if(...):``` and ```else:```), and basic arithmetic functions have been covered.\n",
        "\n",
        "***Task***: Create a script that given 2 integers, will check to see if either both are even or odd. If both are even or both are odd, ```print(True)```, but if one is even and one is odd, ```print(False)```."
      ]
    },
    {
      "cell_type": "code",
      "metadata": {
        "colab": {
          "base_uri": "https://localhost:8080/"
        },
        "id": "DWG29c_p4zA4",
        "outputId": "e6bed704-e75b-42f2-fe6b-2399f7ef2498"
      },
      "source": [
        "num1 = 121\n",
        "num2 = 122\n",
        "if(num1%2 == num2%2):\n",
        "  print(True)\n",
        "else:\n",
        "  print(False)"
      ],
      "execution_count": null,
      "outputs": [
        {
          "output_type": "stream",
          "text": [
            "False\n"
          ],
          "name": "stdout"
        }
      ]
    },
    {
      "cell_type": "markdown",
      "metadata": {
        "id": "T0bOUKq72LC5"
      },
      "source": [
        "#***Exercises 11 - 25***\n",
        "These next 15 exercises will cover looping and lists"
      ]
    },
    {
      "cell_type": "markdown",
      "metadata": {
        "id": "1VbKVYT17Jfv"
      },
      "source": [
        "# ***11*** \n",
        "Write a ```for``` loop to print out the counting numbers from 0 - 9\n",
        "\n",
        "Hint: ```for x in ___:```"
      ]
    },
    {
      "cell_type": "code",
      "metadata": {
        "colab": {
          "base_uri": "https://localhost:8080/"
        },
        "id": "N8IQVXAK7Jf4",
        "outputId": "68913d6b-e1d3-42c4-b6e6-64551f033850"
      },
      "source": [
        "for x in range(10):\n",
        "  print(x)"
      ],
      "execution_count": null,
      "outputs": [
        {
          "output_type": "stream",
          "text": [
            "0\n",
            "1\n",
            "2\n",
            "3\n",
            "4\n",
            "5\n",
            "6\n",
            "7\n",
            "8\n",
            "9\n"
          ],
          "name": "stdout"
        }
      ]
    },
    {
      "cell_type": "markdown",
      "metadata": {
        "id": "A266R58H72Ee"
      },
      "source": [
        "# ***12*** \n",
        "Similar to previous question, but instead of 0 - 9, do 10 - 20\n",
        "\n",
        "Hint: Use ```for x in ___:```"
      ]
    },
    {
      "cell_type": "code",
      "metadata": {
        "colab": {
          "base_uri": "https://localhost:8080/"
        },
        "id": "ncVvii5T72En",
        "outputId": "6098a4f4-c08c-496e-97e7-f6c090422862"
      },
      "source": [
        "for x in range(10,21):\n",
        "  print(x)"
      ],
      "execution_count": null,
      "outputs": [
        {
          "output_type": "stream",
          "text": [
            "10\n",
            "11\n",
            "12\n",
            "13\n",
            "14\n",
            "15\n",
            "16\n",
            "17\n",
            "18\n",
            "19\n",
            "20\n"
          ],
          "name": "stdout"
        }
      ]
    },
    {
      "cell_type": "markdown",
      "metadata": {
        "id": "QoKbWEOK8FmV"
      },
      "source": [
        "# ***13*** \n",
        "Write a loop to print out counting numbers from 0 - 9, but use ```while``` instead of for\n"
      ]
    },
    {
      "cell_type": "code",
      "metadata": {
        "colab": {
          "base_uri": "https://localhost:8080/"
        },
        "id": "bxjPB8708FmV",
        "outputId": "b2dad41d-82d6-4314-f92e-3cc55f59b1bb"
      },
      "source": [
        "x = 0\n",
        "while x < 10:\n",
        "  print(x)\n",
        "  x = x+1    \n",
        "  \n",
        "  #Or x+=1 also works"
      ],
      "execution_count": null,
      "outputs": [
        {
          "output_type": "stream",
          "text": [
            "0\n",
            "1\n",
            "2\n",
            "3\n",
            "4\n",
            "5\n",
            "6\n",
            "7\n",
            "8\n",
            "9\n"
          ],
          "name": "stdout"
        }
      ]
    },
    {
      "cell_type": "markdown",
      "metadata": {
        "id": "6TgpAjVk8o1m"
      },
      "source": [
        "# ***14*** \n",
        "Similar to past question also, but write a ```while``` loop to print out the counting numbers from 10-20\n"
      ]
    },
    {
      "cell_type": "code",
      "metadata": {
        "colab": {
          "base_uri": "https://localhost:8080/"
        },
        "id": "37WdfDK58o1m",
        "outputId": "844bc19a-2418-48ae-dec4-279ac179a6f7"
      },
      "source": [
        "x = 10\n",
        "while x < 21:\n",
        "  print(x)\n",
        "  x+=1    \n",
        "  \n",
        "  #Or x = x+1 also works"
      ],
      "execution_count": null,
      "outputs": [
        {
          "output_type": "stream",
          "text": [
            "10\n",
            "11\n",
            "12\n",
            "13\n",
            "14\n",
            "15\n",
            "16\n",
            "17\n",
            "18\n",
            "19\n",
            "20\n"
          ],
          "name": "stdout"
        }
      ]
    },
    {
      "cell_type": "markdown",
      "metadata": {
        "id": "plruO_Ge82bW"
      },
      "source": [
        "# ***14*** \n",
        "Create a list called ```fruits``` that stores the values ```\"Bannana\", \"Apple\", and \"Peach\"```\n"
      ]
    },
    {
      "cell_type": "code",
      "metadata": {
        "id": "yYIMls4b82bW"
      },
      "source": [
        "fruits = [\"Bannana\", \"Apple\", \"Peach\"]"
      ],
      "execution_count": null,
      "outputs": []
    },
    {
      "cell_type": "markdown",
      "metadata": {
        "id": "xZ_OBuR09GR_"
      },
      "source": [
        "# ***15*** \n",
        "Using the list created in ex. 14, print out the second slot of the list\n"
      ]
    },
    {
      "cell_type": "code",
      "metadata": {
        "colab": {
          "base_uri": "https://localhost:8080/"
        },
        "id": "zMctEO_o9GSA",
        "outputId": "a6cba3df-73a5-414d-f08e-64aaa9a9bb0b"
      },
      "source": [
        "fruits = [\"Bannana\", \"Apple\", \"Peach\"]\n",
        "print(fruits[1])"
      ],
      "execution_count": null,
      "outputs": [
        {
          "output_type": "stream",
          "text": [
            "Apple\n"
          ],
          "name": "stdout"
        }
      ]
    },
    {
      "cell_type": "markdown",
      "metadata": {
        "id": "bxLzr_509Uj2"
      },
      "source": [
        "# ***16*** \n",
        "Using the list created in ex. 14, add (```append```) a new fruit, \"Orange\"\n"
      ]
    },
    {
      "cell_type": "code",
      "metadata": {
        "id": "utRUxf7y9Uj_"
      },
      "source": [
        "fruits = [\"Bannana\", \"Apple\", \"Peach\"]\n",
        "fruits.append(\"Orange\")"
      ],
      "execution_count": null,
      "outputs": []
    },
    {
      "cell_type": "markdown",
      "metadata": {
        "id": "vvMqwim8-XML"
      },
      "source": [
        "# ***17*** \n",
        "Using the list created in ex. 14, ```print``` out each value in the list\n",
        "\n",
        "Hint: No loop required, just use ```print```\n"
      ]
    },
    {
      "cell_type": "code",
      "metadata": {
        "colab": {
          "base_uri": "https://localhost:8080/"
        },
        "id": "zxFnGdGS-XMM",
        "outputId": "8dd89228-8156-4257-f480-5d47f390d558"
      },
      "source": [
        "fruits = [\"Bannana\", \"Apple\", \"Peach\"]\n",
        "print(fruits)"
      ],
      "execution_count": null,
      "outputs": [
        {
          "output_type": "stream",
          "text": [
            "['Bannana', 'Apple', 'Peach']\n"
          ],
          "name": "stdout"
        }
      ]
    },
    {
      "cell_type": "markdown",
      "metadata": {
        "id": "LBFDYYvn9qTP"
      },
      "source": [
        "# ***18*** \n",
        "Using the list created in ex. 14, given a new list, ```new_fruits = [\"Pineapple\", \"Coconut\", \"Watermelon\"]```, combine the two.\n"
      ]
    },
    {
      "cell_type": "code",
      "metadata": {
        "colab": {
          "base_uri": "https://localhost:8080/"
        },
        "id": "8pmsm3209qTP",
        "outputId": "df44f8f7-b5a6-49c9-e856-a4b10ed4f594"
      },
      "source": [
        "fruits = [\"Bannana\", \"Apple\", \"Peach\"]\n",
        "new_fruits = [\"Pineapple\", \"Coconut\", \"Watermelon\"]\n",
        "for x in new_fruits:\n",
        "  fruits.append(x)"
      ],
      "execution_count": null,
      "outputs": [
        {
          "output_type": "stream",
          "text": [
            "['Bannana', 'Apple', 'Peach', 'Pineapple', 'Coconut', 'Watermelon']\n"
          ],
          "name": "stdout"
        }
      ]
    },
    {
      "cell_type": "markdown",
      "metadata": {
        "id": "xLKrsjz0_p8U"
      },
      "source": [
        "# ***19*** \n",
        "Using the list created in ex. 14, given the list, ```new_fruits = [\"Pineapple\", \"Watermelon\"]```, replace the corresponding value of fruits, with the corresponding values of new_fruits\n"
      ]
    },
    {
      "cell_type": "code",
      "metadata": {
        "colab": {
          "base_uri": "https://localhost:8080/"
        },
        "id": "jiO_ei5e_p8V",
        "outputId": "e65e8025-d84a-499b-ca99-ec71e3021c0e"
      },
      "source": [
        "fruits = [\"Bannana\", \"Apple\", \"Peach\"]\n",
        "new_fruits = [\"Pineapple\", \"Watermelon\"]\n",
        "for x in range(len(new_fruits)):\n",
        "  fruits[x] = new_fruits[x]\n",
        "print(fruits)"
      ],
      "execution_count": null,
      "outputs": [
        {
          "output_type": "stream",
          "text": [
            "['Pineapple', 'Watermelon', 'Peach']\n"
          ],
          "name": "stdout"
        }
      ]
    },
    {
      "cell_type": "markdown",
      "metadata": {
        "id": "79Zyle5IA3mc"
      },
      "source": [
        "# ***20 - 25*** \n",
        "\n",
        "***20:*** Create a list with 10 integer values assigned\n"
      ]
    },
    {
      "cell_type": "code",
      "metadata": {
        "id": "oBPJRPZ1A3mk"
      },
      "source": [
        "int_list = [1, 2, 3, 4, 5, 6, 7, 8, 9, 10]"
      ],
      "execution_count": null,
      "outputs": []
    },
    {
      "cell_type": "markdown",
      "metadata": {
        "id": "lCP-d6VJBiCg"
      },
      "source": [
        "***21:*** Multiply Each Number in the list by 12"
      ]
    },
    {
      "cell_type": "code",
      "metadata": {
        "id": "yFOvTHjFBvFg"
      },
      "source": [
        "for x in range(len(int_list)):\n",
        "  int_list[x]*=12"
      ],
      "execution_count": null,
      "outputs": []
    },
    {
      "cell_type": "markdown",
      "metadata": {
        "id": "vy9RALdyCCVm"
      },
      "source": [
        "***22:*** Add Each value in the list to the corresponding value from: ```add = [3, 6, 9, 12, 15, 18, 21, 24, 27, 30]```"
      ]
    },
    {
      "cell_type": "code",
      "metadata": {
        "colab": {
          "base_uri": "https://localhost:8080/"
        },
        "id": "R6oGziBwCYcY",
        "outputId": "ee6199ef-17cd-4460-b0fa-578056ab0fbb"
      },
      "source": [
        "add = [3, 6, 9, 12, 15, 18, 21, 24, 27, 30]\n",
        "for x in range(len(int_list)):\n",
        "  int_list[x] = (int_list[x] + add[x])"
      ],
      "execution_count": null,
      "outputs": [
        {
          "output_type": "stream",
          "text": [
            "[15, 30, 45, 60, 75, 90, 105, 120, 135, 150]\n"
          ],
          "name": "stdout"
        }
      ]
    },
    {
      "cell_type": "markdown",
      "metadata": {
        "id": "ce6vj221CfYA"
      },
      "source": [
        "***23:*** Add Up all the values from each cell in the ```int_list```"
      ]
    },
    {
      "cell_type": "code",
      "metadata": {
        "id": "x_cATm6VCr4n"
      },
      "source": [
        "total = 0\n",
        "for x in range (len(int_list)):\n",
        "  total+= int_list[x]"
      ],
      "execution_count": null,
      "outputs": []
    },
    {
      "cell_type": "markdown",
      "metadata": {
        "id": "G-4DcNKiDYVe"
      },
      "source": [
        "***24:*** Convert each number in the list from a int to a string\n",
        "\n",
        "\n",
        "\n",
        "\n"
      ]
    },
    {
      "cell_type": "code",
      "metadata": {
        "colab": {
          "base_uri": "https://localhost:8080/"
        },
        "id": "pvyVVlo4Dn0N",
        "outputId": "a99e2d5b-6ef6-4158-ff0f-dad009be8793"
      },
      "source": [
        "for x in range(len(int_list)):\n",
        "  int_list[x] = str(int_list[x])"
      ],
      "execution_count": null,
      "outputs": [
        {
          "output_type": "stream",
          "text": [
            "['15', '30', '45', '60', '75', '90', '105', '120', '135', '150']\n"
          ],
          "name": "stdout"
        }
      ]
    },
    {
      "cell_type": "markdown",
      "metadata": {
        "id": "h4Urw5KnGflm"
      },
      "source": [
        "***25:*** Finally, Add all the values to make 1 long string with each number seperated by a space\n",
        "\n",
        "\n",
        "\n",
        "\n"
      ]
    },
    {
      "cell_type": "code",
      "metadata": {
        "colab": {
          "base_uri": "https://localhost:8080/"
        },
        "id": "JZDCeSanGnYG",
        "outputId": "35b9c0b7-878d-4688-f51b-605fa69ee277"
      },
      "source": [
        "print_me = \"\"\n",
        "for x in range(len(int_list)):\n",
        "  print_me = print_me + \" \" + int_list[x]\n",
        "print(print_me)"
      ],
      "execution_count": null,
      "outputs": [
        {
          "output_type": "stream",
          "text": [
            " 15 30 45 60 75 90 105 120 135 150\n"
          ],
          "name": "stdout"
        }
      ]
    },
    {
      "cell_type": "markdown",
      "metadata": {
        "id": "EVnkHGWDHEh_"
      },
      "source": [
        "# ***Review*** \n",
        "Exercises 11 - 25 have been about loops and lists, both key concepts in coding. This review is to check your understanding on the topics.\n",
        "\n",
        "Prompt: Given a list of conditionals (```True or False```), Count how many times ```True``` occurs and how many times ```False``` occurs. Then, set all values of the list to ```True``` if ```True``` occurs more, or ```False``` if ```False``` occurs more. If True and False are equal, set the first half to True, and Second half to false.\n",
        "\n",
        "```Conditonal_List = [True, False, True, True, False, False, True, True, True, True, False, False, True, False, False, False, True, True, False, False]```\n"
      ]
    },
    {
      "cell_type": "code",
      "metadata": {
        "colab": {
          "base_uri": "https://localhost:8080/"
        },
        "id": "_OVENW6CHEiA",
        "outputId": "d404f48b-e0d8-4610-e61e-e128c44e9960"
      },
      "source": [
        "Conditonal_List = [ True, False, True, True, False, False, True, True, True, True, False, False, True, False, False, False, True, True, False, False]\n",
        "True_count = 0;\n",
        "False_count = 0;\n",
        "\n",
        "for x in range(len(Conditonal_List)):\n",
        "  if(Conditonal_List[x] == True):\n",
        "    True_count+=1\n",
        "  else:\n",
        "    False_count+=1\n",
        "if(True_count > False_count):\n",
        "  for x in range(len(Conditonal_List)):\n",
        "    Conditonal_List[x] = True\n",
        "elif (True_count < False_count):\n",
        "  for x in range(len(Conditonal_List)):\n",
        "    Conditonal_List[x] = False\n",
        "else:\n",
        "  for x in range(len(Conditonal_List)//2):\n",
        "    Conditonal_List[x] = True\n",
        "  for x in range(len(Conditonal_List)//2,len(Conditonal_List)):\n",
        "    Conditonal_List[x] = False\n",
        "print(Conditonal_List)"
      ],
      "execution_count": null,
      "outputs": [
        {
          "output_type": "stream",
          "text": [
            "[True, True, True, True, True, True, True, True, True, True, False, False, False, False, False, False, False, False, False, False]\n"
          ],
          "name": "stdout"
        }
      ]
    },
    {
      "cell_type": "markdown",
      "metadata": {
        "id": "KPLaZGBC23ne"
      },
      "source": [
        "#***Exercises 26 - 40***\n",
        "\n",
        "This set of 15 will cover User Input and creating functions"
      ]
    },
    {
      "cell_type": "markdown",
      "metadata": {
        "id": "N1lAwNG36tbT"
      },
      "source": [
        "# ***26*** \n",
        "Grab the username through user input using ```input()```\n"
      ]
    },
    {
      "cell_type": "code",
      "metadata": {
        "colab": {
          "base_uri": "https://localhost:8080/"
        },
        "id": "-O53wCCs66kL",
        "outputId": "001bbd4d-5fd6-44a0-81cb-6a3e48f76c6b"
      },
      "source": [
        "username = input(\"Enter username:\")"
      ],
      "execution_count": null,
      "outputs": [
        {
          "output_type": "stream",
          "text": [
            "Enter username:Kaushal\n"
          ],
          "name": "stdout"
        }
      ]
    },
    {
      "cell_type": "markdown",
      "metadata": {
        "id": "glvhkbZT7BiG"
      },
      "source": [
        "# ***27*** \n",
        "Grab the username and password through user input using ```input()```. ```Print``` back the result.\n"
      ]
    },
    {
      "cell_type": "code",
      "metadata": {
        "colab": {
          "base_uri": "https://localhost:8080/"
        },
        "id": "Gub_bq4P7L-K",
        "outputId": "8470df5e-dfb0-4420-e104-62aab6236a49"
      },
      "source": [
        "username = input(\"Enter username:\")\n",
        "password = input(\"Enter password:\")\n",
        "\n",
        "print() #This is just so there is a space\n",
        "print(\"Username:\",username)\n",
        "print(\"Password:\",password)"
      ],
      "execution_count": null,
      "outputs": [
        {
          "output_type": "stream",
          "text": [
            "Enter username:Kaushal\n",
            "Enter password:Ramesh\n",
            "Username: Kaushal\n",
            "Password: Ramesh\n"
          ],
          "name": "stdout"
        }
      ]
    },
    {
      "cell_type": "markdown",
      "metadata": {
        "id": "0Mj5n2kl7fzO"
      },
      "source": [
        "# ***28*** \n",
        "Grab 2 numbers through user input and print out the result when they are multiplied\n",
        "\n",
        "Hint: Use ```int()``` to convert ```string``` to an ```int```.\n"
      ]
    },
    {
      "cell_type": "code",
      "metadata": {
        "colab": {
          "base_uri": "https://localhost:8080/"
        },
        "id": "wpSXb2vw7fzP",
        "outputId": "62d9dbec-6458-4667-fcd2-01a7f12bc16a"
      },
      "source": [
        "num1 = int(input(\"Enter a number:\"))\n",
        "num2 = int(input(\"Enter another number:\"))\n",
        "\n",
        "print() #This is just so there is a space\n",
        "print(num1 * num2)"
      ],
      "execution_count": null,
      "outputs": [
        {
          "output_type": "stream",
          "text": [
            "Enter a number:2\n",
            "Enter another number:3\n",
            "\n",
            "6\n"
          ],
          "name": "stdout"
        }
      ]
    },
    {
      "cell_type": "markdown",
      "metadata": {
        "id": "yEFKd12N7-SO"
      },
      "source": [
        "# ***29*** \n",
        "Say an apple costs .59 cents and a pear costs .99 cents. Using user input and ommiting any taxes, find out how much it costs if one buys 3 apples and 4 pears.\n"
      ]
    },
    {
      "cell_type": "code",
      "metadata": {
        "colab": {
          "base_uri": "https://localhost:8080/"
        },
        "id": "aL58nR7f7-SP",
        "outputId": "f5deb900-23cf-45e1-8c6f-3d921d352856"
      },
      "source": [
        "apples  = int(input(\"How many apples:\"))\n",
        "pears = int(input(\"How many pears:\"))\n",
        "\n",
        "print() #This is just so there is a space\n",
        "print(apples * .59 + pears * .99)"
      ],
      "execution_count": null,
      "outputs": [
        {
          "output_type": "stream",
          "text": [
            "How many apples:3\n",
            "How many pears:4\n",
            "\n",
            "5.73\n"
          ],
          "name": "stdout"
        }
      ]
    },
    {
      "cell_type": "markdown",
      "metadata": {
        "id": "7yqxaRnk-1ug"
      },
      "source": [
        "# ***30*** \n",
        "Create a System that will check whether or not a user's credentials match the correct username and password. Using user input, if the User's username matches ```\"Billy\"``` and the Users password matches ```\"Clark123\"```, then ```print(\"Access Granted\")```. Otherwise, ```print(\"Access Denied\")```."
      ]
    },
    {
      "cell_type": "code",
      "metadata": {
        "colab": {
          "base_uri": "https://localhost:8080/"
        },
        "id": "RYkWt2xs-1uo",
        "outputId": "b00c966a-70fc-45cf-fb1e-0d967d32948d"
      },
      "source": [
        "username = input(\"Enter username:\")\n",
        "password = input(\"Enter password:\")\n",
        "\n",
        "print() #This is just so there is a space\n",
        "if(username == \"Billy\" and password == \"Clark123\"):\n",
        "  print(\"Access Granted\")\n",
        "else:\n",
        "  print(\"Access Denied\")"
      ],
      "execution_count": null,
      "outputs": [
        {
          "output_type": "stream",
          "text": [
            "Enter username:Billy\n",
            "Enter password:NotClark\n",
            "\n",
            "Access Denied\n"
          ],
          "name": "stdout"
        }
      ]
    },
    {
      "cell_type": "markdown",
      "metadata": {
        "id": "6-DSPNOOAPYO"
      },
      "source": [
        "# ***31*** \n",
        "Using user input, create a basic calculator that will add or subtract 2 numbers the user passes in. If the user passes in the numbers 1 , 2 and then types in -, then the output should be 1-2, or -1. If the user types in 3,4 and then +, the output should be 3+4, or 7."
      ]
    },
    {
      "cell_type": "code",
      "metadata": {
        "colab": {
          "base_uri": "https://localhost:8080/"
        },
        "id": "0mvke2PyAPYP",
        "outputId": "888cc65f-48dc-425f-ff26-01dbd312f270"
      },
      "source": [
        "num1 = int(input(\"What is the first number:\"))\n",
        "num2 = int(input(\"What is the second number:\"))\n",
        "operation = input(\"What is the desired operation (- or +):\")\n",
        "\n",
        "print() #This is just so there is a space\n",
        "if(operation == \"-\"):\n",
        "  print(num1 - num2)\n",
        "elif(operation == \"+\"):\n",
        "  print(num1+num2)\n",
        "else:\n",
        "  print(\"Not Valid Operation Input\")"
      ],
      "execution_count": null,
      "outputs": [
        {
          "output_type": "stream",
          "text": [
            "What is the first number:2\n",
            "What is the second number:3\n",
            "What is the desired operation (- or +):p\n",
            "\n",
            "Not Valid Operation Input\n"
          ],
          "name": "stdout"
        }
      ]
    },
    {
      "cell_type": "markdown",
      "metadata": {
        "id": "A4J6N8gbBIam"
      },
      "source": [
        "# ***32*** \n",
        "Now we are starting functions. Using the keyword ```def```, create a basing function called add that does not take anything in, nor returns anything."
      ]
    },
    {
      "cell_type": "code",
      "metadata": {
        "id": "OYPtBfbjBIan"
      },
      "source": [
        "def add():\n",
        "  print()"
      ],
      "execution_count": null,
      "outputs": []
    },
    {
      "cell_type": "markdown",
      "metadata": {
        "id": "BYSNSeU9Dzbs"
      },
      "source": [
        "# ***33*** \n",
        "Adding on to the previous function, make it so that the function add, takes in 2 numbers and prints out their sum."
      ]
    },
    {
      "cell_type": "code",
      "metadata": {
        "id": "lk9fjzihDzb2"
      },
      "source": [
        "def add(num1, num2):\n",
        "  print(num1 + num2)"
      ],
      "execution_count": null,
      "outputs": []
    },
    {
      "cell_type": "markdown",
      "metadata": {
        "id": "ljWJfW0jGAJy"
      },
      "source": [
        "# ***34*** \n",
        "Create another function, subtract that does the opposite of add and subtracts the two numbers passed in."
      ]
    },
    {
      "cell_type": "code",
      "metadata": {
        "id": "MCOEVmK1GAJz"
      },
      "source": [
        "def subtract(num1, num2):\n",
        "  print(num1 - num2)"
      ],
      "execution_count": null,
      "outputs": []
    },
    {
      "cell_type": "markdown",
      "metadata": {
        "id": "rhW44b1DGJXs"
      },
      "source": [
        "# ***35*** \n",
        "Create a function that takes in a number and prints out all the numbers under it\n",
        "\n",
        "Hint: ```for x in ___```"
      ]
    },
    {
      "cell_type": "code",
      "metadata": {
        "id": "5t5tgH7nGJXs"
      },
      "source": [
        "def under(num1):\n",
        "  for x in range(num1):\n",
        "    print(x)"
      ],
      "execution_count": null,
      "outputs": []
    },
    {
      "cell_type": "markdown",
      "metadata": {
        "id": "27BW2d20GkZi"
      },
      "source": [
        "# ***36*** \n",
        "Create a function similar to the previous that takes in a number and prints out the sum of all the numbers under it including the number itself. For example, sum_under(6) would print out 21."
      ]
    },
    {
      "cell_type": "code",
      "metadata": {
        "id": "1a8xPq6OGkZj"
      },
      "source": [
        "def sum_under(num1):\n",
        "  out = 0\n",
        "  for x in range(num1+1):\n",
        "    out+=x\n",
        "  print(out)"
      ],
      "execution_count": null,
      "outputs": []
    },
    {
      "cell_type": "markdown",
      "metadata": {
        "id": "wLSydtfUHCEf"
      },
      "source": [
        "# ***37*** \n",
        "Create 2 functions where one multiplies by 5 and one takes the output of the first one and adds 4 to the output of it."
      ]
    },
    {
      "cell_type": "code",
      "metadata": {
        "id": "1dQyEjhnHCEg"
      },
      "source": [
        "def times5(num1):\n",
        "  return num1*5\n",
        "\n",
        "def plus4(num1):\n",
        "  return times5(num1)+4"
      ],
      "execution_count": null,
      "outputs": []
    },
    {
      "cell_type": "markdown",
      "metadata": {
        "id": "2ExKH2sHHqqi"
      },
      "source": [
        "# ***38*** \n",
        "Create a function that scrambles the order of a sentence inputted by a user. The last and first word will be switched and the second word will be deleted. Use a switching algorithm in order to swich the first and last words. This excersise is more difficult then the previous one, but try your best!\n",
        "\n",
        "Hint: Using the method ```.split(\" \")``` on a string will split the sentence into a list where each word occupies a slot."
      ]
    },
    {
      "cell_type": "code",
      "metadata": {
        "colab": {
          "base_uri": "https://localhost:8080/"
        },
        "id": "6girX8ZfHqqi",
        "outputId": "bcbd7e50-f41e-4a2c-e98c-900ee7811348"
      },
      "source": [
        "def sentence_scrambler(sent):\n",
        "  words = sent.split(\" \")\n",
        "  output = \"\"\n",
        "  #Below is a common switching algorithm\n",
        "  temp = words[0] #Temporarily stores value that will be replaced\n",
        "  words[0] = words[len(words)-1] # Replaces value 1 with value 2\n",
        "  words[len(words)-1] = temp # Replace value 2 with temp which stores value 1\n",
        "  words[1] = \"\"\n",
        "  for x in words:\n",
        "    output = output + x + \" \"\n",
        "  print(output)\n",
        "sentence_scrambler(\"The last and first word\")"
      ],
      "execution_count": null,
      "outputs": [
        {
          "output_type": "stream",
          "text": [
            "word  and first The \n"
          ],
          "name": "stdout"
        }
      ]
    },
    {
      "cell_type": "markdown",
      "metadata": {
        "id": "ivue9KB6K38P"
      },
      "source": [
        "# ***39*** \n",
        "Create a function that sorts a list. Use the ```sorted()``` function which will sort a list alphaetically."
      ]
    },
    {
      "cell_type": "code",
      "metadata": {
        "id": "TUZsAMDRK38X"
      },
      "source": [
        "def list_sorter(sort_me):\n",
        "  return sorted(sort_me)\n"
      ],
      "execution_count": null,
      "outputs": []
    },
    {
      "cell_type": "markdown",
      "metadata": {
        "id": "kX3PbtSULdyf"
      },
      "source": [
        "# ***40*** \n",
        "Revisting the previous topics, create a 4 function calculator using functions that can add, subtract, multiply and divide. Take in user input like before."
      ]
    },
    {
      "cell_type": "code",
      "metadata": {
        "colab": {
          "base_uri": "https://localhost:8080/"
        },
        "id": "-TL68lJrLdyf",
        "outputId": "c26d551c-6f74-4b7c-d7e0-6131841c9ab0"
      },
      "source": [
        "num1 = int(input(\"What is the first number:\"))\n",
        "num2 = int(input(\"What is the second number:\"))\n",
        "operation = input(\"What is the desired operation (- , + , / or *):\")\n",
        "\n",
        "def add(n1, n2):\n",
        "  return n1+n2\n",
        "\n",
        "def subtract(n1, n2):\n",
        "  return n1-n2\n",
        "\n",
        "def multiply(n1, n2):\n",
        "  return n1*n2\n",
        "\n",
        "def divide(n1, n2):\n",
        "  return n1/n2\n",
        "  \n",
        "if(operation == \"+\"):\n",
        "  print(add(num1,num2))\n",
        "elif(operation == \"-\"):\n",
        "  print(subtract(num1,num2))\n",
        "elif(operation == \"*\"):\n",
        "  print(multiply(num1,num2))\n",
        "elif(operation == \"/\"):\n",
        "  print(divide(num1,num2))\n",
        "else:\n",
        "  print(\"Invalid Operation\")\n"
      ],
      "execution_count": null,
      "outputs": [
        {
          "output_type": "stream",
          "text": [
            "What is the first number:2223123\n",
            "What is the second number:1231\n",
            "What is the desired operation (- , + , / or *):-\n",
            "2221892\n"
          ],
          "name": "stdout"
        }
      ]
    },
    {
      "cell_type": "markdown",
      "metadata": {
        "id": "E-_tw7OAPU_e"
      },
      "source": [
        "#***Challenge Problems***\n",
        "These last 7 questions are for overall review as well as a challenge. They are about finding solutions to a problem of some sort using what we have learned so far."
      ]
    },
    {
      "cell_type": "markdown",
      "metadata": {
        "id": "Un7IrHAtPiMG"
      },
      "source": [
        "#***41***\n",
        "Given a list of integer numbers, return the amount of numbers in that list that are even."
      ]
    },
    {
      "cell_type": "code",
      "metadata": {
        "colab": {
          "base_uri": "https://localhost:8080/"
        },
        "id": "EmFiz0JYP8El",
        "outputId": "a38d4545-d37d-4788-ff84-8dc5327406cf"
      },
      "source": [
        "numbers = [1,2,3,4,5,6,7,8] # can be any list, this is just an example\n",
        "def count_evens(numbers):\n",
        "  count = 0\n",
        "  for x in numbers:\n",
        "    if x % 2 == 0:\n",
        "      count+=1\n",
        "  return count"
      ],
      "execution_count": null,
      "outputs": [
        {
          "output_type": "stream",
          "text": [
            "4\n"
          ],
          "name": "stdout"
        }
      ]
    },
    {
      "cell_type": "markdown",
      "metadata": {
        "id": "k3D_qafhQj8c"
      },
      "source": [
        "#***42***\n",
        "Given a list of integer numbers, return the average value of the numbers"
      ]
    },
    {
      "cell_type": "code",
      "metadata": {
        "colab": {
          "base_uri": "https://localhost:8080/"
        },
        "id": "6iJN67FyQj8c",
        "outputId": "bb992ee3-756f-4fbe-8042-1cd2e1647e3d"
      },
      "source": [
        "numbers = [10,12,13,14,12,11,15,19,7,6,46] # can be any list, this is just an example\n",
        "def average(numbers):\n",
        "  total = 0\n",
        "  for x in numbers:\n",
        "    total+=x\n",
        "  return total/len(numbers)\n",
        "\n",
        "print(average(numbers))"
      ],
      "execution_count": null,
      "outputs": [
        {
          "output_type": "stream",
          "text": [
            "15.0\n"
          ],
          "name": "stdout"
        }
      ]
    },
    {
      "cell_type": "markdown",
      "metadata": {
        "id": "BCwDbFLRQ_7M"
      },
      "source": [
        "#***43***\n",
        "Given a list of numbers, if anywhere in the list, there are 2 consecutive numbers (```list[x] == list[x+1]```), return true, else return false."
      ]
    },
    {
      "cell_type": "code",
      "metadata": {
        "colab": {
          "base_uri": "https://localhost:8080/"
        },
        "id": "kO1t_EaLQ_7N",
        "outputId": "4ddf6132-101f-42b2-a405-2bf81b157282"
      },
      "source": [
        "numbers = [12,145,14,122,142,2,3154,132,132,242,1245,235,123] # can be any list, this is just an example\n",
        "def consecutive(numbers):\n",
        "  for x in range(len(numbers)-1):\n",
        "    if(numbers[x] == numbers[x+1]):\n",
        "      return True\n",
        "  return False\n",
        "\n",
        "print(consecutive(numbers))"
      ],
      "execution_count": null,
      "outputs": [
        {
          "output_type": "stream",
          "text": [
            "True\n"
          ],
          "name": "stdout"
        }
      ]
    },
    {
      "cell_type": "markdown",
      "metadata": {
        "id": "ikt1qV8-RnaS"
      },
      "source": [
        "#***44***\n",
        "Given a list of integer numbers, find the range of the list (the maximum - minimum value)"
      ]
    },
    {
      "cell_type": "code",
      "metadata": {
        "colab": {
          "base_uri": "https://localhost:8080/"
        },
        "id": "350XnHNzRnaT",
        "outputId": "81082f4b-e93e-4302-8cc9-d954d8d53664"
      },
      "source": [
        "numbers = [12,145,14,122,142,2,3154,132,132,242,1245,235,123] # can be any list, this is just an example\n",
        "def range(numbers):\n",
        "  min = numbers[0]\n",
        "  max = numbers[0] \n",
        "  for x in numbers:\n",
        "    if(x < min):\n",
        "      min = x\n",
        "    if(x > max):\n",
        "      max = x\n",
        "  return max-min\n",
        "\n",
        "print(range(numbers))"
      ],
      "execution_count": null,
      "outputs": [
        {
          "output_type": "stream",
          "text": [
            "3152\n"
          ],
          "name": "stdout"
        }
      ]
    },
    {
      "cell_type": "markdown",
      "metadata": {
        "id": "pyfnO--OSRXL"
      },
      "source": [
        "#***45***\n",
        "Given a list of integer numbers, find the sum of all numbers that are either odd or less than 100"
      ]
    },
    {
      "cell_type": "code",
      "metadata": {
        "colab": {
          "base_uri": "https://localhost:8080/"
        },
        "id": "3ElDzHv9SRXL",
        "outputId": "7f17a127-7d31-4de0-c02a-ff7023f09a0f"
      },
      "source": [
        "numbers = [12,145,14,122,142,2,3154,132,132,242,1245,235,123] # can be any list, this is just an example\n",
        "def odd_or_hundred(numbers):\n",
        "  total=0\n",
        "  for x in numbers:\n",
        "    if(x%2 == 1 or x<100):\n",
        "      total+=x\n",
        "  return total\n",
        "\n",
        "print(odd_or_hundred(numbers))"
      ],
      "execution_count": null,
      "outputs": [
        {
          "output_type": "stream",
          "text": [
            "1776\n"
          ],
          "name": "stdout"
        }
      ]
    },
    {
      "cell_type": "markdown",
      "metadata": {
        "id": "52VhHyThS7ia"
      },
      "source": [
        "#***46***\n",
        "Create a function that randomly Displays a numerical 4-digit password using ```random.randint(range)```."
      ]
    },
    {
      "cell_type": "code",
      "metadata": {
        "colab": {
          "base_uri": "https://localhost:8080/"
        },
        "id": "tjssGW78S7ia",
        "outputId": "812e813f-f228-47dd-ad88-4840f51aa35a"
      },
      "source": [
        "def randompassword():\n",
        "  a = random.randint(0,9)\n",
        "  b = random.randint(0,9)\n",
        "  c = random.randint(0,9)\n",
        "  d = random.randint(0,9)\n",
        "  return str(a) + str(b) + str(c) + str(d)\n",
        "\n",
        "print(randompassword())"
      ],
      "execution_count": null,
      "outputs": [
        {
          "output_type": "stream",
          "text": [
            "9274\n"
          ],
          "name": "stdout"
        }
      ]
    },
    {
      "cell_type": "markdown",
      "metadata": {
        "id": "xlgQChSmYWlH"
      },
      "source": [
        "#***47***\n",
        "A fibonnaci number is a number created by the sum of the previous 2 numbers starting at 0 and 1. The first 5 fibbonaci numbers are 0,1,1,2,3. Create a function that finds the nth fibbonaci number."
      ]
    },
    {
      "cell_type": "code",
      "metadata": {
        "colab": {
          "base_uri": "https://localhost:8080/"
        },
        "id": "GSU_zJZtYWlR",
        "outputId": "cabf1332-21f8-4929-8146-ffd9e2b187b6"
      },
      "source": [
        "def Fibonacci(n):\n",
        "  int1 = 0 #creating first 2 numbers\n",
        "  int2 = 1\n",
        "\n",
        "  temp = int1 #adding numbers to get next numbers and slidng down number 2 into number1\n",
        "  int1 = int2\n",
        "  int2+=temp\n",
        "\n",
        "  if n < 0:\n",
        "        print(\"Not Possible\")\n",
        "  elif n == 0:\n",
        "        return 0\n",
        "  elif n == 1 or n == 2:\n",
        "        return 1\n",
        "  else:\n",
        "    return Fibonacci(n-1) + Fibonacci(n-2) #This is an advanced technique called recursion which is used to loop a function within itself.\n",
        "print(Fibonacci(15))"
      ],
      "execution_count": null,
      "outputs": [
        {
          "output_type": "stream",
          "text": [
            "610\n"
          ],
          "name": "stdout"
        }
      ]
    }
  ]
}