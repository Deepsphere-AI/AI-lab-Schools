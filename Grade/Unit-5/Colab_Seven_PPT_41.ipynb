{
  "nbformat": 4,
  "nbformat_minor": 0,
  "metadata": {
    "colab": {
      "name": "Untitled10.ipynb",
      "provenance": [],
      "authorship_tag": "ABX9TyP5DS5vtIz16s8pUsqNRglr",
      "include_colab_link": true
    },
    "kernelspec": {
      "name": "python3",
      "display_name": "Python 3"
    },
    "language_info": {
      "name": "python"
    }
  },
  "cells": [
    {
      "cell_type": "markdown",
      "metadata": {
        "id": "view-in-github",
        "colab_type": "text"
      },
      "source": [
        "<a href=\"https://colab.research.google.com/github/Deepsphere-AI/AI-lab-Schools/blob/main/Grade/Unit-5/Colab_Seven_PPT_41.ipynb\" target=\"_parent\"><img src=\"https://colab.research.google.com/assets/colab-badge.svg\" alt=\"Open In Colab\"/></a>"
      ]
    },
    {
      "cell_type": "code",
      "execution_count": null,
      "metadata": {
        "id": "dpTPCBQQCgWy"
      },
      "outputs": [],
      "source": [
        "# \"\"\"\n",
        "# Ex 41.\n",
        "\n",
        "# Create a class student. It should have a constructor with __init__(self,...) and the variables name, id_number, and age.\n",
        "# There should also be functions to get these values and return them.\n",
        "\n",
        "# Program description: The objective of this function is to create a Class based on previous knowledge with the following characteristics.\n",
        "# -\tName: student\n",
        "# -\tConstructor: __init__(self,…)\n",
        "# -\tVariables: name, id_number, and age\n",
        "# -\tThere must also be functions to change and get the attributes of the objects.\n",
        "\n",
        "# \"\"\"\n",
        "class Student:\n",
        "  vAR_name = \"\"\n",
        "  vAR_id_number = 0\n",
        "  vAR_age = 0\n",
        "\n",
        "  def __init__(self, vAR_name, vAR_id_number, vAR_age):\n",
        "    self.vAR_name = vAR_name\n",
        "    self.vAR_id_number = vAR_id_number\n",
        "    self.vAR_age = vAR_age\n",
        "  \n",
        "  def get_name(self):\n",
        "    return self.vAR_name\n",
        "  \n",
        "  def get_id(self):\n",
        "    return self.vAR_id_number\n",
        "\n",
        "  def get_age(self):\n",
        "    return self.vAR_age"
      ]
    }
  ]
}